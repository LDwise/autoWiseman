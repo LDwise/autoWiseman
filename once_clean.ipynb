{
  "nbformat": 4,
  "nbformat_minor": 0,
  "metadata": {
    "colab": {
      "name": "autoWiseman.ipynb",
      "provenance": [],
      "collapsed_sections": [],
      "include_colab_link": true
    },
    "kernelspec": {
      "name": "python3",
      "display_name": "Python 3"
    }
  },
  "cells": [
    {
      "cell_type": "markdown",
      "metadata": {
        "id": "view-in-github",
        "colab_type": "text"
      },
      "source": [
        "<a href=\"https://colab.research.google.com/github/LDwise/autoWiseman/blob/main/once_clean.ipynb\" target=\"_parent\"><img src=\"https://colab.research.google.com/assets/colab-badge.svg\" alt=\"Open In Colab\"/></a>"
      ]
    },
    {
      "cell_type": "code",
      "metadata": {
        "id": "ag4radyEKvkJ",
        "colab": {
          "base_uri": "https://localhost:8080/",
          "height": 397
        },
        "outputId": "e5bad2e9-71f4-4616-af78-fd93469f9afc"
      },
      "source": [
        "# coding=utf-8\n",
        "#@title \t&#8592;Click [ ▶ ] to Start. { display-mode: \"form\" }\n",
        "#@markdown Clean Your Wiseman Score\n",
        "# Class = \"5a\" #@param [\"4a\", \"4b\", \"4c\", \"4d\", \"5a\", \"5b\", \"5c\", \"5d\", \"6a\", \"6b\", \"6c\", \"6d\"]\n",
        "# Class_number = [\"01\", \"02\", \"03\", \"04\", \"05\", \"06\", \"07\", \"08\", \"09\", \"10\", \"11\", \"12\", \"13\", \"14\", \"15\", \"16\", \"17\", \"18\", \"19\", \"20\", \"21\", \"22\", \"23\", \"24\", \"25\", \"26\", \"27\", \"28\", \"29\", \"30\", \"31\" , \"32\", \"33\", \"34\", \"35\", \"36\", \"37\", \"38\", \"39\", \"40\"]\n",
        "username = \"5a29\" #@param {type:\"string\"}\n",
        "#@markdown 輸入需要清除的課程數量\n",
        "number = 10 #@param {type:\"slider\", min:0, max:100, step:1}\n",
        "from google.colab import widgets\n",
        "from google.colab import output\n",
        "try:\n",
        "  from selenium import webdriver\n",
        "except:\n",
        "  # 清除輸出Log\n",
        "  !apt -q -qq update\n",
        "  !apt -q -qq install chromium-chromedriver\n",
        "  !pip -q install selenium\n",
        "  from selenium import webdriver\n",
        "from selenium.webdriver.support.ui import WebDriverWait\n",
        "from selenium.webdriver.common.by import By\n",
        "from selenium.webdriver.support import expected_conditions as EC\n",
        "# 設置Chrome啓動設置\n",
        "options = webdriver.ChromeOptions()\n",
        "# 無界面運行\n",
        "options.add_argument('--headless')\n",
        "# 以最高权限运行\n",
        "options.add_argument('--no-sandbox')\n",
        "# 忽略警告\\錯誤\\異常\n",
        "options.add_argument('log-level=3')\n",
        "# log-level:\n",
        "# Sets the minimum log level.\n",
        "# Valid values are from 0 to 3:\n",
        "#\t INFO = 0,\n",
        "#\t WARNING = 1,\n",
        "#\t LOG_ERROR = 2,\n",
        "#\t LOG_FATAL = 3.\n",
        "# default is 0.\n",
        "# 避免崩潰\n",
        "options.add_argument('--disable-dev-shm-usage')\n",
        "# 開啓Chrome並加入基礎設置\n",
        "driver = webdriver.Chrome(options=options)\n",
        "# 設定等待元素時間上限(單位秒)\n",
        "wait = WebDriverWait(driver,10)\n",
        "output.clear()\n",
        "\n",
        "driver.get('https://lms.wiseman.com.hk/lms/user/login.do?username=tiaccwhf.%s&password=2020'%username)\n",
        "# driver.get('https://lms.wiseman.com.hk/lms/user/login.do?username=%s&password=%s'%(username,password))\n",
        "# 等待頁面加載完畢\n",
        "try:\n",
        "  wait.until(EC.presence_of_element_located((By.XPATH,'//div[@class=\"card\"]/div[@class=\"card-body\"]/div[@class=\"text-right\"]/h1[@class=\"font-light mb-0 d-inline-block d-md-block\"]')))\n",
        "except:\n",
        "  pass\n",
        "student_name=str(driver.find_element_by_xpath('//div[@class=\"profile-text\"]/a[@class=\"dropdown-toggle link u-dropdown\"]').get_attribute('textContent'))#//*[@id=\"main-wrapper\"]/aside/div/div[1]/div/div[2]/a\n",
        "before_score=int(str(driver.find_element_by_xpath('//div[@class=\"card-body\"]/div[@class=\"text-right\"]/h1').get_attribute('textContent')).replace('&nbsp;',''))#//*[@id=\"main-wrapper\"]/div/div/div[2]/div[1]/div/div/div/h1\n",
        "if before_score == 0:\n",
        "  print('%s Score:%d'%(student_name,before_score))\n",
        "  pass\n",
        "# 進入課程列表\n",
        "driver.get('https://lms.wiseman.com.hk/lms/user/secure/course/eb/select_theme/lessons.shtml')\n",
        "# link element\n",
        "wait.until(EC.presence_of_element_located((By.XPATH, '//div[@class=\"card-body\"]/div[@class=\"table-responsive\"]/table[@class=\"table table-striped\"]')))\n",
        "# 獲取所有鏈接和標題\n",
        "uncomplete=[]\n",
        "# 獲取tr橫向表格框\n",
        "for tr in driver.find_elements_by_xpath('//div[@class=\"card-body\"]/div[@class=\"table-responsive\"]/table[@class=\"table table-striped\"]/tbody/tr'):\n",
        "  try:\n",
        "    # 在tr框内尋找鏈接\n",
        "    a = tr.find_element_by_xpath('.//a[contains(@href,\"selectLesson.do?id=\")]')\n",
        "    # if 狀態非New\n",
        "    if tr.find_element_by_xpath('.//td[@class=\"small align-middle\"]//*[@title]').get_attribute('title')!='New':\n",
        "      origin_status = tr.find_element_by_xpath('.//td[@class=\"small align-middle\"]//*[@title]').get_attribute('title')\n",
        "      # 獲取標題\n",
        "      title = a.get_attribute('textContent')\n",
        "      # 獲取鏈接\n",
        "      link = a.get_attribute('href')\n",
        "      # 加入列表\n",
        "      uncomplete.append({'title':title,'link':link})\n",
        "  except:\n",
        "    pass\n",
        "now_lesson=0\n",
        "total_lessons=len(uncomplete)\n",
        "print('%sScore:%d'%(student_name,before_score))\n",
        "grid = widgets.Grid((total_lessons+1), 3, header_row=True)\n",
        "with grid.output_to(0, 1):print('Status')\n",
        "with grid.output_to(0, 2):print('Title')\n",
        "# 在列表範圍内循環\n",
        "numb=0\n",
        "for i in reversed(uncomplete):\n",
        "  if numb>=number:\n",
        "    break\n",
        "  now_lesson+=1\n",
        "  with grid.output_to(now_lesson, 0):print('%d/%d'%(now_lesson,total_lessons))\n",
        "  with grid.output_to(now_lesson, 1):print(origin_status)\n",
        "  with grid.output_to(now_lesson, 2):print('%s(%s)'%(i['title'],i['link']))\n",
        "  # 進入鏈接\n",
        "  driver.get(i['link'])\n",
        "  wait.until(EC.presence_of_element_located((By.XPATH,'//iframe[@id=\"course\"]')))\n",
        "  # Loading time\n",
        "  driver.switch_to.frame('course')\n",
        "  # 等待頁面加載完畢\n",
        "  # wait.until(EC.presence_of_element_located((By.XPATH,'//div[@class=\"head course-head\"]/div[@class=\"course-head-text\"]')))\n",
        "  wait.until(EC.presence_of_element_located((By.TAG_NAME,'label')))\n",
        "  # Return top\n",
        "  driver.switch_to.default_content()\n",
        "  driver.execute_script('''\n",
        "  doCourseAPIKeepAlive=function(){return false;};\n",
        "  API.cmiData[\"cmi.core.lesson_status\"]=\"new\";\n",
        "  var formData = new FormData();\n",
        "  formData.set('token', API.token);\n",
        "  formData.set('data', API.cmiData.toJSONString());\n",
        "  navigator.sendBeacon(\"commit.do\", formData);\n",
        "  // API.cmiData[\"cmi.core.score.raw\"]=100;\n",
        "  // API.cmiData[\"cmi.core.lesson_status\"]=\"completed\";\n",
        "  // navigator.sendBeacon(\"commit.do\", formData);\n",
        "  navigator.sendBeacon=function(){return false;};\n",
        "  ''')\n",
        "  with grid.output_to(now_lesson, 1):\n",
        "    grid.clear_cell()\n",
        "    print('New')\n",
        "  numb+=1\n",
        "# 進入分數頁面\n",
        "driver.get('https://lms.wiseman.com.hk/lms/user/secure/course/eb/select_theme/dashboard.shtml')\n",
        "# 等待頁面加載完畢\n",
        "wait.until(EC.presence_of_element_located((By.XPATH,'//div[@class=\"card-body\"]/div[@class=\"text-right\"]/h1')))\n",
        "# 完成后的分數\n",
        "after_score=int(str(driver.find_element_by_xpath('//div[@class=\"card-body\"]/div[@class=\"text-right\"]/h1').get_attribute('textContent')).replace('&nbsp;',''))\n",
        "# 登出Wiseman\n",
        "driver.get('https://lms.wiseman.com.hk/lms/user/logout.do')\n",
        "print('%s[%d=>%d]'%(student_name,before_score,after_score))\n",
        "driver.quit()"
      ],
      "execution_count": 1,
      "outputs": [
        {
          "output_type": "stream",
          "text": [
            "5A-29-YAO CHUN SHUM Score:4475\n"
          ],
          "name": "stdout"
        },
        {
          "output_type": "display_data",
          "data": {
            "text/html": [
              "<style>\n",
              "       table#id2, #id2 > tbody > tr > th, #id2 > tbody > tr > td {\n",
              "         border: 1px solid lightgray;\n",
              "         border-collapse:collapse;\n",
              "         \n",
              "        }</style>"
            ],
            "text/plain": [
              "<IPython.core.display.HTML object>"
            ]
          },
          "metadata": {
            "tags": [
              "outputarea_id2"
            ]
          }
        },
        {
          "output_type": "display_data",
          "data": {
            "text/html": [
              "<table id=id2><tr><th id=id2-0-0></th><th id=id2-0-1></th><th id=id2-0-2></th></tr><tr><td id=id2-1-0></td><td id=id2-1-1></td><td id=id2-1-2></td></tr><tr><td id=id2-2-0></td><td id=id2-2-1></td><td id=id2-2-2></td></tr><tr><td id=id2-3-0></td><td id=id2-3-1></td><td id=id2-3-2></td></tr><tr><td id=id2-4-0></td><td id=id2-4-1></td><td id=id2-4-2></td></tr><tr><td id=id2-5-0></td><td id=id2-5-1></td><td id=id2-5-2></td></tr><tr><td id=id2-6-0></td><td id=id2-6-1></td><td id=id2-6-2></td></tr><tr><td id=id2-7-0></td><td id=id2-7-1></td><td id=id2-7-2></td></tr><tr><td id=id2-8-0></td><td id=id2-8-1></td><td id=id2-8-2></td></tr><tr><td id=id2-9-0></td><td id=id2-9-1></td><td id=id2-9-2></td></tr><tr><td id=id2-10-0></td><td id=id2-10-1></td><td id=id2-10-2></td></tr><tr><td id=id2-11-0></td><td id=id2-11-1></td><td id=id2-11-2></td></tr><tr><td id=id2-12-0></td><td id=id2-12-1></td><td id=id2-12-2></td></tr><tr><td id=id2-13-0></td><td id=id2-13-1></td><td id=id2-13-2></td></tr><tr><td id=id2-14-0></td><td id=id2-14-1></td><td id=id2-14-2></td></tr><tr><td id=id2-15-0></td><td id=id2-15-1></td><td id=id2-15-2></td></tr><tr><td id=id2-16-0></td><td id=id2-16-1></td><td id=id2-16-2></td></tr><tr><td id=id2-17-0></td><td id=id2-17-1></td><td id=id2-17-2></td></tr><tr><td id=id2-18-0></td><td id=id2-18-1></td><td id=id2-18-2></td></tr><tr><td id=id2-19-0></td><td id=id2-19-1></td><td id=id2-19-2></td></tr><tr><td id=id2-20-0></td><td id=id2-20-1></td><td id=id2-20-2></td></tr><tr><td id=id2-21-0></td><td id=id2-21-1></td><td id=id2-21-2></td></tr><tr><td id=id2-22-0></td><td id=id2-22-1></td><td id=id2-22-2></td></tr><tr><td id=id2-23-0></td><td id=id2-23-1></td><td id=id2-23-2></td></tr><tr><td id=id2-24-0></td><td id=id2-24-1></td><td id=id2-24-2></td></tr><tr><td id=id2-25-0></td><td id=id2-25-1></td><td id=id2-25-2></td></tr><tr><td id=id2-26-0></td><td id=id2-26-1></td><td id=id2-26-2></td></tr><tr><td id=id2-27-0></td><td id=id2-27-1></td><td id=id2-27-2></td></tr><tr><td id=id2-28-0></td><td id=id2-28-1></td><td id=id2-28-2></td></tr><tr><td id=id2-29-0></td><td id=id2-29-1></td><td id=id2-29-2></td></tr><tr><td id=id2-30-0></td><td id=id2-30-1></td><td id=id2-30-2></td></tr><tr><td id=id2-31-0></td><td id=id2-31-1></td><td id=id2-31-2></td></tr><tr><td id=id2-32-0></td><td id=id2-32-1></td><td id=id2-32-2></td></tr><tr><td id=id2-33-0></td><td id=id2-33-1></td><td id=id2-33-2></td></tr><tr><td id=id2-34-0></td><td id=id2-34-1></td><td id=id2-34-2></td></tr><tr><td id=id2-35-0></td><td id=id2-35-1></td><td id=id2-35-2></td></tr><tr><td id=id2-36-0></td><td id=id2-36-1></td><td id=id2-36-2></td></tr><tr><td id=id2-37-0></td><td id=id2-37-1></td><td id=id2-37-2></td></tr><tr><td id=id2-38-0></td><td id=id2-38-1></td><td id=id2-38-2></td></tr><tr><td id=id2-39-0></td><td id=id2-39-1></td><td id=id2-39-2></td></tr><tr><td id=id2-40-0></td><td id=id2-40-1></td><td id=id2-40-2></td></tr><tr><td id=id2-41-0></td><td id=id2-41-1></td><td id=id2-41-2></td></tr><tr><td id=id2-42-0></td><td id=id2-42-1></td><td id=id2-42-2></td></tr><tr><td id=id2-43-0></td><td id=id2-43-1></td><td id=id2-43-2></td></tr><tr><td id=id2-44-0></td><td id=id2-44-1></td><td id=id2-44-2></td></tr><tr><td id=id2-45-0></td><td id=id2-45-1></td><td id=id2-45-2></td></tr><tr><td id=id2-46-0></td><td id=id2-46-1></td><td id=id2-46-2></td></tr><tr><td id=id2-47-0></td><td id=id2-47-1></td><td id=id2-47-2></td></tr><tr><td id=id2-48-0></td><td id=id2-48-1></td><td id=id2-48-2></td></tr><tr><td id=id2-49-0></td><td id=id2-49-1></td><td id=id2-49-2></td></tr><tr><td id=id2-50-0></td><td id=id2-50-1></td><td id=id2-50-2></td></tr><tr><td id=id2-51-0></td><td id=id2-51-1></td><td id=id2-51-2></td></tr><tr><td id=id2-52-0></td><td id=id2-52-1></td><td id=id2-52-2></td></tr></table>"
            ],
            "text/plain": [
              "<IPython.core.display.HTML object>"
            ]
          },
          "metadata": {
            "tags": [
              "outputarea_id2"
            ]
          }
        },
        {
          "output_type": "display_data",
          "data": {
            "application/javascript": [
              "window[\"8de40c0e-81f5-11eb-856a-0242ac1c0002\"] = google.colab.output.getActiveOutputArea();\n",
              "//# sourceURL=js_6c82057264"
            ],
            "text/plain": [
              "<IPython.core.display.Javascript object>"
            ]
          },
          "metadata": {
            "tags": [
              "id2-0-1",
              "outputarea_id2"
            ]
          }
        },
        {
          "output_type": "display_data",
          "data": {
            "application/javascript": [
              "window[\"8de463fc-81f5-11eb-856a-0242ac1c0002\"] = document.querySelector(\"#id2-0-1\");\n",
              "//# sourceURL=js_2258228037"
            ],
            "text/plain": [
              "<IPython.core.display.Javascript object>"
            ]
          },
          "metadata": {
            "tags": [
              "id2-0-1",
              "outputarea_id2"
            ]
          }
        },
        {
          "output_type": "display_data",
          "data": {
            "application/javascript": [
              "window[\"8de4c05e-81f5-11eb-856a-0242ac1c0002\"] = google.colab.output.setActiveOutputArea(window[\"8de463fc-81f5-11eb-856a-0242ac1c0002\"]);\n",
              "//# sourceURL=js_54653a2255"
            ],
            "text/plain": [
              "<IPython.core.display.Javascript object>"
            ]
          },
          "metadata": {
            "tags": [
              "id2-0-1",
              "outputarea_id2"
            ]
          }
        },
        {
          "output_type": "stream",
          "text": [
            "Status\n"
          ],
          "name": "stdout"
        },
        {
          "output_type": "display_data",
          "data": {
            "application/javascript": [
              "window[\"8de59204-81f5-11eb-856a-0242ac1c0002\"] = google.colab.output.setActiveOutputArea(window[\"8de40c0e-81f5-11eb-856a-0242ac1c0002\"]);\n",
              "//# sourceURL=js_36872d6ff7"
            ],
            "text/plain": [
              "<IPython.core.display.Javascript object>"
            ]
          },
          "metadata": {
            "tags": [
              "id2-0-1",
              "outputarea_id2"
            ]
          }
        },
        {
          "output_type": "display_data",
          "data": {
            "application/javascript": [
              "window[\"8de6dd12-81f5-11eb-856a-0242ac1c0002\"] = google.colab.output.getActiveOutputArea();\n",
              "//# sourceURL=js_4c74acfb87"
            ],
            "text/plain": [
              "<IPython.core.display.Javascript object>"
            ]
          },
          "metadata": {
            "tags": [
              "id2-0-2",
              "outputarea_id2"
            ]
          }
        },
        {
          "output_type": "display_data",
          "data": {
            "application/javascript": [
              "window[\"8de72808-81f5-11eb-856a-0242ac1c0002\"] = document.querySelector(\"#id2-0-2\");\n",
              "//# sourceURL=js_22b6ac97ed"
            ],
            "text/plain": [
              "<IPython.core.display.Javascript object>"
            ]
          },
          "metadata": {
            "tags": [
              "id2-0-2",
              "outputarea_id2"
            ]
          }
        },
        {
          "output_type": "display_data",
          "data": {
            "application/javascript": [
              "window[\"8de76b38-81f5-11eb-856a-0242ac1c0002\"] = google.colab.output.setActiveOutputArea(window[\"8de72808-81f5-11eb-856a-0242ac1c0002\"]);\n",
              "//# sourceURL=js_c8b9bde300"
            ],
            "text/plain": [
              "<IPython.core.display.Javascript object>"
            ]
          },
          "metadata": {
            "tags": [
              "id2-0-2",
              "outputarea_id2"
            ]
          }
        },
        {
          "output_type": "stream",
          "text": [
            "Title\n"
          ],
          "name": "stdout"
        },
        {
          "output_type": "display_data",
          "data": {
            "application/javascript": [
              "window[\"8de86498-81f5-11eb-856a-0242ac1c0002\"] = google.colab.output.setActiveOutputArea(window[\"8de6dd12-81f5-11eb-856a-0242ac1c0002\"]);\n",
              "//# sourceURL=js_8dd26e0bd9"
            ],
            "text/plain": [
              "<IPython.core.display.Javascript object>"
            ]
          },
          "metadata": {
            "tags": [
              "id2-0-2",
              "outputarea_id2"
            ]
          }
        },
        {
          "output_type": "display_data",
          "data": {
            "application/javascript": [
              "window[\"8de9bbfe-81f5-11eb-856a-0242ac1c0002\"] = google.colab.output.getActiveOutputArea();\n",
              "//# sourceURL=js_0ac0167c5e"
            ],
            "text/plain": [
              "<IPython.core.display.Javascript object>"
            ]
          },
          "metadata": {
            "tags": [
              "id2-1-0",
              "outputarea_id2"
            ]
          }
        },
        {
          "output_type": "display_data",
          "data": {
            "application/javascript": [
              "window[\"8de9fc22-81f5-11eb-856a-0242ac1c0002\"] = document.querySelector(\"#id2-1-0\");\n",
              "//# sourceURL=js_5a39fc76bf"
            ],
            "text/plain": [
              "<IPython.core.display.Javascript object>"
            ]
          },
          "metadata": {
            "tags": [
              "id2-1-0",
              "outputarea_id2"
            ]
          }
        },
        {
          "output_type": "display_data",
          "data": {
            "application/javascript": [
              "window[\"8dea39b2-81f5-11eb-856a-0242ac1c0002\"] = google.colab.output.setActiveOutputArea(window[\"8de9fc22-81f5-11eb-856a-0242ac1c0002\"]);\n",
              "//# sourceURL=js_27d902535c"
            ],
            "text/plain": [
              "<IPython.core.display.Javascript object>"
            ]
          },
          "metadata": {
            "tags": [
              "id2-1-0",
              "outputarea_id2"
            ]
          }
        },
        {
          "output_type": "stream",
          "text": [
            "1/52\n"
          ],
          "name": "stdout"
        },
        {
          "output_type": "display_data",
          "data": {
            "application/javascript": [
              "window[\"8deb1b0c-81f5-11eb-856a-0242ac1c0002\"] = google.colab.output.setActiveOutputArea(window[\"8de9bbfe-81f5-11eb-856a-0242ac1c0002\"]);\n",
              "//# sourceURL=js_76eb15e577"
            ],
            "text/plain": [
              "<IPython.core.display.Javascript object>"
            ]
          },
          "metadata": {
            "tags": [
              "id2-1-0",
              "outputarea_id2"
            ]
          }
        },
        {
          "output_type": "display_data",
          "data": {
            "application/javascript": [
              "window[\"8dec60fc-81f5-11eb-856a-0242ac1c0002\"] = google.colab.output.getActiveOutputArea();\n",
              "//# sourceURL=js_4475ec8798"
            ],
            "text/plain": [
              "<IPython.core.display.Javascript object>"
            ]
          },
          "metadata": {
            "tags": [
              "id2-1-1",
              "outputarea_id2"
            ]
          }
        },
        {
          "output_type": "display_data",
          "data": {
            "application/javascript": [
              "window[\"8dec9f4a-81f5-11eb-856a-0242ac1c0002\"] = document.querySelector(\"#id2-1-1\");\n",
              "//# sourceURL=js_b6268d90e0"
            ],
            "text/plain": [
              "<IPython.core.display.Javascript object>"
            ]
          },
          "metadata": {
            "tags": [
              "id2-1-1",
              "outputarea_id2"
            ]
          }
        },
        {
          "output_type": "display_data",
          "data": {
            "application/javascript": [
              "window[\"8decd6d6-81f5-11eb-856a-0242ac1c0002\"] = google.colab.output.setActiveOutputArea(window[\"8dec9f4a-81f5-11eb-856a-0242ac1c0002\"]);\n",
              "//# sourceURL=js_47bf26ee19"
            ],
            "text/plain": [
              "<IPython.core.display.Javascript object>"
            ]
          },
          "metadata": {
            "tags": [
              "id2-1-1",
              "outputarea_id2"
            ]
          }
        },
        {
          "output_type": "display_data",
          "data": {
            "application/javascript": [
              "window[\"8dee272a-81f5-11eb-856a-0242ac1c0002\"] = google.colab.output.setActiveOutputArea(window[\"8dec60fc-81f5-11eb-856a-0242ac1c0002\"]);\n",
              "//# sourceURL=js_a79b92054c"
            ],
            "text/plain": [
              "<IPython.core.display.Javascript object>"
            ]
          },
          "metadata": {
            "tags": [
              "id2-1-1",
              "outputarea_id2"
            ]
          }
        },
        {
          "output_type": "display_data",
          "data": {
            "application/javascript": [
              "window[\"8defe7ea-81f5-11eb-856a-0242ac1c0002\"] = google.colab.output.getActiveOutputArea();\n",
              "//# sourceURL=js_ceed25cc8a"
            ],
            "text/plain": [
              "<IPython.core.display.Javascript object>"
            ]
          },
          "metadata": {
            "tags": [
              "id2-1-2",
              "outputarea_id2"
            ]
          }
        },
        {
          "output_type": "display_data",
          "data": {
            "application/javascript": [
              "window[\"8df055e0-81f5-11eb-856a-0242ac1c0002\"] = document.querySelector(\"#id2-1-2\");\n",
              "//# sourceURL=js_593ea543f1"
            ],
            "text/plain": [
              "<IPython.core.display.Javascript object>"
            ]
          },
          "metadata": {
            "tags": [
              "id2-1-2",
              "outputarea_id2"
            ]
          }
        },
        {
          "output_type": "display_data",
          "data": {
            "application/javascript": [
              "window[\"8df09ee2-81f5-11eb-856a-0242ac1c0002\"] = google.colab.output.setActiveOutputArea(window[\"8df055e0-81f5-11eb-856a-0242ac1c0002\"]);\n",
              "//# sourceURL=js_4c2e20c6a2"
            ],
            "text/plain": [
              "<IPython.core.display.Javascript object>"
            ]
          },
          "metadata": {
            "tags": [
              "id2-1-2",
              "outputarea_id2"
            ]
          }
        },
        {
          "output_type": "stream",
          "text": [
            "Drones In Our Skies - Reading(https://lms.wiseman.com.hk/lms/user/secure/course/eb/select_theme/selectLesson.do?id=e549dcad30184ba2a39f287a2f3a1392&from=lesson)\n"
          ],
          "name": "stdout"
        },
        {
          "output_type": "display_data",
          "data": {
            "application/javascript": [
              "window[\"8df2267c-81f5-11eb-856a-0242ac1c0002\"] = google.colab.output.setActiveOutputArea(window[\"8defe7ea-81f5-11eb-856a-0242ac1c0002\"]);\n",
              "//# sourceURL=js_9399a741cb"
            ],
            "text/plain": [
              "<IPython.core.display.Javascript object>"
            ]
          },
          "metadata": {
            "tags": [
              "id2-1-2",
              "outputarea_id2"
            ]
          }
        },
        {
          "output_type": "display_data",
          "data": {
            "application/javascript": [
              "window[\"93c4985a-81f5-11eb-856a-0242ac1c0002\"] = google.colab.output.getActiveOutputArea();\n",
              "//# sourceURL=js_5f8df9e001"
            ],
            "text/plain": [
              "<IPython.core.display.Javascript object>"
            ]
          },
          "metadata": {
            "tags": [
              "id2-1-1",
              "outputarea_id2"
            ]
          }
        },
        {
          "output_type": "display_data",
          "data": {
            "application/javascript": [
              "window[\"93c50650-81f5-11eb-856a-0242ac1c0002\"] = document.querySelector(\"#id2-1-1\");\n",
              "//# sourceURL=js_f10ca46653"
            ],
            "text/plain": [
              "<IPython.core.display.Javascript object>"
            ]
          },
          "metadata": {
            "tags": [
              "id2-1-1",
              "outputarea_id2"
            ]
          }
        },
        {
          "output_type": "display_data",
          "data": {
            "application/javascript": [
              "window[\"93c5478c-81f5-11eb-856a-0242ac1c0002\"] = google.colab.output.setActiveOutputArea(window[\"93c50650-81f5-11eb-856a-0242ac1c0002\"]);\n",
              "//# sourceURL=js_381b657c4c"
            ],
            "text/plain": [
              "<IPython.core.display.Javascript object>"
            ]
          },
          "metadata": {
            "tags": [
              "id2-1-1",
              "outputarea_id2"
            ]
          }
        },
        {
          "output_type": "stream",
          "text": [
            "New\n"
          ],
          "name": "stdout"
        },
        {
          "output_type": "display_data",
          "data": {
            "application/javascript": [
              "window[\"93c6d5ac-81f5-11eb-856a-0242ac1c0002\"] = google.colab.output.setActiveOutputArea(window[\"93c4985a-81f5-11eb-856a-0242ac1c0002\"]);\n",
              "//# sourceURL=js_4858865956"
            ],
            "text/plain": [
              "<IPython.core.display.Javascript object>"
            ]
          },
          "metadata": {
            "tags": [
              "id2-1-1",
              "outputarea_id2"
            ]
          }
        },
        {
          "output_type": "display_data",
          "data": {
            "application/javascript": [
              "window[\"93c83f82-81f5-11eb-856a-0242ac1c0002\"] = google.colab.output.getActiveOutputArea();\n",
              "//# sourceURL=js_1078c0cfe0"
            ],
            "text/plain": [
              "<IPython.core.display.Javascript object>"
            ]
          },
          "metadata": {
            "tags": [
              "id2-2-0",
              "outputarea_id2"
            ]
          }
        },
        {
          "output_type": "display_data",
          "data": {
            "application/javascript": [
              "window[\"93c882e4-81f5-11eb-856a-0242ac1c0002\"] = document.querySelector(\"#id2-2-0\");\n",
              "//# sourceURL=js_e712a8a634"
            ],
            "text/plain": [
              "<IPython.core.display.Javascript object>"
            ]
          },
          "metadata": {
            "tags": [
              "id2-2-0",
              "outputarea_id2"
            ]
          }
        },
        {
          "output_type": "display_data",
          "data": {
            "application/javascript": [
              "window[\"93c8bdc2-81f5-11eb-856a-0242ac1c0002\"] = google.colab.output.setActiveOutputArea(window[\"93c882e4-81f5-11eb-856a-0242ac1c0002\"]);\n",
              "//# sourceURL=js_8fba2fc787"
            ],
            "text/plain": [
              "<IPython.core.display.Javascript object>"
            ]
          },
          "metadata": {
            "tags": [
              "id2-2-0",
              "outputarea_id2"
            ]
          }
        },
        {
          "output_type": "stream",
          "text": [
            "2/52\n"
          ],
          "name": "stdout"
        },
        {
          "output_type": "display_data",
          "data": {
            "application/javascript": [
              "window[\"93c9b286-81f5-11eb-856a-0242ac1c0002\"] = google.colab.output.setActiveOutputArea(window[\"93c83f82-81f5-11eb-856a-0242ac1c0002\"]);\n",
              "//# sourceURL=js_6cf9e6c236"
            ],
            "text/plain": [
              "<IPython.core.display.Javascript object>"
            ]
          },
          "metadata": {
            "tags": [
              "id2-2-0",
              "outputarea_id2"
            ]
          }
        },
        {
          "output_type": "display_data",
          "data": {
            "application/javascript": [
              "window[\"93cb0aaa-81f5-11eb-856a-0242ac1c0002\"] = google.colab.output.getActiveOutputArea();\n",
              "//# sourceURL=js_e59b1427d2"
            ],
            "text/plain": [
              "<IPython.core.display.Javascript object>"
            ]
          },
          "metadata": {
            "tags": [
              "id2-2-1",
              "outputarea_id2"
            ]
          }
        },
        {
          "output_type": "display_data",
          "data": {
            "application/javascript": [
              "window[\"93cb4b1e-81f5-11eb-856a-0242ac1c0002\"] = document.querySelector(\"#id2-2-1\");\n",
              "//# sourceURL=js_1cc568c673"
            ],
            "text/plain": [
              "<IPython.core.display.Javascript object>"
            ]
          },
          "metadata": {
            "tags": [
              "id2-2-1",
              "outputarea_id2"
            ]
          }
        },
        {
          "output_type": "display_data",
          "data": {
            "application/javascript": [
              "window[\"93cb8f20-81f5-11eb-856a-0242ac1c0002\"] = google.colab.output.setActiveOutputArea(window[\"93cb4b1e-81f5-11eb-856a-0242ac1c0002\"]);\n",
              "//# sourceURL=js_c9b631bfef"
            ],
            "text/plain": [
              "<IPython.core.display.Javascript object>"
            ]
          },
          "metadata": {
            "tags": [
              "id2-2-1",
              "outputarea_id2"
            ]
          }
        },
        {
          "output_type": "display_data",
          "data": {
            "application/javascript": [
              "window[\"93cc6ab2-81f5-11eb-856a-0242ac1c0002\"] = google.colab.output.setActiveOutputArea(window[\"93cb0aaa-81f5-11eb-856a-0242ac1c0002\"]);\n",
              "//# sourceURL=js_4cc111b690"
            ],
            "text/plain": [
              "<IPython.core.display.Javascript object>"
            ]
          },
          "metadata": {
            "tags": [
              "id2-2-1",
              "outputarea_id2"
            ]
          }
        },
        {
          "output_type": "display_data",
          "data": {
            "application/javascript": [
              "window[\"93cda88c-81f5-11eb-856a-0242ac1c0002\"] = google.colab.output.getActiveOutputArea();\n",
              "//# sourceURL=js_65d24ee320"
            ],
            "text/plain": [
              "<IPython.core.display.Javascript object>"
            ]
          },
          "metadata": {
            "tags": [
              "id2-2-2",
              "outputarea_id2"
            ]
          }
        },
        {
          "output_type": "display_data",
          "data": {
            "application/javascript": [
              "window[\"93cdeacc-81f5-11eb-856a-0242ac1c0002\"] = document.querySelector(\"#id2-2-2\");\n",
              "//# sourceURL=js_079454287b"
            ],
            "text/plain": [
              "<IPython.core.display.Javascript object>"
            ]
          },
          "metadata": {
            "tags": [
              "id2-2-2",
              "outputarea_id2"
            ]
          }
        },
        {
          "output_type": "display_data",
          "data": {
            "application/javascript": [
              "window[\"93ce29e2-81f5-11eb-856a-0242ac1c0002\"] = google.colab.output.setActiveOutputArea(window[\"93cdeacc-81f5-11eb-856a-0242ac1c0002\"]);\n",
              "//# sourceURL=js_52a631c0c3"
            ],
            "text/plain": [
              "<IPython.core.display.Javascript object>"
            ]
          },
          "metadata": {
            "tags": [
              "id2-2-2",
              "outputarea_id2"
            ]
          }
        },
        {
          "output_type": "stream",
          "text": [
            "Drones In Our Skies - Listening(https://lms.wiseman.com.hk/lms/user/secure/course/eb/select_theme/selectLesson.do?id=7d32add896474dc88b5922b316e8ee19&from=lesson)\n"
          ],
          "name": "stdout"
        },
        {
          "output_type": "display_data",
          "data": {
            "application/javascript": [
              "window[\"93cf10d2-81f5-11eb-856a-0242ac1c0002\"] = google.colab.output.setActiveOutputArea(window[\"93cda88c-81f5-11eb-856a-0242ac1c0002\"]);\n",
              "//# sourceURL=js_b8b6617781"
            ],
            "text/plain": [
              "<IPython.core.display.Javascript object>"
            ]
          },
          "metadata": {
            "tags": [
              "id2-2-2",
              "outputarea_id2"
            ]
          }
        },
        {
          "output_type": "display_data",
          "data": {
            "application/javascript": [
              "window[\"997829b0-81f5-11eb-856a-0242ac1c0002\"] = google.colab.output.getActiveOutputArea();\n",
              "//# sourceURL=js_9fa032e229"
            ],
            "text/plain": [
              "<IPython.core.display.Javascript object>"
            ]
          },
          "metadata": {
            "tags": [
              "id2-2-1",
              "outputarea_id2"
            ]
          }
        },
        {
          "output_type": "display_data",
          "data": {
            "application/javascript": [
              "window[\"9978fdea-81f5-11eb-856a-0242ac1c0002\"] = document.querySelector(\"#id2-2-1\");\n",
              "//# sourceURL=js_c6e3b13d12"
            ],
            "text/plain": [
              "<IPython.core.display.Javascript object>"
            ]
          },
          "metadata": {
            "tags": [
              "id2-2-1",
              "outputarea_id2"
            ]
          }
        },
        {
          "output_type": "display_data",
          "data": {
            "application/javascript": [
              "window[\"997a71a2-81f5-11eb-856a-0242ac1c0002\"] = google.colab.output.setActiveOutputArea(window[\"9978fdea-81f5-11eb-856a-0242ac1c0002\"]);\n",
              "//# sourceURL=js_be4e537690"
            ],
            "text/plain": [
              "<IPython.core.display.Javascript object>"
            ]
          },
          "metadata": {
            "tags": [
              "id2-2-1",
              "outputarea_id2"
            ]
          }
        },
        {
          "output_type": "stream",
          "text": [
            "New\n"
          ],
          "name": "stdout"
        },
        {
          "output_type": "display_data",
          "data": {
            "application/javascript": [
              "window[\"997de242-81f5-11eb-856a-0242ac1c0002\"] = google.colab.output.setActiveOutputArea(window[\"997829b0-81f5-11eb-856a-0242ac1c0002\"]);\n",
              "//# sourceURL=js_94aea756bc"
            ],
            "text/plain": [
              "<IPython.core.display.Javascript object>"
            ]
          },
          "metadata": {
            "tags": [
              "id2-2-1",
              "outputarea_id2"
            ]
          }
        },
        {
          "output_type": "display_data",
          "data": {
            "application/javascript": [
              "window[\"99844e16-81f5-11eb-856a-0242ac1c0002\"] = google.colab.output.getActiveOutputArea();\n",
              "//# sourceURL=js_6211cee1c6"
            ],
            "text/plain": [
              "<IPython.core.display.Javascript object>"
            ]
          },
          "metadata": {
            "tags": [
              "id2-3-0",
              "outputarea_id2"
            ]
          }
        },
        {
          "output_type": "display_data",
          "data": {
            "application/javascript": [
              "window[\"9984d16a-81f5-11eb-856a-0242ac1c0002\"] = document.querySelector(\"#id2-3-0\");\n",
              "//# sourceURL=js_32ac398f6a"
            ],
            "text/plain": [
              "<IPython.core.display.Javascript object>"
            ]
          },
          "metadata": {
            "tags": [
              "id2-3-0",
              "outputarea_id2"
            ]
          }
        },
        {
          "output_type": "display_data",
          "data": {
            "application/javascript": [
              "window[\"99859a82-81f5-11eb-856a-0242ac1c0002\"] = google.colab.output.setActiveOutputArea(window[\"9984d16a-81f5-11eb-856a-0242ac1c0002\"]);\n",
              "//# sourceURL=js_4bf6e451a3"
            ],
            "text/plain": [
              "<IPython.core.display.Javascript object>"
            ]
          },
          "metadata": {
            "tags": [
              "id2-3-0",
              "outputarea_id2"
            ]
          }
        },
        {
          "output_type": "stream",
          "text": [
            "3/52\n"
          ],
          "name": "stdout"
        },
        {
          "output_type": "display_data",
          "data": {
            "application/javascript": [
              "window[\"99897648-81f5-11eb-856a-0242ac1c0002\"] = google.colab.output.setActiveOutputArea(window[\"99844e16-81f5-11eb-856a-0242ac1c0002\"]);\n",
              "//# sourceURL=js_dbc75b81be"
            ],
            "text/plain": [
              "<IPython.core.display.Javascript object>"
            ]
          },
          "metadata": {
            "tags": [
              "id2-3-0",
              "outputarea_id2"
            ]
          }
        },
        {
          "output_type": "display_data",
          "data": {
            "application/javascript": [
              "window[\"998da1f0-81f5-11eb-856a-0242ac1c0002\"] = google.colab.output.getActiveOutputArea();\n",
              "//# sourceURL=js_219b40588c"
            ],
            "text/plain": [
              "<IPython.core.display.Javascript object>"
            ]
          },
          "metadata": {
            "tags": [
              "id2-3-1",
              "outputarea_id2"
            ]
          }
        },
        {
          "output_type": "display_data",
          "data": {
            "application/javascript": [
              "window[\"998df7fe-81f5-11eb-856a-0242ac1c0002\"] = document.querySelector(\"#id2-3-1\");\n",
              "//# sourceURL=js_c636eba470"
            ],
            "text/plain": [
              "<IPython.core.display.Javascript object>"
            ]
          },
          "metadata": {
            "tags": [
              "id2-3-1",
              "outputarea_id2"
            ]
          }
        },
        {
          "output_type": "display_data",
          "data": {
            "application/javascript": [
              "window[\"998efd7a-81f5-11eb-856a-0242ac1c0002\"] = google.colab.output.setActiveOutputArea(window[\"998df7fe-81f5-11eb-856a-0242ac1c0002\"]);\n",
              "//# sourceURL=js_24bd9ad8a9"
            ],
            "text/plain": [
              "<IPython.core.display.Javascript object>"
            ]
          },
          "metadata": {
            "tags": [
              "id2-3-1",
              "outputarea_id2"
            ]
          }
        },
        {
          "output_type": "display_data",
          "data": {
            "application/javascript": [
              "window[\"9991c82a-81f5-11eb-856a-0242ac1c0002\"] = google.colab.output.setActiveOutputArea(window[\"998da1f0-81f5-11eb-856a-0242ac1c0002\"]);\n",
              "//# sourceURL=js_2c7c905a9f"
            ],
            "text/plain": [
              "<IPython.core.display.Javascript object>"
            ]
          },
          "metadata": {
            "tags": [
              "id2-3-1",
              "outputarea_id2"
            ]
          }
        },
        {
          "output_type": "display_data",
          "data": {
            "application/javascript": [
              "window[\"99977d06-81f5-11eb-856a-0242ac1c0002\"] = google.colab.output.getActiveOutputArea();\n",
              "//# sourceURL=js_3f3e87ff43"
            ],
            "text/plain": [
              "<IPython.core.display.Javascript object>"
            ]
          },
          "metadata": {
            "tags": [
              "id2-3-2",
              "outputarea_id2"
            ]
          }
        },
        {
          "output_type": "display_data",
          "data": {
            "application/javascript": [
              "window[\"9997efa2-81f5-11eb-856a-0242ac1c0002\"] = document.querySelector(\"#id2-3-2\");\n",
              "//# sourceURL=js_2c144a85a9"
            ],
            "text/plain": [
              "<IPython.core.display.Javascript object>"
            ]
          },
          "metadata": {
            "tags": [
              "id2-3-2",
              "outputarea_id2"
            ]
          }
        },
        {
          "output_type": "display_data",
          "data": {
            "application/javascript": [
              "window[\"99996468-81f5-11eb-856a-0242ac1c0002\"] = google.colab.output.setActiveOutputArea(window[\"9997efa2-81f5-11eb-856a-0242ac1c0002\"]);\n",
              "//# sourceURL=js_b7a6ffd0a6"
            ],
            "text/plain": [
              "<IPython.core.display.Javascript object>"
            ]
          },
          "metadata": {
            "tags": [
              "id2-3-2",
              "outputarea_id2"
            ]
          }
        },
        {
          "output_type": "stream",
          "text": [
            "Deadly Typhoons in History - Reading(https://lms.wiseman.com.hk/lms/user/secure/course/eb/select_theme/selectLesson.do?id=8ae5daa05e4eb277015e51192b2e0008&from=lesson)\n"
          ],
          "name": "stdout"
        },
        {
          "output_type": "display_data",
          "data": {
            "application/javascript": [
              "window[\"999c220c-81f5-11eb-856a-0242ac1c0002\"] = google.colab.output.setActiveOutputArea(window[\"99977d06-81f5-11eb-856a-0242ac1c0002\"]);\n",
              "//# sourceURL=js_50d9624d31"
            ],
            "text/plain": [
              "<IPython.core.display.Javascript object>"
            ]
          },
          "metadata": {
            "tags": [
              "id2-3-2",
              "outputarea_id2"
            ]
          }
        },
        {
          "output_type": "display_data",
          "data": {
            "application/javascript": [
              "window[\"a4001488-81f5-11eb-856a-0242ac1c0002\"] = google.colab.output.getActiveOutputArea();\n",
              "//# sourceURL=js_c49cade7fd"
            ],
            "text/plain": [
              "<IPython.core.display.Javascript object>"
            ]
          },
          "metadata": {
            "tags": [
              "id2-3-1",
              "outputarea_id2"
            ]
          }
        },
        {
          "output_type": "display_data",
          "data": {
            "application/javascript": [
              "window[\"a401579e-81f5-11eb-856a-0242ac1c0002\"] = document.querySelector(\"#id2-3-1\");\n",
              "//# sourceURL=js_f830ba9e3f"
            ],
            "text/plain": [
              "<IPython.core.display.Javascript object>"
            ]
          },
          "metadata": {
            "tags": [
              "id2-3-1",
              "outputarea_id2"
            ]
          }
        },
        {
          "output_type": "display_data",
          "data": {
            "application/javascript": [
              "window[\"a4019a38-81f5-11eb-856a-0242ac1c0002\"] = google.colab.output.setActiveOutputArea(window[\"a401579e-81f5-11eb-856a-0242ac1c0002\"]);\n",
              "//# sourceURL=js_84c9606c01"
            ],
            "text/plain": [
              "<IPython.core.display.Javascript object>"
            ]
          },
          "metadata": {
            "tags": [
              "id2-3-1",
              "outputarea_id2"
            ]
          }
        },
        {
          "output_type": "stream",
          "text": [
            "New\n"
          ],
          "name": "stdout"
        },
        {
          "output_type": "display_data",
          "data": {
            "application/javascript": [
              "window[\"a4060348-81f5-11eb-856a-0242ac1c0002\"] = google.colab.output.setActiveOutputArea(window[\"a4001488-81f5-11eb-856a-0242ac1c0002\"]);\n",
              "//# sourceURL=js_ab03eb94a1"
            ],
            "text/plain": [
              "<IPython.core.display.Javascript object>"
            ]
          },
          "metadata": {
            "tags": [
              "id2-3-1",
              "outputarea_id2"
            ]
          }
        },
        {
          "output_type": "display_data",
          "data": {
            "application/javascript": [
              "window[\"a40af29a-81f5-11eb-856a-0242ac1c0002\"] = google.colab.output.getActiveOutputArea();\n",
              "//# sourceURL=js_bbdf0d56fa"
            ],
            "text/plain": [
              "<IPython.core.display.Javascript object>"
            ]
          },
          "metadata": {
            "tags": [
              "id2-4-0",
              "outputarea_id2"
            ]
          }
        },
        {
          "output_type": "display_data",
          "data": {
            "application/javascript": [
              "window[\"a40c8b28-81f5-11eb-856a-0242ac1c0002\"] = document.querySelector(\"#id2-4-0\");\n",
              "//# sourceURL=js_ac61af542b"
            ],
            "text/plain": [
              "<IPython.core.display.Javascript object>"
            ]
          },
          "metadata": {
            "tags": [
              "id2-4-0",
              "outputarea_id2"
            ]
          }
        },
        {
          "output_type": "display_data",
          "data": {
            "application/javascript": [
              "window[\"a40ccb88-81f5-11eb-856a-0242ac1c0002\"] = google.colab.output.setActiveOutputArea(window[\"a40c8b28-81f5-11eb-856a-0242ac1c0002\"]);\n",
              "//# sourceURL=js_b0fff0c099"
            ],
            "text/plain": [
              "<IPython.core.display.Javascript object>"
            ]
          },
          "metadata": {
            "tags": [
              "id2-4-0",
              "outputarea_id2"
            ]
          }
        },
        {
          "output_type": "stream",
          "text": [
            "4/52\n"
          ],
          "name": "stdout"
        },
        {
          "output_type": "display_data",
          "data": {
            "application/javascript": [
              "window[\"a40e133a-81f5-11eb-856a-0242ac1c0002\"] = google.colab.output.setActiveOutputArea(window[\"a40af29a-81f5-11eb-856a-0242ac1c0002\"]);\n",
              "//# sourceURL=js_6446c92789"
            ],
            "text/plain": [
              "<IPython.core.display.Javascript object>"
            ]
          },
          "metadata": {
            "tags": [
              "id2-4-0",
              "outputarea_id2"
            ]
          }
        },
        {
          "output_type": "display_data",
          "data": {
            "application/javascript": [
              "window[\"a412f742-81f5-11eb-856a-0242ac1c0002\"] = google.colab.output.getActiveOutputArea();\n",
              "//# sourceURL=js_e6a505d331"
            ],
            "text/plain": [
              "<IPython.core.display.Javascript object>"
            ]
          },
          "metadata": {
            "tags": [
              "id2-4-1",
              "outputarea_id2"
            ]
          }
        },
        {
          "output_type": "display_data",
          "data": {
            "application/javascript": [
              "window[\"a413be84-81f5-11eb-856a-0242ac1c0002\"] = document.querySelector(\"#id2-4-1\");\n",
              "//# sourceURL=js_928ff0bd50"
            ],
            "text/plain": [
              "<IPython.core.display.Javascript object>"
            ]
          },
          "metadata": {
            "tags": [
              "id2-4-1",
              "outputarea_id2"
            ]
          }
        },
        {
          "output_type": "display_data",
          "data": {
            "application/javascript": [
              "window[\"a41492b4-81f5-11eb-856a-0242ac1c0002\"] = google.colab.output.setActiveOutputArea(window[\"a413be84-81f5-11eb-856a-0242ac1c0002\"]);\n",
              "//# sourceURL=js_a115531761"
            ],
            "text/plain": [
              "<IPython.core.display.Javascript object>"
            ]
          },
          "metadata": {
            "tags": [
              "id2-4-1",
              "outputarea_id2"
            ]
          }
        },
        {
          "output_type": "display_data",
          "data": {
            "application/javascript": [
              "window[\"a4173c6c-81f5-11eb-856a-0242ac1c0002\"] = google.colab.output.setActiveOutputArea(window[\"a412f742-81f5-11eb-856a-0242ac1c0002\"]);\n",
              "//# sourceURL=js_467ab7cb2f"
            ],
            "text/plain": [
              "<IPython.core.display.Javascript object>"
            ]
          },
          "metadata": {
            "tags": [
              "id2-4-1",
              "outputarea_id2"
            ]
          }
        },
        {
          "output_type": "display_data",
          "data": {
            "application/javascript": [
              "window[\"a419313e-81f5-11eb-856a-0242ac1c0002\"] = google.colab.output.getActiveOutputArea();\n",
              "//# sourceURL=js_1fce397c7e"
            ],
            "text/plain": [
              "<IPython.core.display.Javascript object>"
            ]
          },
          "metadata": {
            "tags": [
              "id2-4-2",
              "outputarea_id2"
            ]
          }
        },
        {
          "output_type": "display_data",
          "data": {
            "application/javascript": [
              "window[\"a41dfbb0-81f5-11eb-856a-0242ac1c0002\"] = document.querySelector(\"#id2-4-2\");\n",
              "//# sourceURL=js_54184270cc"
            ],
            "text/plain": [
              "<IPython.core.display.Javascript object>"
            ]
          },
          "metadata": {
            "tags": [
              "id2-4-2",
              "outputarea_id2"
            ]
          }
        },
        {
          "output_type": "display_data",
          "data": {
            "application/javascript": [
              "window[\"a41f0eba-81f5-11eb-856a-0242ac1c0002\"] = google.colab.output.setActiveOutputArea(window[\"a41dfbb0-81f5-11eb-856a-0242ac1c0002\"]);\n",
              "//# sourceURL=js_a6f6f70452"
            ],
            "text/plain": [
              "<IPython.core.display.Javascript object>"
            ]
          },
          "metadata": {
            "tags": [
              "id2-4-2",
              "outputarea_id2"
            ]
          }
        },
        {
          "output_type": "stream",
          "text": [
            "Deadly Typhoons in History - Listening(https://lms.wiseman.com.hk/lms/user/secure/course/eb/select_theme/selectLesson.do?id=8ae5daa15e4ed4ff015e501c745a0004&from=lesson)\n"
          ],
          "name": "stdout"
        },
        {
          "output_type": "display_data",
          "data": {
            "application/javascript": [
              "window[\"a4211a0c-81f5-11eb-856a-0242ac1c0002\"] = google.colab.output.setActiveOutputArea(window[\"a419313e-81f5-11eb-856a-0242ac1c0002\"]);\n",
              "//# sourceURL=js_37ca49087f"
            ],
            "text/plain": [
              "<IPython.core.display.Javascript object>"
            ]
          },
          "metadata": {
            "tags": [
              "id2-4-2",
              "outputarea_id2"
            ]
          }
        },
        {
          "output_type": "display_data",
          "data": {
            "application/javascript": [
              "window[\"aa142738-81f5-11eb-856a-0242ac1c0002\"] = google.colab.output.getActiveOutputArea();\n",
              "//# sourceURL=js_9c42b3202a"
            ],
            "text/plain": [
              "<IPython.core.display.Javascript object>"
            ]
          },
          "metadata": {
            "tags": [
              "id2-4-1",
              "outputarea_id2"
            ]
          }
        },
        {
          "output_type": "display_data",
          "data": {
            "application/javascript": [
              "window[\"aa14a87a-81f5-11eb-856a-0242ac1c0002\"] = document.querySelector(\"#id2-4-1\");\n",
              "//# sourceURL=js_db004b44e8"
            ],
            "text/plain": [
              "<IPython.core.display.Javascript object>"
            ]
          },
          "metadata": {
            "tags": [
              "id2-4-1",
              "outputarea_id2"
            ]
          }
        },
        {
          "output_type": "display_data",
          "data": {
            "application/javascript": [
              "window[\"aa14e61e-81f5-11eb-856a-0242ac1c0002\"] = google.colab.output.setActiveOutputArea(window[\"aa14a87a-81f5-11eb-856a-0242ac1c0002\"]);\n",
              "//# sourceURL=js_61a3643a75"
            ],
            "text/plain": [
              "<IPython.core.display.Javascript object>"
            ]
          },
          "metadata": {
            "tags": [
              "id2-4-1",
              "outputarea_id2"
            ]
          }
        },
        {
          "output_type": "stream",
          "text": [
            "New\n"
          ],
          "name": "stdout"
        },
        {
          "output_type": "display_data",
          "data": {
            "application/javascript": [
              "window[\"aa17faf2-81f5-11eb-856a-0242ac1c0002\"] = google.colab.output.setActiveOutputArea(window[\"aa142738-81f5-11eb-856a-0242ac1c0002\"]);\n",
              "//# sourceURL=js_0159b51adb"
            ],
            "text/plain": [
              "<IPython.core.display.Javascript object>"
            ]
          },
          "metadata": {
            "tags": [
              "id2-4-1",
              "outputarea_id2"
            ]
          }
        },
        {
          "output_type": "display_data",
          "data": {
            "application/javascript": [
              "window[\"aa1908d4-81f5-11eb-856a-0242ac1c0002\"] = google.colab.output.getActiveOutputArea();\n",
              "//# sourceURL=js_bf86d1342f"
            ],
            "text/plain": [
              "<IPython.core.display.Javascript object>"
            ]
          },
          "metadata": {
            "tags": [
              "id2-5-0",
              "outputarea_id2"
            ]
          }
        },
        {
          "output_type": "display_data",
          "data": {
            "application/javascript": [
              "window[\"aa1b0c10-81f5-11eb-856a-0242ac1c0002\"] = document.querySelector(\"#id2-5-0\");\n",
              "//# sourceURL=js_39f1ca11e8"
            ],
            "text/plain": [
              "<IPython.core.display.Javascript object>"
            ]
          },
          "metadata": {
            "tags": [
              "id2-5-0",
              "outputarea_id2"
            ]
          }
        },
        {
          "output_type": "display_data",
          "data": {
            "application/javascript": [
              "window[\"aa1d0dda-81f5-11eb-856a-0242ac1c0002\"] = google.colab.output.setActiveOutputArea(window[\"aa1b0c10-81f5-11eb-856a-0242ac1c0002\"]);\n",
              "//# sourceURL=js_c77706b436"
            ],
            "text/plain": [
              "<IPython.core.display.Javascript object>"
            ]
          },
          "metadata": {
            "tags": [
              "id2-5-0",
              "outputarea_id2"
            ]
          }
        },
        {
          "output_type": "stream",
          "text": [
            "5/52\n"
          ],
          "name": "stdout"
        },
        {
          "output_type": "display_data",
          "data": {
            "application/javascript": [
              "window[\"aa1e4204-81f5-11eb-856a-0242ac1c0002\"] = google.colab.output.setActiveOutputArea(window[\"aa1908d4-81f5-11eb-856a-0242ac1c0002\"]);\n",
              "//# sourceURL=js_ba82056eb8"
            ],
            "text/plain": [
              "<IPython.core.display.Javascript object>"
            ]
          },
          "metadata": {
            "tags": [
              "id2-5-0",
              "outputarea_id2"
            ]
          }
        },
        {
          "output_type": "display_data",
          "data": {
            "application/javascript": [
              "window[\"aa220934-81f5-11eb-856a-0242ac1c0002\"] = google.colab.output.getActiveOutputArea();\n",
              "//# sourceURL=js_07358938f8"
            ],
            "text/plain": [
              "<IPython.core.display.Javascript object>"
            ]
          },
          "metadata": {
            "tags": [
              "id2-5-1",
              "outputarea_id2"
            ]
          }
        },
        {
          "output_type": "display_data",
          "data": {
            "application/javascript": [
              "window[\"aa230b90-81f5-11eb-856a-0242ac1c0002\"] = document.querySelector(\"#id2-5-1\");\n",
              "//# sourceURL=js_ae096ffe8d"
            ],
            "text/plain": [
              "<IPython.core.display.Javascript object>"
            ]
          },
          "metadata": {
            "tags": [
              "id2-5-1",
              "outputarea_id2"
            ]
          }
        },
        {
          "output_type": "display_data",
          "data": {
            "application/javascript": [
              "window[\"aa23c4c2-81f5-11eb-856a-0242ac1c0002\"] = google.colab.output.setActiveOutputArea(window[\"aa230b90-81f5-11eb-856a-0242ac1c0002\"]);\n",
              "//# sourceURL=js_7d37cc5930"
            ],
            "text/plain": [
              "<IPython.core.display.Javascript object>"
            ]
          },
          "metadata": {
            "tags": [
              "id2-5-1",
              "outputarea_id2"
            ]
          }
        },
        {
          "output_type": "display_data",
          "data": {
            "application/javascript": [
              "window[\"aa265818-81f5-11eb-856a-0242ac1c0002\"] = google.colab.output.setActiveOutputArea(window[\"aa220934-81f5-11eb-856a-0242ac1c0002\"]);\n",
              "//# sourceURL=js_17cbcf4504"
            ],
            "text/plain": [
              "<IPython.core.display.Javascript object>"
            ]
          },
          "metadata": {
            "tags": [
              "id2-5-1",
              "outputarea_id2"
            ]
          }
        },
        {
          "output_type": "display_data",
          "data": {
            "application/javascript": [
              "window[\"aa28b05e-81f5-11eb-856a-0242ac1c0002\"] = google.colab.output.getActiveOutputArea();\n",
              "//# sourceURL=js_e779aa769b"
            ],
            "text/plain": [
              "<IPython.core.display.Javascript object>"
            ]
          },
          "metadata": {
            "tags": [
              "id2-5-2",
              "outputarea_id2"
            ]
          }
        },
        {
          "output_type": "display_data",
          "data": {
            "application/javascript": [
              "window[\"aa292296-81f5-11eb-856a-0242ac1c0002\"] = document.querySelector(\"#id2-5-2\");\n",
              "//# sourceURL=js_77ef23d793"
            ],
            "text/plain": [
              "<IPython.core.display.Javascript object>"
            ]
          },
          "metadata": {
            "tags": [
              "id2-5-2",
              "outputarea_id2"
            ]
          }
        },
        {
          "output_type": "display_data",
          "data": {
            "application/javascript": [
              "window[\"aa2a137c-81f5-11eb-856a-0242ac1c0002\"] = google.colab.output.setActiveOutputArea(window[\"aa292296-81f5-11eb-856a-0242ac1c0002\"]);\n",
              "//# sourceURL=js_4cf576a5a7"
            ],
            "text/plain": [
              "<IPython.core.display.Javascript object>"
            ]
          },
          "metadata": {
            "tags": [
              "id2-5-2",
              "outputarea_id2"
            ]
          }
        },
        {
          "output_type": "stream",
          "text": [
            "Finding Fire - Writing(https://lms.wiseman.com.hk/lms/user/secure/course/eb/select_theme/selectLesson.do?id=09299fcf399d47479799dd00edf54995&from=lesson)\n"
          ],
          "name": "stdout"
        },
        {
          "output_type": "display_data",
          "data": {
            "application/javascript": [
              "window[\"aa2ce430-81f5-11eb-856a-0242ac1c0002\"] = google.colab.output.setActiveOutputArea(window[\"aa28b05e-81f5-11eb-856a-0242ac1c0002\"]);\n",
              "//# sourceURL=js_87388f4005"
            ],
            "text/plain": [
              "<IPython.core.display.Javascript object>"
            ]
          },
          "metadata": {
            "tags": [
              "id2-5-2",
              "outputarea_id2"
            ]
          }
        },
        {
          "output_type": "display_data",
          "data": {
            "application/javascript": [
              "window[\"afda4c74-81f5-11eb-856a-0242ac1c0002\"] = google.colab.output.getActiveOutputArea();\n",
              "//# sourceURL=js_eac6a1e454"
            ],
            "text/plain": [
              "<IPython.core.display.Javascript object>"
            ]
          },
          "metadata": {
            "tags": [
              "id2-5-1",
              "outputarea_id2"
            ]
          }
        },
        {
          "output_type": "display_data",
          "data": {
            "application/javascript": [
              "window[\"afdac870-81f5-11eb-856a-0242ac1c0002\"] = document.querySelector(\"#id2-5-1\");\n",
              "//# sourceURL=js_d02f108e5a"
            ],
            "text/plain": [
              "<IPython.core.display.Javascript object>"
            ]
          },
          "metadata": {
            "tags": [
              "id2-5-1",
              "outputarea_id2"
            ]
          }
        },
        {
          "output_type": "display_data",
          "data": {
            "application/javascript": [
              "window[\"afdbd9f4-81f5-11eb-856a-0242ac1c0002\"] = google.colab.output.setActiveOutputArea(window[\"afdac870-81f5-11eb-856a-0242ac1c0002\"]);\n",
              "//# sourceURL=js_7ed4e6db7e"
            ],
            "text/plain": [
              "<IPython.core.display.Javascript object>"
            ]
          },
          "metadata": {
            "tags": [
              "id2-5-1",
              "outputarea_id2"
            ]
          }
        },
        {
          "output_type": "stream",
          "text": [
            "New\n"
          ],
          "name": "stdout"
        },
        {
          "output_type": "display_data",
          "data": {
            "application/javascript": [
              "window[\"afdde4e2-81f5-11eb-856a-0242ac1c0002\"] = google.colab.output.setActiveOutputArea(window[\"afda4c74-81f5-11eb-856a-0242ac1c0002\"]);\n",
              "//# sourceURL=js_79085c8522"
            ],
            "text/plain": [
              "<IPython.core.display.Javascript object>"
            ]
          },
          "metadata": {
            "tags": [
              "id2-5-1",
              "outputarea_id2"
            ]
          }
        },
        {
          "output_type": "display_data",
          "data": {
            "application/javascript": [
              "window[\"afdfcf46-81f5-11eb-856a-0242ac1c0002\"] = google.colab.output.getActiveOutputArea();\n",
              "//# sourceURL=js_37f2b81491"
            ],
            "text/plain": [
              "<IPython.core.display.Javascript object>"
            ]
          },
          "metadata": {
            "tags": [
              "id2-6-0",
              "outputarea_id2"
            ]
          }
        },
        {
          "output_type": "display_data",
          "data": {
            "application/javascript": [
              "window[\"afe06b5e-81f5-11eb-856a-0242ac1c0002\"] = document.querySelector(\"#id2-6-0\");\n",
              "//# sourceURL=js_9315b6c5bf"
            ],
            "text/plain": [
              "<IPython.core.display.Javascript object>"
            ]
          },
          "metadata": {
            "tags": [
              "id2-6-0",
              "outputarea_id2"
            ]
          }
        },
        {
          "output_type": "display_data",
          "data": {
            "application/javascript": [
              "window[\"afe0cc02-81f5-11eb-856a-0242ac1c0002\"] = google.colab.output.setActiveOutputArea(window[\"afe06b5e-81f5-11eb-856a-0242ac1c0002\"]);\n",
              "//# sourceURL=js_6f7d886d26"
            ],
            "text/plain": [
              "<IPython.core.display.Javascript object>"
            ]
          },
          "metadata": {
            "tags": [
              "id2-6-0",
              "outputarea_id2"
            ]
          }
        },
        {
          "output_type": "stream",
          "text": [
            "6/52\n"
          ],
          "name": "stdout"
        },
        {
          "output_type": "display_data",
          "data": {
            "application/javascript": [
              "window[\"afe1a4f6-81f5-11eb-856a-0242ac1c0002\"] = google.colab.output.setActiveOutputArea(window[\"afdfcf46-81f5-11eb-856a-0242ac1c0002\"]);\n",
              "//# sourceURL=js_00c781db05"
            ],
            "text/plain": [
              "<IPython.core.display.Javascript object>"
            ]
          },
          "metadata": {
            "tags": [
              "id2-6-0",
              "outputarea_id2"
            ]
          }
        },
        {
          "output_type": "display_data",
          "data": {
            "application/javascript": [
              "window[\"afe3c240-81f5-11eb-856a-0242ac1c0002\"] = google.colab.output.getActiveOutputArea();\n",
              "//# sourceURL=js_b7f60ee58e"
            ],
            "text/plain": [
              "<IPython.core.display.Javascript object>"
            ]
          },
          "metadata": {
            "tags": [
              "id2-6-1",
              "outputarea_id2"
            ]
          }
        },
        {
          "output_type": "display_data",
          "data": {
            "application/javascript": [
              "window[\"afe4675e-81f5-11eb-856a-0242ac1c0002\"] = document.querySelector(\"#id2-6-1\");\n",
              "//# sourceURL=js_b44cccb46a"
            ],
            "text/plain": [
              "<IPython.core.display.Javascript object>"
            ]
          },
          "metadata": {
            "tags": [
              "id2-6-1",
              "outputarea_id2"
            ]
          }
        },
        {
          "output_type": "display_data",
          "data": {
            "application/javascript": [
              "window[\"afe4a4bc-81f5-11eb-856a-0242ac1c0002\"] = google.colab.output.setActiveOutputArea(window[\"afe4675e-81f5-11eb-856a-0242ac1c0002\"]);\n",
              "//# sourceURL=js_3904df94d5"
            ],
            "text/plain": [
              "<IPython.core.display.Javascript object>"
            ]
          },
          "metadata": {
            "tags": [
              "id2-6-1",
              "outputarea_id2"
            ]
          }
        },
        {
          "output_type": "display_data",
          "data": {
            "application/javascript": [
              "window[\"afe5aec0-81f5-11eb-856a-0242ac1c0002\"] = google.colab.output.setActiveOutputArea(window[\"afe3c240-81f5-11eb-856a-0242ac1c0002\"]);\n",
              "//# sourceURL=js_24b5ca6e64"
            ],
            "text/plain": [
              "<IPython.core.display.Javascript object>"
            ]
          },
          "metadata": {
            "tags": [
              "id2-6-1",
              "outputarea_id2"
            ]
          }
        },
        {
          "output_type": "display_data",
          "data": {
            "application/javascript": [
              "window[\"afe7313c-81f5-11eb-856a-0242ac1c0002\"] = google.colab.output.getActiveOutputArea();\n",
              "//# sourceURL=js_74aedf8959"
            ],
            "text/plain": [
              "<IPython.core.display.Javascript object>"
            ]
          },
          "metadata": {
            "tags": [
              "id2-6-2",
              "outputarea_id2"
            ]
          }
        },
        {
          "output_type": "display_data",
          "data": {
            "application/javascript": [
              "window[\"afe7c386-81f5-11eb-856a-0242ac1c0002\"] = document.querySelector(\"#id2-6-2\");\n",
              "//# sourceURL=js_f44bf827d2"
            ],
            "text/plain": [
              "<IPython.core.display.Javascript object>"
            ]
          },
          "metadata": {
            "tags": [
              "id2-6-2",
              "outputarea_id2"
            ]
          }
        },
        {
          "output_type": "display_data",
          "data": {
            "application/javascript": [
              "window[\"afe8135e-81f5-11eb-856a-0242ac1c0002\"] = google.colab.output.setActiveOutputArea(window[\"afe7c386-81f5-11eb-856a-0242ac1c0002\"]);\n",
              "//# sourceURL=js_4d8f22eccf"
            ],
            "text/plain": [
              "<IPython.core.display.Javascript object>"
            ]
          },
          "metadata": {
            "tags": [
              "id2-6-2",
              "outputarea_id2"
            ]
          }
        },
        {
          "output_type": "stream",
          "text": [
            "Finding Fire - Speaking(https://lms.wiseman.com.hk/lms/user/secure/course/eb/select_theme/selectLesson.do?id=18849f55e8904cf6a1c9d6746659e4d1&from=lesson)\n"
          ],
          "name": "stdout"
        },
        {
          "output_type": "display_data",
          "data": {
            "application/javascript": [
              "window[\"afe93b12-81f5-11eb-856a-0242ac1c0002\"] = google.colab.output.setActiveOutputArea(window[\"afe7313c-81f5-11eb-856a-0242ac1c0002\"]);\n",
              "//# sourceURL=js_6d560c0c2d"
            ],
            "text/plain": [
              "<IPython.core.display.Javascript object>"
            ]
          },
          "metadata": {
            "tags": [
              "id2-6-2",
              "outputarea_id2"
            ]
          }
        },
        {
          "output_type": "display_data",
          "data": {
            "application/javascript": [
              "window[\"b59f3b60-81f5-11eb-856a-0242ac1c0002\"] = google.colab.output.getActiveOutputArea();\n",
              "//# sourceURL=js_1912b587c9"
            ],
            "text/plain": [
              "<IPython.core.display.Javascript object>"
            ]
          },
          "metadata": {
            "tags": [
              "id2-6-1",
              "outputarea_id2"
            ]
          }
        },
        {
          "output_type": "display_data",
          "data": {
            "application/javascript": [
              "window[\"b59fcd14-81f5-11eb-856a-0242ac1c0002\"] = document.querySelector(\"#id2-6-1\");\n",
              "//# sourceURL=js_e618c05554"
            ],
            "text/plain": [
              "<IPython.core.display.Javascript object>"
            ]
          },
          "metadata": {
            "tags": [
              "id2-6-1",
              "outputarea_id2"
            ]
          }
        },
        {
          "output_type": "display_data",
          "data": {
            "application/javascript": [
              "window[\"b5a0de34-81f5-11eb-856a-0242ac1c0002\"] = google.colab.output.setActiveOutputArea(window[\"b59fcd14-81f5-11eb-856a-0242ac1c0002\"]);\n",
              "//# sourceURL=js_92bcd11513"
            ],
            "text/plain": [
              "<IPython.core.display.Javascript object>"
            ]
          },
          "metadata": {
            "tags": [
              "id2-6-1",
              "outputarea_id2"
            ]
          }
        },
        {
          "output_type": "stream",
          "text": [
            "New\n"
          ],
          "name": "stdout"
        },
        {
          "output_type": "display_data",
          "data": {
            "application/javascript": [
              "window[\"b5a2a39a-81f5-11eb-856a-0242ac1c0002\"] = google.colab.output.setActiveOutputArea(window[\"b59f3b60-81f5-11eb-856a-0242ac1c0002\"]);\n",
              "//# sourceURL=js_26138516ba"
            ],
            "text/plain": [
              "<IPython.core.display.Javascript object>"
            ]
          },
          "metadata": {
            "tags": [
              "id2-6-1",
              "outputarea_id2"
            ]
          }
        },
        {
          "output_type": "display_data",
          "data": {
            "application/javascript": [
              "window[\"b5a4cd3c-81f5-11eb-856a-0242ac1c0002\"] = google.colab.output.getActiveOutputArea();\n",
              "//# sourceURL=js_20aa54d87f"
            ],
            "text/plain": [
              "<IPython.core.display.Javascript object>"
            ]
          },
          "metadata": {
            "tags": [
              "id2-7-0",
              "outputarea_id2"
            ]
          }
        },
        {
          "output_type": "display_data",
          "data": {
            "application/javascript": [
              "window[\"b5a54f3c-81f5-11eb-856a-0242ac1c0002\"] = document.querySelector(\"#id2-7-0\");\n",
              "//# sourceURL=js_b7b829212c"
            ],
            "text/plain": [
              "<IPython.core.display.Javascript object>"
            ]
          },
          "metadata": {
            "tags": [
              "id2-7-0",
              "outputarea_id2"
            ]
          }
        },
        {
          "output_type": "display_data",
          "data": {
            "application/javascript": [
              "window[\"b5a58dd0-81f5-11eb-856a-0242ac1c0002\"] = google.colab.output.setActiveOutputArea(window[\"b5a54f3c-81f5-11eb-856a-0242ac1c0002\"]);\n",
              "//# sourceURL=js_bf2dae55c7"
            ],
            "text/plain": [
              "<IPython.core.display.Javascript object>"
            ]
          },
          "metadata": {
            "tags": [
              "id2-7-0",
              "outputarea_id2"
            ]
          }
        },
        {
          "output_type": "stream",
          "text": [
            "7/52\n"
          ],
          "name": "stdout"
        },
        {
          "output_type": "display_data",
          "data": {
            "application/javascript": [
              "window[\"b5a6aa12-81f5-11eb-856a-0242ac1c0002\"] = google.colab.output.setActiveOutputArea(window[\"b5a4cd3c-81f5-11eb-856a-0242ac1c0002\"]);\n",
              "//# sourceURL=js_d89badf06a"
            ],
            "text/plain": [
              "<IPython.core.display.Javascript object>"
            ]
          },
          "metadata": {
            "tags": [
              "id2-7-0",
              "outputarea_id2"
            ]
          }
        },
        {
          "output_type": "display_data",
          "data": {
            "application/javascript": [
              "window[\"b5a85db2-81f5-11eb-856a-0242ac1c0002\"] = google.colab.output.getActiveOutputArea();\n",
              "//# sourceURL=js_1be88140b0"
            ],
            "text/plain": [
              "<IPython.core.display.Javascript object>"
            ]
          },
          "metadata": {
            "tags": [
              "id2-7-1",
              "outputarea_id2"
            ]
          }
        },
        {
          "output_type": "display_data",
          "data": {
            "application/javascript": [
              "window[\"b5ab4202-81f5-11eb-856a-0242ac1c0002\"] = document.querySelector(\"#id2-7-1\");\n",
              "//# sourceURL=js_ae0660ac43"
            ],
            "text/plain": [
              "<IPython.core.display.Javascript object>"
            ]
          },
          "metadata": {
            "tags": [
              "id2-7-1",
              "outputarea_id2"
            ]
          }
        },
        {
          "output_type": "display_data",
          "data": {
            "application/javascript": [
              "window[\"b5ab8d84-81f5-11eb-856a-0242ac1c0002\"] = google.colab.output.setActiveOutputArea(window[\"b5ab4202-81f5-11eb-856a-0242ac1c0002\"]);\n",
              "//# sourceURL=js_b0c1297b46"
            ],
            "text/plain": [
              "<IPython.core.display.Javascript object>"
            ]
          },
          "metadata": {
            "tags": [
              "id2-7-1",
              "outputarea_id2"
            ]
          }
        },
        {
          "output_type": "display_data",
          "data": {
            "application/javascript": [
              "window[\"b5ad4a16-81f5-11eb-856a-0242ac1c0002\"] = google.colab.output.setActiveOutputArea(window[\"b5a85db2-81f5-11eb-856a-0242ac1c0002\"]);\n",
              "//# sourceURL=js_07a3dc0332"
            ],
            "text/plain": [
              "<IPython.core.display.Javascript object>"
            ]
          },
          "metadata": {
            "tags": [
              "id2-7-1",
              "outputarea_id2"
            ]
          }
        },
        {
          "output_type": "display_data",
          "data": {
            "application/javascript": [
              "window[\"b5af2c0a-81f5-11eb-856a-0242ac1c0002\"] = google.colab.output.getActiveOutputArea();\n",
              "//# sourceURL=js_6b3f3657eb"
            ],
            "text/plain": [
              "<IPython.core.display.Javascript object>"
            ]
          },
          "metadata": {
            "tags": [
              "id2-7-2",
              "outputarea_id2"
            ]
          }
        },
        {
          "output_type": "display_data",
          "data": {
            "application/javascript": [
              "window[\"b5afc3f4-81f5-11eb-856a-0242ac1c0002\"] = document.querySelector(\"#id2-7-2\");\n",
              "//# sourceURL=js_73ff096bc5"
            ],
            "text/plain": [
              "<IPython.core.display.Javascript object>"
            ]
          },
          "metadata": {
            "tags": [
              "id2-7-2",
              "outputarea_id2"
            ]
          }
        },
        {
          "output_type": "display_data",
          "data": {
            "application/javascript": [
              "window[\"b5b05602-81f5-11eb-856a-0242ac1c0002\"] = google.colab.output.setActiveOutputArea(window[\"b5afc3f4-81f5-11eb-856a-0242ac1c0002\"]);\n",
              "//# sourceURL=js_4bfbabaddc"
            ],
            "text/plain": [
              "<IPython.core.display.Javascript object>"
            ]
          },
          "metadata": {
            "tags": [
              "id2-7-2",
              "outputarea_id2"
            ]
          }
        },
        {
          "output_type": "stream",
          "text": [
            "Finding Fire - Reading(https://lms.wiseman.com.hk/lms/user/secure/course/eb/select_theme/selectLesson.do?id=33e19f34a3854c1ebea3bc90911c8985&from=lesson)\n"
          ],
          "name": "stdout"
        },
        {
          "output_type": "display_data",
          "data": {
            "application/javascript": [
              "window[\"b5b1d874-81f5-11eb-856a-0242ac1c0002\"] = google.colab.output.setActiveOutputArea(window[\"b5af2c0a-81f5-11eb-856a-0242ac1c0002\"]);\n",
              "//# sourceURL=js_e695fe0df6"
            ],
            "text/plain": [
              "<IPython.core.display.Javascript object>"
            ]
          },
          "metadata": {
            "tags": [
              "id2-7-2",
              "outputarea_id2"
            ]
          }
        },
        {
          "output_type": "display_data",
          "data": {
            "application/javascript": [
              "window[\"bb1cf00a-81f5-11eb-856a-0242ac1c0002\"] = google.colab.output.getActiveOutputArea();\n",
              "//# sourceURL=js_9eb9f8594c"
            ],
            "text/plain": [
              "<IPython.core.display.Javascript object>"
            ]
          },
          "metadata": {
            "tags": [
              "id2-7-1",
              "outputarea_id2"
            ]
          }
        },
        {
          "output_type": "display_data",
          "data": {
            "application/javascript": [
              "window[\"bb1d3a4c-81f5-11eb-856a-0242ac1c0002\"] = document.querySelector(\"#id2-7-1\");\n",
              "//# sourceURL=js_1524fc7aae"
            ],
            "text/plain": [
              "<IPython.core.display.Javascript object>"
            ]
          },
          "metadata": {
            "tags": [
              "id2-7-1",
              "outputarea_id2"
            ]
          }
        },
        {
          "output_type": "display_data",
          "data": {
            "application/javascript": [
              "window[\"bb1d7d04-81f5-11eb-856a-0242ac1c0002\"] = google.colab.output.setActiveOutputArea(window[\"bb1d3a4c-81f5-11eb-856a-0242ac1c0002\"]);\n",
              "//# sourceURL=js_f2a367057f"
            ],
            "text/plain": [
              "<IPython.core.display.Javascript object>"
            ]
          },
          "metadata": {
            "tags": [
              "id2-7-1",
              "outputarea_id2"
            ]
          }
        },
        {
          "output_type": "stream",
          "text": [
            "New\n"
          ],
          "name": "stdout"
        },
        {
          "output_type": "display_data",
          "data": {
            "application/javascript": [
              "window[\"bb1faeb2-81f5-11eb-856a-0242ac1c0002\"] = google.colab.output.setActiveOutputArea(window[\"bb1cf00a-81f5-11eb-856a-0242ac1c0002\"]);\n",
              "//# sourceURL=js_7783ae21a9"
            ],
            "text/plain": [
              "<IPython.core.display.Javascript object>"
            ]
          },
          "metadata": {
            "tags": [
              "id2-7-1",
              "outputarea_id2"
            ]
          }
        },
        {
          "output_type": "display_data",
          "data": {
            "application/javascript": [
              "window[\"bb222a3e-81f5-11eb-856a-0242ac1c0002\"] = google.colab.output.getActiveOutputArea();\n",
              "//# sourceURL=js_3158060328"
            ],
            "text/plain": [
              "<IPython.core.display.Javascript object>"
            ]
          },
          "metadata": {
            "tags": [
              "id2-8-0",
              "outputarea_id2"
            ]
          }
        },
        {
          "output_type": "display_data",
          "data": {
            "application/javascript": [
              "window[\"bb22d592-81f5-11eb-856a-0242ac1c0002\"] = document.querySelector(\"#id2-8-0\");\n",
              "//# sourceURL=js_e7538d0735"
            ],
            "text/plain": [
              "<IPython.core.display.Javascript object>"
            ]
          },
          "metadata": {
            "tags": [
              "id2-8-0",
              "outputarea_id2"
            ]
          }
        },
        {
          "output_type": "display_data",
          "data": {
            "application/javascript": [
              "window[\"bb233726-81f5-11eb-856a-0242ac1c0002\"] = google.colab.output.setActiveOutputArea(window[\"bb22d592-81f5-11eb-856a-0242ac1c0002\"]);\n",
              "//# sourceURL=js_279b2d90fb"
            ],
            "text/plain": [
              "<IPython.core.display.Javascript object>"
            ]
          },
          "metadata": {
            "tags": [
              "id2-8-0",
              "outputarea_id2"
            ]
          }
        },
        {
          "output_type": "stream",
          "text": [
            "8/52\n"
          ],
          "name": "stdout"
        },
        {
          "output_type": "display_data",
          "data": {
            "application/javascript": [
              "window[\"bb263df4-81f5-11eb-856a-0242ac1c0002\"] = google.colab.output.setActiveOutputArea(window[\"bb222a3e-81f5-11eb-856a-0242ac1c0002\"]);\n",
              "//# sourceURL=js_152b36f462"
            ],
            "text/plain": [
              "<IPython.core.display.Javascript object>"
            ]
          },
          "metadata": {
            "tags": [
              "id2-8-0",
              "outputarea_id2"
            ]
          }
        },
        {
          "output_type": "display_data",
          "data": {
            "application/javascript": [
              "window[\"bb295b42-81f5-11eb-856a-0242ac1c0002\"] = google.colab.output.getActiveOutputArea();\n",
              "//# sourceURL=js_9e0e68c2d2"
            ],
            "text/plain": [
              "<IPython.core.display.Javascript object>"
            ]
          },
          "metadata": {
            "tags": [
              "id2-8-1",
              "outputarea_id2"
            ]
          }
        },
        {
          "output_type": "display_data",
          "data": {
            "application/javascript": [
              "window[\"bb2a12e4-81f5-11eb-856a-0242ac1c0002\"] = document.querySelector(\"#id2-8-1\");\n",
              "//# sourceURL=js_8a6203cd3d"
            ],
            "text/plain": [
              "<IPython.core.display.Javascript object>"
            ]
          },
          "metadata": {
            "tags": [
              "id2-8-1",
              "outputarea_id2"
            ]
          }
        },
        {
          "output_type": "display_data",
          "data": {
            "application/javascript": [
              "window[\"bb2ae318-81f5-11eb-856a-0242ac1c0002\"] = google.colab.output.setActiveOutputArea(window[\"bb2a12e4-81f5-11eb-856a-0242ac1c0002\"]);\n",
              "//# sourceURL=js_f38399e1d3"
            ],
            "text/plain": [
              "<IPython.core.display.Javascript object>"
            ]
          },
          "metadata": {
            "tags": [
              "id2-8-1",
              "outputarea_id2"
            ]
          }
        },
        {
          "output_type": "display_data",
          "data": {
            "application/javascript": [
              "window[\"bb2e2ec4-81f5-11eb-856a-0242ac1c0002\"] = google.colab.output.setActiveOutputArea(window[\"bb295b42-81f5-11eb-856a-0242ac1c0002\"]);\n",
              "//# sourceURL=js_12485de3c4"
            ],
            "text/plain": [
              "<IPython.core.display.Javascript object>"
            ]
          },
          "metadata": {
            "tags": [
              "id2-8-1",
              "outputarea_id2"
            ]
          }
        },
        {
          "output_type": "display_data",
          "data": {
            "application/javascript": [
              "window[\"bb305b4a-81f5-11eb-856a-0242ac1c0002\"] = google.colab.output.getActiveOutputArea();\n",
              "//# sourceURL=js_dcfeb05d77"
            ],
            "text/plain": [
              "<IPython.core.display.Javascript object>"
            ]
          },
          "metadata": {
            "tags": [
              "id2-8-2",
              "outputarea_id2"
            ]
          }
        },
        {
          "output_type": "display_data",
          "data": {
            "application/javascript": [
              "window[\"bb30a4ba-81f5-11eb-856a-0242ac1c0002\"] = document.querySelector(\"#id2-8-2\");\n",
              "//# sourceURL=js_8269bbcb8c"
            ],
            "text/plain": [
              "<IPython.core.display.Javascript object>"
            ]
          },
          "metadata": {
            "tags": [
              "id2-8-2",
              "outputarea_id2"
            ]
          }
        },
        {
          "output_type": "display_data",
          "data": {
            "application/javascript": [
              "window[\"bb30f4d8-81f5-11eb-856a-0242ac1c0002\"] = google.colab.output.setActiveOutputArea(window[\"bb30a4ba-81f5-11eb-856a-0242ac1c0002\"]);\n",
              "//# sourceURL=js_47f4f7254e"
            ],
            "text/plain": [
              "<IPython.core.display.Javascript object>"
            ]
          },
          "metadata": {
            "tags": [
              "id2-8-2",
              "outputarea_id2"
            ]
          }
        },
        {
          "output_type": "stream",
          "text": [
            "Finding Fire - Listening(https://lms.wiseman.com.hk/lms/user/secure/course/eb/select_theme/selectLesson.do?id=8499e2e620294902b132697b5f741878&from=lesson)\n"
          ],
          "name": "stdout"
        },
        {
          "output_type": "display_data",
          "data": {
            "application/javascript": [
              "window[\"bb31c5de-81f5-11eb-856a-0242ac1c0002\"] = google.colab.output.setActiveOutputArea(window[\"bb305b4a-81f5-11eb-856a-0242ac1c0002\"]);\n",
              "//# sourceURL=js_c852735f3f"
            ],
            "text/plain": [
              "<IPython.core.display.Javascript object>"
            ]
          },
          "metadata": {
            "tags": [
              "id2-8-2",
              "outputarea_id2"
            ]
          }
        },
        {
          "output_type": "display_data",
          "data": {
            "application/javascript": [
              "window[\"c0febc74-81f5-11eb-856a-0242ac1c0002\"] = google.colab.output.getActiveOutputArea();\n",
              "//# sourceURL=js_d2d3fe75cf"
            ],
            "text/plain": [
              "<IPython.core.display.Javascript object>"
            ]
          },
          "metadata": {
            "tags": [
              "id2-8-1",
              "outputarea_id2"
            ]
          }
        },
        {
          "output_type": "display_data",
          "data": {
            "application/javascript": [
              "window[\"c10159a2-81f5-11eb-856a-0242ac1c0002\"] = document.querySelector(\"#id2-8-1\");\n",
              "//# sourceURL=js_a83ba9ed79"
            ],
            "text/plain": [
              "<IPython.core.display.Javascript object>"
            ]
          },
          "metadata": {
            "tags": [
              "id2-8-1",
              "outputarea_id2"
            ]
          }
        },
        {
          "output_type": "display_data",
          "data": {
            "application/javascript": [
              "window[\"c1033c5e-81f5-11eb-856a-0242ac1c0002\"] = google.colab.output.setActiveOutputArea(window[\"c10159a2-81f5-11eb-856a-0242ac1c0002\"]);\n",
              "//# sourceURL=js_27f6010525"
            ],
            "text/plain": [
              "<IPython.core.display.Javascript object>"
            ]
          },
          "metadata": {
            "tags": [
              "id2-8-1",
              "outputarea_id2"
            ]
          }
        },
        {
          "output_type": "stream",
          "text": [
            "New\n"
          ],
          "name": "stdout"
        },
        {
          "output_type": "display_data",
          "data": {
            "application/javascript": [
              "window[\"c10933b6-81f5-11eb-856a-0242ac1c0002\"] = google.colab.output.setActiveOutputArea(window[\"c0febc74-81f5-11eb-856a-0242ac1c0002\"]);\n",
              "//# sourceURL=js_0d2e6865c5"
            ],
            "text/plain": [
              "<IPython.core.display.Javascript object>"
            ]
          },
          "metadata": {
            "tags": [
              "id2-8-1",
              "outputarea_id2"
            ]
          }
        },
        {
          "output_type": "display_data",
          "data": {
            "application/javascript": [
              "window[\"c10dfa7c-81f5-11eb-856a-0242ac1c0002\"] = google.colab.output.getActiveOutputArea();\n",
              "//# sourceURL=js_2e4d7d871e"
            ],
            "text/plain": [
              "<IPython.core.display.Javascript object>"
            ]
          },
          "metadata": {
            "tags": [
              "id2-9-0",
              "outputarea_id2"
            ]
          }
        },
        {
          "output_type": "display_data",
          "data": {
            "application/javascript": [
              "window[\"c111085c-81f5-11eb-856a-0242ac1c0002\"] = document.querySelector(\"#id2-9-0\");\n",
              "//# sourceURL=js_3a5329d114"
            ],
            "text/plain": [
              "<IPython.core.display.Javascript object>"
            ]
          },
          "metadata": {
            "tags": [
              "id2-9-0",
              "outputarea_id2"
            ]
          }
        },
        {
          "output_type": "display_data",
          "data": {
            "application/javascript": [
              "window[\"c111f9f6-81f5-11eb-856a-0242ac1c0002\"] = google.colab.output.setActiveOutputArea(window[\"c111085c-81f5-11eb-856a-0242ac1c0002\"]);\n",
              "//# sourceURL=js_76815da002"
            ],
            "text/plain": [
              "<IPython.core.display.Javascript object>"
            ]
          },
          "metadata": {
            "tags": [
              "id2-9-0",
              "outputarea_id2"
            ]
          }
        },
        {
          "output_type": "stream",
          "text": [
            "9/52\n"
          ],
          "name": "stdout"
        },
        {
          "output_type": "display_data",
          "data": {
            "application/javascript": [
              "window[\"c115e9a8-81f5-11eb-856a-0242ac1c0002\"] = google.colab.output.setActiveOutputArea(window[\"c10dfa7c-81f5-11eb-856a-0242ac1c0002\"]);\n",
              "//# sourceURL=js_11b63eaca0"
            ],
            "text/plain": [
              "<IPython.core.display.Javascript object>"
            ]
          },
          "metadata": {
            "tags": [
              "id2-9-0",
              "outputarea_id2"
            ]
          }
        },
        {
          "output_type": "display_data",
          "data": {
            "application/javascript": [
              "window[\"c11bf0a0-81f5-11eb-856a-0242ac1c0002\"] = google.colab.output.getActiveOutputArea();\n",
              "//# sourceURL=js_cd1ca88653"
            ],
            "text/plain": [
              "<IPython.core.display.Javascript object>"
            ]
          },
          "metadata": {
            "tags": [
              "id2-9-1",
              "outputarea_id2"
            ]
          }
        },
        {
          "output_type": "display_data",
          "data": {
            "application/javascript": [
              "window[\"c11c4b90-81f5-11eb-856a-0242ac1c0002\"] = document.querySelector(\"#id2-9-1\");\n",
              "//# sourceURL=js_c813fcb5b5"
            ],
            "text/plain": [
              "<IPython.core.display.Javascript object>"
            ]
          },
          "metadata": {
            "tags": [
              "id2-9-1",
              "outputarea_id2"
            ]
          }
        },
        {
          "output_type": "display_data",
          "data": {
            "application/javascript": [
              "window[\"c11d8b86-81f5-11eb-856a-0242ac1c0002\"] = google.colab.output.setActiveOutputArea(window[\"c11c4b90-81f5-11eb-856a-0242ac1c0002\"]);\n",
              "//# sourceURL=js_236aa8fbf3"
            ],
            "text/plain": [
              "<IPython.core.display.Javascript object>"
            ]
          },
          "metadata": {
            "tags": [
              "id2-9-1",
              "outputarea_id2"
            ]
          }
        },
        {
          "output_type": "display_data",
          "data": {
            "application/javascript": [
              "window[\"c11fc2a2-81f5-11eb-856a-0242ac1c0002\"] = google.colab.output.setActiveOutputArea(window[\"c11bf0a0-81f5-11eb-856a-0242ac1c0002\"]);\n",
              "//# sourceURL=js_1b087e29ba"
            ],
            "text/plain": [
              "<IPython.core.display.Javascript object>"
            ]
          },
          "metadata": {
            "tags": [
              "id2-9-1",
              "outputarea_id2"
            ]
          }
        },
        {
          "output_type": "display_data",
          "data": {
            "application/javascript": [
              "window[\"c127fa76-81f5-11eb-856a-0242ac1c0002\"] = google.colab.output.getActiveOutputArea();\n",
              "//# sourceURL=js_2ae692efb3"
            ],
            "text/plain": [
              "<IPython.core.display.Javascript object>"
            ]
          },
          "metadata": {
            "tags": [
              "id2-9-2",
              "outputarea_id2"
            ]
          }
        },
        {
          "output_type": "display_data",
          "data": {
            "application/javascript": [
              "window[\"c12864f2-81f5-11eb-856a-0242ac1c0002\"] = document.querySelector(\"#id2-9-2\");\n",
              "//# sourceURL=js_35e9f2c756"
            ],
            "text/plain": [
              "<IPython.core.display.Javascript object>"
            ]
          },
          "metadata": {
            "tags": [
              "id2-9-2",
              "outputarea_id2"
            ]
          }
        },
        {
          "output_type": "display_data",
          "data": {
            "application/javascript": [
              "window[\"c12931fc-81f5-11eb-856a-0242ac1c0002\"] = google.colab.output.setActiveOutputArea(window[\"c12864f2-81f5-11eb-856a-0242ac1c0002\"]);\n",
              "//# sourceURL=js_e23b0629b5"
            ],
            "text/plain": [
              "<IPython.core.display.Javascript object>"
            ]
          },
          "metadata": {
            "tags": [
              "id2-9-2",
              "outputarea_id2"
            ]
          }
        },
        {
          "output_type": "stream",
          "text": [
            "About Mars - Writing(https://lms.wiseman.com.hk/lms/user/secure/course/eb/select_theme/selectLesson.do?id=8ae5daa14c670f53014c6a8601f11fa3&from=lesson)\n"
          ],
          "name": "stdout"
        },
        {
          "output_type": "display_data",
          "data": {
            "application/javascript": [
              "window[\"c12d1678-81f5-11eb-856a-0242ac1c0002\"] = google.colab.output.setActiveOutputArea(window[\"c127fa76-81f5-11eb-856a-0242ac1c0002\"]);\n",
              "//# sourceURL=js_2604f7b17c"
            ],
            "text/plain": [
              "<IPython.core.display.Javascript object>"
            ]
          },
          "metadata": {
            "tags": [
              "id2-9-2",
              "outputarea_id2"
            ]
          }
        },
        {
          "output_type": "display_data",
          "data": {
            "application/javascript": [
              "window[\"c72527aa-81f5-11eb-856a-0242ac1c0002\"] = google.colab.output.getActiveOutputArea();\n",
              "//# sourceURL=js_6db9934c8a"
            ],
            "text/plain": [
              "<IPython.core.display.Javascript object>"
            ]
          },
          "metadata": {
            "tags": [
              "id2-9-1",
              "outputarea_id2"
            ]
          }
        },
        {
          "output_type": "display_data",
          "data": {
            "application/javascript": [
              "window[\"c7258362-81f5-11eb-856a-0242ac1c0002\"] = document.querySelector(\"#id2-9-1\");\n",
              "//# sourceURL=js_20a64a4ce5"
            ],
            "text/plain": [
              "<IPython.core.display.Javascript object>"
            ]
          },
          "metadata": {
            "tags": [
              "id2-9-1",
              "outputarea_id2"
            ]
          }
        },
        {
          "output_type": "display_data",
          "data": {
            "application/javascript": [
              "window[\"c726eb6c-81f5-11eb-856a-0242ac1c0002\"] = google.colab.output.setActiveOutputArea(window[\"c7258362-81f5-11eb-856a-0242ac1c0002\"]);\n",
              "//# sourceURL=js_14046f0553"
            ],
            "text/plain": [
              "<IPython.core.display.Javascript object>"
            ]
          },
          "metadata": {
            "tags": [
              "id2-9-1",
              "outputarea_id2"
            ]
          }
        },
        {
          "output_type": "stream",
          "text": [
            "New\n"
          ],
          "name": "stdout"
        },
        {
          "output_type": "display_data",
          "data": {
            "application/javascript": [
              "window[\"c728baaa-81f5-11eb-856a-0242ac1c0002\"] = google.colab.output.setActiveOutputArea(window[\"c72527aa-81f5-11eb-856a-0242ac1c0002\"]);\n",
              "//# sourceURL=js_8c9562a939"
            ],
            "text/plain": [
              "<IPython.core.display.Javascript object>"
            ]
          },
          "metadata": {
            "tags": [
              "id2-9-1",
              "outputarea_id2"
            ]
          }
        },
        {
          "output_type": "display_data",
          "data": {
            "application/javascript": [
              "window[\"c72c65ce-81f5-11eb-856a-0242ac1c0002\"] = google.colab.output.getActiveOutputArea();\n",
              "//# sourceURL=js_129cdfae39"
            ],
            "text/plain": [
              "<IPython.core.display.Javascript object>"
            ]
          },
          "metadata": {
            "tags": [
              "id2-10-0",
              "outputarea_id2"
            ]
          }
        },
        {
          "output_type": "display_data",
          "data": {
            "application/javascript": [
              "window[\"c72ee010-81f5-11eb-856a-0242ac1c0002\"] = document.querySelector(\"#id2-10-0\");\n",
              "//# sourceURL=js_7124fd6347"
            ],
            "text/plain": [
              "<IPython.core.display.Javascript object>"
            ]
          },
          "metadata": {
            "tags": [
              "id2-10-0",
              "outputarea_id2"
            ]
          }
        },
        {
          "output_type": "display_data",
          "data": {
            "application/javascript": [
              "window[\"c730c484-81f5-11eb-856a-0242ac1c0002\"] = google.colab.output.setActiveOutputArea(window[\"c72ee010-81f5-11eb-856a-0242ac1c0002\"]);\n",
              "//# sourceURL=js_7e87668d73"
            ],
            "text/plain": [
              "<IPython.core.display.Javascript object>"
            ]
          },
          "metadata": {
            "tags": [
              "id2-10-0",
              "outputarea_id2"
            ]
          }
        },
        {
          "output_type": "stream",
          "text": [
            "10/52\n"
          ],
          "name": "stdout"
        },
        {
          "output_type": "display_data",
          "data": {
            "application/javascript": [
              "window[\"c734e42e-81f5-11eb-856a-0242ac1c0002\"] = google.colab.output.setActiveOutputArea(window[\"c72c65ce-81f5-11eb-856a-0242ac1c0002\"]);\n",
              "//# sourceURL=js_89779426fe"
            ],
            "text/plain": [
              "<IPython.core.display.Javascript object>"
            ]
          },
          "metadata": {
            "tags": [
              "id2-10-0",
              "outputarea_id2"
            ]
          }
        },
        {
          "output_type": "display_data",
          "data": {
            "application/javascript": [
              "window[\"c7388a8e-81f5-11eb-856a-0242ac1c0002\"] = google.colab.output.getActiveOutputArea();\n",
              "//# sourceURL=js_304dd4c268"
            ],
            "text/plain": [
              "<IPython.core.display.Javascript object>"
            ]
          },
          "metadata": {
            "tags": [
              "id2-10-1",
              "outputarea_id2"
            ]
          }
        },
        {
          "output_type": "display_data",
          "data": {
            "application/javascript": [
              "window[\"c738e4a2-81f5-11eb-856a-0242ac1c0002\"] = document.querySelector(\"#id2-10-1\");\n",
              "//# sourceURL=js_29ab92eee1"
            ],
            "text/plain": [
              "<IPython.core.display.Javascript object>"
            ]
          },
          "metadata": {
            "tags": [
              "id2-10-1",
              "outputarea_id2"
            ]
          }
        },
        {
          "output_type": "display_data",
          "data": {
            "application/javascript": [
              "window[\"c7394cf8-81f5-11eb-856a-0242ac1c0002\"] = google.colab.output.setActiveOutputArea(window[\"c738e4a2-81f5-11eb-856a-0242ac1c0002\"]);\n",
              "//# sourceURL=js_29e4e14831"
            ],
            "text/plain": [
              "<IPython.core.display.Javascript object>"
            ]
          },
          "metadata": {
            "tags": [
              "id2-10-1",
              "outputarea_id2"
            ]
          }
        },
        {
          "output_type": "display_data",
          "data": {
            "application/javascript": [
              "window[\"c73aa472-81f5-11eb-856a-0242ac1c0002\"] = google.colab.output.setActiveOutputArea(window[\"c7388a8e-81f5-11eb-856a-0242ac1c0002\"]);\n",
              "//# sourceURL=js_31b9399ef8"
            ],
            "text/plain": [
              "<IPython.core.display.Javascript object>"
            ]
          },
          "metadata": {
            "tags": [
              "id2-10-1",
              "outputarea_id2"
            ]
          }
        },
        {
          "output_type": "display_data",
          "data": {
            "application/javascript": [
              "window[\"c73c0920-81f5-11eb-856a-0242ac1c0002\"] = google.colab.output.getActiveOutputArea();\n",
              "//# sourceURL=js_8b17d22cfb"
            ],
            "text/plain": [
              "<IPython.core.display.Javascript object>"
            ]
          },
          "metadata": {
            "tags": [
              "id2-10-2",
              "outputarea_id2"
            ]
          }
        },
        {
          "output_type": "display_data",
          "data": {
            "application/javascript": [
              "window[\"c73c5ae2-81f5-11eb-856a-0242ac1c0002\"] = document.querySelector(\"#id2-10-2\");\n",
              "//# sourceURL=js_c528bcbd83"
            ],
            "text/plain": [
              "<IPython.core.display.Javascript object>"
            ]
          },
          "metadata": {
            "tags": [
              "id2-10-2",
              "outputarea_id2"
            ]
          }
        },
        {
          "output_type": "display_data",
          "data": {
            "application/javascript": [
              "window[\"c73cb884-81f5-11eb-856a-0242ac1c0002\"] = google.colab.output.setActiveOutputArea(window[\"c73c5ae2-81f5-11eb-856a-0242ac1c0002\"]);\n",
              "//# sourceURL=js_b45f966f1c"
            ],
            "text/plain": [
              "<IPython.core.display.Javascript object>"
            ]
          },
          "metadata": {
            "tags": [
              "id2-10-2",
              "outputarea_id2"
            ]
          }
        },
        {
          "output_type": "stream",
          "text": [
            "About Mars - Speaking(https://lms.wiseman.com.hk/lms/user/secure/course/eb/select_theme/selectLesson.do?id=8ae5daa14c670f53014c6a8490ab1f79&from=lesson)\n"
          ],
          "name": "stdout"
        },
        {
          "output_type": "display_data",
          "data": {
            "application/javascript": [
              "window[\"c73e5392-81f5-11eb-856a-0242ac1c0002\"] = google.colab.output.setActiveOutputArea(window[\"c73c0920-81f5-11eb-856a-0242ac1c0002\"]);\n",
              "//# sourceURL=js_40392ee22a"
            ],
            "text/plain": [
              "<IPython.core.display.Javascript object>"
            ]
          },
          "metadata": {
            "tags": [
              "id2-10-2",
              "outputarea_id2"
            ]
          }
        },
        {
          "output_type": "display_data",
          "data": {
            "application/javascript": [
              "window[\"ccb0425e-81f5-11eb-856a-0242ac1c0002\"] = google.colab.output.getActiveOutputArea();\n",
              "//# sourceURL=js_efa96f944d"
            ],
            "text/plain": [
              "<IPython.core.display.Javascript object>"
            ]
          },
          "metadata": {
            "tags": [
              "id2-10-1",
              "outputarea_id2"
            ]
          }
        },
        {
          "output_type": "display_data",
          "data": {
            "application/javascript": [
              "window[\"ccb0a5aa-81f5-11eb-856a-0242ac1c0002\"] = document.querySelector(\"#id2-10-1\");\n",
              "//# sourceURL=js_b59745d5ce"
            ],
            "text/plain": [
              "<IPython.core.display.Javascript object>"
            ]
          },
          "metadata": {
            "tags": [
              "id2-10-1",
              "outputarea_id2"
            ]
          }
        },
        {
          "output_type": "display_data",
          "data": {
            "application/javascript": [
              "window[\"ccb0e952-81f5-11eb-856a-0242ac1c0002\"] = google.colab.output.setActiveOutputArea(window[\"ccb0a5aa-81f5-11eb-856a-0242ac1c0002\"]);\n",
              "//# sourceURL=js_fccede744d"
            ],
            "text/plain": [
              "<IPython.core.display.Javascript object>"
            ]
          },
          "metadata": {
            "tags": [
              "id2-10-1",
              "outputarea_id2"
            ]
          }
        },
        {
          "output_type": "stream",
          "text": [
            "New\n"
          ],
          "name": "stdout"
        },
        {
          "output_type": "display_data",
          "data": {
            "application/javascript": [
              "window[\"ccb31e52-81f5-11eb-856a-0242ac1c0002\"] = google.colab.output.setActiveOutputArea(window[\"ccb0425e-81f5-11eb-856a-0242ac1c0002\"]);\n",
              "//# sourceURL=js_1a433b985e"
            ],
            "text/plain": [
              "<IPython.core.display.Javascript object>"
            ]
          },
          "metadata": {
            "tags": [
              "id2-10-1",
              "outputarea_id2"
            ]
          }
        },
        {
          "output_type": "stream",
          "text": [
            "5A-29-YAO CHUN SHUM [4475=>3950]\n"
          ],
          "name": "stdout"
        }
      ]
    }
  ]
}