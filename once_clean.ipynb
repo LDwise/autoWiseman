{
  "nbformat": 4,
  "nbformat_minor": 0,
  "metadata": {
    "colab": {
      "name": "autoWiseman.ipynb",
      "provenance": [],
      "collapsed_sections": [],
      "include_colab_link": true
    },
    "kernelspec": {
      "name": "python3",
      "display_name": "Python 3"
    }
  },
  "cells": [
    {
      "cell_type": "markdown",
      "metadata": {
        "id": "view-in-github",
        "colab_type": "text"
      },
      "source": [
        "<a href=\"https://colab.research.google.com/github/LDwise/autoWiseman/blob/main/once_clean.ipynb\" target=\"_parent\"><img src=\"https://colab.research.google.com/assets/colab-badge.svg\" alt=\"Open In Colab\"/></a>"
      ]
    },
    {
      "cell_type": "code",
      "metadata": {
        "id": "ag4radyEKvkJ",
        "outputId": "39f0b0f8-e260-4bf5-e868-68b1f929660f",
        "colab": {
          "base_uri": "https://localhost:8080/",
          "height": 931
        }
      },
      "source": [
        "# coding=utf-8\n",
        "#@title \t&#8592;Click [ ▶ ] to Start. { display-mode: \"form\" }\n",
        "#@markdown Clean Your Wiseman Score\n",
        "# Class = \"5a\" #@param [\"4a\", \"4b\", \"4c\", \"4d\", \"5a\", \"5b\", \"5c\", \"5d\", \"6a\", \"6b\", \"6c\", \"6d\"]\n",
        "# Class_number = [\"01\", \"02\", \"03\", \"04\", \"05\", \"06\", \"07\", \"08\", \"09\", \"10\", \"11\", \"12\", \"13\", \"14\", \"15\", \"16\", \"17\", \"18\", \"19\", \"20\", \"21\", \"22\", \"23\", \"24\", \"25\", \"26\", \"27\", \"28\", \"29\", \"30\", \"31\" , \"32\", \"33\", \"34\", \"35\", \"36\", \"37\", \"38\", \"39\", \"40\"]\n",
        "username = \"5a29\" #@param {type:\"string\"}\n",
        "#@markdown 輸入需要清除的課程數量\n",
        "number = 10 #@param {type:\"slider\", min:0, max:100, step:1}\n",
        "from google.colab import widgets\n",
        "from google.colab import output\n",
        "try:\n",
        "  from selenium import webdriver\n",
        "except:\n",
        "  # 清除輸出Log\n",
        "  !apt -q -qq update\n",
        "  !apt -q -qq install chromium-chromedriver\n",
        "  !pip -q install selenium\n",
        "  from selenium import webdriver\n",
        "from selenium.webdriver.support.ui import WebDriverWait\n",
        "from selenium.webdriver.common.by import By\n",
        "from selenium.webdriver.support import expected_conditions as EC\n",
        "# 設置Chrome啓動設置\n",
        "options = webdriver.ChromeOptions()\n",
        "# 無界面運行\n",
        "options.add_argument('--headless')\n",
        "# 以最高权限运行\n",
        "options.add_argument('--no-sandbox')\n",
        "# 忽略警告\\錯誤\\異常\n",
        "options.add_argument('log-level=3')\n",
        "# log-level:\n",
        "# Sets the minimum log level.\n",
        "# Valid values are from 0 to 3:\n",
        "#\t INFO = 0,\n",
        "#\t WARNING = 1,\n",
        "#\t LOG_ERROR = 2,\n",
        "#\t LOG_FATAL = 3.\n",
        "# default is 0.\n",
        "# 避免崩潰\n",
        "options.add_argument('--disable-dev-shm-usage')\n",
        "# 開啓Chrome並加入基礎設置\n",
        "driver = webdriver.Chrome(options=options)\n",
        "# 設定等待元素時間上限(單位秒)\n",
        "wait = WebDriverWait(driver,10)\n",
        "output.clear()\n",
        "\n",
        "driver.get('https://lms.wiseman.com.hk/lms/user/login.do?username=tiaccwhf.%s&password=2020'%username)\n",
        "# driver.get('https://lms.wiseman.com.hk/lms/user/login.do?username=%s&password=%s'%(username,password))\n",
        "# 等待頁面加載完畢\n",
        "try:\n",
        "  wait.until(EC.presence_of_element_located((By.XPATH,'//div[@class=\"card\"]/div[@class=\"card-body\"]/div[@class=\"text-right\"]/h1[@class=\"font-light mb-0 d-inline-block d-md-block\"]')))\n",
        "except:\n",
        "  pass\n",
        "student_name=str(driver.find_element_by_xpath('//div[@class=\"profile-text\"]/a[@class=\"dropdown-toggle link u-dropdown\"]').get_attribute('textContent'))#//*[@id=\"main-wrapper\"]/aside/div/div[1]/div/div[2]/a\n",
        "before_score=int(str(driver.find_element_by_xpath('//div[@class=\"card-body\"]/div[@class=\"text-right\"]/h1').get_attribute('textContent')).replace('&nbsp;',''))#//*[@id=\"main-wrapper\"]/div/div/div[2]/div[1]/div/div/div/h1\n",
        "if before_score == 0:\n",
        "  print('%s Score:%d'%(student_name,before_score))\n",
        "  pass\n",
        "# 進入課程列表\n",
        "driver.get('https://lms.wiseman.com.hk/lms/user/secure/course/eb/select_theme/lessons.shtml')\n",
        "# link element\n",
        "wait.until(EC.presence_of_element_located((By.XPATH, '//div[@class=\"card-body\"]/div[@class=\"table-responsive\"]/table[@class=\"table table-striped\"]')))\n",
        "# 獲取所有鏈接和標題\n",
        "uncomplete=[]\n",
        "# 獲取tr橫向表格框\n",
        "for tr in driver.find_elements_by_xpath('//div[@class=\"card-body\"]/div[@class=\"table-responsive\"]/table[@class=\"table table-striped\"]/tbody/tr'):\n",
        "  try:\n",
        "    # 在tr框内尋找鏈接\n",
        "    a = tr.find_element_by_xpath('.//a[contains(@href,\"selectLesson.do?id=\")]')\n",
        "    # if 狀態非New\n",
        "    if tr.find_element_by_xpath('.//td[@class=\"small align-middle\"]//*[@title]').get_attribute('title')!='New':\n",
        "      origin_status = tr.find_element_by_xpath('.//td[@class=\"small align-middle\"]//*[@title]').get_attribute('title')\n",
        "      # 獲取標題\n",
        "      title = a.get_attribute('textContent')\n",
        "      # 獲取鏈接\n",
        "      link = a.get_attribute('href')\n",
        "      # 加入列表\n",
        "      uncomplete.append({'title':title,'link':link})\n",
        "  except:\n",
        "    pass\n",
        "now_lesson=0\n",
        "total_lessons=len(uncomplete)\n",
        "print('%sScore:%d'%(student_name,before_score))\n",
        "grid = widgets.Grid((total_lessons+1), 3, header_row=True)\n",
        "with grid.output_to(0, 1):print('Status')\n",
        "with grid.output_to(0, 2):print('Title')\n",
        "# 在列表範圍内循環\n",
        "numb=0\n",
        "for i in reversed(uncomplete):\n",
        "  if numb<=number:\n",
        "    break\n",
        "  now_lesson+=1\n",
        "  with grid.output_to(now_lesson, 0):print('%d/%d'%(now_lesson,total_lessons))\n",
        "  with grid.output_to(now_lesson, 1):print(origin_status)\n",
        "  with grid.output_to(now_lesson, 2):print('%s(%s)'%(i['title'],i['link']))\n",
        "  # 進入鏈接\n",
        "  driver.get(i['link'])\n",
        "  wait.until(EC.presence_of_element_located((By.XPATH,'//iframe[@id=\"course\"]')))\n",
        "  # Loading time\n",
        "  driver.switch_to.frame('course')\n",
        "  # 等待頁面加載完畢\n",
        "  # wait.until(EC.presence_of_element_located((By.XPATH,'//div[@class=\"head course-head\"]/div[@class=\"course-head-text\"]')))\n",
        "  wait.until(EC.presence_of_element_located((By.TAG_NAME,'label')))\n",
        "  # Return top\n",
        "  driver.switch_to.default_content()\n",
        "  driver.execute_script('''\n",
        "  doCourseAPIKeepAlive=function(){return false;};\n",
        "  API.cmiData[\"cmi.core.lesson_status\"]=\"new\";\n",
        "  var formData = new FormData();\n",
        "  formData.set('token', API.token);\n",
        "  formData.set('data', API.cmiData.toJSONString());\n",
        "  navigator.sendBeacon(\"commit.do\", formData);\n",
        "  // API.cmiData[\"cmi.core.score.raw\"]=100;\n",
        "  // API.cmiData[\"cmi.core.lesson_status\"]=\"completed\";\n",
        "  // navigator.sendBeacon(\"commit.do\", formData);\n",
        "  navigator.sendBeacon=function(){return false;};\n",
        "  ''')\n",
        "  with grid.output_to(now_lesson, 1):\n",
        "    grid.clear_cell()\n",
        "    print('New')\n",
        "  numb+=1\n",
        "# 進入分數頁面\n",
        "driver.get('https://lms.wiseman.com.hk/lms/user/secure/course/eb/select_theme/dashboard.shtml')\n",
        "# 等待頁面加載完畢\n",
        "wait.until(EC.presence_of_element_located((By.XPATH,'//div[@class=\"card-body\"]/div[@class=\"text-right\"]/h1')))\n",
        "# 完成后的分數\n",
        "after_score=int(str(driver.find_element_by_xpath('//div[@class=\"card-body\"]/div[@class=\"text-right\"]/h1').get_attribute('textContent')).replace('&nbsp;',''))\n",
        "# 登出Wiseman\n",
        "driver.get('https://lms.wiseman.com.hk/lms/user/logout.do')\n",
        "print('%s[%d=>%d]'%(student_name,before_score,after_score))\n",
        "driver.quit()"
      ],
      "execution_count": 4,
      "outputs": [
        {
          "output_type": "stream",
          "text": [
            "4A-07-CHEN YUYAN Score:4863\n"
          ],
          "name": "stdout"
        },
        {
          "output_type": "display_data",
          "data": {
            "text/html": [
              "<style>\n",
              "       table#id6, #id6 > tbody > tr > th, #id6 > tbody > tr > td {\n",
              "         border: 1px solid lightgray;\n",
              "         border-collapse:collapse;\n",
              "         \n",
              "        }</style>"
            ],
            "text/plain": [
              "<IPython.core.display.HTML object>"
            ]
          },
          "metadata": {
            "tags": [
              "outputarea_id6"
            ]
          }
        },
        {
          "output_type": "display_data",
          "data": {
            "text/html": [
              "<table id=id6><tr><th id=id6-0-0></th><th id=id6-0-1></th><th id=id6-0-2></th></tr><tr><td id=id6-1-0></td><td id=id6-1-1></td><td id=id6-1-2></td></tr><tr><td id=id6-2-0></td><td id=id6-2-1></td><td id=id6-2-2></td></tr><tr><td id=id6-3-0></td><td id=id6-3-1></td><td id=id6-3-2></td></tr><tr><td id=id6-4-0></td><td id=id6-4-1></td><td id=id6-4-2></td></tr><tr><td id=id6-5-0></td><td id=id6-5-1></td><td id=id6-5-2></td></tr><tr><td id=id6-6-0></td><td id=id6-6-1></td><td id=id6-6-2></td></tr><tr><td id=id6-7-0></td><td id=id6-7-1></td><td id=id6-7-2></td></tr><tr><td id=id6-8-0></td><td id=id6-8-1></td><td id=id6-8-2></td></tr><tr><td id=id6-9-0></td><td id=id6-9-1></td><td id=id6-9-2></td></tr><tr><td id=id6-10-0></td><td id=id6-10-1></td><td id=id6-10-2></td></tr><tr><td id=id6-11-0></td><td id=id6-11-1></td><td id=id6-11-2></td></tr><tr><td id=id6-12-0></td><td id=id6-12-1></td><td id=id6-12-2></td></tr><tr><td id=id6-13-0></td><td id=id6-13-1></td><td id=id6-13-2></td></tr><tr><td id=id6-14-0></td><td id=id6-14-1></td><td id=id6-14-2></td></tr><tr><td id=id6-15-0></td><td id=id6-15-1></td><td id=id6-15-2></td></tr><tr><td id=id6-16-0></td><td id=id6-16-1></td><td id=id6-16-2></td></tr><tr><td id=id6-17-0></td><td id=id6-17-1></td><td id=id6-17-2></td></tr><tr><td id=id6-18-0></td><td id=id6-18-1></td><td id=id6-18-2></td></tr><tr><td id=id6-19-0></td><td id=id6-19-1></td><td id=id6-19-2></td></tr><tr><td id=id6-20-0></td><td id=id6-20-1></td><td id=id6-20-2></td></tr><tr><td id=id6-21-0></td><td id=id6-21-1></td><td id=id6-21-2></td></tr><tr><td id=id6-22-0></td><td id=id6-22-1></td><td id=id6-22-2></td></tr><tr><td id=id6-23-0></td><td id=id6-23-1></td><td id=id6-23-2></td></tr><tr><td id=id6-24-0></td><td id=id6-24-1></td><td id=id6-24-2></td></tr><tr><td id=id6-25-0></td><td id=id6-25-1></td><td id=id6-25-2></td></tr><tr><td id=id6-26-0></td><td id=id6-26-1></td><td id=id6-26-2></td></tr><tr><td id=id6-27-0></td><td id=id6-27-1></td><td id=id6-27-2></td></tr><tr><td id=id6-28-0></td><td id=id6-28-1></td><td id=id6-28-2></td></tr><tr><td id=id6-29-0></td><td id=id6-29-1></td><td id=id6-29-2></td></tr><tr><td id=id6-30-0></td><td id=id6-30-1></td><td id=id6-30-2></td></tr><tr><td id=id6-31-0></td><td id=id6-31-1></td><td id=id6-31-2></td></tr><tr><td id=id6-32-0></td><td id=id6-32-1></td><td id=id6-32-2></td></tr><tr><td id=id6-33-0></td><td id=id6-33-1></td><td id=id6-33-2></td></tr><tr><td id=id6-34-0></td><td id=id6-34-1></td><td id=id6-34-2></td></tr><tr><td id=id6-35-0></td><td id=id6-35-1></td><td id=id6-35-2></td></tr><tr><td id=id6-36-0></td><td id=id6-36-1></td><td id=id6-36-2></td></tr><tr><td id=id6-37-0></td><td id=id6-37-1></td><td id=id6-37-2></td></tr><tr><td id=id6-38-0></td><td id=id6-38-1></td><td id=id6-38-2></td></tr><tr><td id=id6-39-0></td><td id=id6-39-1></td><td id=id6-39-2></td></tr><tr><td id=id6-40-0></td><td id=id6-40-1></td><td id=id6-40-2></td></tr><tr><td id=id6-41-0></td><td id=id6-41-1></td><td id=id6-41-2></td></tr><tr><td id=id6-42-0></td><td id=id6-42-1></td><td id=id6-42-2></td></tr><tr><td id=id6-43-0></td><td id=id6-43-1></td><td id=id6-43-2></td></tr><tr><td id=id6-44-0></td><td id=id6-44-1></td><td id=id6-44-2></td></tr><tr><td id=id6-45-0></td><td id=id6-45-1></td><td id=id6-45-2></td></tr><tr><td id=id6-46-0></td><td id=id6-46-1></td><td id=id6-46-2></td></tr><tr><td id=id6-47-0></td><td id=id6-47-1></td><td id=id6-47-2></td></tr><tr><td id=id6-48-0></td><td id=id6-48-1></td><td id=id6-48-2></td></tr><tr><td id=id6-49-0></td><td id=id6-49-1></td><td id=id6-49-2></td></tr><tr><td id=id6-50-0></td><td id=id6-50-1></td><td id=id6-50-2></td></tr><tr><td id=id6-51-0></td><td id=id6-51-1></td><td id=id6-51-2></td></tr><tr><td id=id6-52-0></td><td id=id6-52-1></td><td id=id6-52-2></td></tr><tr><td id=id6-53-0></td><td id=id6-53-1></td><td id=id6-53-2></td></tr><tr><td id=id6-54-0></td><td id=id6-54-1></td><td id=id6-54-2></td></tr><tr><td id=id6-55-0></td><td id=id6-55-1></td><td id=id6-55-2></td></tr><tr><td id=id6-56-0></td><td id=id6-56-1></td><td id=id6-56-2></td></tr></table>"
            ],
            "text/plain": [
              "<IPython.core.display.HTML object>"
            ]
          },
          "metadata": {
            "tags": [
              "outputarea_id6"
            ]
          }
        },
        {
          "output_type": "display_data",
          "data": {
            "application/javascript": [
              "window[\"ccf7c84a-81aa-11eb-a427-0242ac1c0002\"] = google.colab.output.getActiveOutputArea();\n",
              "//# sourceURL=js_742c0cb244"
            ],
            "text/plain": [
              "<IPython.core.display.Javascript object>"
            ]
          },
          "metadata": {
            "tags": [
              "id6-0-1",
              "outputarea_id6"
            ]
          }
        },
        {
          "output_type": "display_data",
          "data": {
            "application/javascript": [
              "window[\"ccf82042-81aa-11eb-a427-0242ac1c0002\"] = document.querySelector(\"#id6-0-1\");\n",
              "//# sourceURL=js_f03fc9e8b4"
            ],
            "text/plain": [
              "<IPython.core.display.Javascript object>"
            ]
          },
          "metadata": {
            "tags": [
              "id6-0-1",
              "outputarea_id6"
            ]
          }
        },
        {
          "output_type": "display_data",
          "data": {
            "application/javascript": [
              "window[\"ccf86ae8-81aa-11eb-a427-0242ac1c0002\"] = google.colab.output.setActiveOutputArea(window[\"ccf82042-81aa-11eb-a427-0242ac1c0002\"]);\n",
              "//# sourceURL=js_2dde80ab70"
            ],
            "text/plain": [
              "<IPython.core.display.Javascript object>"
            ]
          },
          "metadata": {
            "tags": [
              "id6-0-1",
              "outputarea_id6"
            ]
          }
        },
        {
          "output_type": "stream",
          "text": [
            "Status\n"
          ],
          "name": "stdout"
        },
        {
          "output_type": "display_data",
          "data": {
            "application/javascript": [
              "window[\"ccf9a836-81aa-11eb-a427-0242ac1c0002\"] = google.colab.output.setActiveOutputArea(window[\"ccf7c84a-81aa-11eb-a427-0242ac1c0002\"]);\n",
              "//# sourceURL=js_2512ce9ada"
            ],
            "text/plain": [
              "<IPython.core.display.Javascript object>"
            ]
          },
          "metadata": {
            "tags": [
              "id6-0-1",
              "outputarea_id6"
            ]
          }
        },
        {
          "output_type": "display_data",
          "data": {
            "application/javascript": [
              "window[\"ccfb4af6-81aa-11eb-a427-0242ac1c0002\"] = google.colab.output.getActiveOutputArea();\n",
              "//# sourceURL=js_e7524fddc7"
            ],
            "text/plain": [
              "<IPython.core.display.Javascript object>"
            ]
          },
          "metadata": {
            "tags": [
              "id6-0-2",
              "outputarea_id6"
            ]
          }
        },
        {
          "output_type": "display_data",
          "data": {
            "application/javascript": [
              "window[\"ccfb9236-81aa-11eb-a427-0242ac1c0002\"] = document.querySelector(\"#id6-0-2\");\n",
              "//# sourceURL=js_0b94031d2f"
            ],
            "text/plain": [
              "<IPython.core.display.Javascript object>"
            ]
          },
          "metadata": {
            "tags": [
              "id6-0-2",
              "outputarea_id6"
            ]
          }
        },
        {
          "output_type": "display_data",
          "data": {
            "application/javascript": [
              "window[\"ccfc1bf2-81aa-11eb-a427-0242ac1c0002\"] = google.colab.output.setActiveOutputArea(window[\"ccfb9236-81aa-11eb-a427-0242ac1c0002\"]);\n",
              "//# sourceURL=js_e0f02600c0"
            ],
            "text/plain": [
              "<IPython.core.display.Javascript object>"
            ]
          },
          "metadata": {
            "tags": [
              "id6-0-2",
              "outputarea_id6"
            ]
          }
        },
        {
          "output_type": "stream",
          "text": [
            "Title\n"
          ],
          "name": "stdout"
        },
        {
          "output_type": "display_data",
          "data": {
            "application/javascript": [
              "window[\"ccfd063e-81aa-11eb-a427-0242ac1c0002\"] = google.colab.output.setActiveOutputArea(window[\"ccfb4af6-81aa-11eb-a427-0242ac1c0002\"]);\n",
              "//# sourceURL=js_e85a862167"
            ],
            "text/plain": [
              "<IPython.core.display.Javascript object>"
            ]
          },
          "metadata": {
            "tags": [
              "id6-0-2",
              "outputarea_id6"
            ]
          }
        },
        {
          "output_type": "display_data",
          "data": {
            "application/javascript": [
              "window[\"ccfe6fec-81aa-11eb-a427-0242ac1c0002\"] = google.colab.output.getActiveOutputArea();\n",
              "//# sourceURL=js_4c6461c5a9"
            ],
            "text/plain": [
              "<IPython.core.display.Javascript object>"
            ]
          },
          "metadata": {
            "tags": [
              "id6-1-0",
              "outputarea_id6"
            ]
          }
        },
        {
          "output_type": "display_data",
          "data": {
            "application/javascript": [
              "window[\"ccfebec0-81aa-11eb-a427-0242ac1c0002\"] = document.querySelector(\"#id6-1-0\");\n",
              "//# sourceURL=js_2394e672a3"
            ],
            "text/plain": [
              "<IPython.core.display.Javascript object>"
            ]
          },
          "metadata": {
            "tags": [
              "id6-1-0",
              "outputarea_id6"
            ]
          }
        },
        {
          "output_type": "display_data",
          "data": {
            "application/javascript": [
              "window[\"ccff0bdc-81aa-11eb-a427-0242ac1c0002\"] = google.colab.output.setActiveOutputArea(window[\"ccfebec0-81aa-11eb-a427-0242ac1c0002\"]);\n",
              "//# sourceURL=js_f0ab4d873b"
            ],
            "text/plain": [
              "<IPython.core.display.Javascript object>"
            ]
          },
          "metadata": {
            "tags": [
              "id6-1-0",
              "outputarea_id6"
            ]
          }
        },
        {
          "output_type": "stream",
          "text": [
            "1/56\n"
          ],
          "name": "stdout"
        },
        {
          "output_type": "display_data",
          "data": {
            "application/javascript": [
              "window[\"cd004fec-81aa-11eb-a427-0242ac1c0002\"] = google.colab.output.setActiveOutputArea(window[\"ccfe6fec-81aa-11eb-a427-0242ac1c0002\"]);\n",
              "//# sourceURL=js_dd486dc856"
            ],
            "text/plain": [
              "<IPython.core.display.Javascript object>"
            ]
          },
          "metadata": {
            "tags": [
              "id6-1-0",
              "outputarea_id6"
            ]
          }
        },
        {
          "output_type": "display_data",
          "data": {
            "application/javascript": [
              "window[\"cd01988e-81aa-11eb-a427-0242ac1c0002\"] = google.colab.output.getActiveOutputArea();\n",
              "//# sourceURL=js_e367f0dfb6"
            ],
            "text/plain": [
              "<IPython.core.display.Javascript object>"
            ]
          },
          "metadata": {
            "tags": [
              "id6-1-1",
              "outputarea_id6"
            ]
          }
        },
        {
          "output_type": "display_data",
          "data": {
            "application/javascript": [
              "window[\"cd01dca4-81aa-11eb-a427-0242ac1c0002\"] = document.querySelector(\"#id6-1-1\");\n",
              "//# sourceURL=js_f0881f76c8"
            ],
            "text/plain": [
              "<IPython.core.display.Javascript object>"
            ]
          },
          "metadata": {
            "tags": [
              "id6-1-1",
              "outputarea_id6"
            ]
          }
        },
        {
          "output_type": "display_data",
          "data": {
            "application/javascript": [
              "window[\"cd021ff2-81aa-11eb-a427-0242ac1c0002\"] = google.colab.output.setActiveOutputArea(window[\"cd01dca4-81aa-11eb-a427-0242ac1c0002\"]);\n",
              "//# sourceURL=js_862c965fad"
            ],
            "text/plain": [
              "<IPython.core.display.Javascript object>"
            ]
          },
          "metadata": {
            "tags": [
              "id6-1-1",
              "outputarea_id6"
            ]
          }
        },
        {
          "output_type": "display_data",
          "data": {
            "application/javascript": [
              "window[\"cd040e98-81aa-11eb-a427-0242ac1c0002\"] = google.colab.output.setActiveOutputArea(window[\"cd01988e-81aa-11eb-a427-0242ac1c0002\"]);\n",
              "//# sourceURL=js_4d0ffb84f7"
            ],
            "text/plain": [
              "<IPython.core.display.Javascript object>"
            ]
          },
          "metadata": {
            "tags": [
              "id6-1-1",
              "outputarea_id6"
            ]
          }
        },
        {
          "output_type": "display_data",
          "data": {
            "application/javascript": [
              "window[\"cd06a6d0-81aa-11eb-a427-0242ac1c0002\"] = google.colab.output.getActiveOutputArea();\n",
              "//# sourceURL=js_ff3280cfed"
            ],
            "text/plain": [
              "<IPython.core.display.Javascript object>"
            ]
          },
          "metadata": {
            "tags": [
              "id6-1-2",
              "outputarea_id6"
            ]
          }
        },
        {
          "output_type": "display_data",
          "data": {
            "application/javascript": [
              "window[\"cd06ed52-81aa-11eb-a427-0242ac1c0002\"] = document.querySelector(\"#id6-1-2\");\n",
              "//# sourceURL=js_786535ce7c"
            ],
            "text/plain": [
              "<IPython.core.display.Javascript object>"
            ]
          },
          "metadata": {
            "tags": [
              "id6-1-2",
              "outputarea_id6"
            ]
          }
        },
        {
          "output_type": "display_data",
          "data": {
            "application/javascript": [
              "window[\"cd073118-81aa-11eb-a427-0242ac1c0002\"] = google.colab.output.setActiveOutputArea(window[\"cd06ed52-81aa-11eb-a427-0242ac1c0002\"]);\n",
              "//# sourceURL=js_3d243d8eff"
            ],
            "text/plain": [
              "<IPython.core.display.Javascript object>"
            ]
          },
          "metadata": {
            "tags": [
              "id6-1-2",
              "outputarea_id6"
            ]
          }
        },
        {
          "output_type": "stream",
          "text": [
            "A History of Money - Writing(https://lms.wiseman.com.hk/lms/user/secure/course/eb/select_theme/selectLesson.do?id=8ae5daa056fc793b0156ff08ec9000e0&from=lesson)\n"
          ],
          "name": "stdout"
        },
        {
          "output_type": "display_data",
          "data": {
            "application/javascript": [
              "window[\"cd081e20-81aa-11eb-a427-0242ac1c0002\"] = google.colab.output.setActiveOutputArea(window[\"cd06a6d0-81aa-11eb-a427-0242ac1c0002\"]);\n",
              "//# sourceURL=js_3662e13f4e"
            ],
            "text/plain": [
              "<IPython.core.display.Javascript object>"
            ]
          },
          "metadata": {
            "tags": [
              "id6-1-2",
              "outputarea_id6"
            ]
          }
        },
        {
          "output_type": "display_data",
          "data": {
            "application/javascript": [
              "window[\"d11d3f18-81aa-11eb-a427-0242ac1c0002\"] = google.colab.output.getActiveOutputArea();\n",
              "//# sourceURL=js_8d550c0899"
            ],
            "text/plain": [
              "<IPython.core.display.Javascript object>"
            ]
          },
          "metadata": {
            "tags": [
              "id6-1-1",
              "outputarea_id6"
            ]
          }
        },
        {
          "output_type": "display_data",
          "data": {
            "application/javascript": [
              "window[\"d11dce7e-81aa-11eb-a427-0242ac1c0002\"] = document.querySelector(\"#id6-1-1\");\n",
              "//# sourceURL=js_8506942e60"
            ],
            "text/plain": [
              "<IPython.core.display.Javascript object>"
            ]
          },
          "metadata": {
            "tags": [
              "id6-1-1",
              "outputarea_id6"
            ]
          }
        },
        {
          "output_type": "display_data",
          "data": {
            "application/javascript": [
              "window[\"d11e42d2-81aa-11eb-a427-0242ac1c0002\"] = google.colab.output.setActiveOutputArea(window[\"d11dce7e-81aa-11eb-a427-0242ac1c0002\"]);\n",
              "//# sourceURL=js_e833188ffb"
            ],
            "text/plain": [
              "<IPython.core.display.Javascript object>"
            ]
          },
          "metadata": {
            "tags": [
              "id6-1-1",
              "outputarea_id6"
            ]
          }
        },
        {
          "output_type": "stream",
          "text": [
            "New\n"
          ],
          "name": "stdout"
        },
        {
          "output_type": "display_data",
          "data": {
            "application/javascript": [
              "window[\"d11fffd2-81aa-11eb-a427-0242ac1c0002\"] = google.colab.output.setActiveOutputArea(window[\"d11d3f18-81aa-11eb-a427-0242ac1c0002\"]);\n",
              "//# sourceURL=js_03fba349a3"
            ],
            "text/plain": [
              "<IPython.core.display.Javascript object>"
            ]
          },
          "metadata": {
            "tags": [
              "id6-1-1",
              "outputarea_id6"
            ]
          }
        },
        {
          "output_type": "display_data",
          "data": {
            "application/javascript": [
              "window[\"d123326a-81aa-11eb-a427-0242ac1c0002\"] = google.colab.output.getActiveOutputArea();\n",
              "//# sourceURL=js_93c580f2a8"
            ],
            "text/plain": [
              "<IPython.core.display.Javascript object>"
            ]
          },
          "metadata": {
            "tags": [
              "id6-2-0",
              "outputarea_id6"
            ]
          }
        },
        {
          "output_type": "display_data",
          "data": {
            "application/javascript": [
              "window[\"d12379fa-81aa-11eb-a427-0242ac1c0002\"] = document.querySelector(\"#id6-2-0\");\n",
              "//# sourceURL=js_69a2b04205"
            ],
            "text/plain": [
              "<IPython.core.display.Javascript object>"
            ]
          },
          "metadata": {
            "tags": [
              "id6-2-0",
              "outputarea_id6"
            ]
          }
        },
        {
          "output_type": "display_data",
          "data": {
            "application/javascript": [
              "window[\"d1240366-81aa-11eb-a427-0242ac1c0002\"] = google.colab.output.setActiveOutputArea(window[\"d12379fa-81aa-11eb-a427-0242ac1c0002\"]);\n",
              "//# sourceURL=js_d9ffc089e5"
            ],
            "text/plain": [
              "<IPython.core.display.Javascript object>"
            ]
          },
          "metadata": {
            "tags": [
              "id6-2-0",
              "outputarea_id6"
            ]
          }
        },
        {
          "output_type": "stream",
          "text": [
            "2/56\n"
          ],
          "name": "stdout"
        },
        {
          "output_type": "display_data",
          "data": {
            "application/javascript": [
              "window[\"d1264c8e-81aa-11eb-a427-0242ac1c0002\"] = google.colab.output.setActiveOutputArea(window[\"d123326a-81aa-11eb-a427-0242ac1c0002\"]);\n",
              "//# sourceURL=js_b03b7b1246"
            ],
            "text/plain": [
              "<IPython.core.display.Javascript object>"
            ]
          },
          "metadata": {
            "tags": [
              "id6-2-0",
              "outputarea_id6"
            ]
          }
        },
        {
          "output_type": "display_data",
          "data": {
            "application/javascript": [
              "window[\"d12a8420-81aa-11eb-a427-0242ac1c0002\"] = google.colab.output.getActiveOutputArea();\n",
              "//# sourceURL=js_b5bb1abed3"
            ],
            "text/plain": [
              "<IPython.core.display.Javascript object>"
            ]
          },
          "metadata": {
            "tags": [
              "id6-2-1",
              "outputarea_id6"
            ]
          }
        },
        {
          "output_type": "display_data",
          "data": {
            "application/javascript": [
              "window[\"d12b4e14-81aa-11eb-a427-0242ac1c0002\"] = document.querySelector(\"#id6-2-1\");\n",
              "//# sourceURL=js_2720778422"
            ],
            "text/plain": [
              "<IPython.core.display.Javascript object>"
            ]
          },
          "metadata": {
            "tags": [
              "id6-2-1",
              "outputarea_id6"
            ]
          }
        },
        {
          "output_type": "display_data",
          "data": {
            "application/javascript": [
              "window[\"d12bcc5e-81aa-11eb-a427-0242ac1c0002\"] = google.colab.output.setActiveOutputArea(window[\"d12b4e14-81aa-11eb-a427-0242ac1c0002\"]);\n",
              "//# sourceURL=js_47d7b708f1"
            ],
            "text/plain": [
              "<IPython.core.display.Javascript object>"
            ]
          },
          "metadata": {
            "tags": [
              "id6-2-1",
              "outputarea_id6"
            ]
          }
        },
        {
          "output_type": "display_data",
          "data": {
            "application/javascript": [
              "window[\"d12dc73e-81aa-11eb-a427-0242ac1c0002\"] = google.colab.output.setActiveOutputArea(window[\"d12a8420-81aa-11eb-a427-0242ac1c0002\"]);\n",
              "//# sourceURL=js_728e4ed3b8"
            ],
            "text/plain": [
              "<IPython.core.display.Javascript object>"
            ]
          },
          "metadata": {
            "tags": [
              "id6-2-1",
              "outputarea_id6"
            ]
          }
        },
        {
          "output_type": "display_data",
          "data": {
            "application/javascript": [
              "window[\"d130f6b6-81aa-11eb-a427-0242ac1c0002\"] = google.colab.output.getActiveOutputArea();\n",
              "//# sourceURL=js_b1370c1be7"
            ],
            "text/plain": [
              "<IPython.core.display.Javascript object>"
            ]
          },
          "metadata": {
            "tags": [
              "id6-2-2",
              "outputarea_id6"
            ]
          }
        },
        {
          "output_type": "display_data",
          "data": {
            "application/javascript": [
              "window[\"d1327a22-81aa-11eb-a427-0242ac1c0002\"] = document.querySelector(\"#id6-2-2\");\n",
              "//# sourceURL=js_a7a39e23c2"
            ],
            "text/plain": [
              "<IPython.core.display.Javascript object>"
            ]
          },
          "metadata": {
            "tags": [
              "id6-2-2",
              "outputarea_id6"
            ]
          }
        },
        {
          "output_type": "display_data",
          "data": {
            "application/javascript": [
              "window[\"d1330190-81aa-11eb-a427-0242ac1c0002\"] = google.colab.output.setActiveOutputArea(window[\"d1327a22-81aa-11eb-a427-0242ac1c0002\"]);\n",
              "//# sourceURL=js_c0a17983c2"
            ],
            "text/plain": [
              "<IPython.core.display.Javascript object>"
            ]
          },
          "metadata": {
            "tags": [
              "id6-2-2",
              "outputarea_id6"
            ]
          }
        },
        {
          "output_type": "stream",
          "text": [
            "A History of Money - Speaking(https://lms.wiseman.com.hk/lms/user/secure/course/eb/select_theme/selectLesson.do?id=8ae5daa056fc793b0156ff08561100dc&from=lesson)\n"
          ],
          "name": "stdout"
        },
        {
          "output_type": "display_data",
          "data": {
            "application/javascript": [
              "window[\"d134e262-81aa-11eb-a427-0242ac1c0002\"] = google.colab.output.setActiveOutputArea(window[\"d130f6b6-81aa-11eb-a427-0242ac1c0002\"]);\n",
              "//# sourceURL=js_11bbf52b1c"
            ],
            "text/plain": [
              "<IPython.core.display.Javascript object>"
            ]
          },
          "metadata": {
            "tags": [
              "id6-2-2",
              "outputarea_id6"
            ]
          }
        },
        {
          "output_type": "display_data",
          "data": {
            "application/javascript": [
              "window[\"d52fc0ee-81aa-11eb-a427-0242ac1c0002\"] = google.colab.output.getActiveOutputArea();\n",
              "//# sourceURL=js_893cc9f5ef"
            ],
            "text/plain": [
              "<IPython.core.display.Javascript object>"
            ]
          },
          "metadata": {
            "tags": [
              "id6-2-1",
              "outputarea_id6"
            ]
          }
        },
        {
          "output_type": "display_data",
          "data": {
            "application/javascript": [
              "window[\"d5301ecc-81aa-11eb-a427-0242ac1c0002\"] = document.querySelector(\"#id6-2-1\");\n",
              "//# sourceURL=js_57f2aef0eb"
            ],
            "text/plain": [
              "<IPython.core.display.Javascript object>"
            ]
          },
          "metadata": {
            "tags": [
              "id6-2-1",
              "outputarea_id6"
            ]
          }
        },
        {
          "output_type": "display_data",
          "data": {
            "application/javascript": [
              "window[\"d5312aba-81aa-11eb-a427-0242ac1c0002\"] = google.colab.output.setActiveOutputArea(window[\"d5301ecc-81aa-11eb-a427-0242ac1c0002\"]);\n",
              "//# sourceURL=js_caff0a4e63"
            ],
            "text/plain": [
              "<IPython.core.display.Javascript object>"
            ]
          },
          "metadata": {
            "tags": [
              "id6-2-1",
              "outputarea_id6"
            ]
          }
        },
        {
          "output_type": "stream",
          "text": [
            "New\n"
          ],
          "name": "stdout"
        },
        {
          "output_type": "display_data",
          "data": {
            "application/javascript": [
              "window[\"d5332f90-81aa-11eb-a427-0242ac1c0002\"] = google.colab.output.setActiveOutputArea(window[\"d52fc0ee-81aa-11eb-a427-0242ac1c0002\"]);\n",
              "//# sourceURL=js_cb7db588fe"
            ],
            "text/plain": [
              "<IPython.core.display.Javascript object>"
            ]
          },
          "metadata": {
            "tags": [
              "id6-2-1",
              "outputarea_id6"
            ]
          }
        },
        {
          "output_type": "display_data",
          "data": {
            "application/javascript": [
              "window[\"d535cc46-81aa-11eb-a427-0242ac1c0002\"] = google.colab.output.getActiveOutputArea();\n",
              "//# sourceURL=js_1e19dc4c83"
            ],
            "text/plain": [
              "<IPython.core.display.Javascript object>"
            ]
          },
          "metadata": {
            "tags": [
              "id6-3-0",
              "outputarea_id6"
            ]
          }
        },
        {
          "output_type": "display_data",
          "data": {
            "application/javascript": [
              "window[\"d536716e-81aa-11eb-a427-0242ac1c0002\"] = document.querySelector(\"#id6-3-0\");\n",
              "//# sourceURL=js_585eec253f"
            ],
            "text/plain": [
              "<IPython.core.display.Javascript object>"
            ]
          },
          "metadata": {
            "tags": [
              "id6-3-0",
              "outputarea_id6"
            ]
          }
        },
        {
          "output_type": "display_data",
          "data": {
            "application/javascript": [
              "window[\"d5372a64-81aa-11eb-a427-0242ac1c0002\"] = google.colab.output.setActiveOutputArea(window[\"d536716e-81aa-11eb-a427-0242ac1c0002\"]);\n",
              "//# sourceURL=js_9359f1b71b"
            ],
            "text/plain": [
              "<IPython.core.display.Javascript object>"
            ]
          },
          "metadata": {
            "tags": [
              "id6-3-0",
              "outputarea_id6"
            ]
          }
        },
        {
          "output_type": "stream",
          "text": [
            "3/56\n"
          ],
          "name": "stdout"
        },
        {
          "output_type": "display_data",
          "data": {
            "application/javascript": [
              "window[\"d538b92e-81aa-11eb-a427-0242ac1c0002\"] = google.colab.output.setActiveOutputArea(window[\"d535cc46-81aa-11eb-a427-0242ac1c0002\"]);\n",
              "//# sourceURL=js_c475e7469c"
            ],
            "text/plain": [
              "<IPython.core.display.Javascript object>"
            ]
          },
          "metadata": {
            "tags": [
              "id6-3-0",
              "outputarea_id6"
            ]
          }
        },
        {
          "output_type": "display_data",
          "data": {
            "application/javascript": [
              "window[\"d53b139a-81aa-11eb-a427-0242ac1c0002\"] = google.colab.output.getActiveOutputArea();\n",
              "//# sourceURL=js_cce6a5bf16"
            ],
            "text/plain": [
              "<IPython.core.display.Javascript object>"
            ]
          },
          "metadata": {
            "tags": [
              "id6-3-1",
              "outputarea_id6"
            ]
          }
        },
        {
          "output_type": "display_data",
          "data": {
            "application/javascript": [
              "window[\"d53b6a2a-81aa-11eb-a427-0242ac1c0002\"] = document.querySelector(\"#id6-3-1\");\n",
              "//# sourceURL=js_145ed47a8f"
            ],
            "text/plain": [
              "<IPython.core.display.Javascript object>"
            ]
          },
          "metadata": {
            "tags": [
              "id6-3-1",
              "outputarea_id6"
            ]
          }
        },
        {
          "output_type": "display_data",
          "data": {
            "application/javascript": [
              "window[\"d53bbe80-81aa-11eb-a427-0242ac1c0002\"] = google.colab.output.setActiveOutputArea(window[\"d53b6a2a-81aa-11eb-a427-0242ac1c0002\"]);\n",
              "//# sourceURL=js_2fd4748ae6"
            ],
            "text/plain": [
              "<IPython.core.display.Javascript object>"
            ]
          },
          "metadata": {
            "tags": [
              "id6-3-1",
              "outputarea_id6"
            ]
          }
        },
        {
          "output_type": "display_data",
          "data": {
            "application/javascript": [
              "window[\"d53cbd44-81aa-11eb-a427-0242ac1c0002\"] = google.colab.output.setActiveOutputArea(window[\"d53b139a-81aa-11eb-a427-0242ac1c0002\"]);\n",
              "//# sourceURL=js_eb7f36f37f"
            ],
            "text/plain": [
              "<IPython.core.display.Javascript object>"
            ]
          },
          "metadata": {
            "tags": [
              "id6-3-1",
              "outputarea_id6"
            ]
          }
        },
        {
          "output_type": "display_data",
          "data": {
            "application/javascript": [
              "window[\"d53e141e-81aa-11eb-a427-0242ac1c0002\"] = google.colab.output.getActiveOutputArea();\n",
              "//# sourceURL=js_10aff7f1dd"
            ],
            "text/plain": [
              "<IPython.core.display.Javascript object>"
            ]
          },
          "metadata": {
            "tags": [
              "id6-3-2",
              "outputarea_id6"
            ]
          }
        },
        {
          "output_type": "display_data",
          "data": {
            "application/javascript": [
              "window[\"d53e61e4-81aa-11eb-a427-0242ac1c0002\"] = document.querySelector(\"#id6-3-2\");\n",
              "//# sourceURL=js_a754316e34"
            ],
            "text/plain": [
              "<IPython.core.display.Javascript object>"
            ]
          },
          "metadata": {
            "tags": [
              "id6-3-2",
              "outputarea_id6"
            ]
          }
        },
        {
          "output_type": "display_data",
          "data": {
            "application/javascript": [
              "window[\"d53ea5c8-81aa-11eb-a427-0242ac1c0002\"] = google.colab.output.setActiveOutputArea(window[\"d53e61e4-81aa-11eb-a427-0242ac1c0002\"]);\n",
              "//# sourceURL=js_805211cebb"
            ],
            "text/plain": [
              "<IPython.core.display.Javascript object>"
            ]
          },
          "metadata": {
            "tags": [
              "id6-3-2",
              "outputarea_id6"
            ]
          }
        },
        {
          "output_type": "stream",
          "text": [
            "A History of Money - Reading(https://lms.wiseman.com.hk/lms/user/secure/course/eb/select_theme/selectLesson.do?id=8ae5daa056fc793b0156ff07c45b00d8&from=lesson)\n"
          ],
          "name": "stdout"
        },
        {
          "output_type": "display_data",
          "data": {
            "application/javascript": [
              "window[\"d53ff342-81aa-11eb-a427-0242ac1c0002\"] = google.colab.output.setActiveOutputArea(window[\"d53e141e-81aa-11eb-a427-0242ac1c0002\"]);\n",
              "//# sourceURL=js_6ebc6a341a"
            ],
            "text/plain": [
              "<IPython.core.display.Javascript object>"
            ]
          },
          "metadata": {
            "tags": [
              "id6-3-2",
              "outputarea_id6"
            ]
          }
        },
        {
          "output_type": "display_data",
          "data": {
            "application/javascript": [
              "window[\"daf1590c-81aa-11eb-a427-0242ac1c0002\"] = google.colab.output.getActiveOutputArea();\n",
              "//# sourceURL=js_39134fce05"
            ],
            "text/plain": [
              "<IPython.core.display.Javascript object>"
            ]
          },
          "metadata": {
            "tags": [
              "id6-3-1",
              "outputarea_id6"
            ]
          }
        },
        {
          "output_type": "display_data",
          "data": {
            "application/javascript": [
              "window[\"daf1be10-81aa-11eb-a427-0242ac1c0002\"] = document.querySelector(\"#id6-3-1\");\n",
              "//# sourceURL=js_bf00b92b75"
            ],
            "text/plain": [
              "<IPython.core.display.Javascript object>"
            ]
          },
          "metadata": {
            "tags": [
              "id6-3-1",
              "outputarea_id6"
            ]
          }
        },
        {
          "output_type": "display_data",
          "data": {
            "application/javascript": [
              "window[\"daf207d0-81aa-11eb-a427-0242ac1c0002\"] = google.colab.output.setActiveOutputArea(window[\"daf1be10-81aa-11eb-a427-0242ac1c0002\"]);\n",
              "//# sourceURL=js_a554db0f5b"
            ],
            "text/plain": [
              "<IPython.core.display.Javascript object>"
            ]
          },
          "metadata": {
            "tags": [
              "id6-3-1",
              "outputarea_id6"
            ]
          }
        },
        {
          "output_type": "stream",
          "text": [
            "New\n"
          ],
          "name": "stdout"
        },
        {
          "output_type": "display_data",
          "data": {
            "application/javascript": [
              "window[\"daf39df2-81aa-11eb-a427-0242ac1c0002\"] = google.colab.output.setActiveOutputArea(window[\"daf1590c-81aa-11eb-a427-0242ac1c0002\"]);\n",
              "//# sourceURL=js_6cd1b5711f"
            ],
            "text/plain": [
              "<IPython.core.display.Javascript object>"
            ]
          },
          "metadata": {
            "tags": [
              "id6-3-1",
              "outputarea_id6"
            ]
          }
        },
        {
          "output_type": "display_data",
          "data": {
            "application/javascript": [
              "window[\"daf6c568-81aa-11eb-a427-0242ac1c0002\"] = google.colab.output.getActiveOutputArea();\n",
              "//# sourceURL=js_e52a547cd6"
            ],
            "text/plain": [
              "<IPython.core.display.Javascript object>"
            ]
          },
          "metadata": {
            "tags": [
              "id6-4-0",
              "outputarea_id6"
            ]
          }
        },
        {
          "output_type": "display_data",
          "data": {
            "application/javascript": [
              "window[\"daf713a6-81aa-11eb-a427-0242ac1c0002\"] = document.querySelector(\"#id6-4-0\");\n",
              "//# sourceURL=js_9345ea1bf5"
            ],
            "text/plain": [
              "<IPython.core.display.Javascript object>"
            ]
          },
          "metadata": {
            "tags": [
              "id6-4-0",
              "outputarea_id6"
            ]
          }
        },
        {
          "output_type": "display_data",
          "data": {
            "application/javascript": [
              "window[\"daf7b43c-81aa-11eb-a427-0242ac1c0002\"] = google.colab.output.setActiveOutputArea(window[\"daf713a6-81aa-11eb-a427-0242ac1c0002\"]);\n",
              "//# sourceURL=js_ccadf7e13f"
            ],
            "text/plain": [
              "<IPython.core.display.Javascript object>"
            ]
          },
          "metadata": {
            "tags": [
              "id6-4-0",
              "outputarea_id6"
            ]
          }
        },
        {
          "output_type": "stream",
          "text": [
            "4/56\n"
          ],
          "name": "stdout"
        },
        {
          "output_type": "display_data",
          "data": {
            "application/javascript": [
              "window[\"dafa8fcc-81aa-11eb-a427-0242ac1c0002\"] = google.colab.output.setActiveOutputArea(window[\"daf6c568-81aa-11eb-a427-0242ac1c0002\"]);\n",
              "//# sourceURL=js_89f719fb22"
            ],
            "text/plain": [
              "<IPython.core.display.Javascript object>"
            ]
          },
          "metadata": {
            "tags": [
              "id6-4-0",
              "outputarea_id6"
            ]
          }
        },
        {
          "output_type": "display_data",
          "data": {
            "application/javascript": [
              "window[\"dafe466c-81aa-11eb-a427-0242ac1c0002\"] = google.colab.output.getActiveOutputArea();\n",
              "//# sourceURL=js_16c258b418"
            ],
            "text/plain": [
              "<IPython.core.display.Javascript object>"
            ]
          },
          "metadata": {
            "tags": [
              "id6-4-1",
              "outputarea_id6"
            ]
          }
        },
        {
          "output_type": "display_data",
          "data": {
            "application/javascript": [
              "window[\"daff3b94-81aa-11eb-a427-0242ac1c0002\"] = document.querySelector(\"#id6-4-1\");\n",
              "//# sourceURL=js_9d0fbac6a7"
            ],
            "text/plain": [
              "<IPython.core.display.Javascript object>"
            ]
          },
          "metadata": {
            "tags": [
              "id6-4-1",
              "outputarea_id6"
            ]
          }
        },
        {
          "output_type": "display_data",
          "data": {
            "application/javascript": [
              "window[\"daffa1ba-81aa-11eb-a427-0242ac1c0002\"] = google.colab.output.setActiveOutputArea(window[\"daff3b94-81aa-11eb-a427-0242ac1c0002\"]);\n",
              "//# sourceURL=js_c3da691b4c"
            ],
            "text/plain": [
              "<IPython.core.display.Javascript object>"
            ]
          },
          "metadata": {
            "tags": [
              "id6-4-1",
              "outputarea_id6"
            ]
          }
        },
        {
          "output_type": "display_data",
          "data": {
            "application/javascript": [
              "window[\"db03490a-81aa-11eb-a427-0242ac1c0002\"] = google.colab.output.setActiveOutputArea(window[\"dafe466c-81aa-11eb-a427-0242ac1c0002\"]);\n",
              "//# sourceURL=js_9d27822db2"
            ],
            "text/plain": [
              "<IPython.core.display.Javascript object>"
            ]
          },
          "metadata": {
            "tags": [
              "id6-4-1",
              "outputarea_id6"
            ]
          }
        },
        {
          "output_type": "display_data",
          "data": {
            "application/javascript": [
              "window[\"db0521b2-81aa-11eb-a427-0242ac1c0002\"] = google.colab.output.getActiveOutputArea();\n",
              "//# sourceURL=js_7c0b90bc7a"
            ],
            "text/plain": [
              "<IPython.core.display.Javascript object>"
            ]
          },
          "metadata": {
            "tags": [
              "id6-4-2",
              "outputarea_id6"
            ]
          }
        },
        {
          "output_type": "display_data",
          "data": {
            "application/javascript": [
              "window[\"db05fc18-81aa-11eb-a427-0242ac1c0002\"] = document.querySelector(\"#id6-4-2\");\n",
              "//# sourceURL=js_68bf88b597"
            ],
            "text/plain": [
              "<IPython.core.display.Javascript object>"
            ]
          },
          "metadata": {
            "tags": [
              "id6-4-2",
              "outputarea_id6"
            ]
          }
        },
        {
          "output_type": "display_data",
          "data": {
            "application/javascript": [
              "window[\"db064b1e-81aa-11eb-a427-0242ac1c0002\"] = google.colab.output.setActiveOutputArea(window[\"db05fc18-81aa-11eb-a427-0242ac1c0002\"]);\n",
              "//# sourceURL=js_b775220300"
            ],
            "text/plain": [
              "<IPython.core.display.Javascript object>"
            ]
          },
          "metadata": {
            "tags": [
              "id6-4-2",
              "outputarea_id6"
            ]
          }
        },
        {
          "output_type": "stream",
          "text": [
            "A History of Money - Listening(https://lms.wiseman.com.hk/lms/user/secure/course/eb/select_theme/selectLesson.do?id=8ae5daa056fc793b0156ff07392600d4&from=lesson)\n"
          ],
          "name": "stdout"
        },
        {
          "output_type": "display_data",
          "data": {
            "application/javascript": [
              "window[\"db08332a-81aa-11eb-a427-0242ac1c0002\"] = google.colab.output.setActiveOutputArea(window[\"db0521b2-81aa-11eb-a427-0242ac1c0002\"]);\n",
              "//# sourceURL=js_119fa2ea22"
            ],
            "text/plain": [
              "<IPython.core.display.Javascript object>"
            ]
          },
          "metadata": {
            "tags": [
              "id6-4-2",
              "outputarea_id6"
            ]
          }
        },
        {
          "output_type": "display_data",
          "data": {
            "application/javascript": [
              "window[\"df287938-81aa-11eb-a427-0242ac1c0002\"] = google.colab.output.getActiveOutputArea();\n",
              "//# sourceURL=js_a857998054"
            ],
            "text/plain": [
              "<IPython.core.display.Javascript object>"
            ]
          },
          "metadata": {
            "tags": [
              "id6-4-1",
              "outputarea_id6"
            ]
          }
        },
        {
          "output_type": "display_data",
          "data": {
            "application/javascript": [
              "window[\"df2987e2-81aa-11eb-a427-0242ac1c0002\"] = document.querySelector(\"#id6-4-1\");\n",
              "//# sourceURL=js_585977bce8"
            ],
            "text/plain": [
              "<IPython.core.display.Javascript object>"
            ]
          },
          "metadata": {
            "tags": [
              "id6-4-1",
              "outputarea_id6"
            ]
          }
        },
        {
          "output_type": "display_data",
          "data": {
            "application/javascript": [
              "window[\"df2aa8fc-81aa-11eb-a427-0242ac1c0002\"] = google.colab.output.setActiveOutputArea(window[\"df2987e2-81aa-11eb-a427-0242ac1c0002\"]);\n",
              "//# sourceURL=js_fea5fdd33b"
            ],
            "text/plain": [
              "<IPython.core.display.Javascript object>"
            ]
          },
          "metadata": {
            "tags": [
              "id6-4-1",
              "outputarea_id6"
            ]
          }
        },
        {
          "output_type": "stream",
          "text": [
            "New\n"
          ],
          "name": "stdout"
        },
        {
          "output_type": "display_data",
          "data": {
            "application/javascript": [
              "window[\"df2e75cc-81aa-11eb-a427-0242ac1c0002\"] = google.colab.output.setActiveOutputArea(window[\"df287938-81aa-11eb-a427-0242ac1c0002\"]);\n",
              "//# sourceURL=js_9c7d6a449b"
            ],
            "text/plain": [
              "<IPython.core.display.Javascript object>"
            ]
          },
          "metadata": {
            "tags": [
              "id6-4-1",
              "outputarea_id6"
            ]
          }
        },
        {
          "output_type": "display_data",
          "data": {
            "application/javascript": [
              "window[\"df320ff2-81aa-11eb-a427-0242ac1c0002\"] = google.colab.output.getActiveOutputArea();\n",
              "//# sourceURL=js_5641e5375e"
            ],
            "text/plain": [
              "<IPython.core.display.Javascript object>"
            ]
          },
          "metadata": {
            "tags": [
              "id6-5-0",
              "outputarea_id6"
            ]
          }
        },
        {
          "output_type": "display_data",
          "data": {
            "application/javascript": [
              "window[\"df32f21e-81aa-11eb-a427-0242ac1c0002\"] = document.querySelector(\"#id6-5-0\");\n",
              "//# sourceURL=js_c5f5b1983f"
            ],
            "text/plain": [
              "<IPython.core.display.Javascript object>"
            ]
          },
          "metadata": {
            "tags": [
              "id6-5-0",
              "outputarea_id6"
            ]
          }
        },
        {
          "output_type": "display_data",
          "data": {
            "application/javascript": [
              "window[\"df33fe20-81aa-11eb-a427-0242ac1c0002\"] = google.colab.output.setActiveOutputArea(window[\"df32f21e-81aa-11eb-a427-0242ac1c0002\"]);\n",
              "//# sourceURL=js_821af2d297"
            ],
            "text/plain": [
              "<IPython.core.display.Javascript object>"
            ]
          },
          "metadata": {
            "tags": [
              "id6-5-0",
              "outputarea_id6"
            ]
          }
        },
        {
          "output_type": "stream",
          "text": [
            "5/56\n"
          ],
          "name": "stdout"
        },
        {
          "output_type": "display_data",
          "data": {
            "application/javascript": [
              "window[\"df37238e-81aa-11eb-a427-0242ac1c0002\"] = google.colab.output.setActiveOutputArea(window[\"df320ff2-81aa-11eb-a427-0242ac1c0002\"]);\n",
              "//# sourceURL=js_ebd54e78bd"
            ],
            "text/plain": [
              "<IPython.core.display.Javascript object>"
            ]
          },
          "metadata": {
            "tags": [
              "id6-5-0",
              "outputarea_id6"
            ]
          }
        },
        {
          "output_type": "display_data",
          "data": {
            "application/javascript": [
              "window[\"df3c075a-81aa-11eb-a427-0242ac1c0002\"] = google.colab.output.getActiveOutputArea();\n",
              "//# sourceURL=js_d099d4011f"
            ],
            "text/plain": [
              "<IPython.core.display.Javascript object>"
            ]
          },
          "metadata": {
            "tags": [
              "id6-5-1",
              "outputarea_id6"
            ]
          }
        },
        {
          "output_type": "display_data",
          "data": {
            "application/javascript": [
              "window[\"df3c5bb0-81aa-11eb-a427-0242ac1c0002\"] = document.querySelector(\"#id6-5-1\");\n",
              "//# sourceURL=js_8acceadd56"
            ],
            "text/plain": [
              "<IPython.core.display.Javascript object>"
            ]
          },
          "metadata": {
            "tags": [
              "id6-5-1",
              "outputarea_id6"
            ]
          }
        },
        {
          "output_type": "display_data",
          "data": {
            "application/javascript": [
              "window[\"df3e5bf4-81aa-11eb-a427-0242ac1c0002\"] = google.colab.output.setActiveOutputArea(window[\"df3c5bb0-81aa-11eb-a427-0242ac1c0002\"]);\n",
              "//# sourceURL=js_b1d9491b89"
            ],
            "text/plain": [
              "<IPython.core.display.Javascript object>"
            ]
          },
          "metadata": {
            "tags": [
              "id6-5-1",
              "outputarea_id6"
            ]
          }
        },
        {
          "output_type": "display_data",
          "data": {
            "application/javascript": [
              "window[\"df412b5e-81aa-11eb-a427-0242ac1c0002\"] = google.colab.output.setActiveOutputArea(window[\"df3c075a-81aa-11eb-a427-0242ac1c0002\"]);\n",
              "//# sourceURL=js_2f4fe2cff4"
            ],
            "text/plain": [
              "<IPython.core.display.Javascript object>"
            ]
          },
          "metadata": {
            "tags": [
              "id6-5-1",
              "outputarea_id6"
            ]
          }
        },
        {
          "output_type": "display_data",
          "data": {
            "application/javascript": [
              "window[\"df451e80-81aa-11eb-a427-0242ac1c0002\"] = google.colab.output.getActiveOutputArea();\n",
              "//# sourceURL=js_8cb0c2e287"
            ],
            "text/plain": [
              "<IPython.core.display.Javascript object>"
            ]
          },
          "metadata": {
            "tags": [
              "id6-5-2",
              "outputarea_id6"
            ]
          }
        },
        {
          "output_type": "display_data",
          "data": {
            "application/javascript": [
              "window[\"df45e9d2-81aa-11eb-a427-0242ac1c0002\"] = document.querySelector(\"#id6-5-2\");\n",
              "//# sourceURL=js_4bd0ff7bee"
            ],
            "text/plain": [
              "<IPython.core.display.Javascript object>"
            ]
          },
          "metadata": {
            "tags": [
              "id6-5-2",
              "outputarea_id6"
            ]
          }
        },
        {
          "output_type": "display_data",
          "data": {
            "application/javascript": [
              "window[\"df46ad0e-81aa-11eb-a427-0242ac1c0002\"] = google.colab.output.setActiveOutputArea(window[\"df45e9d2-81aa-11eb-a427-0242ac1c0002\"]);\n",
              "//# sourceURL=js_76c41c611d"
            ],
            "text/plain": [
              "<IPython.core.display.Javascript object>"
            ]
          },
          "metadata": {
            "tags": [
              "id6-5-2",
              "outputarea_id6"
            ]
          }
        },
        {
          "output_type": "stream",
          "text": [
            "Drones In Our Skies - Reading(https://lms.wiseman.com.hk/lms/user/secure/course/eb/select_theme/selectLesson.do?id=e549dcad30184ba2a39f287a2f3a1392&from=lesson)\n"
          ],
          "name": "stdout"
        },
        {
          "output_type": "display_data",
          "data": {
            "application/javascript": [
              "window[\"df498060-81aa-11eb-a427-0242ac1c0002\"] = google.colab.output.setActiveOutputArea(window[\"df451e80-81aa-11eb-a427-0242ac1c0002\"]);\n",
              "//# sourceURL=js_a5559bd2ba"
            ],
            "text/plain": [
              "<IPython.core.display.Javascript object>"
            ]
          },
          "metadata": {
            "tags": [
              "id6-5-2",
              "outputarea_id6"
            ]
          }
        },
        {
          "output_type": "display_data",
          "data": {
            "application/javascript": [
              "window[\"e37dc0ba-81aa-11eb-a427-0242ac1c0002\"] = google.colab.output.getActiveOutputArea();\n",
              "//# sourceURL=js_e9a526c9fc"
            ],
            "text/plain": [
              "<IPython.core.display.Javascript object>"
            ]
          },
          "metadata": {
            "tags": [
              "id6-5-1",
              "outputarea_id6"
            ]
          }
        },
        {
          "output_type": "display_data",
          "data": {
            "application/javascript": [
              "window[\"e37e9eb8-81aa-11eb-a427-0242ac1c0002\"] = document.querySelector(\"#id6-5-1\");\n",
              "//# sourceURL=js_2d70396c0e"
            ],
            "text/plain": [
              "<IPython.core.display.Javascript object>"
            ]
          },
          "metadata": {
            "tags": [
              "id6-5-1",
              "outputarea_id6"
            ]
          }
        },
        {
          "output_type": "display_data",
          "data": {
            "application/javascript": [
              "window[\"e37fc220-81aa-11eb-a427-0242ac1c0002\"] = google.colab.output.setActiveOutputArea(window[\"e37e9eb8-81aa-11eb-a427-0242ac1c0002\"]);\n",
              "//# sourceURL=js_45f3a9e3ed"
            ],
            "text/plain": [
              "<IPython.core.display.Javascript object>"
            ]
          },
          "metadata": {
            "tags": [
              "id6-5-1",
              "outputarea_id6"
            ]
          }
        },
        {
          "output_type": "stream",
          "text": [
            "New\n"
          ],
          "name": "stdout"
        },
        {
          "output_type": "display_data",
          "data": {
            "application/javascript": [
              "window[\"e38267fa-81aa-11eb-a427-0242ac1c0002\"] = google.colab.output.setActiveOutputArea(window[\"e37dc0ba-81aa-11eb-a427-0242ac1c0002\"]);\n",
              "//# sourceURL=js_65d4fba96b"
            ],
            "text/plain": [
              "<IPython.core.display.Javascript object>"
            ]
          },
          "metadata": {
            "tags": [
              "id6-5-1",
              "outputarea_id6"
            ]
          }
        },
        {
          "output_type": "display_data",
          "data": {
            "application/javascript": [
              "window[\"e3859fce-81aa-11eb-a427-0242ac1c0002\"] = google.colab.output.getActiveOutputArea();\n",
              "//# sourceURL=js_6a50b97475"
            ],
            "text/plain": [
              "<IPython.core.display.Javascript object>"
            ]
          },
          "metadata": {
            "tags": [
              "id6-6-0",
              "outputarea_id6"
            ]
          }
        },
        {
          "output_type": "display_data",
          "data": {
            "application/javascript": [
              "window[\"e386329a-81aa-11eb-a427-0242ac1c0002\"] = document.querySelector(\"#id6-6-0\");\n",
              "//# sourceURL=js_8ab033b1a0"
            ],
            "text/plain": [
              "<IPython.core.display.Javascript object>"
            ]
          },
          "metadata": {
            "tags": [
              "id6-6-0",
              "outputarea_id6"
            ]
          }
        },
        {
          "output_type": "display_data",
          "data": {
            "application/javascript": [
              "window[\"e387425c-81aa-11eb-a427-0242ac1c0002\"] = google.colab.output.setActiveOutputArea(window[\"e386329a-81aa-11eb-a427-0242ac1c0002\"]);\n",
              "//# sourceURL=js_505bc0e257"
            ],
            "text/plain": [
              "<IPython.core.display.Javascript object>"
            ]
          },
          "metadata": {
            "tags": [
              "id6-6-0",
              "outputarea_id6"
            ]
          }
        },
        {
          "output_type": "stream",
          "text": [
            "6/56\n"
          ],
          "name": "stdout"
        },
        {
          "output_type": "display_data",
          "data": {
            "application/javascript": [
              "window[\"e3899584-81aa-11eb-a427-0242ac1c0002\"] = google.colab.output.setActiveOutputArea(window[\"e3859fce-81aa-11eb-a427-0242ac1c0002\"]);\n",
              "//# sourceURL=js_7b026e25d4"
            ],
            "text/plain": [
              "<IPython.core.display.Javascript object>"
            ]
          },
          "metadata": {
            "tags": [
              "id6-6-0",
              "outputarea_id6"
            ]
          }
        },
        {
          "output_type": "display_data",
          "data": {
            "application/javascript": [
              "window[\"e38cb21e-81aa-11eb-a427-0242ac1c0002\"] = google.colab.output.getActiveOutputArea();\n",
              "//# sourceURL=js_66641ad157"
            ],
            "text/plain": [
              "<IPython.core.display.Javascript object>"
            ]
          },
          "metadata": {
            "tags": [
              "id6-6-1",
              "outputarea_id6"
            ]
          }
        },
        {
          "output_type": "display_data",
          "data": {
            "application/javascript": [
              "window[\"e38d519c-81aa-11eb-a427-0242ac1c0002\"] = document.querySelector(\"#id6-6-1\");\n",
              "//# sourceURL=js_ebe6363db3"
            ],
            "text/plain": [
              "<IPython.core.display.Javascript object>"
            ]
          },
          "metadata": {
            "tags": [
              "id6-6-1",
              "outputarea_id6"
            ]
          }
        },
        {
          "output_type": "display_data",
          "data": {
            "application/javascript": [
              "window[\"e38e01d2-81aa-11eb-a427-0242ac1c0002\"] = google.colab.output.setActiveOutputArea(window[\"e38d519c-81aa-11eb-a427-0242ac1c0002\"]);\n",
              "//# sourceURL=js_9a8d0e7fa0"
            ],
            "text/plain": [
              "<IPython.core.display.Javascript object>"
            ]
          },
          "metadata": {
            "tags": [
              "id6-6-1",
              "outputarea_id6"
            ]
          }
        },
        {
          "output_type": "display_data",
          "data": {
            "application/javascript": [
              "window[\"e38f9952-81aa-11eb-a427-0242ac1c0002\"] = google.colab.output.setActiveOutputArea(window[\"e38cb21e-81aa-11eb-a427-0242ac1c0002\"]);\n",
              "//# sourceURL=js_d919da3186"
            ],
            "text/plain": [
              "<IPython.core.display.Javascript object>"
            ]
          },
          "metadata": {
            "tags": [
              "id6-6-1",
              "outputarea_id6"
            ]
          }
        },
        {
          "output_type": "display_data",
          "data": {
            "application/javascript": [
              "window[\"e3929a30-81aa-11eb-a427-0242ac1c0002\"] = google.colab.output.getActiveOutputArea();\n",
              "//# sourceURL=js_22fcb174df"
            ],
            "text/plain": [
              "<IPython.core.display.Javascript object>"
            ]
          },
          "metadata": {
            "tags": [
              "id6-6-2",
              "outputarea_id6"
            ]
          }
        },
        {
          "output_type": "display_data",
          "data": {
            "application/javascript": [
              "window[\"e393066e-81aa-11eb-a427-0242ac1c0002\"] = document.querySelector(\"#id6-6-2\");\n",
              "//# sourceURL=js_8f3a651e7d"
            ],
            "text/plain": [
              "<IPython.core.display.Javascript object>"
            ]
          },
          "metadata": {
            "tags": [
              "id6-6-2",
              "outputarea_id6"
            ]
          }
        },
        {
          "output_type": "display_data",
          "data": {
            "application/javascript": [
              "window[\"e393cdec-81aa-11eb-a427-0242ac1c0002\"] = google.colab.output.setActiveOutputArea(window[\"e393066e-81aa-11eb-a427-0242ac1c0002\"]);\n",
              "//# sourceURL=js_7d78c3f4a8"
            ],
            "text/plain": [
              "<IPython.core.display.Javascript object>"
            ]
          },
          "metadata": {
            "tags": [
              "id6-6-2",
              "outputarea_id6"
            ]
          }
        },
        {
          "output_type": "stream",
          "text": [
            "Drones In Our Skies - Listening(https://lms.wiseman.com.hk/lms/user/secure/course/eb/select_theme/selectLesson.do?id=7d32add896474dc88b5922b316e8ee19&from=lesson)\n"
          ],
          "name": "stdout"
        },
        {
          "output_type": "display_data",
          "data": {
            "application/javascript": [
              "window[\"e395a4fa-81aa-11eb-a427-0242ac1c0002\"] = google.colab.output.setActiveOutputArea(window[\"e3929a30-81aa-11eb-a427-0242ac1c0002\"]);\n",
              "//# sourceURL=js_979d9df060"
            ],
            "text/plain": [
              "<IPython.core.display.Javascript object>"
            ]
          },
          "metadata": {
            "tags": [
              "id6-6-2",
              "outputarea_id6"
            ]
          }
        },
        {
          "output_type": "display_data",
          "data": {
            "application/javascript": [
              "window[\"e7d4b06a-81aa-11eb-a427-0242ac1c0002\"] = google.colab.output.getActiveOutputArea();\n",
              "//# sourceURL=js_539e04bd53"
            ],
            "text/plain": [
              "<IPython.core.display.Javascript object>"
            ]
          },
          "metadata": {
            "tags": [
              "id6-6-1",
              "outputarea_id6"
            ]
          }
        },
        {
          "output_type": "display_data",
          "data": {
            "application/javascript": [
              "window[\"e7d67774-81aa-11eb-a427-0242ac1c0002\"] = document.querySelector(\"#id6-6-1\");\n",
              "//# sourceURL=js_4ed552f9a0"
            ],
            "text/plain": [
              "<IPython.core.display.Javascript object>"
            ]
          },
          "metadata": {
            "tags": [
              "id6-6-1",
              "outputarea_id6"
            ]
          }
        },
        {
          "output_type": "display_data",
          "data": {
            "application/javascript": [
              "window[\"e7d84464-81aa-11eb-a427-0242ac1c0002\"] = google.colab.output.setActiveOutputArea(window[\"e7d67774-81aa-11eb-a427-0242ac1c0002\"]);\n",
              "//# sourceURL=js_2debf5d8eb"
            ],
            "text/plain": [
              "<IPython.core.display.Javascript object>"
            ]
          },
          "metadata": {
            "tags": [
              "id6-6-1",
              "outputarea_id6"
            ]
          }
        },
        {
          "output_type": "stream",
          "text": [
            "New\n"
          ],
          "name": "stdout"
        },
        {
          "output_type": "display_data",
          "data": {
            "application/javascript": [
              "window[\"e7de2b36-81aa-11eb-a427-0242ac1c0002\"] = google.colab.output.setActiveOutputArea(window[\"e7d4b06a-81aa-11eb-a427-0242ac1c0002\"]);\n",
              "//# sourceURL=js_9e481b47dd"
            ],
            "text/plain": [
              "<IPython.core.display.Javascript object>"
            ]
          },
          "metadata": {
            "tags": [
              "id6-6-1",
              "outputarea_id6"
            ]
          }
        },
        {
          "output_type": "display_data",
          "data": {
            "application/javascript": [
              "window[\"e7e2a2c4-81aa-11eb-a427-0242ac1c0002\"] = google.colab.output.getActiveOutputArea();\n",
              "//# sourceURL=js_0c1a9d9f59"
            ],
            "text/plain": [
              "<IPython.core.display.Javascript object>"
            ]
          },
          "metadata": {
            "tags": [
              "id6-7-0",
              "outputarea_id6"
            ]
          }
        },
        {
          "output_type": "display_data",
          "data": {
            "application/javascript": [
              "window[\"e7e302fa-81aa-11eb-a427-0242ac1c0002\"] = document.querySelector(\"#id6-7-0\");\n",
              "//# sourceURL=js_6a190bd417"
            ],
            "text/plain": [
              "<IPython.core.display.Javascript object>"
            ]
          },
          "metadata": {
            "tags": [
              "id6-7-0",
              "outputarea_id6"
            ]
          }
        },
        {
          "output_type": "display_data",
          "data": {
            "application/javascript": [
              "window[\"e7e39ab2-81aa-11eb-a427-0242ac1c0002\"] = google.colab.output.setActiveOutputArea(window[\"e7e302fa-81aa-11eb-a427-0242ac1c0002\"]);\n",
              "//# sourceURL=js_ceb02bb952"
            ],
            "text/plain": [
              "<IPython.core.display.Javascript object>"
            ]
          },
          "metadata": {
            "tags": [
              "id6-7-0",
              "outputarea_id6"
            ]
          }
        },
        {
          "output_type": "stream",
          "text": [
            "7/56\n"
          ],
          "name": "stdout"
        },
        {
          "output_type": "display_data",
          "data": {
            "application/javascript": [
              "window[\"e7e65e64-81aa-11eb-a427-0242ac1c0002\"] = google.colab.output.setActiveOutputArea(window[\"e7e2a2c4-81aa-11eb-a427-0242ac1c0002\"]);\n",
              "//# sourceURL=js_a53304c9c5"
            ],
            "text/plain": [
              "<IPython.core.display.Javascript object>"
            ]
          },
          "metadata": {
            "tags": [
              "id6-7-0",
              "outputarea_id6"
            ]
          }
        },
        {
          "output_type": "display_data",
          "data": {
            "application/javascript": [
              "window[\"e7e9d990-81aa-11eb-a427-0242ac1c0002\"] = google.colab.output.getActiveOutputArea();\n",
              "//# sourceURL=js_47e4ebfea7"
            ],
            "text/plain": [
              "<IPython.core.display.Javascript object>"
            ]
          },
          "metadata": {
            "tags": [
              "id6-7-1",
              "outputarea_id6"
            ]
          }
        },
        {
          "output_type": "display_data",
          "data": {
            "application/javascript": [
              "window[\"e7ea3caa-81aa-11eb-a427-0242ac1c0002\"] = document.querySelector(\"#id6-7-1\");\n",
              "//# sourceURL=js_e37ab91a1d"
            ],
            "text/plain": [
              "<IPython.core.display.Javascript object>"
            ]
          },
          "metadata": {
            "tags": [
              "id6-7-1",
              "outputarea_id6"
            ]
          }
        },
        {
          "output_type": "display_data",
          "data": {
            "application/javascript": [
              "window[\"e7eb5c5c-81aa-11eb-a427-0242ac1c0002\"] = google.colab.output.setActiveOutputArea(window[\"e7ea3caa-81aa-11eb-a427-0242ac1c0002\"]);\n",
              "//# sourceURL=js_3fad03d057"
            ],
            "text/plain": [
              "<IPython.core.display.Javascript object>"
            ]
          },
          "metadata": {
            "tags": [
              "id6-7-1",
              "outputarea_id6"
            ]
          }
        },
        {
          "output_type": "display_data",
          "data": {
            "application/javascript": [
              "window[\"e7ecf030-81aa-11eb-a427-0242ac1c0002\"] = google.colab.output.setActiveOutputArea(window[\"e7e9d990-81aa-11eb-a427-0242ac1c0002\"]);\n",
              "//# sourceURL=js_411d4f94f2"
            ],
            "text/plain": [
              "<IPython.core.display.Javascript object>"
            ]
          },
          "metadata": {
            "tags": [
              "id6-7-1",
              "outputarea_id6"
            ]
          }
        },
        {
          "output_type": "display_data",
          "data": {
            "application/javascript": [
              "window[\"e7f0cfca-81aa-11eb-a427-0242ac1c0002\"] = google.colab.output.getActiveOutputArea();\n",
              "//# sourceURL=js_cc07f5318d"
            ],
            "text/plain": [
              "<IPython.core.display.Javascript object>"
            ]
          },
          "metadata": {
            "tags": [
              "id6-7-2",
              "outputarea_id6"
            ]
          }
        },
        {
          "output_type": "display_data",
          "data": {
            "application/javascript": [
              "window[\"e7f29bd4-81aa-11eb-a427-0242ac1c0002\"] = document.querySelector(\"#id6-7-2\");\n",
              "//# sourceURL=js_2e14f998d4"
            ],
            "text/plain": [
              "<IPython.core.display.Javascript object>"
            ]
          },
          "metadata": {
            "tags": [
              "id6-7-2",
              "outputarea_id6"
            ]
          }
        },
        {
          "output_type": "display_data",
          "data": {
            "application/javascript": [
              "window[\"e7f345e8-81aa-11eb-a427-0242ac1c0002\"] = google.colab.output.setActiveOutputArea(window[\"e7f29bd4-81aa-11eb-a427-0242ac1c0002\"]);\n",
              "//# sourceURL=js_190e6e8fce"
            ],
            "text/plain": [
              "<IPython.core.display.Javascript object>"
            ]
          },
          "metadata": {
            "tags": [
              "id6-7-2",
              "outputarea_id6"
            ]
          }
        },
        {
          "output_type": "stream",
          "text": [
            "The Right Winner - Reading(https://lms.wiseman.com.hk/lms/user/secure/course/eb/select_theme/selectLesson.do?id=8ae5daa14a0c7b3f014a0dd019c0054e&from=lesson)\n"
          ],
          "name": "stdout"
        },
        {
          "output_type": "display_data",
          "data": {
            "application/javascript": [
              "window[\"e7f516e8-81aa-11eb-a427-0242ac1c0002\"] = google.colab.output.setActiveOutputArea(window[\"e7f0cfca-81aa-11eb-a427-0242ac1c0002\"]);\n",
              "//# sourceURL=js_d7958eb877"
            ],
            "text/plain": [
              "<IPython.core.display.Javascript object>"
            ]
          },
          "metadata": {
            "tags": [
              "id6-7-2",
              "outputarea_id6"
            ]
          }
        },
        {
          "output_type": "display_data",
          "data": {
            "application/javascript": [
              "window[\"ec6ab8f4-81aa-11eb-a427-0242ac1c0002\"] = google.colab.output.getActiveOutputArea();\n",
              "//# sourceURL=js_7346fdea1b"
            ],
            "text/plain": [
              "<IPython.core.display.Javascript object>"
            ]
          },
          "metadata": {
            "tags": [
              "id6-7-1",
              "outputarea_id6"
            ]
          }
        },
        {
          "output_type": "display_data",
          "data": {
            "application/javascript": [
              "window[\"ec6bc2b2-81aa-11eb-a427-0242ac1c0002\"] = document.querySelector(\"#id6-7-1\");\n",
              "//# sourceURL=js_af38996d64"
            ],
            "text/plain": [
              "<IPython.core.display.Javascript object>"
            ]
          },
          "metadata": {
            "tags": [
              "id6-7-1",
              "outputarea_id6"
            ]
          }
        },
        {
          "output_type": "display_data",
          "data": {
            "application/javascript": [
              "window[\"ec6c515a-81aa-11eb-a427-0242ac1c0002\"] = google.colab.output.setActiveOutputArea(window[\"ec6bc2b2-81aa-11eb-a427-0242ac1c0002\"]);\n",
              "//# sourceURL=js_11db594931"
            ],
            "text/plain": [
              "<IPython.core.display.Javascript object>"
            ]
          },
          "metadata": {
            "tags": [
              "id6-7-1",
              "outputarea_id6"
            ]
          }
        },
        {
          "output_type": "stream",
          "text": [
            "New\n"
          ],
          "name": "stdout"
        },
        {
          "output_type": "display_data",
          "data": {
            "application/javascript": [
              "window[\"ec718e04-81aa-11eb-a427-0242ac1c0002\"] = google.colab.output.setActiveOutputArea(window[\"ec6ab8f4-81aa-11eb-a427-0242ac1c0002\"]);\n",
              "//# sourceURL=js_6693f2553e"
            ],
            "text/plain": [
              "<IPython.core.display.Javascript object>"
            ]
          },
          "metadata": {
            "tags": [
              "id6-7-1",
              "outputarea_id6"
            ]
          }
        },
        {
          "output_type": "display_data",
          "data": {
            "application/javascript": [
              "window[\"ec750bc4-81aa-11eb-a427-0242ac1c0002\"] = google.colab.output.getActiveOutputArea();\n",
              "//# sourceURL=js_c383d8d7ca"
            ],
            "text/plain": [
              "<IPython.core.display.Javascript object>"
            ]
          },
          "metadata": {
            "tags": [
              "id6-8-0",
              "outputarea_id6"
            ]
          }
        },
        {
          "output_type": "display_data",
          "data": {
            "application/javascript": [
              "window[\"ec764d54-81aa-11eb-a427-0242ac1c0002\"] = document.querySelector(\"#id6-8-0\");\n",
              "//# sourceURL=js_532c8de93c"
            ],
            "text/plain": [
              "<IPython.core.display.Javascript object>"
            ]
          },
          "metadata": {
            "tags": [
              "id6-8-0",
              "outputarea_id6"
            ]
          }
        },
        {
          "output_type": "display_data",
          "data": {
            "application/javascript": [
              "window[\"ec786760-81aa-11eb-a427-0242ac1c0002\"] = google.colab.output.setActiveOutputArea(window[\"ec764d54-81aa-11eb-a427-0242ac1c0002\"]);\n",
              "//# sourceURL=js_ccdc7e26e0"
            ],
            "text/plain": [
              "<IPython.core.display.Javascript object>"
            ]
          },
          "metadata": {
            "tags": [
              "id6-8-0",
              "outputarea_id6"
            ]
          }
        },
        {
          "output_type": "stream",
          "text": [
            "8/56\n"
          ],
          "name": "stdout"
        },
        {
          "output_type": "display_data",
          "data": {
            "application/javascript": [
              "window[\"ec7b2c3e-81aa-11eb-a427-0242ac1c0002\"] = google.colab.output.setActiveOutputArea(window[\"ec750bc4-81aa-11eb-a427-0242ac1c0002\"]);\n",
              "//# sourceURL=js_91c33acc59"
            ],
            "text/plain": [
              "<IPython.core.display.Javascript object>"
            ]
          },
          "metadata": {
            "tags": [
              "id6-8-0",
              "outputarea_id6"
            ]
          }
        },
        {
          "output_type": "display_data",
          "data": {
            "application/javascript": [
              "window[\"ec7e2510-81aa-11eb-a427-0242ac1c0002\"] = google.colab.output.getActiveOutputArea();\n",
              "//# sourceURL=js_a169085a33"
            ],
            "text/plain": [
              "<IPython.core.display.Javascript object>"
            ]
          },
          "metadata": {
            "tags": [
              "id6-8-1",
              "outputarea_id6"
            ]
          }
        },
        {
          "output_type": "display_data",
          "data": {
            "application/javascript": [
              "window[\"ec7e64e4-81aa-11eb-a427-0242ac1c0002\"] = document.querySelector(\"#id6-8-1\");\n",
              "//# sourceURL=js_45fd8d77d4"
            ],
            "text/plain": [
              "<IPython.core.display.Javascript object>"
            ]
          },
          "metadata": {
            "tags": [
              "id6-8-1",
              "outputarea_id6"
            ]
          }
        },
        {
          "output_type": "display_data",
          "data": {
            "application/javascript": [
              "window[\"ec7ee0d6-81aa-11eb-a427-0242ac1c0002\"] = google.colab.output.setActiveOutputArea(window[\"ec7e64e4-81aa-11eb-a427-0242ac1c0002\"]);\n",
              "//# sourceURL=js_2065410348"
            ],
            "text/plain": [
              "<IPython.core.display.Javascript object>"
            ]
          },
          "metadata": {
            "tags": [
              "id6-8-1",
              "outputarea_id6"
            ]
          }
        },
        {
          "output_type": "display_data",
          "data": {
            "application/javascript": [
              "window[\"ec7fb0a6-81aa-11eb-a427-0242ac1c0002\"] = google.colab.output.setActiveOutputArea(window[\"ec7e2510-81aa-11eb-a427-0242ac1c0002\"]);\n",
              "//# sourceURL=js_366b9b452f"
            ],
            "text/plain": [
              "<IPython.core.display.Javascript object>"
            ]
          },
          "metadata": {
            "tags": [
              "id6-8-1",
              "outputarea_id6"
            ]
          }
        },
        {
          "output_type": "display_data",
          "data": {
            "application/javascript": [
              "window[\"ec80feb6-81aa-11eb-a427-0242ac1c0002\"] = google.colab.output.getActiveOutputArea();\n",
              "//# sourceURL=js_76374ab2e8"
            ],
            "text/plain": [
              "<IPython.core.display.Javascript object>"
            ]
          },
          "metadata": {
            "tags": [
              "id6-8-2",
              "outputarea_id6"
            ]
          }
        },
        {
          "output_type": "display_data",
          "data": {
            "application/javascript": [
              "window[\"ec817210-81aa-11eb-a427-0242ac1c0002\"] = document.querySelector(\"#id6-8-2\");\n",
              "//# sourceURL=js_95bef6a0aa"
            ],
            "text/plain": [
              "<IPython.core.display.Javascript object>"
            ]
          },
          "metadata": {
            "tags": [
              "id6-8-2",
              "outputarea_id6"
            ]
          }
        },
        {
          "output_type": "display_data",
          "data": {
            "application/javascript": [
              "window[\"ec81c2f6-81aa-11eb-a427-0242ac1c0002\"] = google.colab.output.setActiveOutputArea(window[\"ec817210-81aa-11eb-a427-0242ac1c0002\"]);\n",
              "//# sourceURL=js_a50f4bc0ed"
            ],
            "text/plain": [
              "<IPython.core.display.Javascript object>"
            ]
          },
          "metadata": {
            "tags": [
              "id6-8-2",
              "outputarea_id6"
            ]
          }
        },
        {
          "output_type": "stream",
          "text": [
            "The Right Winner - Listening(https://lms.wiseman.com.hk/lms/user/secure/course/eb/select_theme/selectLesson.do?id=8ae5daa14a0754e6014a0c2091b153c1&from=lesson)\n"
          ],
          "name": "stdout"
        },
        {
          "output_type": "display_data",
          "data": {
            "application/javascript": [
              "window[\"ec82d6aa-81aa-11eb-a427-0242ac1c0002\"] = google.colab.output.setActiveOutputArea(window[\"ec80feb6-81aa-11eb-a427-0242ac1c0002\"]);\n",
              "//# sourceURL=js_2d78f4cebc"
            ],
            "text/plain": [
              "<IPython.core.display.Javascript object>"
            ]
          },
          "metadata": {
            "tags": [
              "id6-8-2",
              "outputarea_id6"
            ]
          }
        },
        {
          "output_type": "display_data",
          "data": {
            "application/javascript": [
              "window[\"f0a15e96-81aa-11eb-a427-0242ac1c0002\"] = google.colab.output.getActiveOutputArea();\n",
              "//# sourceURL=js_f27f7b0d13"
            ],
            "text/plain": [
              "<IPython.core.display.Javascript object>"
            ]
          },
          "metadata": {
            "tags": [
              "id6-8-1",
              "outputarea_id6"
            ]
          }
        },
        {
          "output_type": "display_data",
          "data": {
            "application/javascript": [
              "window[\"f0a2a54e-81aa-11eb-a427-0242ac1c0002\"] = document.querySelector(\"#id6-8-1\");\n",
              "//# sourceURL=js_b8bed4eacc"
            ],
            "text/plain": [
              "<IPython.core.display.Javascript object>"
            ]
          },
          "metadata": {
            "tags": [
              "id6-8-1",
              "outputarea_id6"
            ]
          }
        },
        {
          "output_type": "display_data",
          "data": {
            "application/javascript": [
              "window[\"f0a3fc64-81aa-11eb-a427-0242ac1c0002\"] = google.colab.output.setActiveOutputArea(window[\"f0a2a54e-81aa-11eb-a427-0242ac1c0002\"]);\n",
              "//# sourceURL=js_ee1060ca5b"
            ],
            "text/plain": [
              "<IPython.core.display.Javascript object>"
            ]
          },
          "metadata": {
            "tags": [
              "id6-8-1",
              "outputarea_id6"
            ]
          }
        },
        {
          "output_type": "stream",
          "text": [
            "New\n"
          ],
          "name": "stdout"
        },
        {
          "output_type": "display_data",
          "data": {
            "application/javascript": [
              "window[\"f0abd6a0-81aa-11eb-a427-0242ac1c0002\"] = google.colab.output.setActiveOutputArea(window[\"f0a15e96-81aa-11eb-a427-0242ac1c0002\"]);\n",
              "//# sourceURL=js_26643b4528"
            ],
            "text/plain": [
              "<IPython.core.display.Javascript object>"
            ]
          },
          "metadata": {
            "tags": [
              "id6-8-1",
              "outputarea_id6"
            ]
          }
        },
        {
          "output_type": "display_data",
          "data": {
            "application/javascript": [
              "window[\"f0b06738-81aa-11eb-a427-0242ac1c0002\"] = google.colab.output.getActiveOutputArea();\n",
              "//# sourceURL=js_a7b362c1d7"
            ],
            "text/plain": [
              "<IPython.core.display.Javascript object>"
            ]
          },
          "metadata": {
            "tags": [
              "id6-9-0",
              "outputarea_id6"
            ]
          }
        },
        {
          "output_type": "display_data",
          "data": {
            "application/javascript": [
              "window[\"f0b0c4c6-81aa-11eb-a427-0242ac1c0002\"] = document.querySelector(\"#id6-9-0\");\n",
              "//# sourceURL=js_a730eefb4d"
            ],
            "text/plain": [
              "<IPython.core.display.Javascript object>"
            ]
          },
          "metadata": {
            "tags": [
              "id6-9-0",
              "outputarea_id6"
            ]
          }
        },
        {
          "output_type": "display_data",
          "data": {
            "application/javascript": [
              "window[\"f0b2dec8-81aa-11eb-a427-0242ac1c0002\"] = google.colab.output.setActiveOutputArea(window[\"f0b0c4c6-81aa-11eb-a427-0242ac1c0002\"]);\n",
              "//# sourceURL=js_1853f20c0b"
            ],
            "text/plain": [
              "<IPython.core.display.Javascript object>"
            ]
          },
          "metadata": {
            "tags": [
              "id6-9-0",
              "outputarea_id6"
            ]
          }
        },
        {
          "output_type": "stream",
          "text": [
            "9/56\n"
          ],
          "name": "stdout"
        },
        {
          "output_type": "display_data",
          "data": {
            "application/javascript": [
              "window[\"f0b669e4-81aa-11eb-a427-0242ac1c0002\"] = google.colab.output.setActiveOutputArea(window[\"f0b06738-81aa-11eb-a427-0242ac1c0002\"]);\n",
              "//# sourceURL=js_217a888cf6"
            ],
            "text/plain": [
              "<IPython.core.display.Javascript object>"
            ]
          },
          "metadata": {
            "tags": [
              "id6-9-0",
              "outputarea_id6"
            ]
          }
        },
        {
          "output_type": "display_data",
          "data": {
            "application/javascript": [
              "window[\"f0bc205a-81aa-11eb-a427-0242ac1c0002\"] = google.colab.output.getActiveOutputArea();\n",
              "//# sourceURL=js_5eaf9bfcdc"
            ],
            "text/plain": [
              "<IPython.core.display.Javascript object>"
            ]
          },
          "metadata": {
            "tags": [
              "id6-9-1",
              "outputarea_id6"
            ]
          }
        },
        {
          "output_type": "display_data",
          "data": {
            "application/javascript": [
              "window[\"f0bd1a64-81aa-11eb-a427-0242ac1c0002\"] = document.querySelector(\"#id6-9-1\");\n",
              "//# sourceURL=js_d209d63faa"
            ],
            "text/plain": [
              "<IPython.core.display.Javascript object>"
            ]
          },
          "metadata": {
            "tags": [
              "id6-9-1",
              "outputarea_id6"
            ]
          }
        },
        {
          "output_type": "display_data",
          "data": {
            "application/javascript": [
              "window[\"f0be8322-81aa-11eb-a427-0242ac1c0002\"] = google.colab.output.setActiveOutputArea(window[\"f0bd1a64-81aa-11eb-a427-0242ac1c0002\"]);\n",
              "//# sourceURL=js_6fe7c1a420"
            ],
            "text/plain": [
              "<IPython.core.display.Javascript object>"
            ]
          },
          "metadata": {
            "tags": [
              "id6-9-1",
              "outputarea_id6"
            ]
          }
        },
        {
          "output_type": "display_data",
          "data": {
            "application/javascript": [
              "window[\"f0c2d35a-81aa-11eb-a427-0242ac1c0002\"] = google.colab.output.setActiveOutputArea(window[\"f0bc205a-81aa-11eb-a427-0242ac1c0002\"]);\n",
              "//# sourceURL=js_4bf27fdc87"
            ],
            "text/plain": [
              "<IPython.core.display.Javascript object>"
            ]
          },
          "metadata": {
            "tags": [
              "id6-9-1",
              "outputarea_id6"
            ]
          }
        },
        {
          "output_type": "display_data",
          "data": {
            "application/javascript": [
              "window[\"f0c6f750-81aa-11eb-a427-0242ac1c0002\"] = google.colab.output.getActiveOutputArea();\n",
              "//# sourceURL=js_9df2c67245"
            ],
            "text/plain": [
              "<IPython.core.display.Javascript object>"
            ]
          },
          "metadata": {
            "tags": [
              "id6-9-2",
              "outputarea_id6"
            ]
          }
        },
        {
          "output_type": "display_data",
          "data": {
            "application/javascript": [
              "window[\"f0c7439a-81aa-11eb-a427-0242ac1c0002\"] = document.querySelector(\"#id6-9-2\");\n",
              "//# sourceURL=js_976e11697a"
            ],
            "text/plain": [
              "<IPython.core.display.Javascript object>"
            ]
          },
          "metadata": {
            "tags": [
              "id6-9-2",
              "outputarea_id6"
            ]
          }
        },
        {
          "output_type": "display_data",
          "data": {
            "application/javascript": [
              "window[\"f0c7827e-81aa-11eb-a427-0242ac1c0002\"] = google.colab.output.setActiveOutputArea(window[\"f0c7439a-81aa-11eb-a427-0242ac1c0002\"]);\n",
              "//# sourceURL=js_f4e63f50b0"
            ],
            "text/plain": [
              "<IPython.core.display.Javascript object>"
            ]
          },
          "metadata": {
            "tags": [
              "id6-9-2",
              "outputarea_id6"
            ]
          }
        },
        {
          "output_type": "stream",
          "text": [
            "What Are Esports - Writing(https://lms.wiseman.com.hk/lms/user/secure/course/eb/select_theme/selectLesson.do?id=8ae5daa065877ca7016589b2bd6c011a&from=lesson)\n"
          ],
          "name": "stdout"
        },
        {
          "output_type": "display_data",
          "data": {
            "application/javascript": [
              "window[\"f0ca8528-81aa-11eb-a427-0242ac1c0002\"] = google.colab.output.setActiveOutputArea(window[\"f0c6f750-81aa-11eb-a427-0242ac1c0002\"]);\n",
              "//# sourceURL=js_4f4c3009a2"
            ],
            "text/plain": [
              "<IPython.core.display.Javascript object>"
            ]
          },
          "metadata": {
            "tags": [
              "id6-9-2",
              "outputarea_id6"
            ]
          }
        },
        {
          "output_type": "display_data",
          "data": {
            "application/javascript": [
              "window[\"f500465a-81aa-11eb-a427-0242ac1c0002\"] = google.colab.output.getActiveOutputArea();\n",
              "//# sourceURL=js_030c90a1d1"
            ],
            "text/plain": [
              "<IPython.core.display.Javascript object>"
            ]
          },
          "metadata": {
            "tags": [
              "id6-9-1",
              "outputarea_id6"
            ]
          }
        },
        {
          "output_type": "display_data",
          "data": {
            "application/javascript": [
              "window[\"f500d55c-81aa-11eb-a427-0242ac1c0002\"] = document.querySelector(\"#id6-9-1\");\n",
              "//# sourceURL=js_d035052121"
            ],
            "text/plain": [
              "<IPython.core.display.Javascript object>"
            ]
          },
          "metadata": {
            "tags": [
              "id6-9-1",
              "outputarea_id6"
            ]
          }
        },
        {
          "output_type": "display_data",
          "data": {
            "application/javascript": [
              "window[\"f501898e-81aa-11eb-a427-0242ac1c0002\"] = google.colab.output.setActiveOutputArea(window[\"f500d55c-81aa-11eb-a427-0242ac1c0002\"]);\n",
              "//# sourceURL=js_beefb2d5d5"
            ],
            "text/plain": [
              "<IPython.core.display.Javascript object>"
            ]
          },
          "metadata": {
            "tags": [
              "id6-9-1",
              "outputarea_id6"
            ]
          }
        },
        {
          "output_type": "stream",
          "text": [
            "New\n"
          ],
          "name": "stdout"
        },
        {
          "output_type": "display_data",
          "data": {
            "application/javascript": [
              "window[\"f5032dca-81aa-11eb-a427-0242ac1c0002\"] = google.colab.output.setActiveOutputArea(window[\"f500465a-81aa-11eb-a427-0242ac1c0002\"]);\n",
              "//# sourceURL=js_21dc601ae3"
            ],
            "text/plain": [
              "<IPython.core.display.Javascript object>"
            ]
          },
          "metadata": {
            "tags": [
              "id6-9-1",
              "outputarea_id6"
            ]
          }
        },
        {
          "output_type": "display_data",
          "data": {
            "application/javascript": [
              "window[\"f505857a-81aa-11eb-a427-0242ac1c0002\"] = google.colab.output.getActiveOutputArea();\n",
              "//# sourceURL=js_58ab7e4bfa"
            ],
            "text/plain": [
              "<IPython.core.display.Javascript object>"
            ]
          },
          "metadata": {
            "tags": [
              "id6-10-0",
              "outputarea_id6"
            ]
          }
        },
        {
          "output_type": "display_data",
          "data": {
            "application/javascript": [
              "window[\"f506070c-81aa-11eb-a427-0242ac1c0002\"] = document.querySelector(\"#id6-10-0\");\n",
              "//# sourceURL=js_577cc6f5fe"
            ],
            "text/plain": [
              "<IPython.core.display.Javascript object>"
            ]
          },
          "metadata": {
            "tags": [
              "id6-10-0",
              "outputarea_id6"
            ]
          }
        },
        {
          "output_type": "display_data",
          "data": {
            "application/javascript": [
              "window[\"f5067156-81aa-11eb-a427-0242ac1c0002\"] = google.colab.output.setActiveOutputArea(window[\"f506070c-81aa-11eb-a427-0242ac1c0002\"]);\n",
              "//# sourceURL=js_8748c940b2"
            ],
            "text/plain": [
              "<IPython.core.display.Javascript object>"
            ]
          },
          "metadata": {
            "tags": [
              "id6-10-0",
              "outputarea_id6"
            ]
          }
        },
        {
          "output_type": "stream",
          "text": [
            "10/56\n"
          ],
          "name": "stdout"
        },
        {
          "output_type": "display_data",
          "data": {
            "application/javascript": [
              "window[\"f507856e-81aa-11eb-a427-0242ac1c0002\"] = google.colab.output.setActiveOutputArea(window[\"f505857a-81aa-11eb-a427-0242ac1c0002\"]);\n",
              "//# sourceURL=js_63a3dac40d"
            ],
            "text/plain": [
              "<IPython.core.display.Javascript object>"
            ]
          },
          "metadata": {
            "tags": [
              "id6-10-0",
              "outputarea_id6"
            ]
          }
        },
        {
          "output_type": "display_data",
          "data": {
            "application/javascript": [
              "window[\"f50ac602-81aa-11eb-a427-0242ac1c0002\"] = google.colab.output.getActiveOutputArea();\n",
              "//# sourceURL=js_100d1eade3"
            ],
            "text/plain": [
              "<IPython.core.display.Javascript object>"
            ]
          },
          "metadata": {
            "tags": [
              "id6-10-1",
              "outputarea_id6"
            ]
          }
        },
        {
          "output_type": "display_data",
          "data": {
            "application/javascript": [
              "window[\"f50b8d58-81aa-11eb-a427-0242ac1c0002\"] = document.querySelector(\"#id6-10-1\");\n",
              "//# sourceURL=js_e466f8540a"
            ],
            "text/plain": [
              "<IPython.core.display.Javascript object>"
            ]
          },
          "metadata": {
            "tags": [
              "id6-10-1",
              "outputarea_id6"
            ]
          }
        },
        {
          "output_type": "display_data",
          "data": {
            "application/javascript": [
              "window[\"f50c83b6-81aa-11eb-a427-0242ac1c0002\"] = google.colab.output.setActiveOutputArea(window[\"f50b8d58-81aa-11eb-a427-0242ac1c0002\"]);\n",
              "//# sourceURL=js_0fbbdf46e3"
            ],
            "text/plain": [
              "<IPython.core.display.Javascript object>"
            ]
          },
          "metadata": {
            "tags": [
              "id6-10-1",
              "outputarea_id6"
            ]
          }
        },
        {
          "output_type": "display_data",
          "data": {
            "application/javascript": [
              "window[\"f50e5128-81aa-11eb-a427-0242ac1c0002\"] = google.colab.output.setActiveOutputArea(window[\"f50ac602-81aa-11eb-a427-0242ac1c0002\"]);\n",
              "//# sourceURL=js_0534cf01a6"
            ],
            "text/plain": [
              "<IPython.core.display.Javascript object>"
            ]
          },
          "metadata": {
            "tags": [
              "id6-10-1",
              "outputarea_id6"
            ]
          }
        },
        {
          "output_type": "display_data",
          "data": {
            "application/javascript": [
              "window[\"f50fd73c-81aa-11eb-a427-0242ac1c0002\"] = google.colab.output.getActiveOutputArea();\n",
              "//# sourceURL=js_def37b3175"
            ],
            "text/plain": [
              "<IPython.core.display.Javascript object>"
            ]
          },
          "metadata": {
            "tags": [
              "id6-10-2",
              "outputarea_id6"
            ]
          }
        },
        {
          "output_type": "display_data",
          "data": {
            "application/javascript": [
              "window[\"f510289a-81aa-11eb-a427-0242ac1c0002\"] = document.querySelector(\"#id6-10-2\");\n",
              "//# sourceURL=js_2deeff2147"
            ],
            "text/plain": [
              "<IPython.core.display.Javascript object>"
            ]
          },
          "metadata": {
            "tags": [
              "id6-10-2",
              "outputarea_id6"
            ]
          }
        },
        {
          "output_type": "display_data",
          "data": {
            "application/javascript": [
              "window[\"f5107976-81aa-11eb-a427-0242ac1c0002\"] = google.colab.output.setActiveOutputArea(window[\"f510289a-81aa-11eb-a427-0242ac1c0002\"]);\n",
              "//# sourceURL=js_44bf45dc0c"
            ],
            "text/plain": [
              "<IPython.core.display.Javascript object>"
            ]
          },
          "metadata": {
            "tags": [
              "id6-10-2",
              "outputarea_id6"
            ]
          }
        },
        {
          "output_type": "stream",
          "text": [
            "What Are Esports - Speaking(https://lms.wiseman.com.hk/lms/user/secure/course/eb/select_theme/selectLesson.do?id=8ae5daa065877ca7016589b129330115&from=lesson)\n"
          ],
          "name": "stdout"
        },
        {
          "output_type": "display_data",
          "data": {
            "application/javascript": [
              "window[\"f5115922-81aa-11eb-a427-0242ac1c0002\"] = google.colab.output.setActiveOutputArea(window[\"f50fd73c-81aa-11eb-a427-0242ac1c0002\"]);\n",
              "//# sourceURL=js_b930fef625"
            ],
            "text/plain": [
              "<IPython.core.display.Javascript object>"
            ]
          },
          "metadata": {
            "tags": [
              "id6-10-2",
              "outputarea_id6"
            ]
          }
        },
        {
          "output_type": "display_data",
          "data": {
            "application/javascript": [
              "window[\"f92b450e-81aa-11eb-a427-0242ac1c0002\"] = google.colab.output.getActiveOutputArea();\n",
              "//# sourceURL=js_15c85d1f20"
            ],
            "text/plain": [
              "<IPython.core.display.Javascript object>"
            ]
          },
          "metadata": {
            "tags": [
              "id6-10-1",
              "outputarea_id6"
            ]
          }
        },
        {
          "output_type": "display_data",
          "data": {
            "application/javascript": [
              "window[\"f92b98a6-81aa-11eb-a427-0242ac1c0002\"] = document.querySelector(\"#id6-10-1\");\n",
              "//# sourceURL=js_078fa631be"
            ],
            "text/plain": [
              "<IPython.core.display.Javascript object>"
            ]
          },
          "metadata": {
            "tags": [
              "id6-10-1",
              "outputarea_id6"
            ]
          }
        },
        {
          "output_type": "display_data",
          "data": {
            "application/javascript": [
              "window[\"f92bdc8a-81aa-11eb-a427-0242ac1c0002\"] = google.colab.output.setActiveOutputArea(window[\"f92b98a6-81aa-11eb-a427-0242ac1c0002\"]);\n",
              "//# sourceURL=js_5d2ec1705c"
            ],
            "text/plain": [
              "<IPython.core.display.Javascript object>"
            ]
          },
          "metadata": {
            "tags": [
              "id6-10-1",
              "outputarea_id6"
            ]
          }
        },
        {
          "output_type": "stream",
          "text": [
            "New\n"
          ],
          "name": "stdout"
        },
        {
          "output_type": "display_data",
          "data": {
            "application/javascript": [
              "window[\"f92d5a6a-81aa-11eb-a427-0242ac1c0002\"] = google.colab.output.setActiveOutputArea(window[\"f92b450e-81aa-11eb-a427-0242ac1c0002\"]);\n",
              "//# sourceURL=js_d80579835c"
            ],
            "text/plain": [
              "<IPython.core.display.Javascript object>"
            ]
          },
          "metadata": {
            "tags": [
              "id6-10-1",
              "outputarea_id6"
            ]
          }
        },
        {
          "output_type": "error",
          "ename": "KeyboardInterrupt",
          "evalue": "ignored",
          "traceback": [
            "\u001b[0;31m---------------------------------------------------------------------------\u001b[0m",
            "\u001b[0;31mKeyboardInterrupt\u001b[0m                         Traceback (most recent call last)",
            "\u001b[0;32m/usr/local/lib/python3.7/dist-packages/ipykernel/kernelbase.py\u001b[0m in \u001b[0;36m_input_request\u001b[0;34m(self, prompt, ident, parent, password)\u001b[0m\n\u001b[1;32m    728\u001b[0m             \u001b[0;32mtry\u001b[0m\u001b[0;34m:\u001b[0m\u001b[0;34m\u001b[0m\u001b[0;34m\u001b[0m\u001b[0m\n\u001b[0;32m--> 729\u001b[0;31m                 \u001b[0mident\u001b[0m\u001b[0;34m,\u001b[0m \u001b[0mreply\u001b[0m \u001b[0;34m=\u001b[0m \u001b[0mself\u001b[0m\u001b[0;34m.\u001b[0m\u001b[0msession\u001b[0m\u001b[0;34m.\u001b[0m\u001b[0mrecv\u001b[0m\u001b[0;34m(\u001b[0m\u001b[0mself\u001b[0m\u001b[0;34m.\u001b[0m\u001b[0mstdin_socket\u001b[0m\u001b[0;34m,\u001b[0m \u001b[0;36m0\u001b[0m\u001b[0;34m)\u001b[0m\u001b[0;34m\u001b[0m\u001b[0;34m\u001b[0m\u001b[0m\n\u001b[0m\u001b[1;32m    730\u001b[0m             \u001b[0;32mexcept\u001b[0m \u001b[0mException\u001b[0m\u001b[0;34m:\u001b[0m\u001b[0;34m\u001b[0m\u001b[0;34m\u001b[0m\u001b[0m\n",
            "\u001b[0;32m/usr/local/lib/python3.7/dist-packages/jupyter_client/session.py\u001b[0m in \u001b[0;36mrecv\u001b[0;34m(self, socket, mode, content, copy)\u001b[0m\n\u001b[1;32m    802\u001b[0m         \u001b[0;32mtry\u001b[0m\u001b[0;34m:\u001b[0m\u001b[0;34m\u001b[0m\u001b[0;34m\u001b[0m\u001b[0m\n\u001b[0;32m--> 803\u001b[0;31m             \u001b[0mmsg_list\u001b[0m \u001b[0;34m=\u001b[0m \u001b[0msocket\u001b[0m\u001b[0;34m.\u001b[0m\u001b[0mrecv_multipart\u001b[0m\u001b[0;34m(\u001b[0m\u001b[0mmode\u001b[0m\u001b[0;34m,\u001b[0m \u001b[0mcopy\u001b[0m\u001b[0;34m=\u001b[0m\u001b[0mcopy\u001b[0m\u001b[0;34m)\u001b[0m\u001b[0;34m\u001b[0m\u001b[0;34m\u001b[0m\u001b[0m\n\u001b[0m\u001b[1;32m    804\u001b[0m         \u001b[0;32mexcept\u001b[0m \u001b[0mzmq\u001b[0m\u001b[0;34m.\u001b[0m\u001b[0mZMQError\u001b[0m \u001b[0;32mas\u001b[0m \u001b[0me\u001b[0m\u001b[0;34m:\u001b[0m\u001b[0;34m\u001b[0m\u001b[0;34m\u001b[0m\u001b[0m\n",
            "\u001b[0;32m/usr/local/lib/python3.7/dist-packages/zmq/sugar/socket.py\u001b[0m in \u001b[0;36mrecv_multipart\u001b[0;34m(self, flags, copy, track)\u001b[0m\n\u001b[1;32m    582\u001b[0m         \"\"\"\n\u001b[0;32m--> 583\u001b[0;31m         \u001b[0mparts\u001b[0m \u001b[0;34m=\u001b[0m \u001b[0;34m[\u001b[0m\u001b[0mself\u001b[0m\u001b[0;34m.\u001b[0m\u001b[0mrecv\u001b[0m\u001b[0;34m(\u001b[0m\u001b[0mflags\u001b[0m\u001b[0;34m,\u001b[0m \u001b[0mcopy\u001b[0m\u001b[0;34m=\u001b[0m\u001b[0mcopy\u001b[0m\u001b[0;34m,\u001b[0m \u001b[0mtrack\u001b[0m\u001b[0;34m=\u001b[0m\u001b[0mtrack\u001b[0m\u001b[0;34m)\u001b[0m\u001b[0;34m]\u001b[0m\u001b[0;34m\u001b[0m\u001b[0;34m\u001b[0m\u001b[0m\n\u001b[0m\u001b[1;32m    584\u001b[0m         \u001b[0;31m# have first part already, only loop while more to receive\u001b[0m\u001b[0;34m\u001b[0m\u001b[0;34m\u001b[0m\u001b[0;34m\u001b[0m\u001b[0m\n",
            "\u001b[0;32mzmq/backend/cython/socket.pyx\u001b[0m in \u001b[0;36mzmq.backend.cython.socket.Socket.recv\u001b[0;34m()\u001b[0m\n",
            "\u001b[0;32mzmq/backend/cython/socket.pyx\u001b[0m in \u001b[0;36mzmq.backend.cython.socket.Socket.recv\u001b[0;34m()\u001b[0m\n",
            "\u001b[0;32mzmq/backend/cython/socket.pyx\u001b[0m in \u001b[0;36mzmq.backend.cython.socket._recv_copy\u001b[0;34m()\u001b[0m\n",
            "\u001b[0;32m/usr/local/lib/python3.7/dist-packages/zmq/backend/cython/checkrc.pxd\u001b[0m in \u001b[0;36mzmq.backend.cython.checkrc._check_rc\u001b[0;34m()\u001b[0m\n",
            "\u001b[0;31mKeyboardInterrupt\u001b[0m: ",
            "\nDuring handling of the above exception, another exception occurred:\n",
            "\u001b[0;31mKeyboardInterrupt\u001b[0m                         Traceback (most recent call last)",
            "\u001b[0;32m<ipython-input-4-c848379ccf64>\u001b[0m in \u001b[0;36m<module>\u001b[0;34m()\u001b[0m\n\u001b[1;32m     87\u001b[0m \u001b[0;32mfor\u001b[0m \u001b[0mi\u001b[0m \u001b[0;32min\u001b[0m \u001b[0mreversed\u001b[0m\u001b[0;34m(\u001b[0m\u001b[0muncomplete\u001b[0m\u001b[0;34m)\u001b[0m\u001b[0;34m:\u001b[0m\u001b[0;34m\u001b[0m\u001b[0;34m\u001b[0m\u001b[0m\n\u001b[1;32m     88\u001b[0m   \u001b[0;32mif\u001b[0m \u001b[0mnumb\u001b[0m\u001b[0;34m==\u001b[0m\u001b[0;36m10\u001b[0m\u001b[0;34m:\u001b[0m\u001b[0;34m\u001b[0m\u001b[0;34m\u001b[0m\u001b[0m\n\u001b[0;32m---> 89\u001b[0;31m     \u001b[0minput\u001b[0m\u001b[0;34m(\u001b[0m\u001b[0;34m'done'\u001b[0m\u001b[0;34m)\u001b[0m\u001b[0;34m\u001b[0m\u001b[0;34m\u001b[0m\u001b[0m\n\u001b[0m\u001b[1;32m     90\u001b[0m   \u001b[0mnow_lesson\u001b[0m\u001b[0;34m+=\u001b[0m\u001b[0;36m1\u001b[0m\u001b[0;34m\u001b[0m\u001b[0;34m\u001b[0m\u001b[0m\n\u001b[1;32m     91\u001b[0m   \u001b[0;32mwith\u001b[0m \u001b[0mgrid\u001b[0m\u001b[0;34m.\u001b[0m\u001b[0moutput_to\u001b[0m\u001b[0;34m(\u001b[0m\u001b[0mnow_lesson\u001b[0m\u001b[0;34m,\u001b[0m \u001b[0;36m0\u001b[0m\u001b[0;34m)\u001b[0m\u001b[0;34m:\u001b[0m\u001b[0mprint\u001b[0m\u001b[0;34m(\u001b[0m\u001b[0;34m'%d/%d'\u001b[0m\u001b[0;34m%\u001b[0m\u001b[0;34m(\u001b[0m\u001b[0mnow_lesson\u001b[0m\u001b[0;34m,\u001b[0m\u001b[0mtotal_lessons\u001b[0m\u001b[0;34m)\u001b[0m\u001b[0;34m)\u001b[0m\u001b[0;34m\u001b[0m\u001b[0;34m\u001b[0m\u001b[0m\n",
            "\u001b[0;32m/usr/local/lib/python3.7/dist-packages/ipykernel/kernelbase.py\u001b[0m in \u001b[0;36mraw_input\u001b[0;34m(self, prompt)\u001b[0m\n\u001b[1;32m    702\u001b[0m             \u001b[0mself\u001b[0m\u001b[0;34m.\u001b[0m\u001b[0m_parent_ident\u001b[0m\u001b[0;34m,\u001b[0m\u001b[0;34m\u001b[0m\u001b[0;34m\u001b[0m\u001b[0m\n\u001b[1;32m    703\u001b[0m             \u001b[0mself\u001b[0m\u001b[0;34m.\u001b[0m\u001b[0m_parent_header\u001b[0m\u001b[0;34m,\u001b[0m\u001b[0;34m\u001b[0m\u001b[0;34m\u001b[0m\u001b[0m\n\u001b[0;32m--> 704\u001b[0;31m             \u001b[0mpassword\u001b[0m\u001b[0;34m=\u001b[0m\u001b[0;32mFalse\u001b[0m\u001b[0;34m,\u001b[0m\u001b[0;34m\u001b[0m\u001b[0;34m\u001b[0m\u001b[0m\n\u001b[0m\u001b[1;32m    705\u001b[0m         )\n\u001b[1;32m    706\u001b[0m \u001b[0;34m\u001b[0m\u001b[0m\n",
            "\u001b[0;32m/usr/local/lib/python3.7/dist-packages/ipykernel/kernelbase.py\u001b[0m in \u001b[0;36m_input_request\u001b[0;34m(self, prompt, ident, parent, password)\u001b[0m\n\u001b[1;32m    732\u001b[0m             \u001b[0;32mexcept\u001b[0m \u001b[0mKeyboardInterrupt\u001b[0m\u001b[0;34m:\u001b[0m\u001b[0;34m\u001b[0m\u001b[0;34m\u001b[0m\u001b[0m\n\u001b[1;32m    733\u001b[0m                 \u001b[0;31m# re-raise KeyboardInterrupt, to truncate traceback\u001b[0m\u001b[0;34m\u001b[0m\u001b[0;34m\u001b[0m\u001b[0;34m\u001b[0m\u001b[0m\n\u001b[0;32m--> 734\u001b[0;31m                 \u001b[0;32mraise\u001b[0m \u001b[0mKeyboardInterrupt\u001b[0m\u001b[0;34m\u001b[0m\u001b[0;34m\u001b[0m\u001b[0m\n\u001b[0m\u001b[1;32m    735\u001b[0m             \u001b[0;32melse\u001b[0m\u001b[0;34m:\u001b[0m\u001b[0;34m\u001b[0m\u001b[0;34m\u001b[0m\u001b[0m\n\u001b[1;32m    736\u001b[0m                 \u001b[0;32mbreak\u001b[0m\u001b[0;34m\u001b[0m\u001b[0;34m\u001b[0m\u001b[0m\n",
            "\u001b[0;31mKeyboardInterrupt\u001b[0m: "
          ]
        }
      ]
    }
  ]
}