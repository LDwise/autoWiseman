{
  "nbformat": 4,
  "nbformat_minor": 0,
  "metadata": {
    "colab": {
      "name": "autoWiseman.ipynb",
      "provenance": [],
      "collapsed_sections": [],
      "include_colab_link": true
    },
    "kernelspec": {
      "name": "python3",
      "display_name": "Python 3"
    }
  },
  "cells": [
    {
      "cell_type": "markdown",
      "metadata": {
        "id": "view-in-github",
        "colab_type": "text"
      },
      "source": [
        "<a href=\"https://colab.research.google.com/github/LDwise/autoWiseman/blob/main/WisemanClear.ipynb\" target=\"_parent\"><img src=\"https://colab.research.google.com/assets/colab-badge.svg\" alt=\"Open In Colab\"/></a>"
      ]
    },
    {
      "cell_type": "code",
      "metadata": {
        "id": "ag4radyEKvkJ",
        "outputId": "847b6ea6-31b7-42d5-a771-9b26aef7b8a8",
        "colab": {
          "base_uri": "https://localhost:8080/",
          "height": 779
        }
      },
      "source": [
        "# coding=utf-8\n",
        "#@title \t&#8592;Click [ ▶ ] to Start. { display-mode: \"form\" }\n",
        "#@markdown Clean Your Wiseman Score\n",
        "Class = \"5a\" #@param [\"4a\", \"4b\", \"4c\", \"4d\", \"5a\", \"5b\", \"5c\", \"5d\", \"6a\", \"6b\", \"6c\", \"6d\"]\n",
        "Class_number = [\"01\", \"02\", \"03\", \"04\", \"05\", \"06\", \"07\", \"08\", \"09\", \"10\", \"11\", \"12\", \"13\", \"14\", \"15\", \"16\", \"17\", \"18\", \"19\", \"20\", \"21\", \"22\", \"23\", \"24\", \"25\", \"26\", \"27\", \"28\", \"29\", \"30\", \"31\" , \"32\", \"33\", \"34\", \"35\", \"36\", \"37\", \"38\", \"39\", \"40\"]\n",
        "# username = \"tiaccwhf.5a29\" #@param {type:\"string\"}\n",
        "# password = \"2020\" #@param {type:\"string\"}\n",
        "from google.colab import widgets\n",
        "from google.colab import output\n",
        "try:\n",
        "  from selenium import webdriver\n",
        "except:\n",
        "  # 清除輸出Log\n",
        "  !apt -q -qq update\n",
        "  !apt -q -qq install chromium-chromedriver\n",
        "  !pip -q install selenium\n",
        "  from selenium import webdriver\n",
        "from selenium.webdriver.support.ui import WebDriverWait\n",
        "from selenium.webdriver.common.by import By\n",
        "from selenium.webdriver.support import expected_conditions as EC\n",
        "# 設置Chrome啓動設置\n",
        "options = webdriver.ChromeOptions()\n",
        "# 無界面運行\n",
        "options.add_argument('--headless')\n",
        "# 以最高权限运行\n",
        "options.add_argument('--no-sandbox')\n",
        "# 忽略警告\\錯誤\\異常\n",
        "options.add_argument('log-level=3')\n",
        "# log-level:\n",
        "# Sets the minimum log level.\n",
        "# Valid values are from 0 to 3:\n",
        "#\t INFO = 0,\n",
        "#\t WARNING = 1,\n",
        "#\t LOG_ERROR = 2,\n",
        "#\t LOG_FATAL = 3.\n",
        "# default is 0.\n",
        "# 避免崩潰\n",
        "options.add_argument('--disable-dev-shm-usage')\n",
        "# 開啓Chrome並加入基礎設置\n",
        "driver = webdriver.Chrome(options=options)\n",
        "# 設定等待元素時間上限(單位秒)\n",
        "wait = WebDriverWait(driver,10)\n",
        "output.clear()\n",
        "for Class_number in Class_number:\n",
        "  # 在此修改你的賬號(小寫) e.g.5a30\n",
        "  information=Class+Class_number\n",
        "  # 登入Wiseman\n",
        "  driver.get('https://lms.wiseman.com.hk/lms/user/login.do?username=tiaccwhf.%s&password=2020'%information)\n",
        "  # driver.get('https://lms.wiseman.com.hk/lms/user/login.do?username=%s&password=%s'%(username,password))\n",
        "  # 等待頁面加載完畢\n",
        "  try:\n",
        "    wait.until(EC.presence_of_element_located((By.XPATH,'//div[@class=\"card\"]/div[@class=\"card-body\"]/div[@class=\"text-right\"]/h1[@class=\"font-light mb-0 d-inline-block d-md-block\"]')))\n",
        "  except:\n",
        "    continue\n",
        "  student_name=str(driver.find_element_by_xpath('//div[@class=\"profile-text\"]/a[@class=\"dropdown-toggle link u-dropdown\"]').get_attribute('textContent'))#//*[@id=\"main-wrapper\"]/aside/div/div[1]/div/div[2]/a\n",
        "  before_score=int(str(driver.find_element_by_xpath('//div[@class=\"card-body\"]/div[@class=\"text-right\"]/h1').get_attribute('textContent')).replace('&nbsp;',''))#//*[@id=\"main-wrapper\"]/div/div/div[2]/div[1]/div/div/div/h1\n",
        "  if before_score == 0:\n",
        "    print('%s Score:%d'%(student_name,before_score))\n",
        "    continue\n",
        "  # 進入課程列表\n",
        "  driver.get('https://lms.wiseman.com.hk/lms/user/secure/course/eb/select_theme/lessons.shtml')\n",
        "  # link element\n",
        "  wait.until(EC.presence_of_element_located((By.XPATH, '//div[@class=\"card-body\"]/div[@class=\"table-responsive\"]/table[@class=\"table table-striped\"]')))\n",
        "  # 獲取所有鏈接和標題\n",
        "  uncomplete=[]\n",
        "  # 獲取tr橫向表格框\n",
        "  for tr in driver.find_elements_by_xpath('//div[@class=\"card-body\"]/div[@class=\"table-responsive\"]/table[@class=\"table table-striped\"]/tbody/tr'):\n",
        "    try:\n",
        "      # 在tr框内尋找鏈接\n",
        "      a = tr.find_element_by_xpath('.//a[contains(@href,\"selectLesson.do?id=\")]')\n",
        "      # if 狀態非New\n",
        "      if tr.find_element_by_xpath('.//td[@class=\"small align-middle\"]//*[@title]').get_attribute('title')!='New':\n",
        "        origin_status = tr.find_element_by_xpath('.//td[@class=\"small align-middle\"]//*[@title]').get_attribute('title')\n",
        "        # 獲取標題\n",
        "        title = a.get_attribute('textContent')\n",
        "        # 獲取鏈接\n",
        "        link = a.get_attribute('href')\n",
        "        # 加入列表\n",
        "        uncomplete.append({'title':title,'link':link})\n",
        "    except:\n",
        "      pass\n",
        "  now_lesson=0\n",
        "  total_lessons=len(uncomplete)\n",
        "  print('%s Score:%d'%(student_name,before_score))\n",
        "  grid = widgets.Grid((total_lessons+1), 3, header_row=True)\n",
        "  with grid.output_to(0, 1):print('Status')\n",
        "  with grid.output_to(0, 2):print('Title')\n",
        "  # 在列表範圍内循環\n",
        "  for i in uncomplete:\n",
        "    now_lesson+=1\n",
        "    with grid.output_to(now_lesson, 0):print('%d/%d'%(now_lesson,total_lessons))\n",
        "    with grid.output_to(now_lesson, 1):print(origin_status)\n",
        "    with grid.output_to(now_lesson, 2):print('%s(%s)'%(i['title'],i['link']))\n",
        "    # 進入鏈接\n",
        "    driver.get(i['link'])\n",
        "    wait.until(EC.presence_of_element_located((By.XPATH,'//iframe[@id=\"course\"]')))\n",
        "    # Loading time\n",
        "    driver.switch_to.frame('course')\n",
        "    # 等待頁面加載完畢\n",
        "    # wait.until(EC.presence_of_element_located((By.XPATH,'//div[@class=\"head course-head\"]/div[@class=\"course-head-text\"]')))\n",
        "    wait.until(EC.presence_of_element_located((By.TAG_NAME,'label')))\n",
        "    # Return top\n",
        "    driver.switch_to.default_content()\n",
        "    wait.until(EC.presence_of_element_located((By.XPATH,'//iframe[@id=\"course\"]')))\n",
        "    driver.execute_script('''\n",
        "    doCourseAPIKeepAlive=function(){return false;};\n",
        "    API.cmiData[\"cmi.core.lesson_status\"]=\"new\";\n",
        "    var formData = new FormData();\n",
        "    formData.set('token', API.token);\n",
        "    formData.set('data', API.cmiData.toJSONString());\n",
        "    navigator.sendBeacon(\"commit.do\", formData);\n",
        "    // API.cmiData[\"cmi.core.score.raw\"]=100;\n",
        "    // API.cmiData[\"cmi.core.lesson_status\"]=\"completed\";\n",
        "    // navigator.sendBeacon(\"commit.do\", formData);\n",
        "    navigator.sendBeacon=function(){return false;};\n",
        "    ''')\n",
        "    with grid.output_to(now_lesson, 1):\n",
        "      grid.clear_cell()\n",
        "      print('New')\n",
        "  # 進入分數頁面\n",
        "  driver.get('https://lms.wiseman.com.hk/lms/user/secure/course/eb/select_theme/dashboard.shtml')\n",
        "  # 等待頁面加載完畢\n",
        "  wait.until(EC.presence_of_element_located((By.XPATH,'//div[@class=\"card-body\"]/div[@class=\"text-right\"]/h1')))\n",
        "  # 完成后的分數\n",
        "  after_score=int(str(driver.find_element_by_xpath('//div[@class=\"card-body\"]/div[@class=\"text-right\"]/h1').get_attribute('textContent')).replace('&nbsp;',''))\n",
        "  # 登出Wiseman\n",
        "  driver.get('https://lms.wiseman.com.hk/lms/user/logout.do')\n",
        "  print('%s[%d=>%d]'%(student_name,before_score,after_score))\n",
        "driver.quit()"
      ],
      "execution_count": null,
      "outputs": [
        {
          "output_type": "stream",
          "text": [
            "5A-01-CAO SHUYU  Score:371\n"
          ],
          "name": "stdout"
        },
        {
          "output_type": "display_data",
          "data": {
            "text/html": [
              "<style>\n",
              "       table#id26, #id26 > tbody > tr > th, #id26 > tbody > tr > td {\n",
              "         border: 1px solid lightgray;\n",
              "         border-collapse:collapse;\n",
              "         \n",
              "        }</style>"
            ],
            "text/plain": [
              "<IPython.core.display.HTML object>"
            ]
          },
          "metadata": {
            "tags": [
              "outputarea_id26"
            ]
          }
        },
        {
          "output_type": "display_data",
          "data": {
            "text/html": [
              "<table id=id26><tr><th id=id26-0-0></th><th id=id26-0-1></th><th id=id26-0-2></th></tr><tr><td id=id26-1-0></td><td id=id26-1-1></td><td id=id26-1-2></td></tr><tr><td id=id26-2-0></td><td id=id26-2-1></td><td id=id26-2-2></td></tr><tr><td id=id26-3-0></td><td id=id26-3-1></td><td id=id26-3-2></td></tr><tr><td id=id26-4-0></td><td id=id26-4-1></td><td id=id26-4-2></td></tr><tr><td id=id26-5-0></td><td id=id26-5-1></td><td id=id26-5-2></td></tr><tr><td id=id26-6-0></td><td id=id26-6-1></td><td id=id26-6-2></td></tr><tr><td id=id26-7-0></td><td id=id26-7-1></td><td id=id26-7-2></td></tr><tr><td id=id26-8-0></td><td id=id26-8-1></td><td id=id26-8-2></td></tr><tr><td id=id26-9-0></td><td id=id26-9-1></td><td id=id26-9-2></td></tr><tr><td id=id26-10-0></td><td id=id26-10-1></td><td id=id26-10-2></td></tr><tr><td id=id26-11-0></td><td id=id26-11-1></td><td id=id26-11-2></td></tr></table>"
            ],
            "text/plain": [
              "<IPython.core.display.HTML object>"
            ]
          },
          "metadata": {
            "tags": [
              "outputarea_id26"
            ]
          }
        },
        {
          "output_type": "display_data",
          "data": {
            "application/javascript": [
              "window[\"64fa5aca-4dc8-11eb-8708-0242ac1c0002\"] = google.colab.output.getActiveOutputArea();\n",
              "//# sourceURL=js_d486bdc6c9"
            ],
            "text/plain": [
              "<IPython.core.display.Javascript object>"
            ]
          },
          "metadata": {
            "tags": [
              "id26-0-1",
              "outputarea_id26"
            ]
          }
        },
        {
          "output_type": "display_data",
          "data": {
            "application/javascript": [
              "window[\"64fb1d3e-4dc8-11eb-8708-0242ac1c0002\"] = document.querySelector(\"#id26-0-1\");\n",
              "//# sourceURL=js_f66060a385"
            ],
            "text/plain": [
              "<IPython.core.display.Javascript object>"
            ]
          },
          "metadata": {
            "tags": [
              "id26-0-1",
              "outputarea_id26"
            ]
          }
        },
        {
          "output_type": "display_data",
          "data": {
            "application/javascript": [
              "window[\"64fba1a0-4dc8-11eb-8708-0242ac1c0002\"] = google.colab.output.setActiveOutputArea(window[\"64fb1d3e-4dc8-11eb-8708-0242ac1c0002\"]);\n",
              "//# sourceURL=js_6a1b4af5a3"
            ],
            "text/plain": [
              "<IPython.core.display.Javascript object>"
            ]
          },
          "metadata": {
            "tags": [
              "id26-0-1",
              "outputarea_id26"
            ]
          }
        },
        {
          "output_type": "stream",
          "text": [
            "Status\n"
          ],
          "name": "stdout"
        },
        {
          "output_type": "display_data",
          "data": {
            "application/javascript": [
              "window[\"64fd636e-4dc8-11eb-8708-0242ac1c0002\"] = google.colab.output.setActiveOutputArea(window[\"64fa5aca-4dc8-11eb-8708-0242ac1c0002\"]);\n",
              "//# sourceURL=js_c33f2b3775"
            ],
            "text/plain": [
              "<IPython.core.display.Javascript object>"
            ]
          },
          "metadata": {
            "tags": [
              "id26-0-1",
              "outputarea_id26"
            ]
          }
        },
        {
          "output_type": "display_data",
          "data": {
            "application/javascript": [
              "window[\"64fee2de-4dc8-11eb-8708-0242ac1c0002\"] = google.colab.output.getActiveOutputArea();\n",
              "//# sourceURL=js_d926739ec7"
            ],
            "text/plain": [
              "<IPython.core.display.Javascript object>"
            ]
          },
          "metadata": {
            "tags": [
              "id26-0-2",
              "outputarea_id26"
            ]
          }
        },
        {
          "output_type": "display_data",
          "data": {
            "application/javascript": [
              "window[\"64ff6e98-4dc8-11eb-8708-0242ac1c0002\"] = document.querySelector(\"#id26-0-2\");\n",
              "//# sourceURL=js_16b7668416"
            ],
            "text/plain": [
              "<IPython.core.display.Javascript object>"
            ]
          },
          "metadata": {
            "tags": [
              "id26-0-2",
              "outputarea_id26"
            ]
          }
        },
        {
          "output_type": "display_data",
          "data": {
            "application/javascript": [
              "window[\"64ffd2a2-4dc8-11eb-8708-0242ac1c0002\"] = google.colab.output.setActiveOutputArea(window[\"64ff6e98-4dc8-11eb-8708-0242ac1c0002\"]);\n",
              "//# sourceURL=js_f66b11e86f"
            ],
            "text/plain": [
              "<IPython.core.display.Javascript object>"
            ]
          },
          "metadata": {
            "tags": [
              "id26-0-2",
              "outputarea_id26"
            ]
          }
        },
        {
          "output_type": "stream",
          "text": [
            "Title\n"
          ],
          "name": "stdout"
        },
        {
          "output_type": "display_data",
          "data": {
            "application/javascript": [
              "window[\"65010e60-4dc8-11eb-8708-0242ac1c0002\"] = google.colab.output.setActiveOutputArea(window[\"64fee2de-4dc8-11eb-8708-0242ac1c0002\"]);\n",
              "//# sourceURL=js_aea1c8d2ca"
            ],
            "text/plain": [
              "<IPython.core.display.Javascript object>"
            ]
          },
          "metadata": {
            "tags": [
              "id26-0-2",
              "outputarea_id26"
            ]
          }
        },
        {
          "output_type": "display_data",
          "data": {
            "application/javascript": [
              "window[\"6502aa2c-4dc8-11eb-8708-0242ac1c0002\"] = google.colab.output.getActiveOutputArea();\n",
              "//# sourceURL=js_569827296c"
            ],
            "text/plain": [
              "<IPython.core.display.Javascript object>"
            ]
          },
          "metadata": {
            "tags": [
              "id26-1-0",
              "outputarea_id26"
            ]
          }
        },
        {
          "output_type": "display_data",
          "data": {
            "application/javascript": [
              "window[\"650325ce-4dc8-11eb-8708-0242ac1c0002\"] = document.querySelector(\"#id26-1-0\");\n",
              "//# sourceURL=js_c061977c1c"
            ],
            "text/plain": [
              "<IPython.core.display.Javascript object>"
            ]
          },
          "metadata": {
            "tags": [
              "id26-1-0",
              "outputarea_id26"
            ]
          }
        },
        {
          "output_type": "display_data",
          "data": {
            "application/javascript": [
              "window[\"65039a5e-4dc8-11eb-8708-0242ac1c0002\"] = google.colab.output.setActiveOutputArea(window[\"650325ce-4dc8-11eb-8708-0242ac1c0002\"]);\n",
              "//# sourceURL=js_09deb3c56b"
            ],
            "text/plain": [
              "<IPython.core.display.Javascript object>"
            ]
          },
          "metadata": {
            "tags": [
              "id26-1-0",
              "outputarea_id26"
            ]
          }
        },
        {
          "output_type": "stream",
          "text": [
            "1/11\n"
          ],
          "name": "stdout"
        },
        {
          "output_type": "display_data",
          "data": {
            "application/javascript": [
              "window[\"6504b0a6-4dc8-11eb-8708-0242ac1c0002\"] = google.colab.output.setActiveOutputArea(window[\"6502aa2c-4dc8-11eb-8708-0242ac1c0002\"]);\n",
              "//# sourceURL=js_4aebe8bd0d"
            ],
            "text/plain": [
              "<IPython.core.display.Javascript object>"
            ]
          },
          "metadata": {
            "tags": [
              "id26-1-0",
              "outputarea_id26"
            ]
          }
        },
        {
          "output_type": "display_data",
          "data": {
            "application/javascript": [
              "window[\"6506364c-4dc8-11eb-8708-0242ac1c0002\"] = google.colab.output.getActiveOutputArea();\n",
              "//# sourceURL=js_8c9c46b8dd"
            ],
            "text/plain": [
              "<IPython.core.display.Javascript object>"
            ]
          },
          "metadata": {
            "tags": [
              "id26-1-1",
              "outputarea_id26"
            ]
          }
        },
        {
          "output_type": "display_data",
          "data": {
            "application/javascript": [
              "window[\"6506f8c0-4dc8-11eb-8708-0242ac1c0002\"] = document.querySelector(\"#id26-1-1\");\n",
              "//# sourceURL=js_e4126c985d"
            ],
            "text/plain": [
              "<IPython.core.display.Javascript object>"
            ]
          },
          "metadata": {
            "tags": [
              "id26-1-1",
              "outputarea_id26"
            ]
          }
        },
        {
          "output_type": "display_data",
          "data": {
            "application/javascript": [
              "window[\"65076d1e-4dc8-11eb-8708-0242ac1c0002\"] = google.colab.output.setActiveOutputArea(window[\"6506f8c0-4dc8-11eb-8708-0242ac1c0002\"]);\n",
              "//# sourceURL=js_05771d9b7a"
            ],
            "text/plain": [
              "<IPython.core.display.Javascript object>"
            ]
          },
          "metadata": {
            "tags": [
              "id26-1-1",
              "outputarea_id26"
            ]
          }
        },
        {
          "output_type": "display_data",
          "data": {
            "application/javascript": [
              "window[\"65087eac-4dc8-11eb-8708-0242ac1c0002\"] = google.colab.output.setActiveOutputArea(window[\"6506364c-4dc8-11eb-8708-0242ac1c0002\"]);\n",
              "//# sourceURL=js_8b21947d07"
            ],
            "text/plain": [
              "<IPython.core.display.Javascript object>"
            ]
          },
          "metadata": {
            "tags": [
              "id26-1-1",
              "outputarea_id26"
            ]
          }
        },
        {
          "output_type": "display_data",
          "data": {
            "application/javascript": [
              "window[\"6509fb56-4dc8-11eb-8708-0242ac1c0002\"] = google.colab.output.getActiveOutputArea();\n",
              "//# sourceURL=js_6e9dc470a8"
            ],
            "text/plain": [
              "<IPython.core.display.Javascript object>"
            ]
          },
          "metadata": {
            "tags": [
              "id26-1-2",
              "outputarea_id26"
            ]
          }
        },
        {
          "output_type": "display_data",
          "data": {
            "application/javascript": [
              "window[\"650a8af8-4dc8-11eb-8708-0242ac1c0002\"] = document.querySelector(\"#id26-1-2\");\n",
              "//# sourceURL=js_088277ac85"
            ],
            "text/plain": [
              "<IPython.core.display.Javascript object>"
            ]
          },
          "metadata": {
            "tags": [
              "id26-1-2",
              "outputarea_id26"
            ]
          }
        },
        {
          "output_type": "display_data",
          "data": {
            "application/javascript": [
              "window[\"650af3f8-4dc8-11eb-8708-0242ac1c0002\"] = google.colab.output.setActiveOutputArea(window[\"650a8af8-4dc8-11eb-8708-0242ac1c0002\"]);\n",
              "//# sourceURL=js_0580a32f22"
            ],
            "text/plain": [
              "<IPython.core.display.Javascript object>"
            ]
          },
          "metadata": {
            "tags": [
              "id26-1-2",
              "outputarea_id26"
            ]
          }
        },
        {
          "output_type": "stream",
          "text": [
            "Can Machines Have Feelings - Reading(https://lms.wiseman.com.hk/lms/user/secure/course/eb/select_theme/selectLesson.do?id=8ae5daa05e4eb277015e5127f05f0050&from=lesson)\n"
          ],
          "name": "stdout"
        },
        {
          "output_type": "display_data",
          "data": {
            "application/javascript": [
              "window[\"650bfe6a-4dc8-11eb-8708-0242ac1c0002\"] = google.colab.output.setActiveOutputArea(window[\"6509fb56-4dc8-11eb-8708-0242ac1c0002\"]);\n",
              "//# sourceURL=js_9e6043cf54"
            ],
            "text/plain": [
              "<IPython.core.display.Javascript object>"
            ]
          },
          "metadata": {
            "tags": [
              "id26-1-2",
              "outputarea_id26"
            ]
          }
        },
        {
          "output_type": "display_data",
          "data": {
            "application/javascript": [
              "window[\"6b5229e8-4dc8-11eb-8708-0242ac1c0002\"] = google.colab.output.getActiveOutputArea();\n",
              "//# sourceURL=js_7a3c7f21ca"
            ],
            "text/plain": [
              "<IPython.core.display.Javascript object>"
            ]
          },
          "metadata": {
            "tags": [
              "id26-1-1",
              "outputarea_id26"
            ]
          }
        },
        {
          "output_type": "display_data",
          "data": {
            "application/javascript": [
              "window[\"6b5321f4-4dc8-11eb-8708-0242ac1c0002\"] = document.querySelector(\"#id26-1-1\");\n",
              "//# sourceURL=js_aae3967e5e"
            ],
            "text/plain": [
              "<IPython.core.display.Javascript object>"
            ]
          },
          "metadata": {
            "tags": [
              "id26-1-1",
              "outputarea_id26"
            ]
          }
        },
        {
          "output_type": "display_data",
          "data": {
            "application/javascript": [
              "window[\"6b53d7fc-4dc8-11eb-8708-0242ac1c0002\"] = google.colab.output.setActiveOutputArea(window[\"6b5321f4-4dc8-11eb-8708-0242ac1c0002\"]);\n",
              "//# sourceURL=js_73ac19e01d"
            ],
            "text/plain": [
              "<IPython.core.display.Javascript object>"
            ]
          },
          "metadata": {
            "tags": [
              "id26-1-1",
              "outputarea_id26"
            ]
          }
        },
        {
          "output_type": "stream",
          "text": [
            "New\n"
          ],
          "name": "stdout"
        },
        {
          "output_type": "display_data",
          "data": {
            "application/javascript": [
              "window[\"6b55965a-4dc8-11eb-8708-0242ac1c0002\"] = google.colab.output.setActiveOutputArea(window[\"6b5229e8-4dc8-11eb-8708-0242ac1c0002\"]);\n",
              "//# sourceURL=js_fea19c8e43"
            ],
            "text/plain": [
              "<IPython.core.display.Javascript object>"
            ]
          },
          "metadata": {
            "tags": [
              "id26-1-1",
              "outputarea_id26"
            ]
          }
        },
        {
          "output_type": "display_data",
          "data": {
            "application/javascript": [
              "window[\"6b5724f2-4dc8-11eb-8708-0242ac1c0002\"] = google.colab.output.getActiveOutputArea();\n",
              "//# sourceURL=js_08ad306587"
            ],
            "text/plain": [
              "<IPython.core.display.Javascript object>"
            ]
          },
          "metadata": {
            "tags": [
              "id26-2-0",
              "outputarea_id26"
            ]
          }
        },
        {
          "output_type": "display_data",
          "data": {
            "application/javascript": [
              "window[\"6b578258-4dc8-11eb-8708-0242ac1c0002\"] = document.querySelector(\"#id26-2-0\");\n",
              "//# sourceURL=js_4dfa572d94"
            ],
            "text/plain": [
              "<IPython.core.display.Javascript object>"
            ]
          },
          "metadata": {
            "tags": [
              "id26-2-0",
              "outputarea_id26"
            ]
          }
        },
        {
          "output_type": "display_data",
          "data": {
            "application/javascript": [
              "window[\"6b58528c-4dc8-11eb-8708-0242ac1c0002\"] = google.colab.output.setActiveOutputArea(window[\"6b578258-4dc8-11eb-8708-0242ac1c0002\"]);\n",
              "//# sourceURL=js_ac6b5caf71"
            ],
            "text/plain": [
              "<IPython.core.display.Javascript object>"
            ]
          },
          "metadata": {
            "tags": [
              "id26-2-0",
              "outputarea_id26"
            ]
          }
        },
        {
          "output_type": "stream",
          "text": [
            "2/11\n"
          ],
          "name": "stdout"
        },
        {
          "output_type": "display_data",
          "data": {
            "application/javascript": [
              "window[\"6b5a9dda-4dc8-11eb-8708-0242ac1c0002\"] = google.colab.output.setActiveOutputArea(window[\"6b5724f2-4dc8-11eb-8708-0242ac1c0002\"]);\n",
              "//# sourceURL=js_9731e063ff"
            ],
            "text/plain": [
              "<IPython.core.display.Javascript object>"
            ]
          },
          "metadata": {
            "tags": [
              "id26-2-0",
              "outputarea_id26"
            ]
          }
        },
        {
          "output_type": "display_data",
          "data": {
            "application/javascript": [
              "window[\"6b5e31ca-4dc8-11eb-8708-0242ac1c0002\"] = google.colab.output.getActiveOutputArea();\n",
              "//# sourceURL=js_6d7bcb396e"
            ],
            "text/plain": [
              "<IPython.core.display.Javascript object>"
            ]
          },
          "metadata": {
            "tags": [
              "id26-2-1",
              "outputarea_id26"
            ]
          }
        },
        {
          "output_type": "display_data",
          "data": {
            "application/javascript": [
              "window[\"6b5f0c62-4dc8-11eb-8708-0242ac1c0002\"] = document.querySelector(\"#id26-2-1\");\n",
              "//# sourceURL=js_604bd98a71"
            ],
            "text/plain": [
              "<IPython.core.display.Javascript object>"
            ]
          },
          "metadata": {
            "tags": [
              "id26-2-1",
              "outputarea_id26"
            ]
          }
        },
        {
          "output_type": "display_data",
          "data": {
            "application/javascript": [
              "window[\"6b5f60b8-4dc8-11eb-8708-0242ac1c0002\"] = google.colab.output.setActiveOutputArea(window[\"6b5f0c62-4dc8-11eb-8708-0242ac1c0002\"]);\n",
              "//# sourceURL=js_42ce3b22d6"
            ],
            "text/plain": [
              "<IPython.core.display.Javascript object>"
            ]
          },
          "metadata": {
            "tags": [
              "id26-2-1",
              "outputarea_id26"
            ]
          }
        },
        {
          "output_type": "display_data",
          "data": {
            "application/javascript": [
              "window[\"6b613fdc-4dc8-11eb-8708-0242ac1c0002\"] = google.colab.output.setActiveOutputArea(window[\"6b5e31ca-4dc8-11eb-8708-0242ac1c0002\"]);\n",
              "//# sourceURL=js_8413080599"
            ],
            "text/plain": [
              "<IPython.core.display.Javascript object>"
            ]
          },
          "metadata": {
            "tags": [
              "id26-2-1",
              "outputarea_id26"
            ]
          }
        },
        {
          "output_type": "display_data",
          "data": {
            "application/javascript": [
              "window[\"6b6515b2-4dc8-11eb-8708-0242ac1c0002\"] = google.colab.output.getActiveOutputArea();\n",
              "//# sourceURL=js_1bd9078803"
            ],
            "text/plain": [
              "<IPython.core.display.Javascript object>"
            ]
          },
          "metadata": {
            "tags": [
              "id26-2-2",
              "outputarea_id26"
            ]
          }
        },
        {
          "output_type": "display_data",
          "data": {
            "application/javascript": [
              "window[\"6b65db28-4dc8-11eb-8708-0242ac1c0002\"] = document.querySelector(\"#id26-2-2\");\n",
              "//# sourceURL=js_303c545c1b"
            ],
            "text/plain": [
              "<IPython.core.display.Javascript object>"
            ]
          },
          "metadata": {
            "tags": [
              "id26-2-2",
              "outputarea_id26"
            ]
          }
        },
        {
          "output_type": "display_data",
          "data": {
            "application/javascript": [
              "window[\"6b663172-4dc8-11eb-8708-0242ac1c0002\"] = google.colab.output.setActiveOutputArea(window[\"6b65db28-4dc8-11eb-8708-0242ac1c0002\"]);\n",
              "//# sourceURL=js_c970d317e5"
            ],
            "text/plain": [
              "<IPython.core.display.Javascript object>"
            ]
          },
          "metadata": {
            "tags": [
              "id26-2-2",
              "outputarea_id26"
            ]
          }
        },
        {
          "output_type": "stream",
          "text": [
            "Can Machines Have Feelings - Speaking(https://lms.wiseman.com.hk/lms/user/secure/course/eb/select_theme/selectLesson.do?id=8ae5daa05e4eb277015e512b19db0056&from=lesson)\n"
          ],
          "name": "stdout"
        },
        {
          "output_type": "display_data",
          "data": {
            "application/javascript": [
              "window[\"6b67a142-4dc8-11eb-8708-0242ac1c0002\"] = google.colab.output.setActiveOutputArea(window[\"6b6515b2-4dc8-11eb-8708-0242ac1c0002\"]);\n",
              "//# sourceURL=js_6e05c00217"
            ],
            "text/plain": [
              "<IPython.core.display.Javascript object>"
            ]
          },
          "metadata": {
            "tags": [
              "id26-2-2",
              "outputarea_id26"
            ]
          }
        },
        {
          "output_type": "display_data",
          "data": {
            "application/javascript": [
              "window[\"6f818040-4dc8-11eb-8708-0242ac1c0002\"] = google.colab.output.getActiveOutputArea();\n",
              "//# sourceURL=js_5ed176feb5"
            ],
            "text/plain": [
              "<IPython.core.display.Javascript object>"
            ]
          },
          "metadata": {
            "tags": [
              "id26-2-1",
              "outputarea_id26"
            ]
          }
        },
        {
          "output_type": "display_data",
          "data": {
            "application/javascript": [
              "window[\"6f827e00-4dc8-11eb-8708-0242ac1c0002\"] = document.querySelector(\"#id26-2-1\");\n",
              "//# sourceURL=js_cebab9b0e5"
            ],
            "text/plain": [
              "<IPython.core.display.Javascript object>"
            ]
          },
          "metadata": {
            "tags": [
              "id26-2-1",
              "outputarea_id26"
            ]
          }
        },
        {
          "output_type": "display_data",
          "data": {
            "application/javascript": [
              "window[\"6f82dc06-4dc8-11eb-8708-0242ac1c0002\"] = google.colab.output.setActiveOutputArea(window[\"6f827e00-4dc8-11eb-8708-0242ac1c0002\"]);\n",
              "//# sourceURL=js_f77396bd76"
            ],
            "text/plain": [
              "<IPython.core.display.Javascript object>"
            ]
          },
          "metadata": {
            "tags": [
              "id26-2-1",
              "outputarea_id26"
            ]
          }
        },
        {
          "output_type": "stream",
          "text": [
            "New\n"
          ],
          "name": "stdout"
        },
        {
          "output_type": "display_data",
          "data": {
            "application/javascript": [
              "window[\"6f853460-4dc8-11eb-8708-0242ac1c0002\"] = google.colab.output.setActiveOutputArea(window[\"6f818040-4dc8-11eb-8708-0242ac1c0002\"]);\n",
              "//# sourceURL=js_a6fc7c1c52"
            ],
            "text/plain": [
              "<IPython.core.display.Javascript object>"
            ]
          },
          "metadata": {
            "tags": [
              "id26-2-1",
              "outputarea_id26"
            ]
          }
        },
        {
          "output_type": "display_data",
          "data": {
            "application/javascript": [
              "window[\"6f87d58a-4dc8-11eb-8708-0242ac1c0002\"] = google.colab.output.getActiveOutputArea();\n",
              "//# sourceURL=js_f88065776b"
            ],
            "text/plain": [
              "<IPython.core.display.Javascript object>"
            ]
          },
          "metadata": {
            "tags": [
              "id26-3-0",
              "outputarea_id26"
            ]
          }
        },
        {
          "output_type": "display_data",
          "data": {
            "application/javascript": [
              "window[\"6f88745e-4dc8-11eb-8708-0242ac1c0002\"] = document.querySelector(\"#id26-3-0\");\n",
              "//# sourceURL=js_f024c2b2c1"
            ],
            "text/plain": [
              "<IPython.core.display.Javascript object>"
            ]
          },
          "metadata": {
            "tags": [
              "id26-3-0",
              "outputarea_id26"
            ]
          }
        },
        {
          "output_type": "display_data",
          "data": {
            "application/javascript": [
              "window[\"6f890536-4dc8-11eb-8708-0242ac1c0002\"] = google.colab.output.setActiveOutputArea(window[\"6f88745e-4dc8-11eb-8708-0242ac1c0002\"]);\n",
              "//# sourceURL=js_e847e86060"
            ],
            "text/plain": [
              "<IPython.core.display.Javascript object>"
            ]
          },
          "metadata": {
            "tags": [
              "id26-3-0",
              "outputarea_id26"
            ]
          }
        },
        {
          "output_type": "stream",
          "text": [
            "3/11\n"
          ],
          "name": "stdout"
        },
        {
          "output_type": "display_data",
          "data": {
            "application/javascript": [
              "window[\"6f8b251e-4dc8-11eb-8708-0242ac1c0002\"] = google.colab.output.setActiveOutputArea(window[\"6f87d58a-4dc8-11eb-8708-0242ac1c0002\"]);\n",
              "//# sourceURL=js_d2a2834bfa"
            ],
            "text/plain": [
              "<IPython.core.display.Javascript object>"
            ]
          },
          "metadata": {
            "tags": [
              "id26-3-0",
              "outputarea_id26"
            ]
          }
        },
        {
          "output_type": "display_data",
          "data": {
            "application/javascript": [
              "window[\"6f8cd210-4dc8-11eb-8708-0242ac1c0002\"] = google.colab.output.getActiveOutputArea();\n",
              "//# sourceURL=js_1ba9069978"
            ],
            "text/plain": [
              "<IPython.core.display.Javascript object>"
            ]
          },
          "metadata": {
            "tags": [
              "id26-3-1",
              "outputarea_id26"
            ]
          }
        },
        {
          "output_type": "display_data",
          "data": {
            "application/javascript": [
              "window[\"6f8d1734-4dc8-11eb-8708-0242ac1c0002\"] = document.querySelector(\"#id26-3-1\");\n",
              "//# sourceURL=js_3d802ac85c"
            ],
            "text/plain": [
              "<IPython.core.display.Javascript object>"
            ]
          },
          "metadata": {
            "tags": [
              "id26-3-1",
              "outputarea_id26"
            ]
          }
        },
        {
          "output_type": "display_data",
          "data": {
            "application/javascript": [
              "window[\"6f8d8a66-4dc8-11eb-8708-0242ac1c0002\"] = google.colab.output.setActiveOutputArea(window[\"6f8d1734-4dc8-11eb-8708-0242ac1c0002\"]);\n",
              "//# sourceURL=js_cd4fd82305"
            ],
            "text/plain": [
              "<IPython.core.display.Javascript object>"
            ]
          },
          "metadata": {
            "tags": [
              "id26-3-1",
              "outputarea_id26"
            ]
          }
        },
        {
          "output_type": "display_data",
          "data": {
            "application/javascript": [
              "window[\"6f8ee0dc-4dc8-11eb-8708-0242ac1c0002\"] = google.colab.output.setActiveOutputArea(window[\"6f8cd210-4dc8-11eb-8708-0242ac1c0002\"]);\n",
              "//# sourceURL=js_daa514bc5f"
            ],
            "text/plain": [
              "<IPython.core.display.Javascript object>"
            ]
          },
          "metadata": {
            "tags": [
              "id26-3-1",
              "outputarea_id26"
            ]
          }
        },
        {
          "output_type": "display_data",
          "data": {
            "application/javascript": [
              "window[\"6f922e0e-4dc8-11eb-8708-0242ac1c0002\"] = google.colab.output.getActiveOutputArea();\n",
              "//# sourceURL=js_de02f77cfd"
            ],
            "text/plain": [
              "<IPython.core.display.Javascript object>"
            ]
          },
          "metadata": {
            "tags": [
              "id26-3-2",
              "outputarea_id26"
            ]
          }
        },
        {
          "output_type": "display_data",
          "data": {
            "application/javascript": [
              "window[\"6f928818-4dc8-11eb-8708-0242ac1c0002\"] = document.querySelector(\"#id26-3-2\");\n",
              "//# sourceURL=js_4e5db9e031"
            ],
            "text/plain": [
              "<IPython.core.display.Javascript object>"
            ]
          },
          "metadata": {
            "tags": [
              "id26-3-2",
              "outputarea_id26"
            ]
          }
        },
        {
          "output_type": "display_data",
          "data": {
            "application/javascript": [
              "window[\"6f92de9e-4dc8-11eb-8708-0242ac1c0002\"] = google.colab.output.setActiveOutputArea(window[\"6f928818-4dc8-11eb-8708-0242ac1c0002\"]);\n",
              "//# sourceURL=js_48871299ce"
            ],
            "text/plain": [
              "<IPython.core.display.Javascript object>"
            ]
          },
          "metadata": {
            "tags": [
              "id26-3-2",
              "outputarea_id26"
            ]
          }
        },
        {
          "output_type": "stream",
          "text": [
            "Can Machines Have Feelings - Writing(https://lms.wiseman.com.hk/lms/user/secure/course/eb/select_theme/selectLesson.do?id=8ae5daa05e4eb277015e512c54a0005c&from=lesson)\n"
          ],
          "name": "stdout"
        },
        {
          "output_type": "display_data",
          "data": {
            "application/javascript": [
              "window[\"6f940666-4dc8-11eb-8708-0242ac1c0002\"] = google.colab.output.setActiveOutputArea(window[\"6f922e0e-4dc8-11eb-8708-0242ac1c0002\"]);\n",
              "//# sourceURL=js_fd534b0d1f"
            ],
            "text/plain": [
              "<IPython.core.display.Javascript object>"
            ]
          },
          "metadata": {
            "tags": [
              "id26-3-2",
              "outputarea_id26"
            ]
          }
        },
        {
          "output_type": "display_data",
          "data": {
            "application/javascript": [
              "window[\"73d250e8-4dc8-11eb-8708-0242ac1c0002\"] = google.colab.output.getActiveOutputArea();\n",
              "//# sourceURL=js_0d463d5b08"
            ],
            "text/plain": [
              "<IPython.core.display.Javascript object>"
            ]
          },
          "metadata": {
            "tags": [
              "id26-3-1",
              "outputarea_id26"
            ]
          }
        },
        {
          "output_type": "display_data",
          "data": {
            "application/javascript": [
              "window[\"73d307f4-4dc8-11eb-8708-0242ac1c0002\"] = document.querySelector(\"#id26-3-1\");\n",
              "//# sourceURL=js_f6d08460c3"
            ],
            "text/plain": [
              "<IPython.core.display.Javascript object>"
            ]
          },
          "metadata": {
            "tags": [
              "id26-3-1",
              "outputarea_id26"
            ]
          }
        },
        {
          "output_type": "display_data",
          "data": {
            "application/javascript": [
              "window[\"73d3d990-4dc8-11eb-8708-0242ac1c0002\"] = google.colab.output.setActiveOutputArea(window[\"73d307f4-4dc8-11eb-8708-0242ac1c0002\"]);\n",
              "//# sourceURL=js_e7f9a0bd90"
            ],
            "text/plain": [
              "<IPython.core.display.Javascript object>"
            ]
          },
          "metadata": {
            "tags": [
              "id26-3-1",
              "outputarea_id26"
            ]
          }
        },
        {
          "output_type": "stream",
          "text": [
            "New\n"
          ],
          "name": "stdout"
        },
        {
          "output_type": "display_data",
          "data": {
            "application/javascript": [
              "window[\"73d603d2-4dc8-11eb-8708-0242ac1c0002\"] = google.colab.output.setActiveOutputArea(window[\"73d250e8-4dc8-11eb-8708-0242ac1c0002\"]);\n",
              "//# sourceURL=js_2837570e33"
            ],
            "text/plain": [
              "<IPython.core.display.Javascript object>"
            ]
          },
          "metadata": {
            "tags": [
              "id26-3-1",
              "outputarea_id26"
            ]
          }
        },
        {
          "output_type": "display_data",
          "data": {
            "application/javascript": [
              "window[\"73d884b8-4dc8-11eb-8708-0242ac1c0002\"] = google.colab.output.getActiveOutputArea();\n",
              "//# sourceURL=js_1210e8c3d5"
            ],
            "text/plain": [
              "<IPython.core.display.Javascript object>"
            ]
          },
          "metadata": {
            "tags": [
              "id26-4-0",
              "outputarea_id26"
            ]
          }
        },
        {
          "output_type": "display_data",
          "data": {
            "application/javascript": [
              "window[\"73da9758-4dc8-11eb-8708-0242ac1c0002\"] = document.querySelector(\"#id26-4-0\");\n",
              "//# sourceURL=js_a3e320823b"
            ],
            "text/plain": [
              "<IPython.core.display.Javascript object>"
            ]
          },
          "metadata": {
            "tags": [
              "id26-4-0",
              "outputarea_id26"
            ]
          }
        },
        {
          "output_type": "display_data",
          "data": {
            "application/javascript": [
              "window[\"73db66d8-4dc8-11eb-8708-0242ac1c0002\"] = google.colab.output.setActiveOutputArea(window[\"73da9758-4dc8-11eb-8708-0242ac1c0002\"]);\n",
              "//# sourceURL=js_0a88b72679"
            ],
            "text/plain": [
              "<IPython.core.display.Javascript object>"
            ]
          },
          "metadata": {
            "tags": [
              "id26-4-0",
              "outputarea_id26"
            ]
          }
        },
        {
          "output_type": "stream",
          "text": [
            "4/11\n"
          ],
          "name": "stdout"
        },
        {
          "output_type": "display_data",
          "data": {
            "application/javascript": [
              "window[\"73ddaec0-4dc8-11eb-8708-0242ac1c0002\"] = google.colab.output.setActiveOutputArea(window[\"73d884b8-4dc8-11eb-8708-0242ac1c0002\"]);\n",
              "//# sourceURL=js_52803d5df4"
            ],
            "text/plain": [
              "<IPython.core.display.Javascript object>"
            ]
          },
          "metadata": {
            "tags": [
              "id26-4-0",
              "outputarea_id26"
            ]
          }
        },
        {
          "output_type": "display_data",
          "data": {
            "application/javascript": [
              "window[\"73e0ed88-4dc8-11eb-8708-0242ac1c0002\"] = google.colab.output.getActiveOutputArea();\n",
              "//# sourceURL=js_680fb627cd"
            ],
            "text/plain": [
              "<IPython.core.display.Javascript object>"
            ]
          },
          "metadata": {
            "tags": [
              "id26-4-1",
              "outputarea_id26"
            ]
          }
        },
        {
          "output_type": "display_data",
          "data": {
            "application/javascript": [
              "window[\"73e17bb8-4dc8-11eb-8708-0242ac1c0002\"] = document.querySelector(\"#id26-4-1\");\n",
              "//# sourceURL=js_0b8f1143b2"
            ],
            "text/plain": [
              "<IPython.core.display.Javascript object>"
            ]
          },
          "metadata": {
            "tags": [
              "id26-4-1",
              "outputarea_id26"
            ]
          }
        },
        {
          "output_type": "display_data",
          "data": {
            "application/javascript": [
              "window[\"73e1f1f6-4dc8-11eb-8708-0242ac1c0002\"] = google.colab.output.setActiveOutputArea(window[\"73e17bb8-4dc8-11eb-8708-0242ac1c0002\"]);\n",
              "//# sourceURL=js_c0184e036f"
            ],
            "text/plain": [
              "<IPython.core.display.Javascript object>"
            ]
          },
          "metadata": {
            "tags": [
              "id26-4-1",
              "outputarea_id26"
            ]
          }
        },
        {
          "output_type": "display_data",
          "data": {
            "application/javascript": [
              "window[\"73e429d0-4dc8-11eb-8708-0242ac1c0002\"] = google.colab.output.setActiveOutputArea(window[\"73e0ed88-4dc8-11eb-8708-0242ac1c0002\"]);\n",
              "//# sourceURL=js_409b9ab6cb"
            ],
            "text/plain": [
              "<IPython.core.display.Javascript object>"
            ]
          },
          "metadata": {
            "tags": [
              "id26-4-1",
              "outputarea_id26"
            ]
          }
        },
        {
          "output_type": "display_data",
          "data": {
            "application/javascript": [
              "window[\"73e7763a-4dc8-11eb-8708-0242ac1c0002\"] = google.colab.output.getActiveOutputArea();\n",
              "//# sourceURL=js_d23dce9e2c"
            ],
            "text/plain": [
              "<IPython.core.display.Javascript object>"
            ]
          },
          "metadata": {
            "tags": [
              "id26-4-2",
              "outputarea_id26"
            ]
          }
        },
        {
          "output_type": "display_data",
          "data": {
            "application/javascript": [
              "window[\"73e7df3a-4dc8-11eb-8708-0242ac1c0002\"] = document.querySelector(\"#id26-4-2\");\n",
              "//# sourceURL=js_e40a48a9df"
            ],
            "text/plain": [
              "<IPython.core.display.Javascript object>"
            ]
          },
          "metadata": {
            "tags": [
              "id26-4-2",
              "outputarea_id26"
            ]
          }
        },
        {
          "output_type": "display_data",
          "data": {
            "application/javascript": [
              "window[\"73e87710-4dc8-11eb-8708-0242ac1c0002\"] = google.colab.output.setActiveOutputArea(window[\"73e7df3a-4dc8-11eb-8708-0242ac1c0002\"]);\n",
              "//# sourceURL=js_90a415b8d3"
            ],
            "text/plain": [
              "<IPython.core.display.Javascript object>"
            ]
          },
          "metadata": {
            "tags": [
              "id26-4-2",
              "outputarea_id26"
            ]
          }
        },
        {
          "output_type": "stream",
          "text": [
            "How Smart Are Animals - Listening(https://lms.wiseman.com.hk/lms/user/secure/course/eb/select_theme/selectLesson.do?id=77b4a9ce105f4fbcbc88e2537229a55c&from=lesson)\n"
          ],
          "name": "stdout"
        },
        {
          "output_type": "display_data",
          "data": {
            "application/javascript": [
              "window[\"73ead28a-4dc8-11eb-8708-0242ac1c0002\"] = google.colab.output.setActiveOutputArea(window[\"73e7763a-4dc8-11eb-8708-0242ac1c0002\"]);\n",
              "//# sourceURL=js_722fd30ae5"
            ],
            "text/plain": [
              "<IPython.core.display.Javascript object>"
            ]
          },
          "metadata": {
            "tags": [
              "id26-4-2",
              "outputarea_id26"
            ]
          }
        },
        {
          "output_type": "display_data",
          "data": {
            "application/javascript": [
              "window[\"7880f8c4-4dc8-11eb-8708-0242ac1c0002\"] = google.colab.output.getActiveOutputArea();\n",
              "//# sourceURL=js_eac7680183"
            ],
            "text/plain": [
              "<IPython.core.display.Javascript object>"
            ]
          },
          "metadata": {
            "tags": [
              "id26-4-1",
              "outputarea_id26"
            ]
          }
        },
        {
          "output_type": "display_data",
          "data": {
            "application/javascript": [
              "window[\"7881c902-4dc8-11eb-8708-0242ac1c0002\"] = document.querySelector(\"#id26-4-1\");\n",
              "//# sourceURL=js_0feba562a0"
            ],
            "text/plain": [
              "<IPython.core.display.Javascript object>"
            ]
          },
          "metadata": {
            "tags": [
              "id26-4-1",
              "outputarea_id26"
            ]
          }
        },
        {
          "output_type": "display_data",
          "data": {
            "application/javascript": [
              "window[\"78839606-4dc8-11eb-8708-0242ac1c0002\"] = google.colab.output.setActiveOutputArea(window[\"7881c902-4dc8-11eb-8708-0242ac1c0002\"]);\n",
              "//# sourceURL=js_8b4475d144"
            ],
            "text/plain": [
              "<IPython.core.display.Javascript object>"
            ]
          },
          "metadata": {
            "tags": [
              "id26-4-1",
              "outputarea_id26"
            ]
          }
        },
        {
          "output_type": "stream",
          "text": [
            "New\n"
          ],
          "name": "stdout"
        },
        {
          "output_type": "display_data",
          "data": {
            "application/javascript": [
              "window[\"7885a1bc-4dc8-11eb-8708-0242ac1c0002\"] = google.colab.output.setActiveOutputArea(window[\"7880f8c4-4dc8-11eb-8708-0242ac1c0002\"]);\n",
              "//# sourceURL=js_fee2e0bc3d"
            ],
            "text/plain": [
              "<IPython.core.display.Javascript object>"
            ]
          },
          "metadata": {
            "tags": [
              "id26-4-1",
              "outputarea_id26"
            ]
          }
        },
        {
          "output_type": "display_data",
          "data": {
            "application/javascript": [
              "window[\"7888acb8-4dc8-11eb-8708-0242ac1c0002\"] = google.colab.output.getActiveOutputArea();\n",
              "//# sourceURL=js_17ece5a263"
            ],
            "text/plain": [
              "<IPython.core.display.Javascript object>"
            ]
          },
          "metadata": {
            "tags": [
              "id26-5-0",
              "outputarea_id26"
            ]
          }
        },
        {
          "output_type": "display_data",
          "data": {
            "application/javascript": [
              "window[\"78899c5e-4dc8-11eb-8708-0242ac1c0002\"] = document.querySelector(\"#id26-5-0\");\n",
              "//# sourceURL=js_3dadc63f24"
            ],
            "text/plain": [
              "<IPython.core.display.Javascript object>"
            ]
          },
          "metadata": {
            "tags": [
              "id26-5-0",
              "outputarea_id26"
            ]
          }
        },
        {
          "output_type": "display_data",
          "data": {
            "application/javascript": [
              "window[\"788b6df4-4dc8-11eb-8708-0242ac1c0002\"] = google.colab.output.setActiveOutputArea(window[\"78899c5e-4dc8-11eb-8708-0242ac1c0002\"]);\n",
              "//# sourceURL=js_15a8f08651"
            ],
            "text/plain": [
              "<IPython.core.display.Javascript object>"
            ]
          },
          "metadata": {
            "tags": [
              "id26-5-0",
              "outputarea_id26"
            ]
          }
        },
        {
          "output_type": "stream",
          "text": [
            "5/11\n"
          ],
          "name": "stdout"
        },
        {
          "output_type": "display_data",
          "data": {
            "application/javascript": [
              "window[\"788d6924-4dc8-11eb-8708-0242ac1c0002\"] = google.colab.output.setActiveOutputArea(window[\"7888acb8-4dc8-11eb-8708-0242ac1c0002\"]);\n",
              "//# sourceURL=js_2155114ac0"
            ],
            "text/plain": [
              "<IPython.core.display.Javascript object>"
            ]
          },
          "metadata": {
            "tags": [
              "id26-5-0",
              "outputarea_id26"
            ]
          }
        },
        {
          "output_type": "display_data",
          "data": {
            "application/javascript": [
              "window[\"788f8f2e-4dc8-11eb-8708-0242ac1c0002\"] = google.colab.output.getActiveOutputArea();\n",
              "//# sourceURL=js_449c712dd0"
            ],
            "text/plain": [
              "<IPython.core.display.Javascript object>"
            ]
          },
          "metadata": {
            "tags": [
              "id26-5-1",
              "outputarea_id26"
            ]
          }
        },
        {
          "output_type": "display_data",
          "data": {
            "application/javascript": [
              "window[\"788fd970-4dc8-11eb-8708-0242ac1c0002\"] = document.querySelector(\"#id26-5-1\");\n",
              "//# sourceURL=js_4a8584f918"
            ],
            "text/plain": [
              "<IPython.core.display.Javascript object>"
            ]
          },
          "metadata": {
            "tags": [
              "id26-5-1",
              "outputarea_id26"
            ]
          }
        },
        {
          "output_type": "display_data",
          "data": {
            "application/javascript": [
              "window[\"78902448-4dc8-11eb-8708-0242ac1c0002\"] = google.colab.output.setActiveOutputArea(window[\"788fd970-4dc8-11eb-8708-0242ac1c0002\"]);\n",
              "//# sourceURL=js_14aaaea87b"
            ],
            "text/plain": [
              "<IPython.core.display.Javascript object>"
            ]
          },
          "metadata": {
            "tags": [
              "id26-5-1",
              "outputarea_id26"
            ]
          }
        },
        {
          "output_type": "display_data",
          "data": {
            "application/javascript": [
              "window[\"7897966a-4dc8-11eb-8708-0242ac1c0002\"] = google.colab.output.setActiveOutputArea(window[\"788f8f2e-4dc8-11eb-8708-0242ac1c0002\"]);\n",
              "//# sourceURL=js_1df66e2b2b"
            ],
            "text/plain": [
              "<IPython.core.display.Javascript object>"
            ]
          },
          "metadata": {
            "tags": [
              "id26-5-1",
              "outputarea_id26"
            ]
          }
        },
        {
          "output_type": "display_data",
          "data": {
            "application/javascript": [
              "window[\"789b8a86-4dc8-11eb-8708-0242ac1c0002\"] = google.colab.output.getActiveOutputArea();\n",
              "//# sourceURL=js_7a468f9154"
            ],
            "text/plain": [
              "<IPython.core.display.Javascript object>"
            ]
          },
          "metadata": {
            "tags": [
              "id26-5-2",
              "outputarea_id26"
            ]
          }
        },
        {
          "output_type": "display_data",
          "data": {
            "application/javascript": [
              "window[\"789c1514-4dc8-11eb-8708-0242ac1c0002\"] = document.querySelector(\"#id26-5-2\");\n",
              "//# sourceURL=js_54a4174a82"
            ],
            "text/plain": [
              "<IPython.core.display.Javascript object>"
            ]
          },
          "metadata": {
            "tags": [
              "id26-5-2",
              "outputarea_id26"
            ]
          }
        },
        {
          "output_type": "display_data",
          "data": {
            "application/javascript": [
              "window[\"789ce994-4dc8-11eb-8708-0242ac1c0002\"] = google.colab.output.setActiveOutputArea(window[\"789c1514-4dc8-11eb-8708-0242ac1c0002\"]);\n",
              "//# sourceURL=js_9e7f569cff"
            ],
            "text/plain": [
              "<IPython.core.display.Javascript object>"
            ]
          },
          "metadata": {
            "tags": [
              "id26-5-2",
              "outputarea_id26"
            ]
          }
        },
        {
          "output_type": "stream",
          "text": [
            "How Smart Are Animals - Reading(https://lms.wiseman.com.hk/lms/user/secure/course/eb/select_theme/selectLesson.do?id=e204ffe7b1cc4291a3ccae783dbd3984&from=lesson)\n"
          ],
          "name": "stdout"
        },
        {
          "output_type": "display_data",
          "data": {
            "application/javascript": [
              "window[\"789eba26-4dc8-11eb-8708-0242ac1c0002\"] = google.colab.output.setActiveOutputArea(window[\"789b8a86-4dc8-11eb-8708-0242ac1c0002\"]);\n",
              "//# sourceURL=js_bcc03ab9f0"
            ],
            "text/plain": [
              "<IPython.core.display.Javascript object>"
            ]
          },
          "metadata": {
            "tags": [
              "id26-5-2",
              "outputarea_id26"
            ]
          }
        },
        {
          "output_type": "display_data",
          "data": {
            "application/javascript": [
              "window[\"7c8fb414-4dc8-11eb-8708-0242ac1c0002\"] = google.colab.output.getActiveOutputArea();\n",
              "//# sourceURL=js_11acdc2d91"
            ],
            "text/plain": [
              "<IPython.core.display.Javascript object>"
            ]
          },
          "metadata": {
            "tags": [
              "id26-5-1",
              "outputarea_id26"
            ]
          }
        },
        {
          "output_type": "display_data",
          "data": {
            "application/javascript": [
              "window[\"7c90665c-4dc8-11eb-8708-0242ac1c0002\"] = document.querySelector(\"#id26-5-1\");\n",
              "//# sourceURL=js_73e0f9971c"
            ],
            "text/plain": [
              "<IPython.core.display.Javascript object>"
            ]
          },
          "metadata": {
            "tags": [
              "id26-5-1",
              "outputarea_id26"
            ]
          }
        },
        {
          "output_type": "display_data",
          "data": {
            "application/javascript": [
              "window[\"7c90fe64-4dc8-11eb-8708-0242ac1c0002\"] = google.colab.output.setActiveOutputArea(window[\"7c90665c-4dc8-11eb-8708-0242ac1c0002\"]);\n",
              "//# sourceURL=js_a730bbbf5a"
            ],
            "text/plain": [
              "<IPython.core.display.Javascript object>"
            ]
          },
          "metadata": {
            "tags": [
              "id26-5-1",
              "outputarea_id26"
            ]
          }
        },
        {
          "output_type": "stream",
          "text": [
            "New\n"
          ],
          "name": "stdout"
        },
        {
          "output_type": "display_data",
          "data": {
            "application/javascript": [
              "window[\"7c936168-4dc8-11eb-8708-0242ac1c0002\"] = google.colab.output.setActiveOutputArea(window[\"7c8fb414-4dc8-11eb-8708-0242ac1c0002\"]);\n",
              "//# sourceURL=js_a03552fe61"
            ],
            "text/plain": [
              "<IPython.core.display.Javascript object>"
            ]
          },
          "metadata": {
            "tags": [
              "id26-5-1",
              "outputarea_id26"
            ]
          }
        },
        {
          "output_type": "display_data",
          "data": {
            "application/javascript": [
              "window[\"7c962290-4dc8-11eb-8708-0242ac1c0002\"] = google.colab.output.getActiveOutputArea();\n",
              "//# sourceURL=js_4d94bc1167"
            ],
            "text/plain": [
              "<IPython.core.display.Javascript object>"
            ]
          },
          "metadata": {
            "tags": [
              "id26-6-0",
              "outputarea_id26"
            ]
          }
        },
        {
          "output_type": "display_data",
          "data": {
            "application/javascript": [
              "window[\"7c965fda-4dc8-11eb-8708-0242ac1c0002\"] = document.querySelector(\"#id26-6-0\");\n",
              "//# sourceURL=js_62ec4d8b47"
            ],
            "text/plain": [
              "<IPython.core.display.Javascript object>"
            ]
          },
          "metadata": {
            "tags": [
              "id26-6-0",
              "outputarea_id26"
            ]
          }
        },
        {
          "output_type": "display_data",
          "data": {
            "application/javascript": [
              "window[\"7c969aa4-4dc8-11eb-8708-0242ac1c0002\"] = google.colab.output.setActiveOutputArea(window[\"7c965fda-4dc8-11eb-8708-0242ac1c0002\"]);\n",
              "//# sourceURL=js_dff9912296"
            ],
            "text/plain": [
              "<IPython.core.display.Javascript object>"
            ]
          },
          "metadata": {
            "tags": [
              "id26-6-0",
              "outputarea_id26"
            ]
          }
        },
        {
          "output_type": "stream",
          "text": [
            "6/11\n"
          ],
          "name": "stdout"
        },
        {
          "output_type": "display_data",
          "data": {
            "application/javascript": [
              "window[\"7c997602-4dc8-11eb-8708-0242ac1c0002\"] = google.colab.output.setActiveOutputArea(window[\"7c962290-4dc8-11eb-8708-0242ac1c0002\"]);\n",
              "//# sourceURL=js_f0641288af"
            ],
            "text/plain": [
              "<IPython.core.display.Javascript object>"
            ]
          },
          "metadata": {
            "tags": [
              "id26-6-0",
              "outputarea_id26"
            ]
          }
        },
        {
          "output_type": "display_data",
          "data": {
            "application/javascript": [
              "window[\"7c9bdc12-4dc8-11eb-8708-0242ac1c0002\"] = google.colab.output.getActiveOutputArea();\n",
              "//# sourceURL=js_1be9980c06"
            ],
            "text/plain": [
              "<IPython.core.display.Javascript object>"
            ]
          },
          "metadata": {
            "tags": [
              "id26-6-1",
              "outputarea_id26"
            ]
          }
        },
        {
          "output_type": "display_data",
          "data": {
            "application/javascript": [
              "window[\"7c9c8aea-4dc8-11eb-8708-0242ac1c0002\"] = document.querySelector(\"#id26-6-1\");\n",
              "//# sourceURL=js_daffb805e2"
            ],
            "text/plain": [
              "<IPython.core.display.Javascript object>"
            ]
          },
          "metadata": {
            "tags": [
              "id26-6-1",
              "outputarea_id26"
            ]
          }
        },
        {
          "output_type": "display_data",
          "data": {
            "application/javascript": [
              "window[\"7c9ce10c-4dc8-11eb-8708-0242ac1c0002\"] = google.colab.output.setActiveOutputArea(window[\"7c9c8aea-4dc8-11eb-8708-0242ac1c0002\"]);\n",
              "//# sourceURL=js_093b60be8a"
            ],
            "text/plain": [
              "<IPython.core.display.Javascript object>"
            ]
          },
          "metadata": {
            "tags": [
              "id26-6-1",
              "outputarea_id26"
            ]
          }
        },
        {
          "output_type": "display_data",
          "data": {
            "application/javascript": [
              "window[\"7c9eff3c-4dc8-11eb-8708-0242ac1c0002\"] = google.colab.output.setActiveOutputArea(window[\"7c9bdc12-4dc8-11eb-8708-0242ac1c0002\"]);\n",
              "//# sourceURL=js_004c3f510a"
            ],
            "text/plain": [
              "<IPython.core.display.Javascript object>"
            ]
          },
          "metadata": {
            "tags": [
              "id26-6-1",
              "outputarea_id26"
            ]
          }
        },
        {
          "output_type": "display_data",
          "data": {
            "application/javascript": [
              "window[\"7ca16fba-4dc8-11eb-8708-0242ac1c0002\"] = google.colab.output.getActiveOutputArea();\n",
              "//# sourceURL=js_fa8e927c13"
            ],
            "text/plain": [
              "<IPython.core.display.Javascript object>"
            ]
          },
          "metadata": {
            "tags": [
              "id26-6-2",
              "outputarea_id26"
            ]
          }
        },
        {
          "output_type": "display_data",
          "data": {
            "application/javascript": [
              "window[\"7ca21e56-4dc8-11eb-8708-0242ac1c0002\"] = document.querySelector(\"#id26-6-2\");\n",
              "//# sourceURL=js_32caf72cf9"
            ],
            "text/plain": [
              "<IPython.core.display.Javascript object>"
            ]
          },
          "metadata": {
            "tags": [
              "id26-6-2",
              "outputarea_id26"
            ]
          }
        },
        {
          "output_type": "display_data",
          "data": {
            "application/javascript": [
              "window[\"7ca291ce-4dc8-11eb-8708-0242ac1c0002\"] = google.colab.output.setActiveOutputArea(window[\"7ca21e56-4dc8-11eb-8708-0242ac1c0002\"]);\n",
              "//# sourceURL=js_1b91cf26a6"
            ],
            "text/plain": [
              "<IPython.core.display.Javascript object>"
            ]
          },
          "metadata": {
            "tags": [
              "id26-6-2",
              "outputarea_id26"
            ]
          }
        },
        {
          "output_type": "stream",
          "text": [
            "How Smart Are Animals - Speaking(https://lms.wiseman.com.hk/lms/user/secure/course/eb/select_theme/selectLesson.do?id=03417a18c3b14530a080fc9cccff3d19&from=lesson)\n"
          ],
          "name": "stdout"
        },
        {
          "output_type": "display_data",
          "data": {
            "application/javascript": [
              "window[\"7ca43128-4dc8-11eb-8708-0242ac1c0002\"] = google.colab.output.setActiveOutputArea(window[\"7ca16fba-4dc8-11eb-8708-0242ac1c0002\"]);\n",
              "//# sourceURL=js_7dc824490c"
            ],
            "text/plain": [
              "<IPython.core.display.Javascript object>"
            ]
          },
          "metadata": {
            "tags": [
              "id26-6-2",
              "outputarea_id26"
            ]
          }
        },
        {
          "output_type": "display_data",
          "data": {
            "application/javascript": [
              "window[\"80a8cd60-4dc8-11eb-8708-0242ac1c0002\"] = google.colab.output.getActiveOutputArea();\n",
              "//# sourceURL=js_7b23e9f750"
            ],
            "text/plain": [
              "<IPython.core.display.Javascript object>"
            ]
          },
          "metadata": {
            "tags": [
              "id26-6-1",
              "outputarea_id26"
            ]
          }
        },
        {
          "output_type": "display_data",
          "data": {
            "application/javascript": [
              "window[\"80a9942a-4dc8-11eb-8708-0242ac1c0002\"] = document.querySelector(\"#id26-6-1\");\n",
              "//# sourceURL=js_70834185ba"
            ],
            "text/plain": [
              "<IPython.core.display.Javascript object>"
            ]
          },
          "metadata": {
            "tags": [
              "id26-6-1",
              "outputarea_id26"
            ]
          }
        },
        {
          "output_type": "display_data",
          "data": {
            "application/javascript": [
              "window[\"80aa136e-4dc8-11eb-8708-0242ac1c0002\"] = google.colab.output.setActiveOutputArea(window[\"80a9942a-4dc8-11eb-8708-0242ac1c0002\"]);\n",
              "//# sourceURL=js_21ed3acdf1"
            ],
            "text/plain": [
              "<IPython.core.display.Javascript object>"
            ]
          },
          "metadata": {
            "tags": [
              "id26-6-1",
              "outputarea_id26"
            ]
          }
        },
        {
          "output_type": "stream",
          "text": [
            "New\n"
          ],
          "name": "stdout"
        },
        {
          "output_type": "display_data",
          "data": {
            "application/javascript": [
              "window[\"80af3a88-4dc8-11eb-8708-0242ac1c0002\"] = google.colab.output.setActiveOutputArea(window[\"80a8cd60-4dc8-11eb-8708-0242ac1c0002\"]);\n",
              "//# sourceURL=js_43a90da84e"
            ],
            "text/plain": [
              "<IPython.core.display.Javascript object>"
            ]
          },
          "metadata": {
            "tags": [
              "id26-6-1",
              "outputarea_id26"
            ]
          }
        },
        {
          "output_type": "display_data",
          "data": {
            "application/javascript": [
              "window[\"80b26776-4dc8-11eb-8708-0242ac1c0002\"] = google.colab.output.getActiveOutputArea();\n",
              "//# sourceURL=js_43473d375e"
            ],
            "text/plain": [
              "<IPython.core.display.Javascript object>"
            ]
          },
          "metadata": {
            "tags": [
              "id26-7-0",
              "outputarea_id26"
            ]
          }
        },
        {
          "output_type": "display_data",
          "data": {
            "application/javascript": [
              "window[\"80b2d828-4dc8-11eb-8708-0242ac1c0002\"] = document.querySelector(\"#id26-7-0\");\n",
              "//# sourceURL=js_9c4f5072f3"
            ],
            "text/plain": [
              "<IPython.core.display.Javascript object>"
            ]
          },
          "metadata": {
            "tags": [
              "id26-7-0",
              "outputarea_id26"
            ]
          }
        },
        {
          "output_type": "display_data",
          "data": {
            "application/javascript": [
              "window[\"80b3d304-4dc8-11eb-8708-0242ac1c0002\"] = google.colab.output.setActiveOutputArea(window[\"80b2d828-4dc8-11eb-8708-0242ac1c0002\"]);\n",
              "//# sourceURL=js_17b31c73f3"
            ],
            "text/plain": [
              "<IPython.core.display.Javascript object>"
            ]
          },
          "metadata": {
            "tags": [
              "id26-7-0",
              "outputarea_id26"
            ]
          }
        },
        {
          "output_type": "stream",
          "text": [
            "7/11\n"
          ],
          "name": "stdout"
        },
        {
          "output_type": "display_data",
          "data": {
            "application/javascript": [
              "window[\"80b5ae72-4dc8-11eb-8708-0242ac1c0002\"] = google.colab.output.setActiveOutputArea(window[\"80b26776-4dc8-11eb-8708-0242ac1c0002\"]);\n",
              "//# sourceURL=js_6e574f94e4"
            ],
            "text/plain": [
              "<IPython.core.display.Javascript object>"
            ]
          },
          "metadata": {
            "tags": [
              "id26-7-0",
              "outputarea_id26"
            ]
          }
        },
        {
          "output_type": "display_data",
          "data": {
            "application/javascript": [
              "window[\"80b97ea8-4dc8-11eb-8708-0242ac1c0002\"] = google.colab.output.getActiveOutputArea();\n",
              "//# sourceURL=js_820f8b37ad"
            ],
            "text/plain": [
              "<IPython.core.display.Javascript object>"
            ]
          },
          "metadata": {
            "tags": [
              "id26-7-1",
              "outputarea_id26"
            ]
          }
        },
        {
          "output_type": "display_data",
          "data": {
            "application/javascript": [
              "window[\"80b9d8bc-4dc8-11eb-8708-0242ac1c0002\"] = document.querySelector(\"#id26-7-1\");\n",
              "//# sourceURL=js_26e3da217a"
            ],
            "text/plain": [
              "<IPython.core.display.Javascript object>"
            ]
          },
          "metadata": {
            "tags": [
              "id26-7-1",
              "outputarea_id26"
            ]
          }
        },
        {
          "output_type": "display_data",
          "data": {
            "application/javascript": [
              "window[\"80ba5832-4dc8-11eb-8708-0242ac1c0002\"] = google.colab.output.setActiveOutputArea(window[\"80b9d8bc-4dc8-11eb-8708-0242ac1c0002\"]);\n",
              "//# sourceURL=js_84a31e26e6"
            ],
            "text/plain": [
              "<IPython.core.display.Javascript object>"
            ]
          },
          "metadata": {
            "tags": [
              "id26-7-1",
              "outputarea_id26"
            ]
          }
        },
        {
          "output_type": "display_data",
          "data": {
            "application/javascript": [
              "window[\"80bbd91e-4dc8-11eb-8708-0242ac1c0002\"] = google.colab.output.setActiveOutputArea(window[\"80b97ea8-4dc8-11eb-8708-0242ac1c0002\"]);\n",
              "//# sourceURL=js_b0e4a5a973"
            ],
            "text/plain": [
              "<IPython.core.display.Javascript object>"
            ]
          },
          "metadata": {
            "tags": [
              "id26-7-1",
              "outputarea_id26"
            ]
          }
        },
        {
          "output_type": "display_data",
          "data": {
            "application/javascript": [
              "window[\"80bddd72-4dc8-11eb-8708-0242ac1c0002\"] = google.colab.output.getActiveOutputArea();\n",
              "//# sourceURL=js_31d58d4882"
            ],
            "text/plain": [
              "<IPython.core.display.Javascript object>"
            ]
          },
          "metadata": {
            "tags": [
              "id26-7-2",
              "outputarea_id26"
            ]
          }
        },
        {
          "output_type": "display_data",
          "data": {
            "application/javascript": [
              "window[\"80be64cc-4dc8-11eb-8708-0242ac1c0002\"] = document.querySelector(\"#id26-7-2\");\n",
              "//# sourceURL=js_e706a6cc96"
            ],
            "text/plain": [
              "<IPython.core.display.Javascript object>"
            ]
          },
          "metadata": {
            "tags": [
              "id26-7-2",
              "outputarea_id26"
            ]
          }
        },
        {
          "output_type": "display_data",
          "data": {
            "application/javascript": [
              "window[\"80bf1ec6-4dc8-11eb-8708-0242ac1c0002\"] = google.colab.output.setActiveOutputArea(window[\"80be64cc-4dc8-11eb-8708-0242ac1c0002\"]);\n",
              "//# sourceURL=js_9b8a6ce3fa"
            ],
            "text/plain": [
              "<IPython.core.display.Javascript object>"
            ]
          },
          "metadata": {
            "tags": [
              "id26-7-2",
              "outputarea_id26"
            ]
          }
        },
        {
          "output_type": "stream",
          "text": [
            "How Smart Are Animals - Writing(https://lms.wiseman.com.hk/lms/user/secure/course/eb/select_theme/selectLesson.do?id=a03285784ac444db933e76c3f4f58cb3&from=lesson)\n"
          ],
          "name": "stdout"
        },
        {
          "output_type": "display_data",
          "data": {
            "application/javascript": [
              "window[\"80c03932-4dc8-11eb-8708-0242ac1c0002\"] = google.colab.output.setActiveOutputArea(window[\"80bddd72-4dc8-11eb-8708-0242ac1c0002\"]);\n",
              "//# sourceURL=js_0611800a8a"
            ],
            "text/plain": [
              "<IPython.core.display.Javascript object>"
            ]
          },
          "metadata": {
            "tags": [
              "id26-7-2",
              "outputarea_id26"
            ]
          }
        },
        {
          "output_type": "display_data",
          "data": {
            "application/javascript": [
              "window[\"847469c2-4dc8-11eb-8708-0242ac1c0002\"] = google.colab.output.getActiveOutputArea();\n",
              "//# sourceURL=js_b291df0263"
            ],
            "text/plain": [
              "<IPython.core.display.Javascript object>"
            ]
          },
          "metadata": {
            "tags": [
              "id26-7-1",
              "outputarea_id26"
            ]
          }
        },
        {
          "output_type": "display_data",
          "data": {
            "application/javascript": [
              "window[\"84750bca-4dc8-11eb-8708-0242ac1c0002\"] = document.querySelector(\"#id26-7-1\");\n",
              "//# sourceURL=js_887b1823e6"
            ],
            "text/plain": [
              "<IPython.core.display.Javascript object>"
            ]
          },
          "metadata": {
            "tags": [
              "id26-7-1",
              "outputarea_id26"
            ]
          }
        },
        {
          "output_type": "display_data",
          "data": {
            "application/javascript": [
              "window[\"84758050-4dc8-11eb-8708-0242ac1c0002\"] = google.colab.output.setActiveOutputArea(window[\"84750bca-4dc8-11eb-8708-0242ac1c0002\"]);\n",
              "//# sourceURL=js_d86a48b020"
            ],
            "text/plain": [
              "<IPython.core.display.Javascript object>"
            ]
          },
          "metadata": {
            "tags": [
              "id26-7-1",
              "outputarea_id26"
            ]
          }
        },
        {
          "output_type": "stream",
          "text": [
            "New\n"
          ],
          "name": "stdout"
        },
        {
          "output_type": "display_data",
          "data": {
            "application/javascript": [
              "window[\"8477f8da-4dc8-11eb-8708-0242ac1c0002\"] = google.colab.output.setActiveOutputArea(window[\"847469c2-4dc8-11eb-8708-0242ac1c0002\"]);\n",
              "//# sourceURL=js_c991f56548"
            ],
            "text/plain": [
              "<IPython.core.display.Javascript object>"
            ]
          },
          "metadata": {
            "tags": [
              "id26-7-1",
              "outputarea_id26"
            ]
          }
        },
        {
          "output_type": "display_data",
          "data": {
            "application/javascript": [
              "window[\"847af3e6-4dc8-11eb-8708-0242ac1c0002\"] = google.colab.output.getActiveOutputArea();\n",
              "//# sourceURL=js_806d2cd8b9"
            ],
            "text/plain": [
              "<IPython.core.display.Javascript object>"
            ]
          },
          "metadata": {
            "tags": [
              "id26-8-0",
              "outputarea_id26"
            ]
          }
        },
        {
          "output_type": "display_data",
          "data": {
            "application/javascript": [
              "window[\"847ba746-4dc8-11eb-8708-0242ac1c0002\"] = document.querySelector(\"#id26-8-0\");\n",
              "//# sourceURL=js_97c6b0c731"
            ],
            "text/plain": [
              "<IPython.core.display.Javascript object>"
            ]
          },
          "metadata": {
            "tags": [
              "id26-8-0",
              "outputarea_id26"
            ]
          }
        },
        {
          "output_type": "display_data",
          "data": {
            "application/javascript": [
              "window[\"847bf4e4-4dc8-11eb-8708-0242ac1c0002\"] = google.colab.output.setActiveOutputArea(window[\"847ba746-4dc8-11eb-8708-0242ac1c0002\"]);\n",
              "//# sourceURL=js_4a21f5b436"
            ],
            "text/plain": [
              "<IPython.core.display.Javascript object>"
            ]
          },
          "metadata": {
            "tags": [
              "id26-8-0",
              "outputarea_id26"
            ]
          }
        },
        {
          "output_type": "stream",
          "text": [
            "8/11\n"
          ],
          "name": "stdout"
        },
        {
          "output_type": "display_data",
          "data": {
            "application/javascript": [
              "window[\"847dbdb0-4dc8-11eb-8708-0242ac1c0002\"] = google.colab.output.setActiveOutputArea(window[\"847af3e6-4dc8-11eb-8708-0242ac1c0002\"]);\n",
              "//# sourceURL=js_aaba9429c3"
            ],
            "text/plain": [
              "<IPython.core.display.Javascript object>"
            ]
          },
          "metadata": {
            "tags": [
              "id26-8-0",
              "outputarea_id26"
            ]
          }
        },
        {
          "output_type": "display_data",
          "data": {
            "application/javascript": [
              "window[\"848037de-4dc8-11eb-8708-0242ac1c0002\"] = google.colab.output.getActiveOutputArea();\n",
              "//# sourceURL=js_e698939f56"
            ],
            "text/plain": [
              "<IPython.core.display.Javascript object>"
            ]
          },
          "metadata": {
            "tags": [
              "id26-8-1",
              "outputarea_id26"
            ]
          }
        },
        {
          "output_type": "display_data",
          "data": {
            "application/javascript": [
              "window[\"8480b88a-4dc8-11eb-8708-0242ac1c0002\"] = document.querySelector(\"#id26-8-1\");\n",
              "//# sourceURL=js_dcc848decb"
            ],
            "text/plain": [
              "<IPython.core.display.Javascript object>"
            ]
          },
          "metadata": {
            "tags": [
              "id26-8-1",
              "outputarea_id26"
            ]
          }
        },
        {
          "output_type": "display_data",
          "data": {
            "application/javascript": [
              "window[\"84815592-4dc8-11eb-8708-0242ac1c0002\"] = google.colab.output.setActiveOutputArea(window[\"8480b88a-4dc8-11eb-8708-0242ac1c0002\"]);\n",
              "//# sourceURL=js_40861f0ea0"
            ],
            "text/plain": [
              "<IPython.core.display.Javascript object>"
            ]
          },
          "metadata": {
            "tags": [
              "id26-8-1",
              "outputarea_id26"
            ]
          }
        },
        {
          "output_type": "display_data",
          "data": {
            "application/javascript": [
              "window[\"8483c106-4dc8-11eb-8708-0242ac1c0002\"] = google.colab.output.setActiveOutputArea(window[\"848037de-4dc8-11eb-8708-0242ac1c0002\"]);\n",
              "//# sourceURL=js_39f2bf6f48"
            ],
            "text/plain": [
              "<IPython.core.display.Javascript object>"
            ]
          },
          "metadata": {
            "tags": [
              "id26-8-1",
              "outputarea_id26"
            ]
          }
        },
        {
          "output_type": "display_data",
          "data": {
            "application/javascript": [
              "window[\"8485bdc6-4dc8-11eb-8708-0242ac1c0002\"] = google.colab.output.getActiveOutputArea();\n",
              "//# sourceURL=js_0bf4f3e4ae"
            ],
            "text/plain": [
              "<IPython.core.display.Javascript object>"
            ]
          },
          "metadata": {
            "tags": [
              "id26-8-2",
              "outputarea_id26"
            ]
          }
        },
        {
          "output_type": "display_data",
          "data": {
            "application/javascript": [
              "window[\"84864e44-4dc8-11eb-8708-0242ac1c0002\"] = document.querySelector(\"#id26-8-2\");\n",
              "//# sourceURL=js_ffe50c53cd"
            ],
            "text/plain": [
              "<IPython.core.display.Javascript object>"
            ]
          },
          "metadata": {
            "tags": [
              "id26-8-2",
              "outputarea_id26"
            ]
          }
        },
        {
          "output_type": "display_data",
          "data": {
            "application/javascript": [
              "window[\"8486ff74-4dc8-11eb-8708-0242ac1c0002\"] = google.colab.output.setActiveOutputArea(window[\"84864e44-4dc8-11eb-8708-0242ac1c0002\"]);\n",
              "//# sourceURL=js_04608831c8"
            ],
            "text/plain": [
              "<IPython.core.display.Javascript object>"
            ]
          },
          "metadata": {
            "tags": [
              "id26-8-2",
              "outputarea_id26"
            ]
          }
        },
        {
          "output_type": "stream",
          "text": [
            "Container Homes around the World - Listening(https://lms.wiseman.com.hk/lms/user/secure/course/eb/select_theme/selectLesson.do?id=8ae5daa05e4eb277015e511dd941001a&from=lesson)\n"
          ],
          "name": "stdout"
        },
        {
          "output_type": "display_data",
          "data": {
            "application/javascript": [
              "window[\"8487f05a-4dc8-11eb-8708-0242ac1c0002\"] = google.colab.output.setActiveOutputArea(window[\"8485bdc6-4dc8-11eb-8708-0242ac1c0002\"]);\n",
              "//# sourceURL=js_a4023027ab"
            ],
            "text/plain": [
              "<IPython.core.display.Javascript object>"
            ]
          },
          "metadata": {
            "tags": [
              "id26-8-2",
              "outputarea_id26"
            ]
          }
        },
        {
          "output_type": "display_data",
          "data": {
            "application/javascript": [
              "window[\"8838dd68-4dc8-11eb-8708-0242ac1c0002\"] = google.colab.output.getActiveOutputArea();\n",
              "//# sourceURL=js_b932ec6f36"
            ],
            "text/plain": [
              "<IPython.core.display.Javascript object>"
            ]
          },
          "metadata": {
            "tags": [
              "id26-8-1",
              "outputarea_id26"
            ]
          }
        },
        {
          "output_type": "display_data",
          "data": {
            "application/javascript": [
              "window[\"8839f400-4dc8-11eb-8708-0242ac1c0002\"] = document.querySelector(\"#id26-8-1\");\n",
              "//# sourceURL=js_02030c2ff1"
            ],
            "text/plain": [
              "<IPython.core.display.Javascript object>"
            ]
          },
          "metadata": {
            "tags": [
              "id26-8-1",
              "outputarea_id26"
            ]
          }
        },
        {
          "output_type": "display_data",
          "data": {
            "application/javascript": [
              "window[\"883af058-4dc8-11eb-8708-0242ac1c0002\"] = google.colab.output.setActiveOutputArea(window[\"8839f400-4dc8-11eb-8708-0242ac1c0002\"]);\n",
              "//# sourceURL=js_ad68f5589a"
            ],
            "text/plain": [
              "<IPython.core.display.Javascript object>"
            ]
          },
          "metadata": {
            "tags": [
              "id26-8-1",
              "outputarea_id26"
            ]
          }
        },
        {
          "output_type": "stream",
          "text": [
            "New\n"
          ],
          "name": "stdout"
        },
        {
          "output_type": "display_data",
          "data": {
            "application/javascript": [
              "window[\"883ea518-4dc8-11eb-8708-0242ac1c0002\"] = google.colab.output.setActiveOutputArea(window[\"8838dd68-4dc8-11eb-8708-0242ac1c0002\"]);\n",
              "//# sourceURL=js_0ef0a0aea2"
            ],
            "text/plain": [
              "<IPython.core.display.Javascript object>"
            ]
          },
          "metadata": {
            "tags": [
              "id26-8-1",
              "outputarea_id26"
            ]
          }
        },
        {
          "output_type": "display_data",
          "data": {
            "application/javascript": [
              "window[\"88424510-4dc8-11eb-8708-0242ac1c0002\"] = google.colab.output.getActiveOutputArea();\n",
              "//# sourceURL=js_aed6534a53"
            ],
            "text/plain": [
              "<IPython.core.display.Javascript object>"
            ]
          },
          "metadata": {
            "tags": [
              "id26-9-0",
              "outputarea_id26"
            ]
          }
        },
        {
          "output_type": "display_data",
          "data": {
            "application/javascript": [
              "window[\"884329e4-4dc8-11eb-8708-0242ac1c0002\"] = document.querySelector(\"#id26-9-0\");\n",
              "//# sourceURL=js_7c382e2217"
            ],
            "text/plain": [
              "<IPython.core.display.Javascript object>"
            ]
          },
          "metadata": {
            "tags": [
              "id26-9-0",
              "outputarea_id26"
            ]
          }
        },
        {
          "output_type": "display_data",
          "data": {
            "application/javascript": [
              "window[\"88448d84-4dc8-11eb-8708-0242ac1c0002\"] = google.colab.output.setActiveOutputArea(window[\"884329e4-4dc8-11eb-8708-0242ac1c0002\"]);\n",
              "//# sourceURL=js_c30ba06845"
            ],
            "text/plain": [
              "<IPython.core.display.Javascript object>"
            ]
          },
          "metadata": {
            "tags": [
              "id26-9-0",
              "outputarea_id26"
            ]
          }
        },
        {
          "output_type": "stream",
          "text": [
            "9/11\n"
          ],
          "name": "stdout"
        },
        {
          "output_type": "display_data",
          "data": {
            "application/javascript": [
              "window[\"8846584e-4dc8-11eb-8708-0242ac1c0002\"] = google.colab.output.setActiveOutputArea(window[\"88424510-4dc8-11eb-8708-0242ac1c0002\"]);\n",
              "//# sourceURL=js_384fbb4e34"
            ],
            "text/plain": [
              "<IPython.core.display.Javascript object>"
            ]
          },
          "metadata": {
            "tags": [
              "id26-9-0",
              "outputarea_id26"
            ]
          }
        },
        {
          "output_type": "display_data",
          "data": {
            "application/javascript": [
              "window[\"8849680e-4dc8-11eb-8708-0242ac1c0002\"] = google.colab.output.getActiveOutputArea();\n",
              "//# sourceURL=js_193cb19452"
            ],
            "text/plain": [
              "<IPython.core.display.Javascript object>"
            ]
          },
          "metadata": {
            "tags": [
              "id26-9-1",
              "outputarea_id26"
            ]
          }
        },
        {
          "output_type": "display_data",
          "data": {
            "application/javascript": [
              "window[\"8849eea0-4dc8-11eb-8708-0242ac1c0002\"] = document.querySelector(\"#id26-9-1\");\n",
              "//# sourceURL=js_fd8649fc6f"
            ],
            "text/plain": [
              "<IPython.core.display.Javascript object>"
            ]
          },
          "metadata": {
            "tags": [
              "id26-9-1",
              "outputarea_id26"
            ]
          }
        },
        {
          "output_type": "display_data",
          "data": {
            "application/javascript": [
              "window[\"884aab9c-4dc8-11eb-8708-0242ac1c0002\"] = google.colab.output.setActiveOutputArea(window[\"8849eea0-4dc8-11eb-8708-0242ac1c0002\"]);\n",
              "//# sourceURL=js_10f9c91d0f"
            ],
            "text/plain": [
              "<IPython.core.display.Javascript object>"
            ]
          },
          "metadata": {
            "tags": [
              "id26-9-1",
              "outputarea_id26"
            ]
          }
        },
        {
          "output_type": "display_data",
          "data": {
            "application/javascript": [
              "window[\"884c62f2-4dc8-11eb-8708-0242ac1c0002\"] = google.colab.output.setActiveOutputArea(window[\"8849680e-4dc8-11eb-8708-0242ac1c0002\"]);\n",
              "//# sourceURL=js_1377bdbcda"
            ],
            "text/plain": [
              "<IPython.core.display.Javascript object>"
            ]
          },
          "metadata": {
            "tags": [
              "id26-9-1",
              "outputarea_id26"
            ]
          }
        },
        {
          "output_type": "display_data",
          "data": {
            "application/javascript": [
              "window[\"884e93e2-4dc8-11eb-8708-0242ac1c0002\"] = google.colab.output.getActiveOutputArea();\n",
              "//# sourceURL=js_6cea1a36fb"
            ],
            "text/plain": [
              "<IPython.core.display.Javascript object>"
            ]
          },
          "metadata": {
            "tags": [
              "id26-9-2",
              "outputarea_id26"
            ]
          }
        },
        {
          "output_type": "display_data",
          "data": {
            "application/javascript": [
              "window[\"884f1baa-4dc8-11eb-8708-0242ac1c0002\"] = document.querySelector(\"#id26-9-2\");\n",
              "//# sourceURL=js_1190b2a98d"
            ],
            "text/plain": [
              "<IPython.core.display.Javascript object>"
            ]
          },
          "metadata": {
            "tags": [
              "id26-9-2",
              "outputarea_id26"
            ]
          }
        },
        {
          "output_type": "display_data",
          "data": {
            "application/javascript": [
              "window[\"884fc3d4-4dc8-11eb-8708-0242ac1c0002\"] = google.colab.output.setActiveOutputArea(window[\"884f1baa-4dc8-11eb-8708-0242ac1c0002\"]);\n",
              "//# sourceURL=js_a2b7df44dd"
            ],
            "text/plain": [
              "<IPython.core.display.Javascript object>"
            ]
          },
          "metadata": {
            "tags": [
              "id26-9-2",
              "outputarea_id26"
            ]
          }
        },
        {
          "output_type": "stream",
          "text": [
            "Container Homes around the World - Reading(https://lms.wiseman.com.hk/lms/user/secure/course/eb/select_theme/selectLesson.do?id=8ae5daa05e4eb277015e511e9fc40020&from=lesson)\n"
          ],
          "name": "stdout"
        },
        {
          "output_type": "display_data",
          "data": {
            "application/javascript": [
              "window[\"88515992-4dc8-11eb-8708-0242ac1c0002\"] = google.colab.output.setActiveOutputArea(window[\"884e93e2-4dc8-11eb-8708-0242ac1c0002\"]);\n",
              "//# sourceURL=js_92f8bc8eea"
            ],
            "text/plain": [
              "<IPython.core.display.Javascript object>"
            ]
          },
          "metadata": {
            "tags": [
              "id26-9-2",
              "outputarea_id26"
            ]
          }
        },
        {
          "output_type": "display_data",
          "data": {
            "application/javascript": [
              "window[\"8eb548de-4dc8-11eb-8708-0242ac1c0002\"] = google.colab.output.getActiveOutputArea();\n",
              "//# sourceURL=js_d77cc1ccfd"
            ],
            "text/plain": [
              "<IPython.core.display.Javascript object>"
            ]
          },
          "metadata": {
            "tags": [
              "id26-9-1",
              "outputarea_id26"
            ]
          }
        },
        {
          "output_type": "display_data",
          "data": {
            "application/javascript": [
              "window[\"8eb59906-4dc8-11eb-8708-0242ac1c0002\"] = document.querySelector(\"#id26-9-1\");\n",
              "//# sourceURL=js_1223fe121e"
            ],
            "text/plain": [
              "<IPython.core.display.Javascript object>"
            ]
          },
          "metadata": {
            "tags": [
              "id26-9-1",
              "outputarea_id26"
            ]
          }
        },
        {
          "output_type": "display_data",
          "data": {
            "application/javascript": [
              "window[\"8eb64d9c-4dc8-11eb-8708-0242ac1c0002\"] = google.colab.output.setActiveOutputArea(window[\"8eb59906-4dc8-11eb-8708-0242ac1c0002\"]);\n",
              "//# sourceURL=js_4b04b26ab4"
            ],
            "text/plain": [
              "<IPython.core.display.Javascript object>"
            ]
          },
          "metadata": {
            "tags": [
              "id26-9-1",
              "outputarea_id26"
            ]
          }
        },
        {
          "output_type": "stream",
          "text": [
            "New\n"
          ],
          "name": "stdout"
        },
        {
          "output_type": "display_data",
          "data": {
            "application/javascript": [
              "window[\"8eb9e98e-4dc8-11eb-8708-0242ac1c0002\"] = google.colab.output.setActiveOutputArea(window[\"8eb548de-4dc8-11eb-8708-0242ac1c0002\"]);\n",
              "//# sourceURL=js_405b19c0bb"
            ],
            "text/plain": [
              "<IPython.core.display.Javascript object>"
            ]
          },
          "metadata": {
            "tags": [
              "id26-9-1",
              "outputarea_id26"
            ]
          }
        },
        {
          "output_type": "display_data",
          "data": {
            "application/javascript": [
              "window[\"8ebf5f36-4dc8-11eb-8708-0242ac1c0002\"] = google.colab.output.getActiveOutputArea();\n",
              "//# sourceURL=js_886ca8534c"
            ],
            "text/plain": [
              "<IPython.core.display.Javascript object>"
            ]
          },
          "metadata": {
            "tags": [
              "id26-10-0",
              "outputarea_id26"
            ]
          }
        },
        {
          "output_type": "display_data",
          "data": {
            "application/javascript": [
              "window[\"8ebf9d48-4dc8-11eb-8708-0242ac1c0002\"] = document.querySelector(\"#id26-10-0\");\n",
              "//# sourceURL=js_c7f6614d49"
            ],
            "text/plain": [
              "<IPython.core.display.Javascript object>"
            ]
          },
          "metadata": {
            "tags": [
              "id26-10-0",
              "outputarea_id26"
            ]
          }
        },
        {
          "output_type": "display_data",
          "data": {
            "application/javascript": [
              "window[\"8ec03582-4dc8-11eb-8708-0242ac1c0002\"] = google.colab.output.setActiveOutputArea(window[\"8ebf9d48-4dc8-11eb-8708-0242ac1c0002\"]);\n",
              "//# sourceURL=js_3b36493792"
            ],
            "text/plain": [
              "<IPython.core.display.Javascript object>"
            ]
          },
          "metadata": {
            "tags": [
              "id26-10-0",
              "outputarea_id26"
            ]
          }
        },
        {
          "output_type": "stream",
          "text": [
            "10/11\n"
          ],
          "name": "stdout"
        },
        {
          "output_type": "display_data",
          "data": {
            "application/javascript": [
              "window[\"8ec284d6-4dc8-11eb-8708-0242ac1c0002\"] = google.colab.output.setActiveOutputArea(window[\"8ebf5f36-4dc8-11eb-8708-0242ac1c0002\"]);\n",
              "//# sourceURL=js_62e00da769"
            ],
            "text/plain": [
              "<IPython.core.display.Javascript object>"
            ]
          },
          "metadata": {
            "tags": [
              "id26-10-0",
              "outputarea_id26"
            ]
          }
        },
        {
          "output_type": "display_data",
          "data": {
            "application/javascript": [
              "window[\"8ec50166-4dc8-11eb-8708-0242ac1c0002\"] = google.colab.output.getActiveOutputArea();\n",
              "//# sourceURL=js_52f9d9294c"
            ],
            "text/plain": [
              "<IPython.core.display.Javascript object>"
            ]
          },
          "metadata": {
            "tags": [
              "id26-10-1",
              "outputarea_id26"
            ]
          }
        },
        {
          "output_type": "display_data",
          "data": {
            "application/javascript": [
              "window[\"8ec53fe6-4dc8-11eb-8708-0242ac1c0002\"] = document.querySelector(\"#id26-10-1\");\n",
              "//# sourceURL=js_886cafabe3"
            ],
            "text/plain": [
              "<IPython.core.display.Javascript object>"
            ]
          },
          "metadata": {
            "tags": [
              "id26-10-1",
              "outputarea_id26"
            ]
          }
        },
        {
          "output_type": "display_data",
          "data": {
            "application/javascript": [
              "window[\"8ec67e42-4dc8-11eb-8708-0242ac1c0002\"] = google.colab.output.setActiveOutputArea(window[\"8ec53fe6-4dc8-11eb-8708-0242ac1c0002\"]);\n",
              "//# sourceURL=js_3eb71763c9"
            ],
            "text/plain": [
              "<IPython.core.display.Javascript object>"
            ]
          },
          "metadata": {
            "tags": [
              "id26-10-1",
              "outputarea_id26"
            ]
          }
        },
        {
          "output_type": "display_data",
          "data": {
            "application/javascript": [
              "window[\"8ec97e44-4dc8-11eb-8708-0242ac1c0002\"] = google.colab.output.setActiveOutputArea(window[\"8ec50166-4dc8-11eb-8708-0242ac1c0002\"]);\n",
              "//# sourceURL=js_093fd88271"
            ],
            "text/plain": [
              "<IPython.core.display.Javascript object>"
            ]
          },
          "metadata": {
            "tags": [
              "id26-10-1",
              "outputarea_id26"
            ]
          }
        },
        {
          "output_type": "display_data",
          "data": {
            "application/javascript": [
              "window[\"8ece9dfc-4dc8-11eb-8708-0242ac1c0002\"] = google.colab.output.getActiveOutputArea();\n",
              "//# sourceURL=js_fafaced77c"
            ],
            "text/plain": [
              "<IPython.core.display.Javascript object>"
            ]
          },
          "metadata": {
            "tags": [
              "id26-10-2",
              "outputarea_id26"
            ]
          }
        },
        {
          "output_type": "display_data",
          "data": {
            "application/javascript": [
              "window[\"8ecf03be-4dc8-11eb-8708-0242ac1c0002\"] = document.querySelector(\"#id26-10-2\");\n",
              "//# sourceURL=js_aa0bd52375"
            ],
            "text/plain": [
              "<IPython.core.display.Javascript object>"
            ]
          },
          "metadata": {
            "tags": [
              "id26-10-2",
              "outputarea_id26"
            ]
          }
        },
        {
          "output_type": "display_data",
          "data": {
            "application/javascript": [
              "window[\"8ecf99c8-4dc8-11eb-8708-0242ac1c0002\"] = google.colab.output.setActiveOutputArea(window[\"8ecf03be-4dc8-11eb-8708-0242ac1c0002\"]);\n",
              "//# sourceURL=js_6046b13db8"
            ],
            "text/plain": [
              "<IPython.core.display.Javascript object>"
            ]
          },
          "metadata": {
            "tags": [
              "id26-10-2",
              "outputarea_id26"
            ]
          }
        },
        {
          "output_type": "stream",
          "text": [
            "Container Homes around the World - Speaking(https://lms.wiseman.com.hk/lms/user/secure/course/eb/select_theme/selectLesson.do?id=8ae5daa05e4eb277015e511fb8520026&from=lesson)\n"
          ],
          "name": "stdout"
        },
        {
          "output_type": "display_data",
          "data": {
            "application/javascript": [
              "window[\"8ed39384-4dc8-11eb-8708-0242ac1c0002\"] = google.colab.output.setActiveOutputArea(window[\"8ece9dfc-4dc8-11eb-8708-0242ac1c0002\"]);\n",
              "//# sourceURL=js_21a28e7d1c"
            ],
            "text/plain": [
              "<IPython.core.display.Javascript object>"
            ]
          },
          "metadata": {
            "tags": [
              "id26-10-2",
              "outputarea_id26"
            ]
          }
        },
        {
          "output_type": "display_data",
          "data": {
            "application/javascript": [
              "window[\"9289d150-4dc8-11eb-8708-0242ac1c0002\"] = google.colab.output.getActiveOutputArea();\n",
              "//# sourceURL=js_a45a32e07b"
            ],
            "text/plain": [
              "<IPython.core.display.Javascript object>"
            ]
          },
          "metadata": {
            "tags": [
              "id26-10-1",
              "outputarea_id26"
            ]
          }
        },
        {
          "output_type": "display_data",
          "data": {
            "application/javascript": [
              "window[\"928aa206-4dc8-11eb-8708-0242ac1c0002\"] = document.querySelector(\"#id26-10-1\");\n",
              "//# sourceURL=js_c42f562813"
            ],
            "text/plain": [
              "<IPython.core.display.Javascript object>"
            ]
          },
          "metadata": {
            "tags": [
              "id26-10-1",
              "outputarea_id26"
            ]
          }
        },
        {
          "output_type": "display_data",
          "data": {
            "application/javascript": [
              "window[\"928b6e70-4dc8-11eb-8708-0242ac1c0002\"] = google.colab.output.setActiveOutputArea(window[\"928aa206-4dc8-11eb-8708-0242ac1c0002\"]);\n",
              "//# sourceURL=js_144f5493e5"
            ],
            "text/plain": [
              "<IPython.core.display.Javascript object>"
            ]
          },
          "metadata": {
            "tags": [
              "id26-10-1",
              "outputarea_id26"
            ]
          }
        },
        {
          "output_type": "stream",
          "text": [
            "New\n"
          ],
          "name": "stdout"
        },
        {
          "output_type": "display_data",
          "data": {
            "application/javascript": [
              "window[\"928ed27c-4dc8-11eb-8708-0242ac1c0002\"] = google.colab.output.setActiveOutputArea(window[\"9289d150-4dc8-11eb-8708-0242ac1c0002\"]);\n",
              "//# sourceURL=js_7ba16e0047"
            ],
            "text/plain": [
              "<IPython.core.display.Javascript object>"
            ]
          },
          "metadata": {
            "tags": [
              "id26-10-1",
              "outputarea_id26"
            ]
          }
        },
        {
          "output_type": "display_data",
          "data": {
            "application/javascript": [
              "window[\"92930c52-4dc8-11eb-8708-0242ac1c0002\"] = google.colab.output.getActiveOutputArea();\n",
              "//# sourceURL=js_3e548dbfb8"
            ],
            "text/plain": [
              "<IPython.core.display.Javascript object>"
            ]
          },
          "metadata": {
            "tags": [
              "id26-11-0",
              "outputarea_id26"
            ]
          }
        },
        {
          "output_type": "display_data",
          "data": {
            "application/javascript": [
              "window[\"929371e2-4dc8-11eb-8708-0242ac1c0002\"] = document.querySelector(\"#id26-11-0\");\n",
              "//# sourceURL=js_512864ce43"
            ],
            "text/plain": [
              "<IPython.core.display.Javascript object>"
            ]
          },
          "metadata": {
            "tags": [
              "id26-11-0",
              "outputarea_id26"
            ]
          }
        },
        {
          "output_type": "display_data",
          "data": {
            "application/javascript": [
              "window[\"9293bc6a-4dc8-11eb-8708-0242ac1c0002\"] = google.colab.output.setActiveOutputArea(window[\"929371e2-4dc8-11eb-8708-0242ac1c0002\"]);\n",
              "//# sourceURL=js_1f2a7cd08f"
            ],
            "text/plain": [
              "<IPython.core.display.Javascript object>"
            ]
          },
          "metadata": {
            "tags": [
              "id26-11-0",
              "outputarea_id26"
            ]
          }
        },
        {
          "output_type": "stream",
          "text": [
            "11/11\n"
          ],
          "name": "stdout"
        },
        {
          "output_type": "display_data",
          "data": {
            "application/javascript": [
              "window[\"9295bb5a-4dc8-11eb-8708-0242ac1c0002\"] = google.colab.output.setActiveOutputArea(window[\"92930c52-4dc8-11eb-8708-0242ac1c0002\"]);\n",
              "//# sourceURL=js_a16bc32d57"
            ],
            "text/plain": [
              "<IPython.core.display.Javascript object>"
            ]
          },
          "metadata": {
            "tags": [
              "id26-11-0",
              "outputarea_id26"
            ]
          }
        },
        {
          "output_type": "display_data",
          "data": {
            "application/javascript": [
              "window[\"9297cfbc-4dc8-11eb-8708-0242ac1c0002\"] = google.colab.output.getActiveOutputArea();\n",
              "//# sourceURL=js_5cb047534d"
            ],
            "text/plain": [
              "<IPython.core.display.Javascript object>"
            ]
          },
          "metadata": {
            "tags": [
              "id26-11-1",
              "outputarea_id26"
            ]
          }
        },
        {
          "output_type": "display_data",
          "data": {
            "application/javascript": [
              "window[\"929829bc-4dc8-11eb-8708-0242ac1c0002\"] = document.querySelector(\"#id26-11-1\");\n",
              "//# sourceURL=js_35ea4263a2"
            ],
            "text/plain": [
              "<IPython.core.display.Javascript object>"
            ]
          },
          "metadata": {
            "tags": [
              "id26-11-1",
              "outputarea_id26"
            ]
          }
        },
        {
          "output_type": "display_data",
          "data": {
            "application/javascript": [
              "window[\"9298a3ba-4dc8-11eb-8708-0242ac1c0002\"] = google.colab.output.setActiveOutputArea(window[\"929829bc-4dc8-11eb-8708-0242ac1c0002\"]);\n",
              "//# sourceURL=js_67c6fabf02"
            ],
            "text/plain": [
              "<IPython.core.display.Javascript object>"
            ]
          },
          "metadata": {
            "tags": [
              "id26-11-1",
              "outputarea_id26"
            ]
          }
        },
        {
          "output_type": "display_data",
          "data": {
            "application/javascript": [
              "window[\"929b557e-4dc8-11eb-8708-0242ac1c0002\"] = google.colab.output.setActiveOutputArea(window[\"9297cfbc-4dc8-11eb-8708-0242ac1c0002\"]);\n",
              "//# sourceURL=js_e52c0a8935"
            ],
            "text/plain": [
              "<IPython.core.display.Javascript object>"
            ]
          },
          "metadata": {
            "tags": [
              "id26-11-1",
              "outputarea_id26"
            ]
          }
        },
        {
          "output_type": "display_data",
          "data": {
            "application/javascript": [
              "window[\"929e2b64-4dc8-11eb-8708-0242ac1c0002\"] = google.colab.output.getActiveOutputArea();\n",
              "//# sourceURL=js_48c0ce47c9"
            ],
            "text/plain": [
              "<IPython.core.display.Javascript object>"
            ]
          },
          "metadata": {
            "tags": [
              "id26-11-2",
              "outputarea_id26"
            ]
          }
        },
        {
          "output_type": "display_data",
          "data": {
            "application/javascript": [
              "window[\"929e8c94-4dc8-11eb-8708-0242ac1c0002\"] = document.querySelector(\"#id26-11-2\");\n",
              "//# sourceURL=js_8678854a96"
            ],
            "text/plain": [
              "<IPython.core.display.Javascript object>"
            ]
          },
          "metadata": {
            "tags": [
              "id26-11-2",
              "outputarea_id26"
            ]
          }
        },
        {
          "output_type": "display_data",
          "data": {
            "application/javascript": [
              "window[\"929f2488-4dc8-11eb-8708-0242ac1c0002\"] = google.colab.output.setActiveOutputArea(window[\"929e8c94-4dc8-11eb-8708-0242ac1c0002\"]);\n",
              "//# sourceURL=js_3b88249eab"
            ],
            "text/plain": [
              "<IPython.core.display.Javascript object>"
            ]
          },
          "metadata": {
            "tags": [
              "id26-11-2",
              "outputarea_id26"
            ]
          }
        },
        {
          "output_type": "stream",
          "text": [
            "Container Homes around the World - Writing(https://lms.wiseman.com.hk/lms/user/secure/course/eb/select_theme/selectLesson.do?id=8ae5daa05e4eb277015e5120b4b9002c&from=lesson)\n"
          ],
          "name": "stdout"
        },
        {
          "output_type": "display_data",
          "data": {
            "application/javascript": [
              "window[\"92a0656e-4dc8-11eb-8708-0242ac1c0002\"] = google.colab.output.setActiveOutputArea(window[\"929e2b64-4dc8-11eb-8708-0242ac1c0002\"]);\n",
              "//# sourceURL=js_4ba23f9b9e"
            ],
            "text/plain": [
              "<IPython.core.display.Javascript object>"
            ]
          },
          "metadata": {
            "tags": [
              "id26-11-2",
              "outputarea_id26"
            ]
          }
        },
        {
          "output_type": "display_data",
          "data": {
            "application/javascript": [
              "window[\"96efdef6-4dc8-11eb-8708-0242ac1c0002\"] = google.colab.output.getActiveOutputArea();\n",
              "//# sourceURL=js_e41d911ee8"
            ],
            "text/plain": [
              "<IPython.core.display.Javascript object>"
            ]
          },
          "metadata": {
            "tags": [
              "id26-11-1",
              "outputarea_id26"
            ]
          }
        },
        {
          "output_type": "display_data",
          "data": {
            "application/javascript": [
              "window[\"96f0b3c6-4dc8-11eb-8708-0242ac1c0002\"] = document.querySelector(\"#id26-11-1\");\n",
              "//# sourceURL=js_be2554f6bf"
            ],
            "text/plain": [
              "<IPython.core.display.Javascript object>"
            ]
          },
          "metadata": {
            "tags": [
              "id26-11-1",
              "outputarea_id26"
            ]
          }
        },
        {
          "output_type": "display_data",
          "data": {
            "application/javascript": [
              "window[\"96f227e2-4dc8-11eb-8708-0242ac1c0002\"] = google.colab.output.setActiveOutputArea(window[\"96f0b3c6-4dc8-11eb-8708-0242ac1c0002\"]);\n",
              "//# sourceURL=js_511b47ae25"
            ],
            "text/plain": [
              "<IPython.core.display.Javascript object>"
            ]
          },
          "metadata": {
            "tags": [
              "id26-11-1",
              "outputarea_id26"
            ]
          }
        },
        {
          "output_type": "stream",
          "text": [
            "New\n"
          ],
          "name": "stdout"
        },
        {
          "output_type": "display_data",
          "data": {
            "application/javascript": [
              "window[\"96f53496-4dc8-11eb-8708-0242ac1c0002\"] = google.colab.output.setActiveOutputArea(window[\"96efdef6-4dc8-11eb-8708-0242ac1c0002\"]);\n",
              "//# sourceURL=js_bde767ee80"
            ],
            "text/plain": [
              "<IPython.core.display.Javascript object>"
            ]
          },
          "metadata": {
            "tags": [
              "id26-11-1",
              "outputarea_id26"
            ]
          }
        },
        {
          "output_type": "stream",
          "text": [
            "5A-01-CAO SHUYU [371=>0]\n",
            "Finished\n",
            "5A-02-CHAN HIU YEE  Score:0\n",
            "5A-03-CHAN ON KI  Score:222\n"
          ],
          "name": "stdout"
        },
        {
          "output_type": "display_data",
          "data": {
            "text/html": [
              "<style>\n",
              "       table#id28, #id28 > tbody > tr > th, #id28 > tbody > tr > td {\n",
              "         border: 1px solid lightgray;\n",
              "         border-collapse:collapse;\n",
              "         \n",
              "        }</style>"
            ],
            "text/plain": [
              "<IPython.core.display.HTML object>"
            ]
          },
          "metadata": {
            "tags": [
              "outputarea_id28"
            ]
          }
        },
        {
          "output_type": "display_data",
          "data": {
            "text/html": [
              "<table id=id28><tr><th id=id28-0-0></th><th id=id28-0-1></th><th id=id28-0-2></th></tr><tr><td id=id28-1-0></td><td id=id28-1-1></td><td id=id28-1-2></td></tr><tr><td id=id28-2-0></td><td id=id28-2-1></td><td id=id28-2-2></td></tr><tr><td id=id28-3-0></td><td id=id28-3-1></td><td id=id28-3-2></td></tr><tr><td id=id28-4-0></td><td id=id28-4-1></td><td id=id28-4-2></td></tr><tr><td id=id28-5-0></td><td id=id28-5-1></td><td id=id28-5-2></td></tr><tr><td id=id28-6-0></td><td id=id28-6-1></td><td id=id28-6-2></td></tr><tr><td id=id28-7-0></td><td id=id28-7-1></td><td id=id28-7-2></td></tr><tr><td id=id28-8-0></td><td id=id28-8-1></td><td id=id28-8-2></td></tr><tr><td id=id28-9-0></td><td id=id28-9-1></td><td id=id28-9-2></td></tr><tr><td id=id28-10-0></td><td id=id28-10-1></td><td id=id28-10-2></td></tr><tr><td id=id28-11-0></td><td id=id28-11-1></td><td id=id28-11-2></td></tr><tr><td id=id28-12-0></td><td id=id28-12-1></td><td id=id28-12-2></td></tr><tr><td id=id28-13-0></td><td id=id28-13-1></td><td id=id28-13-2></td></tr><tr><td id=id28-14-0></td><td id=id28-14-1></td><td id=id28-14-2></td></tr><tr><td id=id28-15-0></td><td id=id28-15-1></td><td id=id28-15-2></td></tr><tr><td id=id28-16-0></td><td id=id28-16-1></td><td id=id28-16-2></td></tr><tr><td id=id28-17-0></td><td id=id28-17-1></td><td id=id28-17-2></td></tr><tr><td id=id28-18-0></td><td id=id28-18-1></td><td id=id28-18-2></td></tr><tr><td id=id28-19-0></td><td id=id28-19-1></td><td id=id28-19-2></td></tr></table>"
            ],
            "text/plain": [
              "<IPython.core.display.HTML object>"
            ]
          },
          "metadata": {
            "tags": [
              "outputarea_id28"
            ]
          }
        },
        {
          "output_type": "display_data",
          "data": {
            "application/javascript": [
              "window[\"a0fb0bf0-4dc8-11eb-8708-0242ac1c0002\"] = google.colab.output.getActiveOutputArea();\n",
              "//# sourceURL=js_6fb1119fe9"
            ],
            "text/plain": [
              "<IPython.core.display.Javascript object>"
            ]
          },
          "metadata": {
            "tags": [
              "id28-0-1",
              "outputarea_id28"
            ]
          }
        },
        {
          "output_type": "display_data",
          "data": {
            "application/javascript": [
              "window[\"a0fb77fc-4dc8-11eb-8708-0242ac1c0002\"] = document.querySelector(\"#id28-0-1\");\n",
              "//# sourceURL=js_bf9f693652"
            ],
            "text/plain": [
              "<IPython.core.display.Javascript object>"
            ]
          },
          "metadata": {
            "tags": [
              "id28-0-1",
              "outputarea_id28"
            ]
          }
        },
        {
          "output_type": "display_data",
          "data": {
            "application/javascript": [
              "window[\"a0fbc1da-4dc8-11eb-8708-0242ac1c0002\"] = google.colab.output.setActiveOutputArea(window[\"a0fb77fc-4dc8-11eb-8708-0242ac1c0002\"]);\n",
              "//# sourceURL=js_06d24a79d2"
            ],
            "text/plain": [
              "<IPython.core.display.Javascript object>"
            ]
          },
          "metadata": {
            "tags": [
              "id28-0-1",
              "outputarea_id28"
            ]
          }
        },
        {
          "output_type": "stream",
          "text": [
            "Status\n"
          ],
          "name": "stdout"
        },
        {
          "output_type": "display_data",
          "data": {
            "application/javascript": [
              "window[\"a0fcaaaa-4dc8-11eb-8708-0242ac1c0002\"] = google.colab.output.setActiveOutputArea(window[\"a0fb0bf0-4dc8-11eb-8708-0242ac1c0002\"]);\n",
              "//# sourceURL=js_c259188355"
            ],
            "text/plain": [
              "<IPython.core.display.Javascript object>"
            ]
          },
          "metadata": {
            "tags": [
              "id28-0-1",
              "outputarea_id28"
            ]
          }
        },
        {
          "output_type": "display_data",
          "data": {
            "application/javascript": [
              "window[\"a0fdfc7a-4dc8-11eb-8708-0242ac1c0002\"] = google.colab.output.getActiveOutputArea();\n",
              "//# sourceURL=js_4e2f33d053"
            ],
            "text/plain": [
              "<IPython.core.display.Javascript object>"
            ]
          },
          "metadata": {
            "tags": [
              "id28-0-2",
              "outputarea_id28"
            ]
          }
        },
        {
          "output_type": "display_data",
          "data": {
            "application/javascript": [
              "window[\"a0fe3dd4-4dc8-11eb-8708-0242ac1c0002\"] = document.querySelector(\"#id28-0-2\");\n",
              "//# sourceURL=js_a2d73e79c4"
            ],
            "text/plain": [
              "<IPython.core.display.Javascript object>"
            ]
          },
          "metadata": {
            "tags": [
              "id28-0-2",
              "outputarea_id28"
            ]
          }
        },
        {
          "output_type": "display_data",
          "data": {
            "application/javascript": [
              "window[\"a0fe8a14-4dc8-11eb-8708-0242ac1c0002\"] = google.colab.output.setActiveOutputArea(window[\"a0fe3dd4-4dc8-11eb-8708-0242ac1c0002\"]);\n",
              "//# sourceURL=js_7d3a181202"
            ],
            "text/plain": [
              "<IPython.core.display.Javascript object>"
            ]
          },
          "metadata": {
            "tags": [
              "id28-0-2",
              "outputarea_id28"
            ]
          }
        },
        {
          "output_type": "stream",
          "text": [
            "Title\n"
          ],
          "name": "stdout"
        },
        {
          "output_type": "display_data",
          "data": {
            "application/javascript": [
              "window[\"a0ff6da8-4dc8-11eb-8708-0242ac1c0002\"] = google.colab.output.setActiveOutputArea(window[\"a0fdfc7a-4dc8-11eb-8708-0242ac1c0002\"]);\n",
              "//# sourceURL=js_c1ac354094"
            ],
            "text/plain": [
              "<IPython.core.display.Javascript object>"
            ]
          },
          "metadata": {
            "tags": [
              "id28-0-2",
              "outputarea_id28"
            ]
          }
        },
        {
          "output_type": "display_data",
          "data": {
            "application/javascript": [
              "window[\"a100b37a-4dc8-11eb-8708-0242ac1c0002\"] = google.colab.output.getActiveOutputArea();\n",
              "//# sourceURL=js_1e86f305c8"
            ],
            "text/plain": [
              "<IPython.core.display.Javascript object>"
            ]
          },
          "metadata": {
            "tags": [
              "id28-1-0",
              "outputarea_id28"
            ]
          }
        },
        {
          "output_type": "display_data",
          "data": {
            "application/javascript": [
              "window[\"a10103de-4dc8-11eb-8708-0242ac1c0002\"] = document.querySelector(\"#id28-1-0\");\n",
              "//# sourceURL=js_d9e2bb177c"
            ],
            "text/plain": [
              "<IPython.core.display.Javascript object>"
            ]
          },
          "metadata": {
            "tags": [
              "id28-1-0",
              "outputarea_id28"
            ]
          }
        },
        {
          "output_type": "display_data",
          "data": {
            "application/javascript": [
              "window[\"a1014b46-4dc8-11eb-8708-0242ac1c0002\"] = google.colab.output.setActiveOutputArea(window[\"a10103de-4dc8-11eb-8708-0242ac1c0002\"]);\n",
              "//# sourceURL=js_26c5217793"
            ],
            "text/plain": [
              "<IPython.core.display.Javascript object>"
            ]
          },
          "metadata": {
            "tags": [
              "id28-1-0",
              "outputarea_id28"
            ]
          }
        },
        {
          "output_type": "stream",
          "text": [
            "1/19\n"
          ],
          "name": "stdout"
        },
        {
          "output_type": "display_data",
          "data": {
            "application/javascript": [
              "window[\"a1022f02-4dc8-11eb-8708-0242ac1c0002\"] = google.colab.output.setActiveOutputArea(window[\"a100b37a-4dc8-11eb-8708-0242ac1c0002\"]);\n",
              "//# sourceURL=js_2183411c0c"
            ],
            "text/plain": [
              "<IPython.core.display.Javascript object>"
            ]
          },
          "metadata": {
            "tags": [
              "id28-1-0",
              "outputarea_id28"
            ]
          }
        },
        {
          "output_type": "display_data",
          "data": {
            "application/javascript": [
              "window[\"a1036dd6-4dc8-11eb-8708-0242ac1c0002\"] = google.colab.output.getActiveOutputArea();\n",
              "//# sourceURL=js_09885737dc"
            ],
            "text/plain": [
              "<IPython.core.display.Javascript object>"
            ]
          },
          "metadata": {
            "tags": [
              "id28-1-1",
              "outputarea_id28"
            ]
          }
        },
        {
          "output_type": "display_data",
          "data": {
            "application/javascript": [
              "window[\"a103c6be-4dc8-11eb-8708-0242ac1c0002\"] = document.querySelector(\"#id28-1-1\");\n",
              "//# sourceURL=js_9b96d43f57"
            ],
            "text/plain": [
              "<IPython.core.display.Javascript object>"
            ]
          },
          "metadata": {
            "tags": [
              "id28-1-1",
              "outputarea_id28"
            ]
          }
        },
        {
          "output_type": "display_data",
          "data": {
            "application/javascript": [
              "window[\"a1040a3e-4dc8-11eb-8708-0242ac1c0002\"] = google.colab.output.setActiveOutputArea(window[\"a103c6be-4dc8-11eb-8708-0242ac1c0002\"]);\n",
              "//# sourceURL=js_bae3b695f8"
            ],
            "text/plain": [
              "<IPython.core.display.Javascript object>"
            ]
          },
          "metadata": {
            "tags": [
              "id28-1-1",
              "outputarea_id28"
            ]
          }
        },
        {
          "output_type": "display_data",
          "data": {
            "application/javascript": [
              "window[\"a104f0fc-4dc8-11eb-8708-0242ac1c0002\"] = google.colab.output.setActiveOutputArea(window[\"a1036dd6-4dc8-11eb-8708-0242ac1c0002\"]);\n",
              "//# sourceURL=js_ebd4395739"
            ],
            "text/plain": [
              "<IPython.core.display.Javascript object>"
            ]
          },
          "metadata": {
            "tags": [
              "id28-1-1",
              "outputarea_id28"
            ]
          }
        },
        {
          "output_type": "display_data",
          "data": {
            "application/javascript": [
              "window[\"a106523a-4dc8-11eb-8708-0242ac1c0002\"] = google.colab.output.getActiveOutputArea();\n",
              "//# sourceURL=js_6cc456c583"
            ],
            "text/plain": [
              "<IPython.core.display.Javascript object>"
            ]
          },
          "metadata": {
            "tags": [
              "id28-1-2",
              "outputarea_id28"
            ]
          }
        },
        {
          "output_type": "display_data",
          "data": {
            "application/javascript": [
              "window[\"a106a7da-4dc8-11eb-8708-0242ac1c0002\"] = document.querySelector(\"#id28-1-2\");\n",
              "//# sourceURL=js_be16affd53"
            ],
            "text/plain": [
              "<IPython.core.display.Javascript object>"
            ]
          },
          "metadata": {
            "tags": [
              "id28-1-2",
              "outputarea_id28"
            ]
          }
        },
        {
          "output_type": "display_data",
          "data": {
            "application/javascript": [
              "window[\"a106f6f4-4dc8-11eb-8708-0242ac1c0002\"] = google.colab.output.setActiveOutputArea(window[\"a106a7da-4dc8-11eb-8708-0242ac1c0002\"]);\n",
              "//# sourceURL=js_c5f8dbfc5b"
            ],
            "text/plain": [
              "<IPython.core.display.Javascript object>"
            ]
          },
          "metadata": {
            "tags": [
              "id28-1-2",
              "outputarea_id28"
            ]
          }
        },
        {
          "output_type": "stream",
          "text": [
            "Detectives and Dubai - Listening(https://lms.wiseman.com.hk/lms/user/secure/course/eb/select_theme/selectLesson.do?id=fa60c6dce1fc4346b0a5403bc0261570&from=lesson)\n"
          ],
          "name": "stdout"
        },
        {
          "output_type": "display_data",
          "data": {
            "application/javascript": [
              "window[\"a107e01e-4dc8-11eb-8708-0242ac1c0002\"] = google.colab.output.setActiveOutputArea(window[\"a106523a-4dc8-11eb-8708-0242ac1c0002\"]);\n",
              "//# sourceURL=js_f4ed00941b"
            ],
            "text/plain": [
              "<IPython.core.display.Javascript object>"
            ]
          },
          "metadata": {
            "tags": [
              "id28-1-2",
              "outputarea_id28"
            ]
          }
        },
        {
          "output_type": "display_data",
          "data": {
            "application/javascript": [
              "window[\"a513a76a-4dc8-11eb-8708-0242ac1c0002\"] = google.colab.output.getActiveOutputArea();\n",
              "//# sourceURL=js_c9b194cafb"
            ],
            "text/plain": [
              "<IPython.core.display.Javascript object>"
            ]
          },
          "metadata": {
            "tags": [
              "id28-1-1",
              "outputarea_id28"
            ]
          }
        },
        {
          "output_type": "display_data",
          "data": {
            "application/javascript": [
              "window[\"a5146ae2-4dc8-11eb-8708-0242ac1c0002\"] = document.querySelector(\"#id28-1-1\");\n",
              "//# sourceURL=js_e7d403af8a"
            ],
            "text/plain": [
              "<IPython.core.display.Javascript object>"
            ]
          },
          "metadata": {
            "tags": [
              "id28-1-1",
              "outputarea_id28"
            ]
          }
        },
        {
          "output_type": "display_data",
          "data": {
            "application/javascript": [
              "window[\"a514c212-4dc8-11eb-8708-0242ac1c0002\"] = google.colab.output.setActiveOutputArea(window[\"a5146ae2-4dc8-11eb-8708-0242ac1c0002\"]);\n",
              "//# sourceURL=js_65a6434ab4"
            ],
            "text/plain": [
              "<IPython.core.display.Javascript object>"
            ]
          },
          "metadata": {
            "tags": [
              "id28-1-1",
              "outputarea_id28"
            ]
          }
        },
        {
          "output_type": "stream",
          "text": [
            "New\n"
          ],
          "name": "stdout"
        },
        {
          "output_type": "display_data",
          "data": {
            "application/javascript": [
              "window[\"a51720b6-4dc8-11eb-8708-0242ac1c0002\"] = google.colab.output.setActiveOutputArea(window[\"a513a76a-4dc8-11eb-8708-0242ac1c0002\"]);\n",
              "//# sourceURL=js_0fa3a78719"
            ],
            "text/plain": [
              "<IPython.core.display.Javascript object>"
            ]
          },
          "metadata": {
            "tags": [
              "id28-1-1",
              "outputarea_id28"
            ]
          }
        },
        {
          "output_type": "display_data",
          "data": {
            "application/javascript": [
              "window[\"a518ef5e-4dc8-11eb-8708-0242ac1c0002\"] = google.colab.output.getActiveOutputArea();\n",
              "//# sourceURL=js_af9288da30"
            ],
            "text/plain": [
              "<IPython.core.display.Javascript object>"
            ]
          },
          "metadata": {
            "tags": [
              "id28-2-0",
              "outputarea_id28"
            ]
          }
        },
        {
          "output_type": "display_data",
          "data": {
            "application/javascript": [
              "window[\"a5199daa-4dc8-11eb-8708-0242ac1c0002\"] = document.querySelector(\"#id28-2-0\");\n",
              "//# sourceURL=js_4d322e8d65"
            ],
            "text/plain": [
              "<IPython.core.display.Javascript object>"
            ]
          },
          "metadata": {
            "tags": [
              "id28-2-0",
              "outputarea_id28"
            ]
          }
        },
        {
          "output_type": "display_data",
          "data": {
            "application/javascript": [
              "window[\"a519f106-4dc8-11eb-8708-0242ac1c0002\"] = google.colab.output.setActiveOutputArea(window[\"a5199daa-4dc8-11eb-8708-0242ac1c0002\"]);\n",
              "//# sourceURL=js_dbbaad943e"
            ],
            "text/plain": [
              "<IPython.core.display.Javascript object>"
            ]
          },
          "metadata": {
            "tags": [
              "id28-2-0",
              "outputarea_id28"
            ]
          }
        },
        {
          "output_type": "stream",
          "text": [
            "2/19\n"
          ],
          "name": "stdout"
        },
        {
          "output_type": "display_data",
          "data": {
            "application/javascript": [
              "window[\"a51b6d4c-4dc8-11eb-8708-0242ac1c0002\"] = google.colab.output.setActiveOutputArea(window[\"a518ef5e-4dc8-11eb-8708-0242ac1c0002\"]);\n",
              "//# sourceURL=js_2189a43766"
            ],
            "text/plain": [
              "<IPython.core.display.Javascript object>"
            ]
          },
          "metadata": {
            "tags": [
              "id28-2-0",
              "outputarea_id28"
            ]
          }
        },
        {
          "output_type": "display_data",
          "data": {
            "application/javascript": [
              "window[\"a51d4f2c-4dc8-11eb-8708-0242ac1c0002\"] = google.colab.output.getActiveOutputArea();\n",
              "//# sourceURL=js_702762aba3"
            ],
            "text/plain": [
              "<IPython.core.display.Javascript object>"
            ]
          },
          "metadata": {
            "tags": [
              "id28-2-1",
              "outputarea_id28"
            ]
          }
        },
        {
          "output_type": "display_data",
          "data": {
            "application/javascript": [
              "window[\"a51d97ac-4dc8-11eb-8708-0242ac1c0002\"] = document.querySelector(\"#id28-2-1\");\n",
              "//# sourceURL=js_eabf9a9d17"
            ],
            "text/plain": [
              "<IPython.core.display.Javascript object>"
            ]
          },
          "metadata": {
            "tags": [
              "id28-2-1",
              "outputarea_id28"
            ]
          }
        },
        {
          "output_type": "display_data",
          "data": {
            "application/javascript": [
              "window[\"a51de806-4dc8-11eb-8708-0242ac1c0002\"] = google.colab.output.setActiveOutputArea(window[\"a51d97ac-4dc8-11eb-8708-0242ac1c0002\"]);\n",
              "//# sourceURL=js_af71a033b4"
            ],
            "text/plain": [
              "<IPython.core.display.Javascript object>"
            ]
          },
          "metadata": {
            "tags": [
              "id28-2-1",
              "outputarea_id28"
            ]
          }
        },
        {
          "output_type": "display_data",
          "data": {
            "application/javascript": [
              "window[\"a51f0bc8-4dc8-11eb-8708-0242ac1c0002\"] = google.colab.output.setActiveOutputArea(window[\"a51d4f2c-4dc8-11eb-8708-0242ac1c0002\"]);\n",
              "//# sourceURL=js_3024119d6f"
            ],
            "text/plain": [
              "<IPython.core.display.Javascript object>"
            ]
          },
          "metadata": {
            "tags": [
              "id28-2-1",
              "outputarea_id28"
            ]
          }
        },
        {
          "output_type": "display_data",
          "data": {
            "application/javascript": [
              "window[\"a5210f54-4dc8-11eb-8708-0242ac1c0002\"] = google.colab.output.getActiveOutputArea();\n",
              "//# sourceURL=js_f773d98584"
            ],
            "text/plain": [
              "<IPython.core.display.Javascript object>"
            ]
          },
          "metadata": {
            "tags": [
              "id28-2-2",
              "outputarea_id28"
            ]
          }
        },
        {
          "output_type": "display_data",
          "data": {
            "application/javascript": [
              "window[\"a5216936-4dc8-11eb-8708-0242ac1c0002\"] = document.querySelector(\"#id28-2-2\");\n",
              "//# sourceURL=js_ec81aeccef"
            ],
            "text/plain": [
              "<IPython.core.display.Javascript object>"
            ]
          },
          "metadata": {
            "tags": [
              "id28-2-2",
              "outputarea_id28"
            ]
          }
        },
        {
          "output_type": "display_data",
          "data": {
            "application/javascript": [
              "window[\"a521ff5e-4dc8-11eb-8708-0242ac1c0002\"] = google.colab.output.setActiveOutputArea(window[\"a5216936-4dc8-11eb-8708-0242ac1c0002\"]);\n",
              "//# sourceURL=js_59d035ccea"
            ],
            "text/plain": [
              "<IPython.core.display.Javascript object>"
            ]
          },
          "metadata": {
            "tags": [
              "id28-2-2",
              "outputarea_id28"
            ]
          }
        },
        {
          "output_type": "stream",
          "text": [
            "Detectives and Dubai - Reading(https://lms.wiseman.com.hk/lms/user/secure/course/eb/select_theme/selectLesson.do?id=a499907a271646c0b4fc02eb937782ba&from=lesson)\n"
          ],
          "name": "stdout"
        },
        {
          "output_type": "display_data",
          "data": {
            "application/javascript": [
              "window[\"a5247446-4dc8-11eb-8708-0242ac1c0002\"] = google.colab.output.setActiveOutputArea(window[\"a5210f54-4dc8-11eb-8708-0242ac1c0002\"]);\n",
              "//# sourceURL=js_ba5dc9811e"
            ],
            "text/plain": [
              "<IPython.core.display.Javascript object>"
            ]
          },
          "metadata": {
            "tags": [
              "id28-2-2",
              "outputarea_id28"
            ]
          }
        },
        {
          "output_type": "display_data",
          "data": {
            "application/javascript": [
              "window[\"a906f872-4dc8-11eb-8708-0242ac1c0002\"] = google.colab.output.getActiveOutputArea();\n",
              "//# sourceURL=js_11f6c875ce"
            ],
            "text/plain": [
              "<IPython.core.display.Javascript object>"
            ]
          },
          "metadata": {
            "tags": [
              "id28-2-1",
              "outputarea_id28"
            ]
          }
        },
        {
          "output_type": "display_data",
          "data": {
            "application/javascript": [
              "window[\"a907c78e-4dc8-11eb-8708-0242ac1c0002\"] = document.querySelector(\"#id28-2-1\");\n",
              "//# sourceURL=js_33eb9f7b97"
            ],
            "text/plain": [
              "<IPython.core.display.Javascript object>"
            ]
          },
          "metadata": {
            "tags": [
              "id28-2-1",
              "outputarea_id28"
            ]
          }
        },
        {
          "output_type": "display_data",
          "data": {
            "application/javascript": [
              "window[\"a9087a12-4dc8-11eb-8708-0242ac1c0002\"] = google.colab.output.setActiveOutputArea(window[\"a907c78e-4dc8-11eb-8708-0242ac1c0002\"]);\n",
              "//# sourceURL=js_440b1143f9"
            ],
            "text/plain": [
              "<IPython.core.display.Javascript object>"
            ]
          },
          "metadata": {
            "tags": [
              "id28-2-1",
              "outputarea_id28"
            ]
          }
        },
        {
          "output_type": "stream",
          "text": [
            "New\n"
          ],
          "name": "stdout"
        },
        {
          "output_type": "display_data",
          "data": {
            "application/javascript": [
              "window[\"a90a3640-4dc8-11eb-8708-0242ac1c0002\"] = google.colab.output.setActiveOutputArea(window[\"a906f872-4dc8-11eb-8708-0242ac1c0002\"]);\n",
              "//# sourceURL=js_4216941da4"
            ],
            "text/plain": [
              "<IPython.core.display.Javascript object>"
            ]
          },
          "metadata": {
            "tags": [
              "id28-2-1",
              "outputarea_id28"
            ]
          }
        },
        {
          "output_type": "display_data",
          "data": {
            "application/javascript": [
              "window[\"a91059d0-4dc8-11eb-8708-0242ac1c0002\"] = google.colab.output.getActiveOutputArea();\n",
              "//# sourceURL=js_de4bdf5c8d"
            ],
            "text/plain": [
              "<IPython.core.display.Javascript object>"
            ]
          },
          "metadata": {
            "tags": [
              "id28-3-0",
              "outputarea_id28"
            ]
          }
        },
        {
          "output_type": "display_data",
          "data": {
            "application/javascript": [
              "window[\"a9111640-4dc8-11eb-8708-0242ac1c0002\"] = document.querySelector(\"#id28-3-0\");\n",
              "//# sourceURL=js_405503aab3"
            ],
            "text/plain": [
              "<IPython.core.display.Javascript object>"
            ]
          },
          "metadata": {
            "tags": [
              "id28-3-0",
              "outputarea_id28"
            ]
          }
        },
        {
          "output_type": "display_data",
          "data": {
            "application/javascript": [
              "window[\"a91293d0-4dc8-11eb-8708-0242ac1c0002\"] = google.colab.output.setActiveOutputArea(window[\"a9111640-4dc8-11eb-8708-0242ac1c0002\"]);\n",
              "//# sourceURL=js_b75a9588ce"
            ],
            "text/plain": [
              "<IPython.core.display.Javascript object>"
            ]
          },
          "metadata": {
            "tags": [
              "id28-3-0",
              "outputarea_id28"
            ]
          }
        },
        {
          "output_type": "stream",
          "text": [
            "3/19\n"
          ],
          "name": "stdout"
        },
        {
          "output_type": "display_data",
          "data": {
            "application/javascript": [
              "window[\"a914a1fc-4dc8-11eb-8708-0242ac1c0002\"] = google.colab.output.setActiveOutputArea(window[\"a91059d0-4dc8-11eb-8708-0242ac1c0002\"]);\n",
              "//# sourceURL=js_4e3711b7ab"
            ],
            "text/plain": [
              "<IPython.core.display.Javascript object>"
            ]
          },
          "metadata": {
            "tags": [
              "id28-3-0",
              "outputarea_id28"
            ]
          }
        },
        {
          "output_type": "display_data",
          "data": {
            "application/javascript": [
              "window[\"a9174a42-4dc8-11eb-8708-0242ac1c0002\"] = google.colab.output.getActiveOutputArea();\n",
              "//# sourceURL=js_81f805d278"
            ],
            "text/plain": [
              "<IPython.core.display.Javascript object>"
            ]
          },
          "metadata": {
            "tags": [
              "id28-3-1",
              "outputarea_id28"
            ]
          }
        },
        {
          "output_type": "display_data",
          "data": {
            "application/javascript": [
              "window[\"a917b676-4dc8-11eb-8708-0242ac1c0002\"] = document.querySelector(\"#id28-3-1\");\n",
              "//# sourceURL=js_082104869e"
            ],
            "text/plain": [
              "<IPython.core.display.Javascript object>"
            ]
          },
          "metadata": {
            "tags": [
              "id28-3-1",
              "outputarea_id28"
            ]
          }
        },
        {
          "output_type": "display_data",
          "data": {
            "application/javascript": [
              "window[\"a91810d0-4dc8-11eb-8708-0242ac1c0002\"] = google.colab.output.setActiveOutputArea(window[\"a917b676-4dc8-11eb-8708-0242ac1c0002\"]);\n",
              "//# sourceURL=js_995262a9d8"
            ],
            "text/plain": [
              "<IPython.core.display.Javascript object>"
            ]
          },
          "metadata": {
            "tags": [
              "id28-3-1",
              "outputarea_id28"
            ]
          }
        },
        {
          "output_type": "display_data",
          "data": {
            "application/javascript": [
              "window[\"a919d78a-4dc8-11eb-8708-0242ac1c0002\"] = google.colab.output.setActiveOutputArea(window[\"a9174a42-4dc8-11eb-8708-0242ac1c0002\"]);\n",
              "//# sourceURL=js_30106e0004"
            ],
            "text/plain": [
              "<IPython.core.display.Javascript object>"
            ]
          },
          "metadata": {
            "tags": [
              "id28-3-1",
              "outputarea_id28"
            ]
          }
        },
        {
          "output_type": "display_data",
          "data": {
            "application/javascript": [
              "window[\"a91c38a4-4dc8-11eb-8708-0242ac1c0002\"] = google.colab.output.getActiveOutputArea();\n",
              "//# sourceURL=js_bdc97f1a5c"
            ],
            "text/plain": [
              "<IPython.core.display.Javascript object>"
            ]
          },
          "metadata": {
            "tags": [
              "id28-3-2",
              "outputarea_id28"
            ]
          }
        },
        {
          "output_type": "display_data",
          "data": {
            "application/javascript": [
              "window[\"a91c8016-4dc8-11eb-8708-0242ac1c0002\"] = document.querySelector(\"#id28-3-2\");\n",
              "//# sourceURL=js_3ac61f7daa"
            ],
            "text/plain": [
              "<IPython.core.display.Javascript object>"
            ]
          },
          "metadata": {
            "tags": [
              "id28-3-2",
              "outputarea_id28"
            ]
          }
        },
        {
          "output_type": "display_data",
          "data": {
            "application/javascript": [
              "window[\"a91d5022-4dc8-11eb-8708-0242ac1c0002\"] = google.colab.output.setActiveOutputArea(window[\"a91c8016-4dc8-11eb-8708-0242ac1c0002\"]);\n",
              "//# sourceURL=js_9969a6411f"
            ],
            "text/plain": [
              "<IPython.core.display.Javascript object>"
            ]
          },
          "metadata": {
            "tags": [
              "id28-3-2",
              "outputarea_id28"
            ]
          }
        },
        {
          "output_type": "stream",
          "text": [
            "Detectives and Dubai - Speaking(https://lms.wiseman.com.hk/lms/user/secure/course/eb/select_theme/selectLesson.do?id=b9bddc88c1d64dd89995150bcb53320a&from=lesson)\n"
          ],
          "name": "stdout"
        },
        {
          "output_type": "display_data",
          "data": {
            "application/javascript": [
              "window[\"a91eb976-4dc8-11eb-8708-0242ac1c0002\"] = google.colab.output.setActiveOutputArea(window[\"a91c38a4-4dc8-11eb-8708-0242ac1c0002\"]);\n",
              "//# sourceURL=js_eab67377d5"
            ],
            "text/plain": [
              "<IPython.core.display.Javascript object>"
            ]
          },
          "metadata": {
            "tags": [
              "id28-3-2",
              "outputarea_id28"
            ]
          }
        },
        {
          "output_type": "display_data",
          "data": {
            "application/javascript": [
              "window[\"acb8ef8e-4dc8-11eb-8708-0242ac1c0002\"] = google.colab.output.getActiveOutputArea();\n",
              "//# sourceURL=js_0e627dc5eb"
            ],
            "text/plain": [
              "<IPython.core.display.Javascript object>"
            ]
          },
          "metadata": {
            "tags": [
              "id28-3-1",
              "outputarea_id28"
            ]
          }
        },
        {
          "output_type": "display_data",
          "data": {
            "application/javascript": [
              "window[\"acb949ca-4dc8-11eb-8708-0242ac1c0002\"] = document.querySelector(\"#id28-3-1\");\n",
              "//# sourceURL=js_590236e45c"
            ],
            "text/plain": [
              "<IPython.core.display.Javascript object>"
            ]
          },
          "metadata": {
            "tags": [
              "id28-3-1",
              "outputarea_id28"
            ]
          }
        },
        {
          "output_type": "display_data",
          "data": {
            "application/javascript": [
              "window[\"acb99042-4dc8-11eb-8708-0242ac1c0002\"] = google.colab.output.setActiveOutputArea(window[\"acb949ca-4dc8-11eb-8708-0242ac1c0002\"]);\n",
              "//# sourceURL=js_7b1ccbab6b"
            ],
            "text/plain": [
              "<IPython.core.display.Javascript object>"
            ]
          },
          "metadata": {
            "tags": [
              "id28-3-1",
              "outputarea_id28"
            ]
          }
        },
        {
          "output_type": "stream",
          "text": [
            "New\n"
          ],
          "name": "stdout"
        },
        {
          "output_type": "display_data",
          "data": {
            "application/javascript": [
              "window[\"acbafb3a-4dc8-11eb-8708-0242ac1c0002\"] = google.colab.output.setActiveOutputArea(window[\"acb8ef8e-4dc8-11eb-8708-0242ac1c0002\"]);\n",
              "//# sourceURL=js_af08c3d9fc"
            ],
            "text/plain": [
              "<IPython.core.display.Javascript object>"
            ]
          },
          "metadata": {
            "tags": [
              "id28-3-1",
              "outputarea_id28"
            ]
          }
        },
        {
          "output_type": "display_data",
          "data": {
            "application/javascript": [
              "window[\"acc17974-4dc8-11eb-8708-0242ac1c0002\"] = google.colab.output.getActiveOutputArea();\n",
              "//# sourceURL=js_1c53551bf3"
            ],
            "text/plain": [
              "<IPython.core.display.Javascript object>"
            ]
          },
          "metadata": {
            "tags": [
              "id28-4-0",
              "outputarea_id28"
            ]
          }
        },
        {
          "output_type": "display_data",
          "data": {
            "application/javascript": [
              "window[\"acc1c596-4dc8-11eb-8708-0242ac1c0002\"] = document.querySelector(\"#id28-4-0\");\n",
              "//# sourceURL=js_dfc9af164b"
            ],
            "text/plain": [
              "<IPython.core.display.Javascript object>"
            ]
          },
          "metadata": {
            "tags": [
              "id28-4-0",
              "outputarea_id28"
            ]
          }
        },
        {
          "output_type": "display_data",
          "data": {
            "application/javascript": [
              "window[\"acc20d80-4dc8-11eb-8708-0242ac1c0002\"] = google.colab.output.setActiveOutputArea(window[\"acc1c596-4dc8-11eb-8708-0242ac1c0002\"]);\n",
              "//# sourceURL=js_db1d540741"
            ],
            "text/plain": [
              "<IPython.core.display.Javascript object>"
            ]
          },
          "metadata": {
            "tags": [
              "id28-4-0",
              "outputarea_id28"
            ]
          }
        },
        {
          "output_type": "stream",
          "text": [
            "4/19\n"
          ],
          "name": "stdout"
        },
        {
          "output_type": "display_data",
          "data": {
            "application/javascript": [
              "window[\"acc3c5b2-4dc8-11eb-8708-0242ac1c0002\"] = google.colab.output.setActiveOutputArea(window[\"acc17974-4dc8-11eb-8708-0242ac1c0002\"]);\n",
              "//# sourceURL=js_c04c4708b1"
            ],
            "text/plain": [
              "<IPython.core.display.Javascript object>"
            ]
          },
          "metadata": {
            "tags": [
              "id28-4-0",
              "outputarea_id28"
            ]
          }
        },
        {
          "output_type": "display_data",
          "data": {
            "application/javascript": [
              "window[\"acc6c8d4-4dc8-11eb-8708-0242ac1c0002\"] = google.colab.output.getActiveOutputArea();\n",
              "//# sourceURL=js_6e885833e7"
            ],
            "text/plain": [
              "<IPython.core.display.Javascript object>"
            ]
          },
          "metadata": {
            "tags": [
              "id28-4-1",
              "outputarea_id28"
            ]
          }
        },
        {
          "output_type": "display_data",
          "data": {
            "application/javascript": [
              "window[\"acc7c63a-4dc8-11eb-8708-0242ac1c0002\"] = document.querySelector(\"#id28-4-1\");\n",
              "//# sourceURL=js_cad6dd30f5"
            ],
            "text/plain": [
              "<IPython.core.display.Javascript object>"
            ]
          },
          "metadata": {
            "tags": [
              "id28-4-1",
              "outputarea_id28"
            ]
          }
        },
        {
          "output_type": "display_data",
          "data": {
            "application/javascript": [
              "window[\"acc82a76-4dc8-11eb-8708-0242ac1c0002\"] = google.colab.output.setActiveOutputArea(window[\"acc7c63a-4dc8-11eb-8708-0242ac1c0002\"]);\n",
              "//# sourceURL=js_5347598da7"
            ],
            "text/plain": [
              "<IPython.core.display.Javascript object>"
            ]
          },
          "metadata": {
            "tags": [
              "id28-4-1",
              "outputarea_id28"
            ]
          }
        },
        {
          "output_type": "display_data",
          "data": {
            "application/javascript": [
              "window[\"acca68c2-4dc8-11eb-8708-0242ac1c0002\"] = google.colab.output.setActiveOutputArea(window[\"acc6c8d4-4dc8-11eb-8708-0242ac1c0002\"]);\n",
              "//# sourceURL=js_a332f741f3"
            ],
            "text/plain": [
              "<IPython.core.display.Javascript object>"
            ]
          },
          "metadata": {
            "tags": [
              "id28-4-1",
              "outputarea_id28"
            ]
          }
        },
        {
          "output_type": "display_data",
          "data": {
            "application/javascript": [
              "window[\"accc4d40-4dc8-11eb-8708-0242ac1c0002\"] = google.colab.output.getActiveOutputArea();\n",
              "//# sourceURL=js_be1a45bb27"
            ],
            "text/plain": [
              "<IPython.core.display.Javascript object>"
            ]
          },
          "metadata": {
            "tags": [
              "id28-4-2",
              "outputarea_id28"
            ]
          }
        },
        {
          "output_type": "display_data",
          "data": {
            "application/javascript": [
              "window[\"accc9f84-4dc8-11eb-8708-0242ac1c0002\"] = document.querySelector(\"#id28-4-2\");\n",
              "//# sourceURL=js_6c3ce93fee"
            ],
            "text/plain": [
              "<IPython.core.display.Javascript object>"
            ]
          },
          "metadata": {
            "tags": [
              "id28-4-2",
              "outputarea_id28"
            ]
          }
        },
        {
          "output_type": "display_data",
          "data": {
            "application/javascript": [
              "window[\"accd5640-4dc8-11eb-8708-0242ac1c0002\"] = google.colab.output.setActiveOutputArea(window[\"accc9f84-4dc8-11eb-8708-0242ac1c0002\"]);\n",
              "//# sourceURL=js_516f320ef5"
            ],
            "text/plain": [
              "<IPython.core.display.Javascript object>"
            ]
          },
          "metadata": {
            "tags": [
              "id28-4-2",
              "outputarea_id28"
            ]
          }
        },
        {
          "output_type": "stream",
          "text": [
            "Detectives and Dubai - Writing(https://lms.wiseman.com.hk/lms/user/secure/course/eb/select_theme/selectLesson.do?id=0571e639532746ab8e68cac1d1f7a5e6&from=lesson)\n"
          ],
          "name": "stdout"
        },
        {
          "output_type": "display_data",
          "data": {
            "application/javascript": [
              "window[\"acce63c8-4dc8-11eb-8708-0242ac1c0002\"] = google.colab.output.setActiveOutputArea(window[\"accc4d40-4dc8-11eb-8708-0242ac1c0002\"]);\n",
              "//# sourceURL=js_d81b914418"
            ],
            "text/plain": [
              "<IPython.core.display.Javascript object>"
            ]
          },
          "metadata": {
            "tags": [
              "id28-4-2",
              "outputarea_id28"
            ]
          }
        },
        {
          "output_type": "display_data",
          "data": {
            "application/javascript": [
              "window[\"b0477986-4dc8-11eb-8708-0242ac1c0002\"] = google.colab.output.getActiveOutputArea();\n",
              "//# sourceURL=js_147064c6f5"
            ],
            "text/plain": [
              "<IPython.core.display.Javascript object>"
            ]
          },
          "metadata": {
            "tags": [
              "id28-4-1",
              "outputarea_id28"
            ]
          }
        },
        {
          "output_type": "display_data",
          "data": {
            "application/javascript": [
              "window[\"b0482b1a-4dc8-11eb-8708-0242ac1c0002\"] = document.querySelector(\"#id28-4-1\");\n",
              "//# sourceURL=js_79456ea44c"
            ],
            "text/plain": [
              "<IPython.core.display.Javascript object>"
            ]
          },
          "metadata": {
            "tags": [
              "id28-4-1",
              "outputarea_id28"
            ]
          }
        },
        {
          "output_type": "display_data",
          "data": {
            "application/javascript": [
              "window[\"b0490eea-4dc8-11eb-8708-0242ac1c0002\"] = google.colab.output.setActiveOutputArea(window[\"b0482b1a-4dc8-11eb-8708-0242ac1c0002\"]);\n",
              "//# sourceURL=js_5facf28870"
            ],
            "text/plain": [
              "<IPython.core.display.Javascript object>"
            ]
          },
          "metadata": {
            "tags": [
              "id28-4-1",
              "outputarea_id28"
            ]
          }
        },
        {
          "output_type": "stream",
          "text": [
            "New\n"
          ],
          "name": "stdout"
        },
        {
          "output_type": "display_data",
          "data": {
            "application/javascript": [
              "window[\"b04c09d8-4dc8-11eb-8708-0242ac1c0002\"] = google.colab.output.setActiveOutputArea(window[\"b0477986-4dc8-11eb-8708-0242ac1c0002\"]);\n",
              "//# sourceURL=js_26b41a90d8"
            ],
            "text/plain": [
              "<IPython.core.display.Javascript object>"
            ]
          },
          "metadata": {
            "tags": [
              "id28-4-1",
              "outputarea_id28"
            ]
          }
        },
        {
          "output_type": "display_data",
          "data": {
            "application/javascript": [
              "window[\"b04f2438-4dc8-11eb-8708-0242ac1c0002\"] = google.colab.output.getActiveOutputArea();\n",
              "//# sourceURL=js_ad8bd3b1d4"
            ],
            "text/plain": [
              "<IPython.core.display.Javascript object>"
            ]
          },
          "metadata": {
            "tags": [
              "id28-5-0",
              "outputarea_id28"
            ]
          }
        },
        {
          "output_type": "display_data",
          "data": {
            "application/javascript": [
              "window[\"b04f72a8-4dc8-11eb-8708-0242ac1c0002\"] = document.querySelector(\"#id28-5-0\");\n",
              "//# sourceURL=js_8ae1953500"
            ],
            "text/plain": [
              "<IPython.core.display.Javascript object>"
            ]
          },
          "metadata": {
            "tags": [
              "id28-5-0",
              "outputarea_id28"
            ]
          }
        },
        {
          "output_type": "display_data",
          "data": {
            "application/javascript": [
              "window[\"b04ffb06-4dc8-11eb-8708-0242ac1c0002\"] = google.colab.output.setActiveOutputArea(window[\"b04f72a8-4dc8-11eb-8708-0242ac1c0002\"]);\n",
              "//# sourceURL=js_61c26db856"
            ],
            "text/plain": [
              "<IPython.core.display.Javascript object>"
            ]
          },
          "metadata": {
            "tags": [
              "id28-5-0",
              "outputarea_id28"
            ]
          }
        },
        {
          "output_type": "stream",
          "text": [
            "5/19\n"
          ],
          "name": "stdout"
        },
        {
          "output_type": "display_data",
          "data": {
            "application/javascript": [
              "window[\"b051bafe-4dc8-11eb-8708-0242ac1c0002\"] = google.colab.output.setActiveOutputArea(window[\"b04f2438-4dc8-11eb-8708-0242ac1c0002\"]);\n",
              "//# sourceURL=js_db15c1dbc2"
            ],
            "text/plain": [
              "<IPython.core.display.Javascript object>"
            ]
          },
          "metadata": {
            "tags": [
              "id28-5-0",
              "outputarea_id28"
            ]
          }
        },
        {
          "output_type": "display_data",
          "data": {
            "application/javascript": [
              "window[\"b0540a16-4dc8-11eb-8708-0242ac1c0002\"] = google.colab.output.getActiveOutputArea();\n",
              "//# sourceURL=js_bd6cf7bf42"
            ],
            "text/plain": [
              "<IPython.core.display.Javascript object>"
            ]
          },
          "metadata": {
            "tags": [
              "id28-5-1",
              "outputarea_id28"
            ]
          }
        },
        {
          "output_type": "display_data",
          "data": {
            "application/javascript": [
              "window[\"b0547532-4dc8-11eb-8708-0242ac1c0002\"] = document.querySelector(\"#id28-5-1\");\n",
              "//# sourceURL=js_0df4d9cdef"
            ],
            "text/plain": [
              "<IPython.core.display.Javascript object>"
            ]
          },
          "metadata": {
            "tags": [
              "id28-5-1",
              "outputarea_id28"
            ]
          }
        },
        {
          "output_type": "display_data",
          "data": {
            "application/javascript": [
              "window[\"b0551172-4dc8-11eb-8708-0242ac1c0002\"] = google.colab.output.setActiveOutputArea(window[\"b0547532-4dc8-11eb-8708-0242ac1c0002\"]);\n",
              "//# sourceURL=js_4f9ace17ee"
            ],
            "text/plain": [
              "<IPython.core.display.Javascript object>"
            ]
          },
          "metadata": {
            "tags": [
              "id28-5-1",
              "outputarea_id28"
            ]
          }
        },
        {
          "output_type": "display_data",
          "data": {
            "application/javascript": [
              "window[\"b0566630-4dc8-11eb-8708-0242ac1c0002\"] = google.colab.output.setActiveOutputArea(window[\"b0540a16-4dc8-11eb-8708-0242ac1c0002\"]);\n",
              "//# sourceURL=js_0bac0ffe51"
            ],
            "text/plain": [
              "<IPython.core.display.Javascript object>"
            ]
          },
          "metadata": {
            "tags": [
              "id28-5-1",
              "outputarea_id28"
            ]
          }
        },
        {
          "output_type": "display_data",
          "data": {
            "application/javascript": [
              "window[\"b05825b0-4dc8-11eb-8708-0242ac1c0002\"] = google.colab.output.getActiveOutputArea();\n",
              "//# sourceURL=js_5030b0bf16"
            ],
            "text/plain": [
              "<IPython.core.display.Javascript object>"
            ]
          },
          "metadata": {
            "tags": [
              "id28-5-2",
              "outputarea_id28"
            ]
          }
        },
        {
          "output_type": "display_data",
          "data": {
            "application/javascript": [
              "window[\"b0586bb0-4dc8-11eb-8708-0242ac1c0002\"] = document.querySelector(\"#id28-5-2\");\n",
              "//# sourceURL=js_da145a25b0"
            ],
            "text/plain": [
              "<IPython.core.display.Javascript object>"
            ]
          },
          "metadata": {
            "tags": [
              "id28-5-2",
              "outputarea_id28"
            ]
          }
        },
        {
          "output_type": "display_data",
          "data": {
            "application/javascript": [
              "window[\"b058bec6-4dc8-11eb-8708-0242ac1c0002\"] = google.colab.output.setActiveOutputArea(window[\"b0586bb0-4dc8-11eb-8708-0242ac1c0002\"]);\n",
              "//# sourceURL=js_596820a686"
            ],
            "text/plain": [
              "<IPython.core.display.Javascript object>"
            ]
          },
          "metadata": {
            "tags": [
              "id28-5-2",
              "outputarea_id28"
            ]
          }
        },
        {
          "output_type": "stream",
          "text": [
            "Can Machines Have Feelings - Listening(https://lms.wiseman.com.hk/lms/user/secure/course/eb/select_theme/selectLesson.do?id=8ae5daa05e4eb277015e5126eb37004a&from=lesson)\n"
          ],
          "name": "stdout"
        },
        {
          "output_type": "display_data",
          "data": {
            "application/javascript": [
              "window[\"b05a06d2-4dc8-11eb-8708-0242ac1c0002\"] = google.colab.output.setActiveOutputArea(window[\"b05825b0-4dc8-11eb-8708-0242ac1c0002\"]);\n",
              "//# sourceURL=js_72eeb16413"
            ],
            "text/plain": [
              "<IPython.core.display.Javascript object>"
            ]
          },
          "metadata": {
            "tags": [
              "id28-5-2",
              "outputarea_id28"
            ]
          }
        },
        {
          "output_type": "display_data",
          "data": {
            "application/javascript": [
              "window[\"b3ee5dca-4dc8-11eb-8708-0242ac1c0002\"] = google.colab.output.getActiveOutputArea();\n",
              "//# sourceURL=js_0b3c1bfe11"
            ],
            "text/plain": [
              "<IPython.core.display.Javascript object>"
            ]
          },
          "metadata": {
            "tags": [
              "id28-5-1",
              "outputarea_id28"
            ]
          }
        },
        {
          "output_type": "display_data",
          "data": {
            "application/javascript": [
              "window[\"b3ef2f5c-4dc8-11eb-8708-0242ac1c0002\"] = document.querySelector(\"#id28-5-1\");\n",
              "//# sourceURL=js_35835ffbbc"
            ],
            "text/plain": [
              "<IPython.core.display.Javascript object>"
            ]
          },
          "metadata": {
            "tags": [
              "id28-5-1",
              "outputarea_id28"
            ]
          }
        },
        {
          "output_type": "display_data",
          "data": {
            "application/javascript": [
              "window[\"b3ef6ddc-4dc8-11eb-8708-0242ac1c0002\"] = google.colab.output.setActiveOutputArea(window[\"b3ef2f5c-4dc8-11eb-8708-0242ac1c0002\"]);\n",
              "//# sourceURL=js_eb0178c14b"
            ],
            "text/plain": [
              "<IPython.core.display.Javascript object>"
            ]
          },
          "metadata": {
            "tags": [
              "id28-5-1",
              "outputarea_id28"
            ]
          }
        },
        {
          "output_type": "stream",
          "text": [
            "New\n"
          ],
          "name": "stdout"
        },
        {
          "output_type": "display_data",
          "data": {
            "application/javascript": [
              "window[\"b3f126cc-4dc8-11eb-8708-0242ac1c0002\"] = google.colab.output.setActiveOutputArea(window[\"b3ee5dca-4dc8-11eb-8708-0242ac1c0002\"]);\n",
              "//# sourceURL=js_ec30778430"
            ],
            "text/plain": [
              "<IPython.core.display.Javascript object>"
            ]
          },
          "metadata": {
            "tags": [
              "id28-5-1",
              "outputarea_id28"
            ]
          }
        },
        {
          "output_type": "display_data",
          "data": {
            "application/javascript": [
              "window[\"b3f379f4-4dc8-11eb-8708-0242ac1c0002\"] = google.colab.output.getActiveOutputArea();\n",
              "//# sourceURL=js_4500e4bb56"
            ],
            "text/plain": [
              "<IPython.core.display.Javascript object>"
            ]
          },
          "metadata": {
            "tags": [
              "id28-6-0",
              "outputarea_id28"
            ]
          }
        },
        {
          "output_type": "display_data",
          "data": {
            "application/javascript": [
              "window[\"b3f3bc98-4dc8-11eb-8708-0242ac1c0002\"] = document.querySelector(\"#id28-6-0\");\n",
              "//# sourceURL=js_2b288a4a96"
            ],
            "text/plain": [
              "<IPython.core.display.Javascript object>"
            ]
          },
          "metadata": {
            "tags": [
              "id28-6-0",
              "outputarea_id28"
            ]
          }
        },
        {
          "output_type": "display_data",
          "data": {
            "application/javascript": [
              "window[\"b3f408ba-4dc8-11eb-8708-0242ac1c0002\"] = google.colab.output.setActiveOutputArea(window[\"b3f3bc98-4dc8-11eb-8708-0242ac1c0002\"]);\n",
              "//# sourceURL=js_37a3ff3767"
            ],
            "text/plain": [
              "<IPython.core.display.Javascript object>"
            ]
          },
          "metadata": {
            "tags": [
              "id28-6-0",
              "outputarea_id28"
            ]
          }
        },
        {
          "output_type": "stream",
          "text": [
            "6/19\n"
          ],
          "name": "stdout"
        },
        {
          "output_type": "display_data",
          "data": {
            "application/javascript": [
              "window[\"b3f58b22-4dc8-11eb-8708-0242ac1c0002\"] = google.colab.output.setActiveOutputArea(window[\"b3f379f4-4dc8-11eb-8708-0242ac1c0002\"]);\n",
              "//# sourceURL=js_f048c815f6"
            ],
            "text/plain": [
              "<IPython.core.display.Javascript object>"
            ]
          },
          "metadata": {
            "tags": [
              "id28-6-0",
              "outputarea_id28"
            ]
          }
        },
        {
          "output_type": "display_data",
          "data": {
            "application/javascript": [
              "window[\"b3fa4cc0-4dc8-11eb-8708-0242ac1c0002\"] = google.colab.output.getActiveOutputArea();\n",
              "//# sourceURL=js_17cf892c62"
            ],
            "text/plain": [
              "<IPython.core.display.Javascript object>"
            ]
          },
          "metadata": {
            "tags": [
              "id28-6-1",
              "outputarea_id28"
            ]
          }
        },
        {
          "output_type": "display_data",
          "data": {
            "application/javascript": [
              "window[\"b3fa9518-4dc8-11eb-8708-0242ac1c0002\"] = document.querySelector(\"#id28-6-1\");\n",
              "//# sourceURL=js_9f925ea42f"
            ],
            "text/plain": [
              "<IPython.core.display.Javascript object>"
            ]
          },
          "metadata": {
            "tags": [
              "id28-6-1",
              "outputarea_id28"
            ]
          }
        },
        {
          "output_type": "display_data",
          "data": {
            "application/javascript": [
              "window[\"b3fb3e82-4dc8-11eb-8708-0242ac1c0002\"] = google.colab.output.setActiveOutputArea(window[\"b3fa9518-4dc8-11eb-8708-0242ac1c0002\"]);\n",
              "//# sourceURL=js_b0feadd619"
            ],
            "text/plain": [
              "<IPython.core.display.Javascript object>"
            ]
          },
          "metadata": {
            "tags": [
              "id28-6-1",
              "outputarea_id28"
            ]
          }
        },
        {
          "output_type": "display_data",
          "data": {
            "application/javascript": [
              "window[\"b3fe9fc8-4dc8-11eb-8708-0242ac1c0002\"] = google.colab.output.setActiveOutputArea(window[\"b3fa4cc0-4dc8-11eb-8708-0242ac1c0002\"]);\n",
              "//# sourceURL=js_d3db49746a"
            ],
            "text/plain": [
              "<IPython.core.display.Javascript object>"
            ]
          },
          "metadata": {
            "tags": [
              "id28-6-1",
              "outputarea_id28"
            ]
          }
        },
        {
          "output_type": "display_data",
          "data": {
            "application/javascript": [
              "window[\"b401cf86-4dc8-11eb-8708-0242ac1c0002\"] = google.colab.output.getActiveOutputArea();\n",
              "//# sourceURL=js_d342b555c4"
            ],
            "text/plain": [
              "<IPython.core.display.Javascript object>"
            ]
          },
          "metadata": {
            "tags": [
              "id28-6-2",
              "outputarea_id28"
            ]
          }
        },
        {
          "output_type": "display_data",
          "data": {
            "application/javascript": [
              "window[\"b4025bd6-4dc8-11eb-8708-0242ac1c0002\"] = document.querySelector(\"#id28-6-2\");\n",
              "//# sourceURL=js_c823d9da74"
            ],
            "text/plain": [
              "<IPython.core.display.Javascript object>"
            ]
          },
          "metadata": {
            "tags": [
              "id28-6-2",
              "outputarea_id28"
            ]
          }
        },
        {
          "output_type": "display_data",
          "data": {
            "application/javascript": [
              "window[\"b40332ea-4dc8-11eb-8708-0242ac1c0002\"] = google.colab.output.setActiveOutputArea(window[\"b4025bd6-4dc8-11eb-8708-0242ac1c0002\"]);\n",
              "//# sourceURL=js_108c579c72"
            ],
            "text/plain": [
              "<IPython.core.display.Javascript object>"
            ]
          },
          "metadata": {
            "tags": [
              "id28-6-2",
              "outputarea_id28"
            ]
          }
        },
        {
          "output_type": "stream",
          "text": [
            "Can Machines Have Feelings - Reading(https://lms.wiseman.com.hk/lms/user/secure/course/eb/select_theme/selectLesson.do?id=8ae5daa05e4eb277015e5127f05f0050&from=lesson)\n"
          ],
          "name": "stdout"
        },
        {
          "output_type": "display_data",
          "data": {
            "application/javascript": [
              "window[\"b404ff12-4dc8-11eb-8708-0242ac1c0002\"] = google.colab.output.setActiveOutputArea(window[\"b401cf86-4dc8-11eb-8708-0242ac1c0002\"]);\n",
              "//# sourceURL=js_a23249e17b"
            ],
            "text/plain": [
              "<IPython.core.display.Javascript object>"
            ]
          },
          "metadata": {
            "tags": [
              "id28-6-2",
              "outputarea_id28"
            ]
          }
        },
        {
          "output_type": "display_data",
          "data": {
            "application/javascript": [
              "window[\"b5b7eea0-4dc8-11eb-8708-0242ac1c0002\"] = google.colab.output.getActiveOutputArea();\n",
              "//# sourceURL=js_9665337932"
            ],
            "text/plain": [
              "<IPython.core.display.Javascript object>"
            ]
          },
          "metadata": {
            "tags": [
              "id28-6-1",
              "outputarea_id28"
            ]
          }
        },
        {
          "output_type": "display_data",
          "data": {
            "application/javascript": [
              "window[\"b5b8ec74-4dc8-11eb-8708-0242ac1c0002\"] = document.querySelector(\"#id28-6-1\");\n",
              "//# sourceURL=js_e5e1c550ea"
            ],
            "text/plain": [
              "<IPython.core.display.Javascript object>"
            ]
          },
          "metadata": {
            "tags": [
              "id28-6-1",
              "outputarea_id28"
            ]
          }
        },
        {
          "output_type": "display_data",
          "data": {
            "application/javascript": [
              "window[\"b5b95402-4dc8-11eb-8708-0242ac1c0002\"] = google.colab.output.setActiveOutputArea(window[\"b5b8ec74-4dc8-11eb-8708-0242ac1c0002\"]);\n",
              "//# sourceURL=js_505494a115"
            ],
            "text/plain": [
              "<IPython.core.display.Javascript object>"
            ]
          },
          "metadata": {
            "tags": [
              "id28-6-1",
              "outputarea_id28"
            ]
          }
        },
        {
          "output_type": "stream",
          "text": [
            "New\n"
          ],
          "name": "stdout"
        },
        {
          "output_type": "display_data",
          "data": {
            "application/javascript": [
              "window[\"b5bcf422-4dc8-11eb-8708-0242ac1c0002\"] = google.colab.output.setActiveOutputArea(window[\"b5b7eea0-4dc8-11eb-8708-0242ac1c0002\"]);\n",
              "//# sourceURL=js_004734dfac"
            ],
            "text/plain": [
              "<IPython.core.display.Javascript object>"
            ]
          },
          "metadata": {
            "tags": [
              "id28-6-1",
              "outputarea_id28"
            ]
          }
        },
        {
          "output_type": "display_data",
          "data": {
            "application/javascript": [
              "window[\"b5bf2670-4dc8-11eb-8708-0242ac1c0002\"] = google.colab.output.getActiveOutputArea();\n",
              "//# sourceURL=js_f28eec404e"
            ],
            "text/plain": [
              "<IPython.core.display.Javascript object>"
            ]
          },
          "metadata": {
            "tags": [
              "id28-7-0",
              "outputarea_id28"
            ]
          }
        },
        {
          "output_type": "display_data",
          "data": {
            "application/javascript": [
              "window[\"b5c08f60-4dc8-11eb-8708-0242ac1c0002\"] = document.querySelector(\"#id28-7-0\");\n",
              "//# sourceURL=js_0d969eaf17"
            ],
            "text/plain": [
              "<IPython.core.display.Javascript object>"
            ]
          },
          "metadata": {
            "tags": [
              "id28-7-0",
              "outputarea_id28"
            ]
          }
        },
        {
          "output_type": "display_data",
          "data": {
            "application/javascript": [
              "window[\"b5c12858-4dc8-11eb-8708-0242ac1c0002\"] = google.colab.output.setActiveOutputArea(window[\"b5c08f60-4dc8-11eb-8708-0242ac1c0002\"]);\n",
              "//# sourceURL=js_f28c2bf584"
            ],
            "text/plain": [
              "<IPython.core.display.Javascript object>"
            ]
          },
          "metadata": {
            "tags": [
              "id28-7-0",
              "outputarea_id28"
            ]
          }
        },
        {
          "output_type": "stream",
          "text": [
            "7/19\n"
          ],
          "name": "stdout"
        },
        {
          "output_type": "display_data",
          "data": {
            "application/javascript": [
              "window[\"b5c271b8-4dc8-11eb-8708-0242ac1c0002\"] = google.colab.output.setActiveOutputArea(window[\"b5bf2670-4dc8-11eb-8708-0242ac1c0002\"]);\n",
              "//# sourceURL=js_a844d33bf0"
            ],
            "text/plain": [
              "<IPython.core.display.Javascript object>"
            ]
          },
          "metadata": {
            "tags": [
              "id28-7-0",
              "outputarea_id28"
            ]
          }
        },
        {
          "output_type": "display_data",
          "data": {
            "application/javascript": [
              "window[\"b5c59a32-4dc8-11eb-8708-0242ac1c0002\"] = google.colab.output.getActiveOutputArea();\n",
              "//# sourceURL=js_778c86e24d"
            ],
            "text/plain": [
              "<IPython.core.display.Javascript object>"
            ]
          },
          "metadata": {
            "tags": [
              "id28-7-1",
              "outputarea_id28"
            ]
          }
        },
        {
          "output_type": "display_data",
          "data": {
            "application/javascript": [
              "window[\"b5c5e668-4dc8-11eb-8708-0242ac1c0002\"] = document.querySelector(\"#id28-7-1\");\n",
              "//# sourceURL=js_1b7b02cb8e"
            ],
            "text/plain": [
              "<IPython.core.display.Javascript object>"
            ]
          },
          "metadata": {
            "tags": [
              "id28-7-1",
              "outputarea_id28"
            ]
          }
        },
        {
          "output_type": "display_data",
          "data": {
            "application/javascript": [
              "window[\"b5c6826c-4dc8-11eb-8708-0242ac1c0002\"] = google.colab.output.setActiveOutputArea(window[\"b5c5e668-4dc8-11eb-8708-0242ac1c0002\"]);\n",
              "//# sourceURL=js_b2d0806593"
            ],
            "text/plain": [
              "<IPython.core.display.Javascript object>"
            ]
          },
          "metadata": {
            "tags": [
              "id28-7-1",
              "outputarea_id28"
            ]
          }
        },
        {
          "output_type": "display_data",
          "data": {
            "application/javascript": [
              "window[\"b5c7c410-4dc8-11eb-8708-0242ac1c0002\"] = google.colab.output.setActiveOutputArea(window[\"b5c59a32-4dc8-11eb-8708-0242ac1c0002\"]);\n",
              "//# sourceURL=js_c21fe95b8f"
            ],
            "text/plain": [
              "<IPython.core.display.Javascript object>"
            ]
          },
          "metadata": {
            "tags": [
              "id28-7-1",
              "outputarea_id28"
            ]
          }
        },
        {
          "output_type": "display_data",
          "data": {
            "application/javascript": [
              "window[\"b5c9d03e-4dc8-11eb-8708-0242ac1c0002\"] = google.colab.output.getActiveOutputArea();\n",
              "//# sourceURL=js_d109b5705b"
            ],
            "text/plain": [
              "<IPython.core.display.Javascript object>"
            ]
          },
          "metadata": {
            "tags": [
              "id28-7-2",
              "outputarea_id28"
            ]
          }
        },
        {
          "output_type": "display_data",
          "data": {
            "application/javascript": [
              "window[\"b5cac296-4dc8-11eb-8708-0242ac1c0002\"] = document.querySelector(\"#id28-7-2\");\n",
              "//# sourceURL=js_06f24a8c1c"
            ],
            "text/plain": [
              "<IPython.core.display.Javascript object>"
            ]
          },
          "metadata": {
            "tags": [
              "id28-7-2",
              "outputarea_id28"
            ]
          }
        },
        {
          "output_type": "display_data",
          "data": {
            "application/javascript": [
              "window[\"b5cb2ed4-4dc8-11eb-8708-0242ac1c0002\"] = google.colab.output.setActiveOutputArea(window[\"b5cac296-4dc8-11eb-8708-0242ac1c0002\"]);\n",
              "//# sourceURL=js_76cd87e14c"
            ],
            "text/plain": [
              "<IPython.core.display.Javascript object>"
            ]
          },
          "metadata": {
            "tags": [
              "id28-7-2",
              "outputarea_id28"
            ]
          }
        },
        {
          "output_type": "stream",
          "text": [
            "Can Machines Have Feelings - Speaking(https://lms.wiseman.com.hk/lms/user/secure/course/eb/select_theme/selectLesson.do?id=8ae5daa05e4eb277015e512b19db0056&from=lesson)\n"
          ],
          "name": "stdout"
        },
        {
          "output_type": "display_data",
          "data": {
            "application/javascript": [
              "window[\"b5cdfc5e-4dc8-11eb-8708-0242ac1c0002\"] = google.colab.output.setActiveOutputArea(window[\"b5c9d03e-4dc8-11eb-8708-0242ac1c0002\"]);\n",
              "//# sourceURL=js_cace054dbf"
            ],
            "text/plain": [
              "<IPython.core.display.Javascript object>"
            ]
          },
          "metadata": {
            "tags": [
              "id28-7-2",
              "outputarea_id28"
            ]
          }
        },
        {
          "output_type": "display_data",
          "data": {
            "application/javascript": [
              "window[\"b7574eae-4dc8-11eb-8708-0242ac1c0002\"] = google.colab.output.getActiveOutputArea();\n",
              "//# sourceURL=js_ac1fddbb88"
            ],
            "text/plain": [
              "<IPython.core.display.Javascript object>"
            ]
          },
          "metadata": {
            "tags": [
              "id28-7-1",
              "outputarea_id28"
            ]
          }
        },
        {
          "output_type": "display_data",
          "data": {
            "application/javascript": [
              "window[\"b7584bc4-4dc8-11eb-8708-0242ac1c0002\"] = document.querySelector(\"#id28-7-1\");\n",
              "//# sourceURL=js_11cd213790"
            ],
            "text/plain": [
              "<IPython.core.display.Javascript object>"
            ]
          },
          "metadata": {
            "tags": [
              "id28-7-1",
              "outputarea_id28"
            ]
          }
        },
        {
          "output_type": "display_data",
          "data": {
            "application/javascript": [
              "window[\"b7590dfc-4dc8-11eb-8708-0242ac1c0002\"] = google.colab.output.setActiveOutputArea(window[\"b7584bc4-4dc8-11eb-8708-0242ac1c0002\"]);\n",
              "//# sourceURL=js_f82949b7bc"
            ],
            "text/plain": [
              "<IPython.core.display.Javascript object>"
            ]
          },
          "metadata": {
            "tags": [
              "id28-7-1",
              "outputarea_id28"
            ]
          }
        },
        {
          "output_type": "stream",
          "text": [
            "New\n"
          ],
          "name": "stdout"
        },
        {
          "output_type": "display_data",
          "data": {
            "application/javascript": [
              "window[\"b75bb6c4-4dc8-11eb-8708-0242ac1c0002\"] = google.colab.output.setActiveOutputArea(window[\"b7574eae-4dc8-11eb-8708-0242ac1c0002\"]);\n",
              "//# sourceURL=js_ccd28800e6"
            ],
            "text/plain": [
              "<IPython.core.display.Javascript object>"
            ]
          },
          "metadata": {
            "tags": [
              "id28-7-1",
              "outputarea_id28"
            ]
          }
        },
        {
          "output_type": "display_data",
          "data": {
            "application/javascript": [
              "window[\"b75ee2b8-4dc8-11eb-8708-0242ac1c0002\"] = google.colab.output.getActiveOutputArea();\n",
              "//# sourceURL=js_80591d47fb"
            ],
            "text/plain": [
              "<IPython.core.display.Javascript object>"
            ]
          },
          "metadata": {
            "tags": [
              "id28-8-0",
              "outputarea_id28"
            ]
          }
        },
        {
          "output_type": "display_data",
          "data": {
            "application/javascript": [
              "window[\"b75f7c96-4dc8-11eb-8708-0242ac1c0002\"] = document.querySelector(\"#id28-8-0\");\n",
              "//# sourceURL=js_9c0ad5d91f"
            ],
            "text/plain": [
              "<IPython.core.display.Javascript object>"
            ]
          },
          "metadata": {
            "tags": [
              "id28-8-0",
              "outputarea_id28"
            ]
          }
        },
        {
          "output_type": "display_data",
          "data": {
            "application/javascript": [
              "window[\"b76008c8-4dc8-11eb-8708-0242ac1c0002\"] = google.colab.output.setActiveOutputArea(window[\"b75f7c96-4dc8-11eb-8708-0242ac1c0002\"]);\n",
              "//# sourceURL=js_cde55556e0"
            ],
            "text/plain": [
              "<IPython.core.display.Javascript object>"
            ]
          },
          "metadata": {
            "tags": [
              "id28-8-0",
              "outputarea_id28"
            ]
          }
        },
        {
          "output_type": "stream",
          "text": [
            "8/19\n"
          ],
          "name": "stdout"
        },
        {
          "output_type": "display_data",
          "data": {
            "application/javascript": [
              "window[\"b761832e-4dc8-11eb-8708-0242ac1c0002\"] = google.colab.output.setActiveOutputArea(window[\"b75ee2b8-4dc8-11eb-8708-0242ac1c0002\"]);\n",
              "//# sourceURL=js_0e229efa26"
            ],
            "text/plain": [
              "<IPython.core.display.Javascript object>"
            ]
          },
          "metadata": {
            "tags": [
              "id28-8-0",
              "outputarea_id28"
            ]
          }
        },
        {
          "output_type": "display_data",
          "data": {
            "application/javascript": [
              "window[\"b763e966-4dc8-11eb-8708-0242ac1c0002\"] = google.colab.output.getActiveOutputArea();\n",
              "//# sourceURL=js_50860cb026"
            ],
            "text/plain": [
              "<IPython.core.display.Javascript object>"
            ]
          },
          "metadata": {
            "tags": [
              "id28-8-1",
              "outputarea_id28"
            ]
          }
        },
        {
          "output_type": "display_data",
          "data": {
            "application/javascript": [
              "window[\"b7647584-4dc8-11eb-8708-0242ac1c0002\"] = document.querySelector(\"#id28-8-1\");\n",
              "//# sourceURL=js_8e72098018"
            ],
            "text/plain": [
              "<IPython.core.display.Javascript object>"
            ]
          },
          "metadata": {
            "tags": [
              "id28-8-1",
              "outputarea_id28"
            ]
          }
        },
        {
          "output_type": "display_data",
          "data": {
            "application/javascript": [
              "window[\"b765155c-4dc8-11eb-8708-0242ac1c0002\"] = google.colab.output.setActiveOutputArea(window[\"b7647584-4dc8-11eb-8708-0242ac1c0002\"]);\n",
              "//# sourceURL=js_ecfd1362c5"
            ],
            "text/plain": [
              "<IPython.core.display.Javascript object>"
            ]
          },
          "metadata": {
            "tags": [
              "id28-8-1",
              "outputarea_id28"
            ]
          }
        },
        {
          "output_type": "display_data",
          "data": {
            "application/javascript": [
              "window[\"b766206e-4dc8-11eb-8708-0242ac1c0002\"] = google.colab.output.setActiveOutputArea(window[\"b763e966-4dc8-11eb-8708-0242ac1c0002\"]);\n",
              "//# sourceURL=js_61f93da504"
            ],
            "text/plain": [
              "<IPython.core.display.Javascript object>"
            ]
          },
          "metadata": {
            "tags": [
              "id28-8-1",
              "outputarea_id28"
            ]
          }
        },
        {
          "output_type": "display_data",
          "data": {
            "application/javascript": [
              "window[\"b76783be-4dc8-11eb-8708-0242ac1c0002\"] = google.colab.output.getActiveOutputArea();\n",
              "//# sourceURL=js_38634b591b"
            ],
            "text/plain": [
              "<IPython.core.display.Javascript object>"
            ]
          },
          "metadata": {
            "tags": [
              "id28-8-2",
              "outputarea_id28"
            ]
          }
        },
        {
          "output_type": "display_data",
          "data": {
            "application/javascript": [
              "window[\"b767c48c-4dc8-11eb-8708-0242ac1c0002\"] = document.querySelector(\"#id28-8-2\");\n",
              "//# sourceURL=js_3a83dbb8c0"
            ],
            "text/plain": [
              "<IPython.core.display.Javascript object>"
            ]
          },
          "metadata": {
            "tags": [
              "id28-8-2",
              "outputarea_id28"
            ]
          }
        },
        {
          "output_type": "display_data",
          "data": {
            "application/javascript": [
              "window[\"b7680618-4dc8-11eb-8708-0242ac1c0002\"] = google.colab.output.setActiveOutputArea(window[\"b767c48c-4dc8-11eb-8708-0242ac1c0002\"]);\n",
              "//# sourceURL=js_6205d11f4c"
            ],
            "text/plain": [
              "<IPython.core.display.Javascript object>"
            ]
          },
          "metadata": {
            "tags": [
              "id28-8-2",
              "outputarea_id28"
            ]
          }
        },
        {
          "output_type": "stream",
          "text": [
            "Can Machines Have Feelings - Writing(https://lms.wiseman.com.hk/lms/user/secure/course/eb/select_theme/selectLesson.do?id=8ae5daa05e4eb277015e512c54a0005c&from=lesson)\n"
          ],
          "name": "stdout"
        },
        {
          "output_type": "display_data",
          "data": {
            "application/javascript": [
              "window[\"b76915da-4dc8-11eb-8708-0242ac1c0002\"] = google.colab.output.setActiveOutputArea(window[\"b76783be-4dc8-11eb-8708-0242ac1c0002\"]);\n",
              "//# sourceURL=js_21c2365fd0"
            ],
            "text/plain": [
              "<IPython.core.display.Javascript object>"
            ]
          },
          "metadata": {
            "tags": [
              "id28-8-2",
              "outputarea_id28"
            ]
          }
        },
        {
          "output_type": "display_data",
          "data": {
            "application/javascript": [
              "window[\"b9070b9a-4dc8-11eb-8708-0242ac1c0002\"] = google.colab.output.getActiveOutputArea();\n",
              "//# sourceURL=js_617f8e36fd"
            ],
            "text/plain": [
              "<IPython.core.display.Javascript object>"
            ]
          },
          "metadata": {
            "tags": [
              "id28-8-1",
              "outputarea_id28"
            ]
          }
        },
        {
          "output_type": "display_data",
          "data": {
            "application/javascript": [
              "window[\"b907a0c8-4dc8-11eb-8708-0242ac1c0002\"] = document.querySelector(\"#id28-8-1\");\n",
              "//# sourceURL=js_dbd7edd12b"
            ],
            "text/plain": [
              "<IPython.core.display.Javascript object>"
            ]
          },
          "metadata": {
            "tags": [
              "id28-8-1",
              "outputarea_id28"
            ]
          }
        },
        {
          "output_type": "display_data",
          "data": {
            "application/javascript": [
              "window[\"b907fcd0-4dc8-11eb-8708-0242ac1c0002\"] = google.colab.output.setActiveOutputArea(window[\"b907a0c8-4dc8-11eb-8708-0242ac1c0002\"]);\n",
              "//# sourceURL=js_523ae8ba54"
            ],
            "text/plain": [
              "<IPython.core.display.Javascript object>"
            ]
          },
          "metadata": {
            "tags": [
              "id28-8-1",
              "outputarea_id28"
            ]
          }
        },
        {
          "output_type": "stream",
          "text": [
            "New\n"
          ],
          "name": "stdout"
        },
        {
          "output_type": "display_data",
          "data": {
            "application/javascript": [
              "window[\"b909e572-4dc8-11eb-8708-0242ac1c0002\"] = google.colab.output.setActiveOutputArea(window[\"b9070b9a-4dc8-11eb-8708-0242ac1c0002\"]);\n",
              "//# sourceURL=js_c6299ba67a"
            ],
            "text/plain": [
              "<IPython.core.display.Javascript object>"
            ]
          },
          "metadata": {
            "tags": [
              "id28-8-1",
              "outputarea_id28"
            ]
          }
        },
        {
          "output_type": "display_data",
          "data": {
            "application/javascript": [
              "window[\"b90cba4a-4dc8-11eb-8708-0242ac1c0002\"] = google.colab.output.getActiveOutputArea();\n",
              "//# sourceURL=js_aa7b1dda22"
            ],
            "text/plain": [
              "<IPython.core.display.Javascript object>"
            ]
          },
          "metadata": {
            "tags": [
              "id28-9-0",
              "outputarea_id28"
            ]
          }
        },
        {
          "output_type": "display_data",
          "data": {
            "application/javascript": [
              "window[\"b90da9be-4dc8-11eb-8708-0242ac1c0002\"] = document.querySelector(\"#id28-9-0\");\n",
              "//# sourceURL=js_1e3551dfb0"
            ],
            "text/plain": [
              "<IPython.core.display.Javascript object>"
            ]
          },
          "metadata": {
            "tags": [
              "id28-9-0",
              "outputarea_id28"
            ]
          }
        },
        {
          "output_type": "display_data",
          "data": {
            "application/javascript": [
              "window[\"b90e0670-4dc8-11eb-8708-0242ac1c0002\"] = google.colab.output.setActiveOutputArea(window[\"b90da9be-4dc8-11eb-8708-0242ac1c0002\"]);\n",
              "//# sourceURL=js_9c80468953"
            ],
            "text/plain": [
              "<IPython.core.display.Javascript object>"
            ]
          },
          "metadata": {
            "tags": [
              "id28-9-0",
              "outputarea_id28"
            ]
          }
        },
        {
          "output_type": "stream",
          "text": [
            "9/19\n"
          ],
          "name": "stdout"
        },
        {
          "output_type": "display_data",
          "data": {
            "application/javascript": [
              "window[\"b90fb9fc-4dc8-11eb-8708-0242ac1c0002\"] = google.colab.output.setActiveOutputArea(window[\"b90cba4a-4dc8-11eb-8708-0242ac1c0002\"]);\n",
              "//# sourceURL=js_c50b85bec4"
            ],
            "text/plain": [
              "<IPython.core.display.Javascript object>"
            ]
          },
          "metadata": {
            "tags": [
              "id28-9-0",
              "outputarea_id28"
            ]
          }
        },
        {
          "output_type": "display_data",
          "data": {
            "application/javascript": [
              "window[\"b911c440-4dc8-11eb-8708-0242ac1c0002\"] = google.colab.output.getActiveOutputArea();\n",
              "//# sourceURL=js_6fae68653e"
            ],
            "text/plain": [
              "<IPython.core.display.Javascript object>"
            ]
          },
          "metadata": {
            "tags": [
              "id28-9-1",
              "outputarea_id28"
            ]
          }
        },
        {
          "output_type": "display_data",
          "data": {
            "application/javascript": [
              "window[\"b91285ec-4dc8-11eb-8708-0242ac1c0002\"] = document.querySelector(\"#id28-9-1\");\n",
              "//# sourceURL=js_e4ac187a5d"
            ],
            "text/plain": [
              "<IPython.core.display.Javascript object>"
            ]
          },
          "metadata": {
            "tags": [
              "id28-9-1",
              "outputarea_id28"
            ]
          }
        },
        {
          "output_type": "display_data",
          "data": {
            "application/javascript": [
              "window[\"b913bec6-4dc8-11eb-8708-0242ac1c0002\"] = google.colab.output.setActiveOutputArea(window[\"b91285ec-4dc8-11eb-8708-0242ac1c0002\"]);\n",
              "//# sourceURL=js_f1b0625cc8"
            ],
            "text/plain": [
              "<IPython.core.display.Javascript object>"
            ]
          },
          "metadata": {
            "tags": [
              "id28-9-1",
              "outputarea_id28"
            ]
          }
        },
        {
          "output_type": "display_data",
          "data": {
            "application/javascript": [
              "window[\"b915bda2-4dc8-11eb-8708-0242ac1c0002\"] = google.colab.output.setActiveOutputArea(window[\"b911c440-4dc8-11eb-8708-0242ac1c0002\"]);\n",
              "//# sourceURL=js_43d42fa172"
            ],
            "text/plain": [
              "<IPython.core.display.Javascript object>"
            ]
          },
          "metadata": {
            "tags": [
              "id28-9-1",
              "outputarea_id28"
            ]
          }
        },
        {
          "output_type": "display_data",
          "data": {
            "application/javascript": [
              "window[\"b917d010-4dc8-11eb-8708-0242ac1c0002\"] = google.colab.output.getActiveOutputArea();\n",
              "//# sourceURL=js_5eebcd7e53"
            ],
            "text/plain": [
              "<IPython.core.display.Javascript object>"
            ]
          },
          "metadata": {
            "tags": [
              "id28-9-2",
              "outputarea_id28"
            ]
          }
        },
        {
          "output_type": "display_data",
          "data": {
            "application/javascript": [
              "window[\"b91821c8-4dc8-11eb-8708-0242ac1c0002\"] = document.querySelector(\"#id28-9-2\");\n",
              "//# sourceURL=js_6ccac5b46e"
            ],
            "text/plain": [
              "<IPython.core.display.Javascript object>"
            ]
          },
          "metadata": {
            "tags": [
              "id28-9-2",
              "outputarea_id28"
            ]
          }
        },
        {
          "output_type": "display_data",
          "data": {
            "application/javascript": [
              "window[\"b9187c2c-4dc8-11eb-8708-0242ac1c0002\"] = google.colab.output.setActiveOutputArea(window[\"b91821c8-4dc8-11eb-8708-0242ac1c0002\"]);\n",
              "//# sourceURL=js_e28a1b57dc"
            ],
            "text/plain": [
              "<IPython.core.display.Javascript object>"
            ]
          },
          "metadata": {
            "tags": [
              "id28-9-2",
              "outputarea_id28"
            ]
          }
        },
        {
          "output_type": "stream",
          "text": [
            "How Smart Are Animals - Speaking(https://lms.wiseman.com.hk/lms/user/secure/course/eb/select_theme/selectLesson.do?id=03417a18c3b14530a080fc9cccff3d19&from=lesson)\n"
          ],
          "name": "stdout"
        },
        {
          "output_type": "display_data",
          "data": {
            "application/javascript": [
              "window[\"b91a8116-4dc8-11eb-8708-0242ac1c0002\"] = google.colab.output.setActiveOutputArea(window[\"b917d010-4dc8-11eb-8708-0242ac1c0002\"]);\n",
              "//# sourceURL=js_6b3cfabb39"
            ],
            "text/plain": [
              "<IPython.core.display.Javascript object>"
            ]
          },
          "metadata": {
            "tags": [
              "id28-9-2",
              "outputarea_id28"
            ]
          }
        },
        {
          "output_type": "display_data",
          "data": {
            "application/javascript": [
              "window[\"bab08872-4dc8-11eb-8708-0242ac1c0002\"] = google.colab.output.getActiveOutputArea();\n",
              "//# sourceURL=js_dc52b4ae20"
            ],
            "text/plain": [
              "<IPython.core.display.Javascript object>"
            ]
          },
          "metadata": {
            "tags": [
              "id28-9-1",
              "outputarea_id28"
            ]
          }
        },
        {
          "output_type": "display_data",
          "data": {
            "application/javascript": [
              "window[\"bab0dcb4-4dc8-11eb-8708-0242ac1c0002\"] = document.querySelector(\"#id28-9-1\");\n",
              "//# sourceURL=js_968f5293f9"
            ],
            "text/plain": [
              "<IPython.core.display.Javascript object>"
            ]
          },
          "metadata": {
            "tags": [
              "id28-9-1",
              "outputarea_id28"
            ]
          }
        },
        {
          "output_type": "display_data",
          "data": {
            "application/javascript": [
              "window[\"bab17cf0-4dc8-11eb-8708-0242ac1c0002\"] = google.colab.output.setActiveOutputArea(window[\"bab0dcb4-4dc8-11eb-8708-0242ac1c0002\"]);\n",
              "//# sourceURL=js_96cc65e6d8"
            ],
            "text/plain": [
              "<IPython.core.display.Javascript object>"
            ]
          },
          "metadata": {
            "tags": [
              "id28-9-1",
              "outputarea_id28"
            ]
          }
        },
        {
          "output_type": "stream",
          "text": [
            "New\n"
          ],
          "name": "stdout"
        },
        {
          "output_type": "display_data",
          "data": {
            "application/javascript": [
              "window[\"bab4a150-4dc8-11eb-8708-0242ac1c0002\"] = google.colab.output.setActiveOutputArea(window[\"bab08872-4dc8-11eb-8708-0242ac1c0002\"]);\n",
              "//# sourceURL=js_12b621b150"
            ],
            "text/plain": [
              "<IPython.core.display.Javascript object>"
            ]
          },
          "metadata": {
            "tags": [
              "id28-9-1",
              "outputarea_id28"
            ]
          }
        },
        {
          "output_type": "display_data",
          "data": {
            "application/javascript": [
              "window[\"bab63330-4dc8-11eb-8708-0242ac1c0002\"] = google.colab.output.getActiveOutputArea();\n",
              "//# sourceURL=js_a8fb06f601"
            ],
            "text/plain": [
              "<IPython.core.display.Javascript object>"
            ]
          },
          "metadata": {
            "tags": [
              "id28-10-0",
              "outputarea_id28"
            ]
          }
        },
        {
          "output_type": "display_data",
          "data": {
            "application/javascript": [
              "window[\"bab85b06-4dc8-11eb-8708-0242ac1c0002\"] = document.querySelector(\"#id28-10-0\");\n",
              "//# sourceURL=js_a298f99165"
            ],
            "text/plain": [
              "<IPython.core.display.Javascript object>"
            ]
          },
          "metadata": {
            "tags": [
              "id28-10-0",
              "outputarea_id28"
            ]
          }
        },
        {
          "output_type": "display_data",
          "data": {
            "application/javascript": [
              "window[\"bab8d32e-4dc8-11eb-8708-0242ac1c0002\"] = google.colab.output.setActiveOutputArea(window[\"bab85b06-4dc8-11eb-8708-0242ac1c0002\"]);\n",
              "//# sourceURL=js_102df41ec4"
            ],
            "text/plain": [
              "<IPython.core.display.Javascript object>"
            ]
          },
          "metadata": {
            "tags": [
              "id28-10-0",
              "outputarea_id28"
            ]
          }
        },
        {
          "output_type": "stream",
          "text": [
            "10/19\n"
          ],
          "name": "stdout"
        },
        {
          "output_type": "display_data",
          "data": {
            "application/javascript": [
              "window[\"baba326e-4dc8-11eb-8708-0242ac1c0002\"] = google.colab.output.setActiveOutputArea(window[\"bab63330-4dc8-11eb-8708-0242ac1c0002\"]);\n",
              "//# sourceURL=js_e79d4f7323"
            ],
            "text/plain": [
              "<IPython.core.display.Javascript object>"
            ]
          },
          "metadata": {
            "tags": [
              "id28-10-0",
              "outputarea_id28"
            ]
          }
        },
        {
          "output_type": "display_data",
          "data": {
            "application/javascript": [
              "window[\"babcaad0-4dc8-11eb-8708-0242ac1c0002\"] = google.colab.output.getActiveOutputArea();\n",
              "//# sourceURL=js_b5d208f5a7"
            ],
            "text/plain": [
              "<IPython.core.display.Javascript object>"
            ]
          },
          "metadata": {
            "tags": [
              "id28-10-1",
              "outputarea_id28"
            ]
          }
        },
        {
          "output_type": "display_data",
          "data": {
            "application/javascript": [
              "window[\"babd77bc-4dc8-11eb-8708-0242ac1c0002\"] = document.querySelector(\"#id28-10-1\");\n",
              "//# sourceURL=js_2f11968871"
            ],
            "text/plain": [
              "<IPython.core.display.Javascript object>"
            ]
          },
          "metadata": {
            "tags": [
              "id28-10-1",
              "outputarea_id28"
            ]
          }
        },
        {
          "output_type": "display_data",
          "data": {
            "application/javascript": [
              "window[\"babdc8c0-4dc8-11eb-8708-0242ac1c0002\"] = google.colab.output.setActiveOutputArea(window[\"babd77bc-4dc8-11eb-8708-0242ac1c0002\"]);\n",
              "//# sourceURL=js_f152aa91dd"
            ],
            "text/plain": [
              "<IPython.core.display.Javascript object>"
            ]
          },
          "metadata": {
            "tags": [
              "id28-10-1",
              "outputarea_id28"
            ]
          }
        },
        {
          "output_type": "display_data",
          "data": {
            "application/javascript": [
              "window[\"babf28d2-4dc8-11eb-8708-0242ac1c0002\"] = google.colab.output.setActiveOutputArea(window[\"babcaad0-4dc8-11eb-8708-0242ac1c0002\"]);\n",
              "//# sourceURL=js_651fbdc3f6"
            ],
            "text/plain": [
              "<IPython.core.display.Javascript object>"
            ]
          },
          "metadata": {
            "tags": [
              "id28-10-1",
              "outputarea_id28"
            ]
          }
        },
        {
          "output_type": "display_data",
          "data": {
            "application/javascript": [
              "window[\"bac17812-4dc8-11eb-8708-0242ac1c0002\"] = google.colab.output.getActiveOutputArea();\n",
              "//# sourceURL=js_db4cc16856"
            ],
            "text/plain": [
              "<IPython.core.display.Javascript object>"
            ]
          },
          "metadata": {
            "tags": [
              "id28-10-2",
              "outputarea_id28"
            ]
          }
        },
        {
          "output_type": "display_data",
          "data": {
            "application/javascript": [
              "window[\"bac20e1c-4dc8-11eb-8708-0242ac1c0002\"] = document.querySelector(\"#id28-10-2\");\n",
              "//# sourceURL=js_81198e92e1"
            ],
            "text/plain": [
              "<IPython.core.display.Javascript object>"
            ]
          },
          "metadata": {
            "tags": [
              "id28-10-2",
              "outputarea_id28"
            ]
          }
        },
        {
          "output_type": "display_data",
          "data": {
            "application/javascript": [
              "window[\"bac295c6-4dc8-11eb-8708-0242ac1c0002\"] = google.colab.output.setActiveOutputArea(window[\"bac20e1c-4dc8-11eb-8708-0242ac1c0002\"]);\n",
              "//# sourceURL=js_3397fcdf16"
            ],
            "text/plain": [
              "<IPython.core.display.Javascript object>"
            ]
          },
          "metadata": {
            "tags": [
              "id28-10-2",
              "outputarea_id28"
            ]
          }
        },
        {
          "output_type": "stream",
          "text": [
            "How Smart Are Animals - Writing(https://lms.wiseman.com.hk/lms/user/secure/course/eb/select_theme/selectLesson.do?id=a03285784ac444db933e76c3f4f58cb3&from=lesson)\n"
          ],
          "name": "stdout"
        },
        {
          "output_type": "display_data",
          "data": {
            "application/javascript": [
              "window[\"bac496aa-4dc8-11eb-8708-0242ac1c0002\"] = google.colab.output.setActiveOutputArea(window[\"bac17812-4dc8-11eb-8708-0242ac1c0002\"]);\n",
              "//# sourceURL=js_f7d60fab4a"
            ],
            "text/plain": [
              "<IPython.core.display.Javascript object>"
            ]
          },
          "metadata": {
            "tags": [
              "id28-10-2",
              "outputarea_id28"
            ]
          }
        },
        {
          "output_type": "display_data",
          "data": {
            "application/javascript": [
              "window[\"bc6d3dae-4dc8-11eb-8708-0242ac1c0002\"] = google.colab.output.getActiveOutputArea();\n",
              "//# sourceURL=js_dd29447e42"
            ],
            "text/plain": [
              "<IPython.core.display.Javascript object>"
            ]
          },
          "metadata": {
            "tags": [
              "id28-10-1",
              "outputarea_id28"
            ]
          }
        },
        {
          "output_type": "display_data",
          "data": {
            "application/javascript": [
              "window[\"bc6e5220-4dc8-11eb-8708-0242ac1c0002\"] = document.querySelector(\"#id28-10-1\");\n",
              "//# sourceURL=js_f18fd37230"
            ],
            "text/plain": [
              "<IPython.core.display.Javascript object>"
            ]
          },
          "metadata": {
            "tags": [
              "id28-10-1",
              "outputarea_id28"
            ]
          }
        },
        {
          "output_type": "display_data",
          "data": {
            "application/javascript": [
              "window[\"bc6ee294-4dc8-11eb-8708-0242ac1c0002\"] = google.colab.output.setActiveOutputArea(window[\"bc6e5220-4dc8-11eb-8708-0242ac1c0002\"]);\n",
              "//# sourceURL=js_10515c8cff"
            ],
            "text/plain": [
              "<IPython.core.display.Javascript object>"
            ]
          },
          "metadata": {
            "tags": [
              "id28-10-1",
              "outputarea_id28"
            ]
          }
        },
        {
          "output_type": "stream",
          "text": [
            "New\n"
          ],
          "name": "stdout"
        },
        {
          "output_type": "display_data",
          "data": {
            "application/javascript": [
              "window[\"bc7328f4-4dc8-11eb-8708-0242ac1c0002\"] = google.colab.output.setActiveOutputArea(window[\"bc6d3dae-4dc8-11eb-8708-0242ac1c0002\"]);\n",
              "//# sourceURL=js_e266cd14b6"
            ],
            "text/plain": [
              "<IPython.core.display.Javascript object>"
            ]
          },
          "metadata": {
            "tags": [
              "id28-10-1",
              "outputarea_id28"
            ]
          }
        },
        {
          "output_type": "display_data",
          "data": {
            "application/javascript": [
              "window[\"bc7665f0-4dc8-11eb-8708-0242ac1c0002\"] = google.colab.output.getActiveOutputArea();\n",
              "//# sourceURL=js_ac7fa45747"
            ],
            "text/plain": [
              "<IPython.core.display.Javascript object>"
            ]
          },
          "metadata": {
            "tags": [
              "id28-11-0",
              "outputarea_id28"
            ]
          }
        },
        {
          "output_type": "display_data",
          "data": {
            "application/javascript": [
              "window[\"bc76a7d6-4dc8-11eb-8708-0242ac1c0002\"] = document.querySelector(\"#id28-11-0\");\n",
              "//# sourceURL=js_c14ff6ff2e"
            ],
            "text/plain": [
              "<IPython.core.display.Javascript object>"
            ]
          },
          "metadata": {
            "tags": [
              "id28-11-0",
              "outputarea_id28"
            ]
          }
        },
        {
          "output_type": "display_data",
          "data": {
            "application/javascript": [
              "window[\"bc77849e-4dc8-11eb-8708-0242ac1c0002\"] = google.colab.output.setActiveOutputArea(window[\"bc76a7d6-4dc8-11eb-8708-0242ac1c0002\"]);\n",
              "//# sourceURL=js_39682892d6"
            ],
            "text/plain": [
              "<IPython.core.display.Javascript object>"
            ]
          },
          "metadata": {
            "tags": [
              "id28-11-0",
              "outputarea_id28"
            ]
          }
        },
        {
          "output_type": "stream",
          "text": [
            "11/19\n"
          ],
          "name": "stdout"
        },
        {
          "output_type": "display_data",
          "data": {
            "application/javascript": [
              "window[\"bc78d8a8-4dc8-11eb-8708-0242ac1c0002\"] = google.colab.output.setActiveOutputArea(window[\"bc7665f0-4dc8-11eb-8708-0242ac1c0002\"]);\n",
              "//# sourceURL=js_5831774344"
            ],
            "text/plain": [
              "<IPython.core.display.Javascript object>"
            ]
          },
          "metadata": {
            "tags": [
              "id28-11-0",
              "outputarea_id28"
            ]
          }
        },
        {
          "output_type": "display_data",
          "data": {
            "application/javascript": [
              "window[\"bc7b9f52-4dc8-11eb-8708-0242ac1c0002\"] = google.colab.output.getActiveOutputArea();\n",
              "//# sourceURL=js_f7ee1e088f"
            ],
            "text/plain": [
              "<IPython.core.display.Javascript object>"
            ]
          },
          "metadata": {
            "tags": [
              "id28-11-1",
              "outputarea_id28"
            ]
          }
        },
        {
          "output_type": "display_data",
          "data": {
            "application/javascript": [
              "window[\"bc7c6d4c-4dc8-11eb-8708-0242ac1c0002\"] = document.querySelector(\"#id28-11-1\");\n",
              "//# sourceURL=js_80011658e7"
            ],
            "text/plain": [
              "<IPython.core.display.Javascript object>"
            ]
          },
          "metadata": {
            "tags": [
              "id28-11-1",
              "outputarea_id28"
            ]
          }
        },
        {
          "output_type": "display_data",
          "data": {
            "application/javascript": [
              "window[\"bc7cc12a-4dc8-11eb-8708-0242ac1c0002\"] = google.colab.output.setActiveOutputArea(window[\"bc7c6d4c-4dc8-11eb-8708-0242ac1c0002\"]);\n",
              "//# sourceURL=js_80cae2c743"
            ],
            "text/plain": [
              "<IPython.core.display.Javascript object>"
            ]
          },
          "metadata": {
            "tags": [
              "id28-11-1",
              "outputarea_id28"
            ]
          }
        },
        {
          "output_type": "display_data",
          "data": {
            "application/javascript": [
              "window[\"bc7e83d4-4dc8-11eb-8708-0242ac1c0002\"] = google.colab.output.setActiveOutputArea(window[\"bc7b9f52-4dc8-11eb-8708-0242ac1c0002\"]);\n",
              "//# sourceURL=js_0a35fd391c"
            ],
            "text/plain": [
              "<IPython.core.display.Javascript object>"
            ]
          },
          "metadata": {
            "tags": [
              "id28-11-1",
              "outputarea_id28"
            ]
          }
        },
        {
          "output_type": "display_data",
          "data": {
            "application/javascript": [
              "window[\"bc811f04-4dc8-11eb-8708-0242ac1c0002\"] = google.colab.output.getActiveOutputArea();\n",
              "//# sourceURL=js_7ce0918118"
            ],
            "text/plain": [
              "<IPython.core.display.Javascript object>"
            ]
          },
          "metadata": {
            "tags": [
              "id28-11-2",
              "outputarea_id28"
            ]
          }
        },
        {
          "output_type": "display_data",
          "data": {
            "application/javascript": [
              "window[\"bc81e1be-4dc8-11eb-8708-0242ac1c0002\"] = document.querySelector(\"#id28-11-2\");\n",
              "//# sourceURL=js_e07e38c769"
            ],
            "text/plain": [
              "<IPython.core.display.Javascript object>"
            ]
          },
          "metadata": {
            "tags": [
              "id28-11-2",
              "outputarea_id28"
            ]
          }
        },
        {
          "output_type": "display_data",
          "data": {
            "application/javascript": [
              "window[\"bc82348e-4dc8-11eb-8708-0242ac1c0002\"] = google.colab.output.setActiveOutputArea(window[\"bc81e1be-4dc8-11eb-8708-0242ac1c0002\"]);\n",
              "//# sourceURL=js_fde0ffbdd2"
            ],
            "text/plain": [
              "<IPython.core.display.Javascript object>"
            ]
          },
          "metadata": {
            "tags": [
              "id28-11-2",
              "outputarea_id28"
            ]
          }
        },
        {
          "output_type": "stream",
          "text": [
            "Container Homes around the World - Listening(https://lms.wiseman.com.hk/lms/user/secure/course/eb/select_theme/selectLesson.do?id=8ae5daa05e4eb277015e511dd941001a&from=lesson)\n"
          ],
          "name": "stdout"
        },
        {
          "output_type": "display_data",
          "data": {
            "application/javascript": [
              "window[\"bc846d1c-4dc8-11eb-8708-0242ac1c0002\"] = google.colab.output.setActiveOutputArea(window[\"bc811f04-4dc8-11eb-8708-0242ac1c0002\"]);\n",
              "//# sourceURL=js_9641f3d1d5"
            ],
            "text/plain": [
              "<IPython.core.display.Javascript object>"
            ]
          },
          "metadata": {
            "tags": [
              "id28-11-2",
              "outputarea_id28"
            ]
          }
        },
        {
          "output_type": "display_data",
          "data": {
            "application/javascript": [
              "window[\"be2c34ec-4dc8-11eb-8708-0242ac1c0002\"] = google.colab.output.getActiveOutputArea();\n",
              "//# sourceURL=js_037bb161f2"
            ],
            "text/plain": [
              "<IPython.core.display.Javascript object>"
            ]
          },
          "metadata": {
            "tags": [
              "id28-11-1",
              "outputarea_id28"
            ]
          }
        },
        {
          "output_type": "display_data",
          "data": {
            "application/javascript": [
              "window[\"be2db2a4-4dc8-11eb-8708-0242ac1c0002\"] = document.querySelector(\"#id28-11-1\");\n",
              "//# sourceURL=js_0eb38312c2"
            ],
            "text/plain": [
              "<IPython.core.display.Javascript object>"
            ]
          },
          "metadata": {
            "tags": [
              "id28-11-1",
              "outputarea_id28"
            ]
          }
        },
        {
          "output_type": "display_data",
          "data": {
            "application/javascript": [
              "window[\"be2f2a80-4dc8-11eb-8708-0242ac1c0002\"] = google.colab.output.setActiveOutputArea(window[\"be2db2a4-4dc8-11eb-8708-0242ac1c0002\"]);\n",
              "//# sourceURL=js_e8a8122148"
            ],
            "text/plain": [
              "<IPython.core.display.Javascript object>"
            ]
          },
          "metadata": {
            "tags": [
              "id28-11-1",
              "outputarea_id28"
            ]
          }
        },
        {
          "output_type": "stream",
          "text": [
            "New\n"
          ],
          "name": "stdout"
        },
        {
          "output_type": "display_data",
          "data": {
            "application/javascript": [
              "window[\"be338742-4dc8-11eb-8708-0242ac1c0002\"] = google.colab.output.setActiveOutputArea(window[\"be2c34ec-4dc8-11eb-8708-0242ac1c0002\"]);\n",
              "//# sourceURL=js_389d67bc62"
            ],
            "text/plain": [
              "<IPython.core.display.Javascript object>"
            ]
          },
          "metadata": {
            "tags": [
              "id28-11-1",
              "outputarea_id28"
            ]
          }
        },
        {
          "output_type": "display_data",
          "data": {
            "application/javascript": [
              "window[\"be391dd8-4dc8-11eb-8708-0242ac1c0002\"] = google.colab.output.getActiveOutputArea();\n",
              "//# sourceURL=js_0369254808"
            ],
            "text/plain": [
              "<IPython.core.display.Javascript object>"
            ]
          },
          "metadata": {
            "tags": [
              "id28-12-0",
              "outputarea_id28"
            ]
          }
        },
        {
          "output_type": "display_data",
          "data": {
            "application/javascript": [
              "window[\"be3b24fc-4dc8-11eb-8708-0242ac1c0002\"] = document.querySelector(\"#id28-12-0\");\n",
              "//# sourceURL=js_bb6ea55d0d"
            ],
            "text/plain": [
              "<IPython.core.display.Javascript object>"
            ]
          },
          "metadata": {
            "tags": [
              "id28-12-0",
              "outputarea_id28"
            ]
          }
        },
        {
          "output_type": "display_data",
          "data": {
            "application/javascript": [
              "window[\"be3c1902-4dc8-11eb-8708-0242ac1c0002\"] = google.colab.output.setActiveOutputArea(window[\"be3b24fc-4dc8-11eb-8708-0242ac1c0002\"]);\n",
              "//# sourceURL=js_7e6ca99504"
            ],
            "text/plain": [
              "<IPython.core.display.Javascript object>"
            ]
          },
          "metadata": {
            "tags": [
              "id28-12-0",
              "outputarea_id28"
            ]
          }
        },
        {
          "output_type": "stream",
          "text": [
            "12/19\n"
          ],
          "name": "stdout"
        },
        {
          "output_type": "display_data",
          "data": {
            "application/javascript": [
              "window[\"be3e74ea-4dc8-11eb-8708-0242ac1c0002\"] = google.colab.output.setActiveOutputArea(window[\"be391dd8-4dc8-11eb-8708-0242ac1c0002\"]);\n",
              "//# sourceURL=js_b0a70a7e43"
            ],
            "text/plain": [
              "<IPython.core.display.Javascript object>"
            ]
          },
          "metadata": {
            "tags": [
              "id28-12-0",
              "outputarea_id28"
            ]
          }
        },
        {
          "output_type": "display_data",
          "data": {
            "application/javascript": [
              "window[\"be41107e-4dc8-11eb-8708-0242ac1c0002\"] = google.colab.output.getActiveOutputArea();\n",
              "//# sourceURL=js_d196e7bcea"
            ],
            "text/plain": [
              "<IPython.core.display.Javascript object>"
            ]
          },
          "metadata": {
            "tags": [
              "id28-12-1",
              "outputarea_id28"
            ]
          }
        },
        {
          "output_type": "display_data",
          "data": {
            "application/javascript": [
              "window[\"be418b62-4dc8-11eb-8708-0242ac1c0002\"] = document.querySelector(\"#id28-12-1\");\n",
              "//# sourceURL=js_a3425aa4ac"
            ],
            "text/plain": [
              "<IPython.core.display.Javascript object>"
            ]
          },
          "metadata": {
            "tags": [
              "id28-12-1",
              "outputarea_id28"
            ]
          }
        },
        {
          "output_type": "display_data",
          "data": {
            "application/javascript": [
              "window[\"be4242f0-4dc8-11eb-8708-0242ac1c0002\"] = google.colab.output.setActiveOutputArea(window[\"be418b62-4dc8-11eb-8708-0242ac1c0002\"]);\n",
              "//# sourceURL=js_2b7728ee32"
            ],
            "text/plain": [
              "<IPython.core.display.Javascript object>"
            ]
          },
          "metadata": {
            "tags": [
              "id28-12-1",
              "outputarea_id28"
            ]
          }
        },
        {
          "output_type": "display_data",
          "data": {
            "application/javascript": [
              "window[\"be43c634-4dc8-11eb-8708-0242ac1c0002\"] = google.colab.output.setActiveOutputArea(window[\"be41107e-4dc8-11eb-8708-0242ac1c0002\"]);\n",
              "//# sourceURL=js_f3f6dfbea4"
            ],
            "text/plain": [
              "<IPython.core.display.Javascript object>"
            ]
          },
          "metadata": {
            "tags": [
              "id28-12-1",
              "outputarea_id28"
            ]
          }
        },
        {
          "output_type": "display_data",
          "data": {
            "application/javascript": [
              "window[\"be4605d4-4dc8-11eb-8708-0242ac1c0002\"] = google.colab.output.getActiveOutputArea();\n",
              "//# sourceURL=js_f650adac8f"
            ],
            "text/plain": [
              "<IPython.core.display.Javascript object>"
            ]
          },
          "metadata": {
            "tags": [
              "id28-12-2",
              "outputarea_id28"
            ]
          }
        },
        {
          "output_type": "display_data",
          "data": {
            "application/javascript": [
              "window[\"be46ea80-4dc8-11eb-8708-0242ac1c0002\"] = document.querySelector(\"#id28-12-2\");\n",
              "//# sourceURL=js_f8f85fb660"
            ],
            "text/plain": [
              "<IPython.core.display.Javascript object>"
            ]
          },
          "metadata": {
            "tags": [
              "id28-12-2",
              "outputarea_id28"
            ]
          }
        },
        {
          "output_type": "display_data",
          "data": {
            "application/javascript": [
              "window[\"be47aa56-4dc8-11eb-8708-0242ac1c0002\"] = google.colab.output.setActiveOutputArea(window[\"be46ea80-4dc8-11eb-8708-0242ac1c0002\"]);\n",
              "//# sourceURL=js_c3a170536f"
            ],
            "text/plain": [
              "<IPython.core.display.Javascript object>"
            ]
          },
          "metadata": {
            "tags": [
              "id28-12-2",
              "outputarea_id28"
            ]
          }
        },
        {
          "output_type": "stream",
          "text": [
            "Container Homes around the World - Reading(https://lms.wiseman.com.hk/lms/user/secure/course/eb/select_theme/selectLesson.do?id=8ae5daa05e4eb277015e511e9fc40020&from=lesson)\n"
          ],
          "name": "stdout"
        },
        {
          "output_type": "display_data",
          "data": {
            "application/javascript": [
              "window[\"be490e46-4dc8-11eb-8708-0242ac1c0002\"] = google.colab.output.setActiveOutputArea(window[\"be4605d4-4dc8-11eb-8708-0242ac1c0002\"]);\n",
              "//# sourceURL=js_4325c69e2e"
            ],
            "text/plain": [
              "<IPython.core.display.Javascript object>"
            ]
          },
          "metadata": {
            "tags": [
              "id28-12-2",
              "outputarea_id28"
            ]
          }
        },
        {
          "output_type": "display_data",
          "data": {
            "application/javascript": [
              "window[\"c007a90e-4dc8-11eb-8708-0242ac1c0002\"] = google.colab.output.getActiveOutputArea();\n",
              "//# sourceURL=js_6b87734788"
            ],
            "text/plain": [
              "<IPython.core.display.Javascript object>"
            ]
          },
          "metadata": {
            "tags": [
              "id28-12-1",
              "outputarea_id28"
            ]
          }
        },
        {
          "output_type": "display_data",
          "data": {
            "application/javascript": [
              "window[\"c00815ec-4dc8-11eb-8708-0242ac1c0002\"] = document.querySelector(\"#id28-12-1\");\n",
              "//# sourceURL=js_cd2f053b27"
            ],
            "text/plain": [
              "<IPython.core.display.Javascript object>"
            ]
          },
          "metadata": {
            "tags": [
              "id28-12-1",
              "outputarea_id28"
            ]
          }
        },
        {
          "output_type": "display_data",
          "data": {
            "application/javascript": [
              "window[\"c0088022-4dc8-11eb-8708-0242ac1c0002\"] = google.colab.output.setActiveOutputArea(window[\"c00815ec-4dc8-11eb-8708-0242ac1c0002\"]);\n",
              "//# sourceURL=js_873a222aae"
            ],
            "text/plain": [
              "<IPython.core.display.Javascript object>"
            ]
          },
          "metadata": {
            "tags": [
              "id28-12-1",
              "outputarea_id28"
            ]
          }
        },
        {
          "output_type": "stream",
          "text": [
            "New\n"
          ],
          "name": "stdout"
        },
        {
          "output_type": "display_data",
          "data": {
            "application/javascript": [
              "window[\"c00a3336-4dc8-11eb-8708-0242ac1c0002\"] = google.colab.output.setActiveOutputArea(window[\"c007a90e-4dc8-11eb-8708-0242ac1c0002\"]);\n",
              "//# sourceURL=js_a4dd15a822"
            ],
            "text/plain": [
              "<IPython.core.display.Javascript object>"
            ]
          },
          "metadata": {
            "tags": [
              "id28-12-1",
              "outputarea_id28"
            ]
          }
        },
        {
          "output_type": "display_data",
          "data": {
            "application/javascript": [
              "window[\"c00d6f38-4dc8-11eb-8708-0242ac1c0002\"] = google.colab.output.getActiveOutputArea();\n",
              "//# sourceURL=js_9e5a723c76"
            ],
            "text/plain": [
              "<IPython.core.display.Javascript object>"
            ]
          },
          "metadata": {
            "tags": [
              "id28-13-0",
              "outputarea_id28"
            ]
          }
        },
        {
          "output_type": "display_data",
          "data": {
            "application/javascript": [
              "window[\"c00e2270-4dc8-11eb-8708-0242ac1c0002\"] = document.querySelector(\"#id28-13-0\");\n",
              "//# sourceURL=js_5693c07b9f"
            ],
            "text/plain": [
              "<IPython.core.display.Javascript object>"
            ]
          },
          "metadata": {
            "tags": [
              "id28-13-0",
              "outputarea_id28"
            ]
          }
        },
        {
          "output_type": "display_data",
          "data": {
            "application/javascript": [
              "window[\"c00ecd92-4dc8-11eb-8708-0242ac1c0002\"] = google.colab.output.setActiveOutputArea(window[\"c00e2270-4dc8-11eb-8708-0242ac1c0002\"]);\n",
              "//# sourceURL=js_b9f5810d67"
            ],
            "text/plain": [
              "<IPython.core.display.Javascript object>"
            ]
          },
          "metadata": {
            "tags": [
              "id28-13-0",
              "outputarea_id28"
            ]
          }
        },
        {
          "output_type": "stream",
          "text": [
            "13/19\n"
          ],
          "name": "stdout"
        },
        {
          "output_type": "display_data",
          "data": {
            "application/javascript": [
              "window[\"c010ac52-4dc8-11eb-8708-0242ac1c0002\"] = google.colab.output.setActiveOutputArea(window[\"c00d6f38-4dc8-11eb-8708-0242ac1c0002\"]);\n",
              "//# sourceURL=js_fb07334625"
            ],
            "text/plain": [
              "<IPython.core.display.Javascript object>"
            ]
          },
          "metadata": {
            "tags": [
              "id28-13-0",
              "outputarea_id28"
            ]
          }
        },
        {
          "output_type": "display_data",
          "data": {
            "application/javascript": [
              "window[\"c0164932-4dc8-11eb-8708-0242ac1c0002\"] = google.colab.output.getActiveOutputArea();\n",
              "//# sourceURL=js_90fd7977a6"
            ],
            "text/plain": [
              "<IPython.core.display.Javascript object>"
            ]
          },
          "metadata": {
            "tags": [
              "id28-13-1",
              "outputarea_id28"
            ]
          }
        },
        {
          "output_type": "display_data",
          "data": {
            "application/javascript": [
              "window[\"c016e20c-4dc8-11eb-8708-0242ac1c0002\"] = document.querySelector(\"#id28-13-1\");\n",
              "//# sourceURL=js_96c9adf645"
            ],
            "text/plain": [
              "<IPython.core.display.Javascript object>"
            ]
          },
          "metadata": {
            "tags": [
              "id28-13-1",
              "outputarea_id28"
            ]
          }
        },
        {
          "output_type": "display_data",
          "data": {
            "application/javascript": [
              "window[\"c01737e8-4dc8-11eb-8708-0242ac1c0002\"] = google.colab.output.setActiveOutputArea(window[\"c016e20c-4dc8-11eb-8708-0242ac1c0002\"]);\n",
              "//# sourceURL=js_a1549ab970"
            ],
            "text/plain": [
              "<IPython.core.display.Javascript object>"
            ]
          },
          "metadata": {
            "tags": [
              "id28-13-1",
              "outputarea_id28"
            ]
          }
        },
        {
          "output_type": "display_data",
          "data": {
            "application/javascript": [
              "window[\"c0193eee-4dc8-11eb-8708-0242ac1c0002\"] = google.colab.output.setActiveOutputArea(window[\"c0164932-4dc8-11eb-8708-0242ac1c0002\"]);\n",
              "//# sourceURL=js_7bdc542804"
            ],
            "text/plain": [
              "<IPython.core.display.Javascript object>"
            ]
          },
          "metadata": {
            "tags": [
              "id28-13-1",
              "outputarea_id28"
            ]
          }
        },
        {
          "output_type": "display_data",
          "data": {
            "application/javascript": [
              "window[\"c01c7b86-4dc8-11eb-8708-0242ac1c0002\"] = google.colab.output.getActiveOutputArea();\n",
              "//# sourceURL=js_5ce3a15854"
            ],
            "text/plain": [
              "<IPython.core.display.Javascript object>"
            ]
          },
          "metadata": {
            "tags": [
              "id28-13-2",
              "outputarea_id28"
            ]
          }
        },
        {
          "output_type": "display_data",
          "data": {
            "application/javascript": [
              "window[\"c01d24b4-4dc8-11eb-8708-0242ac1c0002\"] = document.querySelector(\"#id28-13-2\");\n",
              "//# sourceURL=js_2f9e02c766"
            ],
            "text/plain": [
              "<IPython.core.display.Javascript object>"
            ]
          },
          "metadata": {
            "tags": [
              "id28-13-2",
              "outputarea_id28"
            ]
          }
        },
        {
          "output_type": "display_data",
          "data": {
            "application/javascript": [
              "window[\"c01db2f8-4dc8-11eb-8708-0242ac1c0002\"] = google.colab.output.setActiveOutputArea(window[\"c01d24b4-4dc8-11eb-8708-0242ac1c0002\"]);\n",
              "//# sourceURL=js_2ddd5f6602"
            ],
            "text/plain": [
              "<IPython.core.display.Javascript object>"
            ]
          },
          "metadata": {
            "tags": [
              "id28-13-2",
              "outputarea_id28"
            ]
          }
        },
        {
          "output_type": "stream",
          "text": [
            "Container Homes around the World - Speaking(https://lms.wiseman.com.hk/lms/user/secure/course/eb/select_theme/selectLesson.do?id=8ae5daa05e4eb277015e511fb8520026&from=lesson)\n"
          ],
          "name": "stdout"
        },
        {
          "output_type": "display_data",
          "data": {
            "application/javascript": [
              "window[\"c01f64f4-4dc8-11eb-8708-0242ac1c0002\"] = google.colab.output.setActiveOutputArea(window[\"c01c7b86-4dc8-11eb-8708-0242ac1c0002\"]);\n",
              "//# sourceURL=js_cd6b8fdad6"
            ],
            "text/plain": [
              "<IPython.core.display.Javascript object>"
            ]
          },
          "metadata": {
            "tags": [
              "id28-13-2",
              "outputarea_id28"
            ]
          }
        },
        {
          "output_type": "display_data",
          "data": {
            "application/javascript": [
              "window[\"c1bd1ea0-4dc8-11eb-8708-0242ac1c0002\"] = google.colab.output.getActiveOutputArea();\n",
              "//# sourceURL=js_f834884b95"
            ],
            "text/plain": [
              "<IPython.core.display.Javascript object>"
            ]
          },
          "metadata": {
            "tags": [
              "id28-13-1",
              "outputarea_id28"
            ]
          }
        },
        {
          "output_type": "display_data",
          "data": {
            "application/javascript": [
              "window[\"c1bdce2c-4dc8-11eb-8708-0242ac1c0002\"] = document.querySelector(\"#id28-13-1\");\n",
              "//# sourceURL=js_48254cf4d9"
            ],
            "text/plain": [
              "<IPython.core.display.Javascript object>"
            ]
          },
          "metadata": {
            "tags": [
              "id28-13-1",
              "outputarea_id28"
            ]
          }
        },
        {
          "output_type": "display_data",
          "data": {
            "application/javascript": [
              "window[\"c1be34e8-4dc8-11eb-8708-0242ac1c0002\"] = google.colab.output.setActiveOutputArea(window[\"c1bdce2c-4dc8-11eb-8708-0242ac1c0002\"]);\n",
              "//# sourceURL=js_169bb4782a"
            ],
            "text/plain": [
              "<IPython.core.display.Javascript object>"
            ]
          },
          "metadata": {
            "tags": [
              "id28-13-1",
              "outputarea_id28"
            ]
          }
        },
        {
          "output_type": "stream",
          "text": [
            "New\n"
          ],
          "name": "stdout"
        },
        {
          "output_type": "display_data",
          "data": {
            "application/javascript": [
              "window[\"c1c0e422-4dc8-11eb-8708-0242ac1c0002\"] = google.colab.output.setActiveOutputArea(window[\"c1bd1ea0-4dc8-11eb-8708-0242ac1c0002\"]);\n",
              "//# sourceURL=js_16a690fc5c"
            ],
            "text/plain": [
              "<IPython.core.display.Javascript object>"
            ]
          },
          "metadata": {
            "tags": [
              "id28-13-1",
              "outputarea_id28"
            ]
          }
        },
        {
          "output_type": "display_data",
          "data": {
            "application/javascript": [
              "window[\"c1c35e1e-4dc8-11eb-8708-0242ac1c0002\"] = google.colab.output.getActiveOutputArea();\n",
              "//# sourceURL=js_a2b7912010"
            ],
            "text/plain": [
              "<IPython.core.display.Javascript object>"
            ]
          },
          "metadata": {
            "tags": [
              "id28-14-0",
              "outputarea_id28"
            ]
          }
        },
        {
          "output_type": "display_data",
          "data": {
            "application/javascript": [
              "window[\"c1c3a69e-4dc8-11eb-8708-0242ac1c0002\"] = document.querySelector(\"#id28-14-0\");\n",
              "//# sourceURL=js_fd828389ca"
            ],
            "text/plain": [
              "<IPython.core.display.Javascript object>"
            ]
          },
          "metadata": {
            "tags": [
              "id28-14-0",
              "outputarea_id28"
            ]
          }
        },
        {
          "output_type": "display_data",
          "data": {
            "application/javascript": [
              "window[\"c1c49932-4dc8-11eb-8708-0242ac1c0002\"] = google.colab.output.setActiveOutputArea(window[\"c1c3a69e-4dc8-11eb-8708-0242ac1c0002\"]);\n",
              "//# sourceURL=js_c590e1a69f"
            ],
            "text/plain": [
              "<IPython.core.display.Javascript object>"
            ]
          },
          "metadata": {
            "tags": [
              "id28-14-0",
              "outputarea_id28"
            ]
          }
        },
        {
          "output_type": "stream",
          "text": [
            "14/19\n"
          ],
          "name": "stdout"
        },
        {
          "output_type": "display_data",
          "data": {
            "application/javascript": [
              "window[\"c1c640ac-4dc8-11eb-8708-0242ac1c0002\"] = google.colab.output.setActiveOutputArea(window[\"c1c35e1e-4dc8-11eb-8708-0242ac1c0002\"]);\n",
              "//# sourceURL=js_dfbad59ea7"
            ],
            "text/plain": [
              "<IPython.core.display.Javascript object>"
            ]
          },
          "metadata": {
            "tags": [
              "id28-14-0",
              "outputarea_id28"
            ]
          }
        },
        {
          "output_type": "display_data",
          "data": {
            "application/javascript": [
              "window[\"c1c903aa-4dc8-11eb-8708-0242ac1c0002\"] = google.colab.output.getActiveOutputArea();\n",
              "//# sourceURL=js_9258d27b7b"
            ],
            "text/plain": [
              "<IPython.core.display.Javascript object>"
            ]
          },
          "metadata": {
            "tags": [
              "id28-14-1",
              "outputarea_id28"
            ]
          }
        },
        {
          "output_type": "display_data",
          "data": {
            "application/javascript": [
              "window[\"c1c96278-4dc8-11eb-8708-0242ac1c0002\"] = document.querySelector(\"#id28-14-1\");\n",
              "//# sourceURL=js_4b060567cf"
            ],
            "text/plain": [
              "<IPython.core.display.Javascript object>"
            ]
          },
          "metadata": {
            "tags": [
              "id28-14-1",
              "outputarea_id28"
            ]
          }
        },
        {
          "output_type": "display_data",
          "data": {
            "application/javascript": [
              "window[\"c1c9ad32-4dc8-11eb-8708-0242ac1c0002\"] = google.colab.output.setActiveOutputArea(window[\"c1c96278-4dc8-11eb-8708-0242ac1c0002\"]);\n",
              "//# sourceURL=js_dfdfee57a2"
            ],
            "text/plain": [
              "<IPython.core.display.Javascript object>"
            ]
          },
          "metadata": {
            "tags": [
              "id28-14-1",
              "outputarea_id28"
            ]
          }
        },
        {
          "output_type": "display_data",
          "data": {
            "application/javascript": [
              "window[\"c1cb7536-4dc8-11eb-8708-0242ac1c0002\"] = google.colab.output.setActiveOutputArea(window[\"c1c903aa-4dc8-11eb-8708-0242ac1c0002\"]);\n",
              "//# sourceURL=js_ebf48cf756"
            ],
            "text/plain": [
              "<IPython.core.display.Javascript object>"
            ]
          },
          "metadata": {
            "tags": [
              "id28-14-1",
              "outputarea_id28"
            ]
          }
        },
        {
          "output_type": "display_data",
          "data": {
            "application/javascript": [
              "window[\"c1cddcf4-4dc8-11eb-8708-0242ac1c0002\"] = google.colab.output.getActiveOutputArea();\n",
              "//# sourceURL=js_25aa17eb36"
            ],
            "text/plain": [
              "<IPython.core.display.Javascript object>"
            ]
          },
          "metadata": {
            "tags": [
              "id28-14-2",
              "outputarea_id28"
            ]
          }
        },
        {
          "output_type": "display_data",
          "data": {
            "application/javascript": [
              "window[\"c1ce4ab8-4dc8-11eb-8708-0242ac1c0002\"] = document.querySelector(\"#id28-14-2\");\n",
              "//# sourceURL=js_12dba615e8"
            ],
            "text/plain": [
              "<IPython.core.display.Javascript object>"
            ]
          },
          "metadata": {
            "tags": [
              "id28-14-2",
              "outputarea_id28"
            ]
          }
        },
        {
          "output_type": "display_data",
          "data": {
            "application/javascript": [
              "window[\"c1cefe5e-4dc8-11eb-8708-0242ac1c0002\"] = google.colab.output.setActiveOutputArea(window[\"c1ce4ab8-4dc8-11eb-8708-0242ac1c0002\"]);\n",
              "//# sourceURL=js_e76724c264"
            ],
            "text/plain": [
              "<IPython.core.display.Javascript object>"
            ]
          },
          "metadata": {
            "tags": [
              "id28-14-2",
              "outputarea_id28"
            ]
          }
        },
        {
          "output_type": "stream",
          "text": [
            "Container Homes around the World - Writing(https://lms.wiseman.com.hk/lms/user/secure/course/eb/select_theme/selectLesson.do?id=8ae5daa05e4eb277015e5120b4b9002c&from=lesson)\n"
          ],
          "name": "stdout"
        },
        {
          "output_type": "display_data",
          "data": {
            "application/javascript": [
              "window[\"c1d084e0-4dc8-11eb-8708-0242ac1c0002\"] = google.colab.output.setActiveOutputArea(window[\"c1cddcf4-4dc8-11eb-8708-0242ac1c0002\"]);\n",
              "//# sourceURL=js_11d253d836"
            ],
            "text/plain": [
              "<IPython.core.display.Javascript object>"
            ]
          },
          "metadata": {
            "tags": [
              "id28-14-2",
              "outputarea_id28"
            ]
          }
        },
        {
          "output_type": "display_data",
          "data": {
            "application/javascript": [
              "window[\"c3575988-4dc8-11eb-8708-0242ac1c0002\"] = google.colab.output.getActiveOutputArea();\n",
              "//# sourceURL=js_a66f9a9f00"
            ],
            "text/plain": [
              "<IPython.core.display.Javascript object>"
            ]
          },
          "metadata": {
            "tags": [
              "id28-14-1",
              "outputarea_id28"
            ]
          }
        },
        {
          "output_type": "display_data",
          "data": {
            "application/javascript": [
              "window[\"c3582048-4dc8-11eb-8708-0242ac1c0002\"] = document.querySelector(\"#id28-14-1\");\n",
              "//# sourceURL=js_e486372880"
            ],
            "text/plain": [
              "<IPython.core.display.Javascript object>"
            ]
          },
          "metadata": {
            "tags": [
              "id28-14-1",
              "outputarea_id28"
            ]
          }
        },
        {
          "output_type": "display_data",
          "data": {
            "application/javascript": [
              "window[\"c3589d3e-4dc8-11eb-8708-0242ac1c0002\"] = google.colab.output.setActiveOutputArea(window[\"c3582048-4dc8-11eb-8708-0242ac1c0002\"]);\n",
              "//# sourceURL=js_d310fad998"
            ],
            "text/plain": [
              "<IPython.core.display.Javascript object>"
            ]
          },
          "metadata": {
            "tags": [
              "id28-14-1",
              "outputarea_id28"
            ]
          }
        },
        {
          "output_type": "stream",
          "text": [
            "New\n"
          ],
          "name": "stdout"
        },
        {
          "output_type": "display_data",
          "data": {
            "application/javascript": [
              "window[\"c35b3b7a-4dc8-11eb-8708-0242ac1c0002\"] = google.colab.output.setActiveOutputArea(window[\"c3575988-4dc8-11eb-8708-0242ac1c0002\"]);\n",
              "//# sourceURL=js_562a9ce59c"
            ],
            "text/plain": [
              "<IPython.core.display.Javascript object>"
            ]
          },
          "metadata": {
            "tags": [
              "id28-14-1",
              "outputarea_id28"
            ]
          }
        },
        {
          "output_type": "display_data",
          "data": {
            "application/javascript": [
              "window[\"c35d89d4-4dc8-11eb-8708-0242ac1c0002\"] = google.colab.output.getActiveOutputArea();\n",
              "//# sourceURL=js_8bfeaafb57"
            ],
            "text/plain": [
              "<IPython.core.display.Javascript object>"
            ]
          },
          "metadata": {
            "tags": [
              "id28-15-0",
              "outputarea_id28"
            ]
          }
        },
        {
          "output_type": "display_data",
          "data": {
            "application/javascript": [
              "window[\"c35e2e7a-4dc8-11eb-8708-0242ac1c0002\"] = document.querySelector(\"#id28-15-0\");\n",
              "//# sourceURL=js_7672173b3d"
            ],
            "text/plain": [
              "<IPython.core.display.Javascript object>"
            ]
          },
          "metadata": {
            "tags": [
              "id28-15-0",
              "outputarea_id28"
            ]
          }
        },
        {
          "output_type": "display_data",
          "data": {
            "application/javascript": [
              "window[\"c35ecaba-4dc8-11eb-8708-0242ac1c0002\"] = google.colab.output.setActiveOutputArea(window[\"c35e2e7a-4dc8-11eb-8708-0242ac1c0002\"]);\n",
              "//# sourceURL=js_6e9a69dfa6"
            ],
            "text/plain": [
              "<IPython.core.display.Javascript object>"
            ]
          },
          "metadata": {
            "tags": [
              "id28-15-0",
              "outputarea_id28"
            ]
          }
        },
        {
          "output_type": "stream",
          "text": [
            "15/19\n"
          ],
          "name": "stdout"
        },
        {
          "output_type": "display_data",
          "data": {
            "application/javascript": [
              "window[\"c3613282-4dc8-11eb-8708-0242ac1c0002\"] = google.colab.output.setActiveOutputArea(window[\"c35d89d4-4dc8-11eb-8708-0242ac1c0002\"]);\n",
              "//# sourceURL=js_f7a2648ec0"
            ],
            "text/plain": [
              "<IPython.core.display.Javascript object>"
            ]
          },
          "metadata": {
            "tags": [
              "id28-15-0",
              "outputarea_id28"
            ]
          }
        },
        {
          "output_type": "display_data",
          "data": {
            "application/javascript": [
              "window[\"c362f54a-4dc8-11eb-8708-0242ac1c0002\"] = google.colab.output.getActiveOutputArea();\n",
              "//# sourceURL=js_73e48abd43"
            ],
            "text/plain": [
              "<IPython.core.display.Javascript object>"
            ]
          },
          "metadata": {
            "tags": [
              "id28-15-1",
              "outputarea_id28"
            ]
          }
        },
        {
          "output_type": "display_data",
          "data": {
            "application/javascript": [
              "window[\"c3639da6-4dc8-11eb-8708-0242ac1c0002\"] = document.querySelector(\"#id28-15-1\");\n",
              "//# sourceURL=js_aa1d60dc31"
            ],
            "text/plain": [
              "<IPython.core.display.Javascript object>"
            ]
          },
          "metadata": {
            "tags": [
              "id28-15-1",
              "outputarea_id28"
            ]
          }
        },
        {
          "output_type": "display_data",
          "data": {
            "application/javascript": [
              "window[\"c3642f82-4dc8-11eb-8708-0242ac1c0002\"] = google.colab.output.setActiveOutputArea(window[\"c3639da6-4dc8-11eb-8708-0242ac1c0002\"]);\n",
              "//# sourceURL=js_60b129a4db"
            ],
            "text/plain": [
              "<IPython.core.display.Javascript object>"
            ]
          },
          "metadata": {
            "tags": [
              "id28-15-1",
              "outputarea_id28"
            ]
          }
        },
        {
          "output_type": "display_data",
          "data": {
            "application/javascript": [
              "window[\"c36799d8-4dc8-11eb-8708-0242ac1c0002\"] = google.colab.output.setActiveOutputArea(window[\"c362f54a-4dc8-11eb-8708-0242ac1c0002\"]);\n",
              "//# sourceURL=js_33ec378b54"
            ],
            "text/plain": [
              "<IPython.core.display.Javascript object>"
            ]
          },
          "metadata": {
            "tags": [
              "id28-15-1",
              "outputarea_id28"
            ]
          }
        },
        {
          "output_type": "display_data",
          "data": {
            "application/javascript": [
              "window[\"c36bb176-4dc8-11eb-8708-0242ac1c0002\"] = google.colab.output.getActiveOutputArea();\n",
              "//# sourceURL=js_e988e05b6d"
            ],
            "text/plain": [
              "<IPython.core.display.Javascript object>"
            ]
          },
          "metadata": {
            "tags": [
              "id28-15-2",
              "outputarea_id28"
            ]
          }
        },
        {
          "output_type": "display_data",
          "data": {
            "application/javascript": [
              "window[\"c36c093c-4dc8-11eb-8708-0242ac1c0002\"] = document.querySelector(\"#id28-15-2\");\n",
              "//# sourceURL=js_fd3a205763"
            ],
            "text/plain": [
              "<IPython.core.display.Javascript object>"
            ]
          },
          "metadata": {
            "tags": [
              "id28-15-2",
              "outputarea_id28"
            ]
          }
        },
        {
          "output_type": "display_data",
          "data": {
            "application/javascript": [
              "window[\"c36cb38c-4dc8-11eb-8708-0242ac1c0002\"] = google.colab.output.setActiveOutputArea(window[\"c36c093c-4dc8-11eb-8708-0242ac1c0002\"]);\n",
              "//# sourceURL=js_8f8c5bf7a6"
            ],
            "text/plain": [
              "<IPython.core.display.Javascript object>"
            ]
          },
          "metadata": {
            "tags": [
              "id28-15-2",
              "outputarea_id28"
            ]
          }
        },
        {
          "output_type": "stream",
          "text": [
            "Dating Traditions around the World - Listening(https://lms.wiseman.com.hk/lms/user/secure/course/eb/select_theme/selectLesson.do?id=8ae5daa05e4eb277015e513c4179007a&from=lesson)\n"
          ],
          "name": "stdout"
        },
        {
          "output_type": "display_data",
          "data": {
            "application/javascript": [
              "window[\"c36da864-4dc8-11eb-8708-0242ac1c0002\"] = google.colab.output.setActiveOutputArea(window[\"c36bb176-4dc8-11eb-8708-0242ac1c0002\"]);\n",
              "//# sourceURL=js_b38a497016"
            ],
            "text/plain": [
              "<IPython.core.display.Javascript object>"
            ]
          },
          "metadata": {
            "tags": [
              "id28-15-2",
              "outputarea_id28"
            ]
          }
        },
        {
          "output_type": "display_data",
          "data": {
            "application/javascript": [
              "window[\"c769126e-4dc8-11eb-8708-0242ac1c0002\"] = google.colab.output.getActiveOutputArea();\n",
              "//# sourceURL=js_002f8b630b"
            ],
            "text/plain": [
              "<IPython.core.display.Javascript object>"
            ]
          },
          "metadata": {
            "tags": [
              "id28-15-1",
              "outputarea_id28"
            ]
          }
        },
        {
          "output_type": "display_data",
          "data": {
            "application/javascript": [
              "window[\"c76a7c6c-4dc8-11eb-8708-0242ac1c0002\"] = document.querySelector(\"#id28-15-1\");\n",
              "//# sourceURL=js_7e866dd57e"
            ],
            "text/plain": [
              "<IPython.core.display.Javascript object>"
            ]
          },
          "metadata": {
            "tags": [
              "id28-15-1",
              "outputarea_id28"
            ]
          }
        },
        {
          "output_type": "display_data",
          "data": {
            "application/javascript": [
              "window[\"c76b37b0-4dc8-11eb-8708-0242ac1c0002\"] = google.colab.output.setActiveOutputArea(window[\"c76a7c6c-4dc8-11eb-8708-0242ac1c0002\"]);\n",
              "//# sourceURL=js_6ab250c70e"
            ],
            "text/plain": [
              "<IPython.core.display.Javascript object>"
            ]
          },
          "metadata": {
            "tags": [
              "id28-15-1",
              "outputarea_id28"
            ]
          }
        },
        {
          "output_type": "stream",
          "text": [
            "New\n"
          ],
          "name": "stdout"
        },
        {
          "output_type": "display_data",
          "data": {
            "application/javascript": [
              "window[\"c76ec66e-4dc8-11eb-8708-0242ac1c0002\"] = google.colab.output.setActiveOutputArea(window[\"c769126e-4dc8-11eb-8708-0242ac1c0002\"]);\n",
              "//# sourceURL=js_be4f5d5fda"
            ],
            "text/plain": [
              "<IPython.core.display.Javascript object>"
            ]
          },
          "metadata": {
            "tags": [
              "id28-15-1",
              "outputarea_id28"
            ]
          }
        },
        {
          "output_type": "display_data",
          "data": {
            "application/javascript": [
              "window[\"c771f992-4dc8-11eb-8708-0242ac1c0002\"] = google.colab.output.getActiveOutputArea();\n",
              "//# sourceURL=js_cc32e2f2c9"
            ],
            "text/plain": [
              "<IPython.core.display.Javascript object>"
            ]
          },
          "metadata": {
            "tags": [
              "id28-16-0",
              "outputarea_id28"
            ]
          }
        },
        {
          "output_type": "display_data",
          "data": {
            "application/javascript": [
              "window[\"c772320e-4dc8-11eb-8708-0242ac1c0002\"] = document.querySelector(\"#id28-16-0\");\n",
              "//# sourceURL=js_6f13cb0bf8"
            ],
            "text/plain": [
              "<IPython.core.display.Javascript object>"
            ]
          },
          "metadata": {
            "tags": [
              "id28-16-0",
              "outputarea_id28"
            ]
          }
        },
        {
          "output_type": "display_data",
          "data": {
            "application/javascript": [
              "window[\"c772b710-4dc8-11eb-8708-0242ac1c0002\"] = google.colab.output.setActiveOutputArea(window[\"c772320e-4dc8-11eb-8708-0242ac1c0002\"]);\n",
              "//# sourceURL=js_ecf80f98db"
            ],
            "text/plain": [
              "<IPython.core.display.Javascript object>"
            ]
          },
          "metadata": {
            "tags": [
              "id28-16-0",
              "outputarea_id28"
            ]
          }
        },
        {
          "output_type": "stream",
          "text": [
            "16/19\n"
          ],
          "name": "stdout"
        },
        {
          "output_type": "display_data",
          "data": {
            "application/javascript": [
              "window[\"c774e85a-4dc8-11eb-8708-0242ac1c0002\"] = google.colab.output.setActiveOutputArea(window[\"c771f992-4dc8-11eb-8708-0242ac1c0002\"]);\n",
              "//# sourceURL=js_b16bcff5a9"
            ],
            "text/plain": [
              "<IPython.core.display.Javascript object>"
            ]
          },
          "metadata": {
            "tags": [
              "id28-16-0",
              "outputarea_id28"
            ]
          }
        },
        {
          "output_type": "display_data",
          "data": {
            "application/javascript": [
              "window[\"c777f3ce-4dc8-11eb-8708-0242ac1c0002\"] = google.colab.output.getActiveOutputArea();\n",
              "//# sourceURL=js_050b59d012"
            ],
            "text/plain": [
              "<IPython.core.display.Javascript object>"
            ]
          },
          "metadata": {
            "tags": [
              "id28-16-1",
              "outputarea_id28"
            ]
          }
        },
        {
          "output_type": "display_data",
          "data": {
            "application/javascript": [
              "window[\"c7784c8e-4dc8-11eb-8708-0242ac1c0002\"] = document.querySelector(\"#id28-16-1\");\n",
              "//# sourceURL=js_91d41c7b64"
            ],
            "text/plain": [
              "<IPython.core.display.Javascript object>"
            ]
          },
          "metadata": {
            "tags": [
              "id28-16-1",
              "outputarea_id28"
            ]
          }
        },
        {
          "output_type": "display_data",
          "data": {
            "application/javascript": [
              "window[\"c7791ae2-4dc8-11eb-8708-0242ac1c0002\"] = google.colab.output.setActiveOutputArea(window[\"c7784c8e-4dc8-11eb-8708-0242ac1c0002\"]);\n",
              "//# sourceURL=js_21c5d4d61d"
            ],
            "text/plain": [
              "<IPython.core.display.Javascript object>"
            ]
          },
          "metadata": {
            "tags": [
              "id28-16-1",
              "outputarea_id28"
            ]
          }
        },
        {
          "output_type": "display_data",
          "data": {
            "application/javascript": [
              "window[\"c77afa4c-4dc8-11eb-8708-0242ac1c0002\"] = google.colab.output.setActiveOutputArea(window[\"c777f3ce-4dc8-11eb-8708-0242ac1c0002\"]);\n",
              "//# sourceURL=js_ca901728c0"
            ],
            "text/plain": [
              "<IPython.core.display.Javascript object>"
            ]
          },
          "metadata": {
            "tags": [
              "id28-16-1",
              "outputarea_id28"
            ]
          }
        },
        {
          "output_type": "display_data",
          "data": {
            "application/javascript": [
              "window[\"c77e75fa-4dc8-11eb-8708-0242ac1c0002\"] = google.colab.output.getActiveOutputArea();\n",
              "//# sourceURL=js_750d3d730a"
            ],
            "text/plain": [
              "<IPython.core.display.Javascript object>"
            ]
          },
          "metadata": {
            "tags": [
              "id28-16-2",
              "outputarea_id28"
            ]
          }
        },
        {
          "output_type": "display_data",
          "data": {
            "application/javascript": [
              "window[\"c77f3968-4dc8-11eb-8708-0242ac1c0002\"] = document.querySelector(\"#id28-16-2\");\n",
              "//# sourceURL=js_a1ed51372a"
            ],
            "text/plain": [
              "<IPython.core.display.Javascript object>"
            ]
          },
          "metadata": {
            "tags": [
              "id28-16-2",
              "outputarea_id28"
            ]
          }
        },
        {
          "output_type": "display_data",
          "data": {
            "application/javascript": [
              "window[\"c77f8788-4dc8-11eb-8708-0242ac1c0002\"] = google.colab.output.setActiveOutputArea(window[\"c77f3968-4dc8-11eb-8708-0242ac1c0002\"]);\n",
              "//# sourceURL=js_2469407956"
            ],
            "text/plain": [
              "<IPython.core.display.Javascript object>"
            ]
          },
          "metadata": {
            "tags": [
              "id28-16-2",
              "outputarea_id28"
            ]
          }
        },
        {
          "output_type": "stream",
          "text": [
            "Dating Traditions around the World - Reading(https://lms.wiseman.com.hk/lms/user/secure/course/eb/select_theme/selectLesson.do?id=8ae5daa05e4eb277015e513d6a6e007f&from=lesson)\n"
          ],
          "name": "stdout"
        },
        {
          "output_type": "display_data",
          "data": {
            "application/javascript": [
              "window[\"c7814fc8-4dc8-11eb-8708-0242ac1c0002\"] = google.colab.output.setActiveOutputArea(window[\"c77e75fa-4dc8-11eb-8708-0242ac1c0002\"]);\n",
              "//# sourceURL=js_fdd7e8d7c6"
            ],
            "text/plain": [
              "<IPython.core.display.Javascript object>"
            ]
          },
          "metadata": {
            "tags": [
              "id28-16-2",
              "outputarea_id28"
            ]
          }
        },
        {
          "output_type": "display_data",
          "data": {
            "application/javascript": [
              "window[\"cdf7e75e-4dc8-11eb-8708-0242ac1c0002\"] = google.colab.output.getActiveOutputArea();\n",
              "//# sourceURL=js_a3cff3ecf1"
            ],
            "text/plain": [
              "<IPython.core.display.Javascript object>"
            ]
          },
          "metadata": {
            "tags": [
              "id28-16-1",
              "outputarea_id28"
            ]
          }
        },
        {
          "output_type": "display_data",
          "data": {
            "application/javascript": [
              "window[\"cdf8c6ce-4dc8-11eb-8708-0242ac1c0002\"] = document.querySelector(\"#id28-16-1\");\n",
              "//# sourceURL=js_f4afd3a219"
            ],
            "text/plain": [
              "<IPython.core.display.Javascript object>"
            ]
          },
          "metadata": {
            "tags": [
              "id28-16-1",
              "outputarea_id28"
            ]
          }
        },
        {
          "output_type": "display_data",
          "data": {
            "application/javascript": [
              "window[\"cdf979b6-4dc8-11eb-8708-0242ac1c0002\"] = google.colab.output.setActiveOutputArea(window[\"cdf8c6ce-4dc8-11eb-8708-0242ac1c0002\"]);\n",
              "//# sourceURL=js_13a077742f"
            ],
            "text/plain": [
              "<IPython.core.display.Javascript object>"
            ]
          },
          "metadata": {
            "tags": [
              "id28-16-1",
              "outputarea_id28"
            ]
          }
        },
        {
          "output_type": "stream",
          "text": [
            "New\n"
          ],
          "name": "stdout"
        },
        {
          "output_type": "display_data",
          "data": {
            "application/javascript": [
              "window[\"cdfbddc8-4dc8-11eb-8708-0242ac1c0002\"] = google.colab.output.setActiveOutputArea(window[\"cdf7e75e-4dc8-11eb-8708-0242ac1c0002\"]);\n",
              "//# sourceURL=js_40aebe31d7"
            ],
            "text/plain": [
              "<IPython.core.display.Javascript object>"
            ]
          },
          "metadata": {
            "tags": [
              "id28-16-1",
              "outputarea_id28"
            ]
          }
        },
        {
          "output_type": "display_data",
          "data": {
            "application/javascript": [
              "window[\"cdfd7a52-4dc8-11eb-8708-0242ac1c0002\"] = google.colab.output.getActiveOutputArea();\n",
              "//# sourceURL=js_edab3f6029"
            ],
            "text/plain": [
              "<IPython.core.display.Javascript object>"
            ]
          },
          "metadata": {
            "tags": [
              "id28-17-0",
              "outputarea_id28"
            ]
          }
        },
        {
          "output_type": "display_data",
          "data": {
            "application/javascript": [
              "window[\"cdfec4ac-4dc8-11eb-8708-0242ac1c0002\"] = document.querySelector(\"#id28-17-0\");\n",
              "//# sourceURL=js_70665a2889"
            ],
            "text/plain": [
              "<IPython.core.display.Javascript object>"
            ]
          },
          "metadata": {
            "tags": [
              "id28-17-0",
              "outputarea_id28"
            ]
          }
        },
        {
          "output_type": "display_data",
          "data": {
            "application/javascript": [
              "window[\"cdff1a2e-4dc8-11eb-8708-0242ac1c0002\"] = google.colab.output.setActiveOutputArea(window[\"cdfec4ac-4dc8-11eb-8708-0242ac1c0002\"]);\n",
              "//# sourceURL=js_a2c495a0c8"
            ],
            "text/plain": [
              "<IPython.core.display.Javascript object>"
            ]
          },
          "metadata": {
            "tags": [
              "id28-17-0",
              "outputarea_id28"
            ]
          }
        },
        {
          "output_type": "stream",
          "text": [
            "17/19\n"
          ],
          "name": "stdout"
        },
        {
          "output_type": "display_data",
          "data": {
            "application/javascript": [
              "window[\"ce03068e-4dc8-11eb-8708-0242ac1c0002\"] = google.colab.output.setActiveOutputArea(window[\"cdfd7a52-4dc8-11eb-8708-0242ac1c0002\"]);\n",
              "//# sourceURL=js_15eff57df4"
            ],
            "text/plain": [
              "<IPython.core.display.Javascript object>"
            ]
          },
          "metadata": {
            "tags": [
              "id28-17-0",
              "outputarea_id28"
            ]
          }
        },
        {
          "output_type": "display_data",
          "data": {
            "application/javascript": [
              "window[\"ce074e24-4dc8-11eb-8708-0242ac1c0002\"] = google.colab.output.getActiveOutputArea();\n",
              "//# sourceURL=js_56bb96f5bf"
            ],
            "text/plain": [
              "<IPython.core.display.Javascript object>"
            ]
          },
          "metadata": {
            "tags": [
              "id28-17-1",
              "outputarea_id28"
            ]
          }
        },
        {
          "output_type": "display_data",
          "data": {
            "application/javascript": [
              "window[\"ce07ca7a-4dc8-11eb-8708-0242ac1c0002\"] = document.querySelector(\"#id28-17-1\");\n",
              "//# sourceURL=js_930ee42bb2"
            ],
            "text/plain": [
              "<IPython.core.display.Javascript object>"
            ]
          },
          "metadata": {
            "tags": [
              "id28-17-1",
              "outputarea_id28"
            ]
          }
        },
        {
          "output_type": "display_data",
          "data": {
            "application/javascript": [
              "window[\"ce08847e-4dc8-11eb-8708-0242ac1c0002\"] = google.colab.output.setActiveOutputArea(window[\"ce07ca7a-4dc8-11eb-8708-0242ac1c0002\"]);\n",
              "//# sourceURL=js_b8774de652"
            ],
            "text/plain": [
              "<IPython.core.display.Javascript object>"
            ]
          },
          "metadata": {
            "tags": [
              "id28-17-1",
              "outputarea_id28"
            ]
          }
        },
        {
          "output_type": "display_data",
          "data": {
            "application/javascript": [
              "window[\"ce0adb2a-4dc8-11eb-8708-0242ac1c0002\"] = google.colab.output.setActiveOutputArea(window[\"ce074e24-4dc8-11eb-8708-0242ac1c0002\"]);\n",
              "//# sourceURL=js_39441662e1"
            ],
            "text/plain": [
              "<IPython.core.display.Javascript object>"
            ]
          },
          "metadata": {
            "tags": [
              "id28-17-1",
              "outputarea_id28"
            ]
          }
        },
        {
          "output_type": "display_data",
          "data": {
            "application/javascript": [
              "window[\"ce0d4914-4dc8-11eb-8708-0242ac1c0002\"] = google.colab.output.getActiveOutputArea();\n",
              "//# sourceURL=js_ad301a6f13"
            ],
            "text/plain": [
              "<IPython.core.display.Javascript object>"
            ]
          },
          "metadata": {
            "tags": [
              "id28-17-2",
              "outputarea_id28"
            ]
          }
        },
        {
          "output_type": "display_data",
          "data": {
            "application/javascript": [
              "window[\"ce0dd7c6-4dc8-11eb-8708-0242ac1c0002\"] = document.querySelector(\"#id28-17-2\");\n",
              "//# sourceURL=js_82a59e2be8"
            ],
            "text/plain": [
              "<IPython.core.display.Javascript object>"
            ]
          },
          "metadata": {
            "tags": [
              "id28-17-2",
              "outputarea_id28"
            ]
          }
        },
        {
          "output_type": "display_data",
          "data": {
            "application/javascript": [
              "window[\"ce0e1a1a-4dc8-11eb-8708-0242ac1c0002\"] = google.colab.output.setActiveOutputArea(window[\"ce0dd7c6-4dc8-11eb-8708-0242ac1c0002\"]);\n",
              "//# sourceURL=js_cd69e6b69b"
            ],
            "text/plain": [
              "<IPython.core.display.Javascript object>"
            ]
          },
          "metadata": {
            "tags": [
              "id28-17-2",
              "outputarea_id28"
            ]
          }
        },
        {
          "output_type": "stream",
          "text": [
            "Real or Fake? - Listening(https://lms.wiseman.com.hk/lms/user/secure/course/eb/select_theme/selectLesson.do?id=db1103b7b14e4f6bbba7ea90df34457f&from=lesson)\n"
          ],
          "name": "stdout"
        },
        {
          "output_type": "display_data",
          "data": {
            "application/javascript": [
              "window[\"ce107c38-4dc8-11eb-8708-0242ac1c0002\"] = google.colab.output.setActiveOutputArea(window[\"ce0d4914-4dc8-11eb-8708-0242ac1c0002\"]);\n",
              "//# sourceURL=js_4be407ba88"
            ],
            "text/plain": [
              "<IPython.core.display.Javascript object>"
            ]
          },
          "metadata": {
            "tags": [
              "id28-17-2",
              "outputarea_id28"
            ]
          }
        },
        {
          "output_type": "display_data",
          "data": {
            "application/javascript": [
              "window[\"d1ccc84a-4dc8-11eb-8708-0242ac1c0002\"] = google.colab.output.getActiveOutputArea();\n",
              "//# sourceURL=js_5c4138edbd"
            ],
            "text/plain": [
              "<IPython.core.display.Javascript object>"
            ]
          },
          "metadata": {
            "tags": [
              "id28-17-1",
              "outputarea_id28"
            ]
          }
        },
        {
          "output_type": "display_data",
          "data": {
            "application/javascript": [
              "window[\"d1cd303c-4dc8-11eb-8708-0242ac1c0002\"] = document.querySelector(\"#id28-17-1\");\n",
              "//# sourceURL=js_6e0c41557a"
            ],
            "text/plain": [
              "<IPython.core.display.Javascript object>"
            ]
          },
          "metadata": {
            "tags": [
              "id28-17-1",
              "outputarea_id28"
            ]
          }
        },
        {
          "output_type": "display_data",
          "data": {
            "application/javascript": [
              "window[\"d1cdd3ca-4dc8-11eb-8708-0242ac1c0002\"] = google.colab.output.setActiveOutputArea(window[\"d1cd303c-4dc8-11eb-8708-0242ac1c0002\"]);\n",
              "//# sourceURL=js_0280f48df7"
            ],
            "text/plain": [
              "<IPython.core.display.Javascript object>"
            ]
          },
          "metadata": {
            "tags": [
              "id28-17-1",
              "outputarea_id28"
            ]
          }
        },
        {
          "output_type": "stream",
          "text": [
            "New\n"
          ],
          "name": "stdout"
        },
        {
          "output_type": "display_data",
          "data": {
            "application/javascript": [
              "window[\"d1d0f794-4dc8-11eb-8708-0242ac1c0002\"] = google.colab.output.setActiveOutputArea(window[\"d1ccc84a-4dc8-11eb-8708-0242ac1c0002\"]);\n",
              "//# sourceURL=js_09a1864477"
            ],
            "text/plain": [
              "<IPython.core.display.Javascript object>"
            ]
          },
          "metadata": {
            "tags": [
              "id28-17-1",
              "outputarea_id28"
            ]
          }
        },
        {
          "output_type": "display_data",
          "data": {
            "application/javascript": [
              "window[\"d1d35246-4dc8-11eb-8708-0242ac1c0002\"] = google.colab.output.getActiveOutputArea();\n",
              "//# sourceURL=js_98f37626d9"
            ],
            "text/plain": [
              "<IPython.core.display.Javascript object>"
            ]
          },
          "metadata": {
            "tags": [
              "id28-18-0",
              "outputarea_id28"
            ]
          }
        },
        {
          "output_type": "display_data",
          "data": {
            "application/javascript": [
              "window[\"d1d3d2d4-4dc8-11eb-8708-0242ac1c0002\"] = document.querySelector(\"#id28-18-0\");\n",
              "//# sourceURL=js_a347cf57bb"
            ],
            "text/plain": [
              "<IPython.core.display.Javascript object>"
            ]
          },
          "metadata": {
            "tags": [
              "id28-18-0",
              "outputarea_id28"
            ]
          }
        },
        {
          "output_type": "display_data",
          "data": {
            "application/javascript": [
              "window[\"d1d43580-4dc8-11eb-8708-0242ac1c0002\"] = google.colab.output.setActiveOutputArea(window[\"d1d3d2d4-4dc8-11eb-8708-0242ac1c0002\"]);\n",
              "//# sourceURL=js_77728cf716"
            ],
            "text/plain": [
              "<IPython.core.display.Javascript object>"
            ]
          },
          "metadata": {
            "tags": [
              "id28-18-0",
              "outputarea_id28"
            ]
          }
        },
        {
          "output_type": "stream",
          "text": [
            "18/19\n"
          ],
          "name": "stdout"
        },
        {
          "output_type": "display_data",
          "data": {
            "application/javascript": [
              "window[\"d1d56efa-4dc8-11eb-8708-0242ac1c0002\"] = google.colab.output.setActiveOutputArea(window[\"d1d35246-4dc8-11eb-8708-0242ac1c0002\"]);\n",
              "//# sourceURL=js_15ccf6dcf6"
            ],
            "text/plain": [
              "<IPython.core.display.Javascript object>"
            ]
          },
          "metadata": {
            "tags": [
              "id28-18-0",
              "outputarea_id28"
            ]
          }
        },
        {
          "output_type": "display_data",
          "data": {
            "application/javascript": [
              "window[\"d1d73802-4dc8-11eb-8708-0242ac1c0002\"] = google.colab.output.getActiveOutputArea();\n",
              "//# sourceURL=js_d1ec48f1e3"
            ],
            "text/plain": [
              "<IPython.core.display.Javascript object>"
            ]
          },
          "metadata": {
            "tags": [
              "id28-18-1",
              "outputarea_id28"
            ]
          }
        },
        {
          "output_type": "display_data",
          "data": {
            "application/javascript": [
              "window[\"d1d79a68-4dc8-11eb-8708-0242ac1c0002\"] = document.querySelector(\"#id28-18-1\");\n",
              "//# sourceURL=js_4ab00c089a"
            ],
            "text/plain": [
              "<IPython.core.display.Javascript object>"
            ]
          },
          "metadata": {
            "tags": [
              "id28-18-1",
              "outputarea_id28"
            ]
          }
        },
        {
          "output_type": "display_data",
          "data": {
            "application/javascript": [
              "window[\"d1d7f896-4dc8-11eb-8708-0242ac1c0002\"] = google.colab.output.setActiveOutputArea(window[\"d1d79a68-4dc8-11eb-8708-0242ac1c0002\"]);\n",
              "//# sourceURL=js_cfe75636ef"
            ],
            "text/plain": [
              "<IPython.core.display.Javascript object>"
            ]
          },
          "metadata": {
            "tags": [
              "id28-18-1",
              "outputarea_id28"
            ]
          }
        },
        {
          "output_type": "display_data",
          "data": {
            "application/javascript": [
              "window[\"d1d8f25a-4dc8-11eb-8708-0242ac1c0002\"] = google.colab.output.setActiveOutputArea(window[\"d1d73802-4dc8-11eb-8708-0242ac1c0002\"]);\n",
              "//# sourceURL=js_5b496170ab"
            ],
            "text/plain": [
              "<IPython.core.display.Javascript object>"
            ]
          },
          "metadata": {
            "tags": [
              "id28-18-1",
              "outputarea_id28"
            ]
          }
        },
        {
          "output_type": "display_data",
          "data": {
            "application/javascript": [
              "window[\"d1dac5b2-4dc8-11eb-8708-0242ac1c0002\"] = google.colab.output.getActiveOutputArea();\n",
              "//# sourceURL=js_ed8ad9ec02"
            ],
            "text/plain": [
              "<IPython.core.display.Javascript object>"
            ]
          },
          "metadata": {
            "tags": [
              "id28-18-2",
              "outputarea_id28"
            ]
          }
        },
        {
          "output_type": "display_data",
          "data": {
            "application/javascript": [
              "window[\"d1db1620-4dc8-11eb-8708-0242ac1c0002\"] = document.querySelector(\"#id28-18-2\");\n",
              "//# sourceURL=js_2e4835dd84"
            ],
            "text/plain": [
              "<IPython.core.display.Javascript object>"
            ]
          },
          "metadata": {
            "tags": [
              "id28-18-2",
              "outputarea_id28"
            ]
          }
        },
        {
          "output_type": "display_data",
          "data": {
            "application/javascript": [
              "window[\"d1db6986-4dc8-11eb-8708-0242ac1c0002\"] = google.colab.output.setActiveOutputArea(window[\"d1db1620-4dc8-11eb-8708-0242ac1c0002\"]);\n",
              "//# sourceURL=js_d8d2b073b7"
            ],
            "text/plain": [
              "<IPython.core.display.Javascript object>"
            ]
          },
          "metadata": {
            "tags": [
              "id28-18-2",
              "outputarea_id28"
            ]
          }
        },
        {
          "output_type": "stream",
          "text": [
            "Real or Fake? - Speaking(https://lms.wiseman.com.hk/lms/user/secure/course/eb/select_theme/selectLesson.do?id=1e764a6374dd408096666bcc0e0205c0&from=lesson)\n"
          ],
          "name": "stdout"
        },
        {
          "output_type": "display_data",
          "data": {
            "application/javascript": [
              "window[\"d1dc931a-4dc8-11eb-8708-0242ac1c0002\"] = google.colab.output.setActiveOutputArea(window[\"d1dac5b2-4dc8-11eb-8708-0242ac1c0002\"]);\n",
              "//# sourceURL=js_1fca5b4a4c"
            ],
            "text/plain": [
              "<IPython.core.display.Javascript object>"
            ]
          },
          "metadata": {
            "tags": [
              "id28-18-2",
              "outputarea_id28"
            ]
          }
        },
        {
          "output_type": "display_data",
          "data": {
            "application/javascript": [
              "window[\"d5932fb4-4dc8-11eb-8708-0242ac1c0002\"] = google.colab.output.getActiveOutputArea();\n",
              "//# sourceURL=js_3541b876cf"
            ],
            "text/plain": [
              "<IPython.core.display.Javascript object>"
            ]
          },
          "metadata": {
            "tags": [
              "id28-18-1",
              "outputarea_id28"
            ]
          }
        },
        {
          "output_type": "display_data",
          "data": {
            "application/javascript": [
              "window[\"d593e72e-4dc8-11eb-8708-0242ac1c0002\"] = document.querySelector(\"#id28-18-1\");\n",
              "//# sourceURL=js_dd01fb8d7a"
            ],
            "text/plain": [
              "<IPython.core.display.Javascript object>"
            ]
          },
          "metadata": {
            "tags": [
              "id28-18-1",
              "outputarea_id28"
            ]
          }
        },
        {
          "output_type": "display_data",
          "data": {
            "application/javascript": [
              "window[\"d5945b64-4dc8-11eb-8708-0242ac1c0002\"] = google.colab.output.setActiveOutputArea(window[\"d593e72e-4dc8-11eb-8708-0242ac1c0002\"]);\n",
              "//# sourceURL=js_87c2f22b14"
            ],
            "text/plain": [
              "<IPython.core.display.Javascript object>"
            ]
          },
          "metadata": {
            "tags": [
              "id28-18-1",
              "outputarea_id28"
            ]
          }
        },
        {
          "output_type": "stream",
          "text": [
            "New\n"
          ],
          "name": "stdout"
        },
        {
          "output_type": "display_data",
          "data": {
            "application/javascript": [
              "window[\"d595faaa-4dc8-11eb-8708-0242ac1c0002\"] = google.colab.output.setActiveOutputArea(window[\"d5932fb4-4dc8-11eb-8708-0242ac1c0002\"]);\n",
              "//# sourceURL=js_8ad328fdaa"
            ],
            "text/plain": [
              "<IPython.core.display.Javascript object>"
            ]
          },
          "metadata": {
            "tags": [
              "id28-18-1",
              "outputarea_id28"
            ]
          }
        },
        {
          "output_type": "display_data",
          "data": {
            "application/javascript": [
              "window[\"d599d846-4dc8-11eb-8708-0242ac1c0002\"] = google.colab.output.getActiveOutputArea();\n",
              "//# sourceURL=js_95514bc209"
            ],
            "text/plain": [
              "<IPython.core.display.Javascript object>"
            ]
          },
          "metadata": {
            "tags": [
              "id28-19-0",
              "outputarea_id28"
            ]
          }
        },
        {
          "output_type": "display_data",
          "data": {
            "application/javascript": [
              "window[\"d59a965a-4dc8-11eb-8708-0242ac1c0002\"] = document.querySelector(\"#id28-19-0\");\n",
              "//# sourceURL=js_41174e99dc"
            ],
            "text/plain": [
              "<IPython.core.display.Javascript object>"
            ]
          },
          "metadata": {
            "tags": [
              "id28-19-0",
              "outputarea_id28"
            ]
          }
        },
        {
          "output_type": "display_data",
          "data": {
            "application/javascript": [
              "window[\"d59b4960-4dc8-11eb-8708-0242ac1c0002\"] = google.colab.output.setActiveOutputArea(window[\"d59a965a-4dc8-11eb-8708-0242ac1c0002\"]);\n",
              "//# sourceURL=js_331ac29087"
            ],
            "text/plain": [
              "<IPython.core.display.Javascript object>"
            ]
          },
          "metadata": {
            "tags": [
              "id28-19-0",
              "outputarea_id28"
            ]
          }
        },
        {
          "output_type": "stream",
          "text": [
            "19/19\n"
          ],
          "name": "stdout"
        },
        {
          "output_type": "display_data",
          "data": {
            "application/javascript": [
              "window[\"d59d0ea8-4dc8-11eb-8708-0242ac1c0002\"] = google.colab.output.setActiveOutputArea(window[\"d599d846-4dc8-11eb-8708-0242ac1c0002\"]);\n",
              "//# sourceURL=js_855222445e"
            ],
            "text/plain": [
              "<IPython.core.display.Javascript object>"
            ]
          },
          "metadata": {
            "tags": [
              "id28-19-0",
              "outputarea_id28"
            ]
          }
        },
        {
          "output_type": "display_data",
          "data": {
            "application/javascript": [
              "window[\"d59f8606-4dc8-11eb-8708-0242ac1c0002\"] = google.colab.output.getActiveOutputArea();\n",
              "//# sourceURL=js_30f49be66e"
            ],
            "text/plain": [
              "<IPython.core.display.Javascript object>"
            ]
          },
          "metadata": {
            "tags": [
              "id28-19-1",
              "outputarea_id28"
            ]
          }
        },
        {
          "output_type": "display_data",
          "data": {
            "application/javascript": [
              "window[\"d5a00bc6-4dc8-11eb-8708-0242ac1c0002\"] = document.querySelector(\"#id28-19-1\");\n",
              "//# sourceURL=js_94fda7933b"
            ],
            "text/plain": [
              "<IPython.core.display.Javascript object>"
            ]
          },
          "metadata": {
            "tags": [
              "id28-19-1",
              "outputarea_id28"
            ]
          }
        },
        {
          "output_type": "display_data",
          "data": {
            "application/javascript": [
              "window[\"d5a0ad1a-4dc8-11eb-8708-0242ac1c0002\"] = google.colab.output.setActiveOutputArea(window[\"d5a00bc6-4dc8-11eb-8708-0242ac1c0002\"]);\n",
              "//# sourceURL=js_9d33b1b403"
            ],
            "text/plain": [
              "<IPython.core.display.Javascript object>"
            ]
          },
          "metadata": {
            "tags": [
              "id28-19-1",
              "outputarea_id28"
            ]
          }
        },
        {
          "output_type": "display_data",
          "data": {
            "application/javascript": [
              "window[\"d5a24c2e-4dc8-11eb-8708-0242ac1c0002\"] = google.colab.output.setActiveOutputArea(window[\"d59f8606-4dc8-11eb-8708-0242ac1c0002\"]);\n",
              "//# sourceURL=js_b06f98d1a7"
            ],
            "text/plain": [
              "<IPython.core.display.Javascript object>"
            ]
          },
          "metadata": {
            "tags": [
              "id28-19-1",
              "outputarea_id28"
            ]
          }
        },
        {
          "output_type": "display_data",
          "data": {
            "application/javascript": [
              "window[\"d5a3ddfa-4dc8-11eb-8708-0242ac1c0002\"] = google.colab.output.getActiveOutputArea();\n",
              "//# sourceURL=js_2061c050bf"
            ],
            "text/plain": [
              "<IPython.core.display.Javascript object>"
            ]
          },
          "metadata": {
            "tags": [
              "id28-19-2",
              "outputarea_id28"
            ]
          }
        },
        {
          "output_type": "display_data",
          "data": {
            "application/javascript": [
              "window[\"d5a42152-4dc8-11eb-8708-0242ac1c0002\"] = document.querySelector(\"#id28-19-2\");\n",
              "//# sourceURL=js_43fd2acd7e"
            ],
            "text/plain": [
              "<IPython.core.display.Javascript object>"
            ]
          },
          "metadata": {
            "tags": [
              "id28-19-2",
              "outputarea_id28"
            ]
          }
        },
        {
          "output_type": "display_data",
          "data": {
            "application/javascript": [
              "window[\"d5a464aa-4dc8-11eb-8708-0242ac1c0002\"] = google.colab.output.setActiveOutputArea(window[\"d5a42152-4dc8-11eb-8708-0242ac1c0002\"]);\n",
              "//# sourceURL=js_f7de4e8956"
            ],
            "text/plain": [
              "<IPython.core.display.Javascript object>"
            ]
          },
          "metadata": {
            "tags": [
              "id28-19-2",
              "outputarea_id28"
            ]
          }
        },
        {
          "output_type": "stream",
          "text": [
            "Real or Fake? - Writing(https://lms.wiseman.com.hk/lms/user/secure/course/eb/select_theme/selectLesson.do?id=b7808aa6f87849a79856a81c7df925bf&from=lesson)\n"
          ],
          "name": "stdout"
        },
        {
          "output_type": "display_data",
          "data": {
            "application/javascript": [
              "window[\"d5a58ede-4dc8-11eb-8708-0242ac1c0002\"] = google.colab.output.setActiveOutputArea(window[\"d5a3ddfa-4dc8-11eb-8708-0242ac1c0002\"]);\n",
              "//# sourceURL=js_ee333d3b91"
            ],
            "text/plain": [
              "<IPython.core.display.Javascript object>"
            ]
          },
          "metadata": {
            "tags": [
              "id28-19-2",
              "outputarea_id28"
            ]
          }
        },
        {
          "output_type": "display_data",
          "data": {
            "application/javascript": [
              "window[\"d92de2d6-4dc8-11eb-8708-0242ac1c0002\"] = google.colab.output.getActiveOutputArea();\n",
              "//# sourceURL=js_06083926c6"
            ],
            "text/plain": [
              "<IPython.core.display.Javascript object>"
            ]
          },
          "metadata": {
            "tags": [
              "id28-19-1",
              "outputarea_id28"
            ]
          }
        },
        {
          "output_type": "display_data",
          "data": {
            "application/javascript": [
              "window[\"d92eaeaa-4dc8-11eb-8708-0242ac1c0002\"] = document.querySelector(\"#id28-19-1\");\n",
              "//# sourceURL=js_b7bc6a8606"
            ],
            "text/plain": [
              "<IPython.core.display.Javascript object>"
            ]
          },
          "metadata": {
            "tags": [
              "id28-19-1",
              "outputarea_id28"
            ]
          }
        },
        {
          "output_type": "display_data",
          "data": {
            "application/javascript": [
              "window[\"d92f66ce-4dc8-11eb-8708-0242ac1c0002\"] = google.colab.output.setActiveOutputArea(window[\"d92eaeaa-4dc8-11eb-8708-0242ac1c0002\"]);\n",
              "//# sourceURL=js_37166623a7"
            ],
            "text/plain": [
              "<IPython.core.display.Javascript object>"
            ]
          },
          "metadata": {
            "tags": [
              "id28-19-1",
              "outputarea_id28"
            ]
          }
        },
        {
          "output_type": "stream",
          "text": [
            "New\n"
          ],
          "name": "stdout"
        },
        {
          "output_type": "display_data",
          "data": {
            "application/javascript": [
              "window[\"d931fcc2-4dc8-11eb-8708-0242ac1c0002\"] = google.colab.output.setActiveOutputArea(window[\"d92de2d6-4dc8-11eb-8708-0242ac1c0002\"]);\n",
              "//# sourceURL=js_6f5b27bdc7"
            ],
            "text/plain": [
              "<IPython.core.display.Javascript object>"
            ]
          },
          "metadata": {
            "tags": [
              "id28-19-1",
              "outputarea_id28"
            ]
          }
        },
        {
          "output_type": "stream",
          "text": [
            "5A-03-CHAN ON KI [222=>0]\n",
            "Finished\n"
          ],
          "name": "stdout"
        }
      ]
    }
  ]
}