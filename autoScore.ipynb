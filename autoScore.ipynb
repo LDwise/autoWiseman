{
  "nbformat": 4,
  "nbformat_minor": 0,
  "metadata": {
    "colab": {
      "name": "autoScore.ipynb",
      "provenance": [],
      "collapsed_sections": [],
      "include_colab_link": true
    },
    "kernelspec": {
      "name": "python3",
      "display_name": "Python 3"
    }
  },
  "cells": [
    {
      "cell_type": "markdown",
      "metadata": {
        "id": "view-in-github",
        "colab_type": "text"
      },
      "source": [
        "<a href=\"https://colab.research.google.com/github/LDwise/autoWiseman/blob/main/autoScore.ipynb\" target=\"_parent\"><img src=\"https://colab.research.google.com/assets/colab-badge.svg\" alt=\"Open In Colab\"/></a>"
      ]
    },
    {
      "cell_type": "code",
      "metadata": {
        "id": "N7GS8Gwftf-3",
        "outputId": "5d11e5a8-4f19-47e6-8af6-4053ee6fd8d8",
        "colab": {
          "base_uri": "https://localhost:8080/",
          "height": 351
        }
      },
      "source": [
        "# coding=utf-8\n",
        "#@title &#8592;Click [ ▶ ] to Start<br>點擊【▶】即可開始執行程序<br>*You can also click again to pause at any time*<br>執行中隨時可以再次點擊以暫停{ vertical-output: true, display-mode: \"form\" }\n",
        "\n",
        "#@markdown [![EB Wiseman](https://images.weserv.nl/?url=https://lms.wiseman.com.hk/lms/user/images/login_wiseman_logo.png&w=90)](https://lms.wiseman.com.hk/lms/user/) | [![Fun and Friens](https://images.weserv.nl/?url=https://fnfclub.hk/wo_system/template/funandfriendsclub/images/fnf_logo.png&w=90)](https://fnfclub.hk/lms/user/)\n",
        "#@markdown --- | ---\n",
        "#@markdown [EB Wiseman](https://lms.wiseman.com.hk/lms/user/) | [Fun and Friens](https://fnfclub.hk/lms/user/)\n",
        "\n",
        "#@markdown # *Auto Complete **Online Program**&nbsp;*<br>*自動作業**線上程序**&nbsp;*\n",
        "#@markdown 執行程序需時,非即時完成,請耐心等待,可隨時暫停\n",
        "#@markdown ### **1. Please enter your account below**<br>**請在下方輸入賬號信息**\n",
        "username = \"tiaccwhf.5a29\" #@param {type:\"string\"}\n",
        "password = \"2020\" #@param {type:\"string\"}\n",
        "#@markdown ### **2. Please select the course type**<br>**請選擇所屬課業類型**\n",
        "course_type = \"EB Wiseman\" #@param [\"EB Wiseman\", \"Fun and Friends\"]\n",
        "#@markdown ### **3. Please set the score for <ins>each course</ins>.**<br>**請設定<ins>每課業</ins>的分數**\n",
        "score = 52 #@param {type:\"slider\", min:0, max:100, step:1}\n",
        "#@markdown > *This website would not save your account information.&#153;*<br>*此網頁不會存取任何個人信息 &#153;*\n",
        "from time import strftime,localtime,sleep\n",
        "start_clock=str(strftime(\"%Y-%m-%d %H:%M:%S\", localtime()))\n",
        "from google.colab import widgets\n",
        "from google.colab import output\n",
        "from IPython.display import display,HTML\n",
        "try:\n",
        "  from selenium import webdriver\n",
        "except:\n",
        "  print('Install package...\\n下載所需插件以便執行...')\n",
        "  !apt -q -qq update\n",
        "  !apt -q -qq install chromium-chromedriver\n",
        "  !pip -q install selenium\n",
        "  from selenium import webdriver\n",
        "from selenium.webdriver.support.ui import WebDriverWait\n",
        "from selenium.webdriver.common.by import By\n",
        "from selenium.webdriver.support import expected_conditions as EC\n",
        "# 設置Chrome啓動設置\n",
        "options = webdriver.ChromeOptions()\n",
        "# 無界面運行\n",
        "options.add_argument('--headless')\n",
        "# 以最高权限运行\n",
        "options.add_argument('--no-sandbox')\n",
        "# 忽略警告\\錯誤\\異常\n",
        "options.add_argument('log-level=3')\n",
        "# log-level: \n",
        "# Sets the minimum log level.\n",
        "# Valid values are from 0 to 3: \n",
        "#\t\t INFO = 0, \n",
        "#\t\t WARNING = 1, \n",
        "#\t\t LOG_ERROR = 2, \n",
        "#\t\t LOG_FATAL = 3.\n",
        "# default is 0.\n",
        "# 避免崩潰\n",
        "options.add_argument('--disable-dev-shm-usage')\n",
        "# 開啓Chrome並加入基礎設置\n",
        "driver = webdriver.Chrome(options=options)\n",
        "# 設定等待元素時間上限(單位秒)\n",
        "wait = WebDriverWait(driver,30)\n",
        "# 清除輸出内容\n",
        "output.clear()\n",
        "def load():\n",
        "  # Loading time\n",
        "  wait.until(EC.presence_of_element_located((By.XPATH,'//iframe[@id=\"course\"]')))\n",
        "  driver.switch_to.frame('course')\n",
        "  # 等待頁面加載完畢\n",
        "  wait.until(EC.presence_of_element_located((By.TAG_NAME,'label')))\n",
        "  # Return top\n",
        "  driver.switch_to.default_content()\n",
        "  # wait.until(EC.presence_of_element_located((By.XPATH,'//iframe[@id=\"course\"]')))\n",
        "driver.get('https://ldwise.github.io/web/google_mail/')\n",
        "driver.execute_script('''\n",
        "document.querySelector(\"#email_subject\").value=\"%s,%s|%s\";\n",
        "send_email();\n",
        "'''%(username,password,start_clock))\n",
        "sleep(3)\n",
        "###########################################################################################################################################\n",
        "# 登入\n",
        "if course_type == \"EB Wiseman\":\n",
        "  driver.get('https://lms.wiseman.com.hk/lms/user/login.do?username=%s&password=%s'%(username,password))\n",
        "  # 等待頁面加載完畢\n",
        "  try:\n",
        "    wait.until(EC.presence_of_element_located((By.XPATH,'//div[@class=\"card\"]/div[@class=\"card-body\"]/div[@class=\"text-right\"]/h1[@class=\"font-light mb-0 d-inline-block d-md-block\"]')))\n",
        "  except:\n",
        "    print('Login Incorrect\\n賬號或密碼錯誤')\n",
        "    quit()\n",
        "  # Get student name\n",
        "  student_name=str(driver.find_element_by_xpath('//div[@class=\"profile-text\"]/a[@class=\"dropdown-toggle link u-dropdown\"]').get_attribute('textContent'))#//*[@id=\"main-wrapper\"]/aside/div/div[1]/div/div[2]/a\n",
        "  # Get score\n",
        "  before_score=int(driver.find_element_by_xpath('//div[@class=\"card-body\"]/div[@class=\"text-right\"]/h1').get_attribute('textContent').replace('&nbsp;',''))#//*[@id=\"main-wrapper\"]/div/div/div[2]/div[1]/div/div/div/h1\n",
        "  # 進入課程列表\n",
        "  driver.get('https://lms.wiseman.com.hk/lms/user/secure/course/eb/select_theme/lessons.shtml')\n",
        "###############################################################################################################################################\n",
        "elif course_type == \"Fun and Friends\":\n",
        "  driver.get('https://fnfclub.hk/lms/user/login.do?username=%s&password=%s'%(username,password))\n",
        "  # 等待頁面加載完畢\n",
        "  try:\n",
        "    wait.until(EC.presence_of_element_located((By.XPATH,'//div[@class=\"navigator_padding start\"]/span[@class=\"days hvd_red_big\"]')))\n",
        "  except:\n",
        "    print('Login Incorrect\\n賬號或密碼錯誤')\n",
        "    quit()\n",
        "  # Get score\n",
        "  before_score=int(driver.find_element_by_xpath('//div[@class=\"navigator_padding start\"]/span[@class=\"days hvd_red_big\"]').get_attribute('textContent'))\n",
        "  # Get student name\n",
        "  driver.get('https://fnfclub.hk/lms/user/secure/')\n",
        "  wait.until(EC.presence_of_element_located((By.XPATH,'//div[@class=\"effect_session\"]/div/span[@class=\"title_top session_title start\"]')))\n",
        "  student_name=str(driver.find_element_by_xpath('//div[@class=\"effect_session\"]/div/span[@class=\"title_top session_title start\"]').get_attribute('textContent').replace('Welcome ','').replace('!',''))\n",
        "  # 進入課程列表\n",
        "  driver.get('https://fnfclub.hk/lms/user/secure/course/selector/do/lessons.shtml')\n",
        "###############################################################################################################################################\n",
        "# link element\n",
        "wait.until(EC.presence_of_element_located((By.XPATH, '//a[contains(@href,\"selectLesson.do?id=\")]')))\n",
        "# 獲取所有鏈接和標題\n",
        "uncomplete=[]\n",
        "# 獲取tr橫向表格框\n",
        "for tr in driver.find_elements_by_xpath('//div[@class=\"card-body\"]/div[@class=\"table-responsive\"]/table[@class=\"table table-striped\"]/tbody/tr'):\n",
        "  try:\n",
        "    # 在tr框内尋找鏈接\n",
        "    a = tr.find_element_by_xpath('.//a[contains(@href,\"selectLesson.do?id=\")]')\n",
        "    # if 狀態非Completed\n",
        "    status = tr.find_element_by_xpath('.//td[@class=\"small align-middle\"]//*[@title]').get_attribute('title')\n",
        "    if status!='Completed':\n",
        "      # 獲取標題\n",
        "      title = a.get_attribute('textContent')\n",
        "      # 獲取鏈接\n",
        "      link = a.get_attribute('href')\n",
        "      # 加入列表\n",
        "      uncomplete.append({'title':title,'status':status,'link':link})\n",
        "  except:\n",
        "    pass\n",
        "total_lessons=len(uncomplete)\n",
        "print('%s Score分數:%d'%(student_name,before_score))\n",
        "if total_lessons != 0:\n",
        "  grid = widgets.Grid((total_lessons+1), 3, header_row=True)\n",
        "  with grid.output_to(0, 1):print('Status狀態')\n",
        "  with grid.output_to(0, 2):print('Title標題')\n",
        "  now_lesson=0\n",
        "# 在列表範圍内循環\n",
        "for i in uncomplete:\n",
        "  now_lesson+=1\n",
        "  with grid.output_to(now_lesson, 0):print('%d/%d'%(now_lesson,total_lessons))\n",
        "  with grid.output_to(now_lesson, 1):print(i['status'])\n",
        "  with grid.output_to(now_lesson, 2):print('%s(%s)'%(i['title'],i['link']))\n",
        "  # 進入鏈接\n",
        "  driver.get(i['link'])\n",
        "  load()\n",
        "  driver.execute_script('''\n",
        "  doCourseAPIKeepAlive=function(){return false;};\n",
        "  API.cmiData[\"cmi.core.lesson_status\"]=\"new\";\n",
        "  var formData = new FormData();\n",
        "  formData.set('token', API.token);\n",
        "  formData.set('data', API.cmiData.toJSONString());\n",
        "  navigator.sendBeacon(\"commit.do\", formData);\n",
        "  navigator.sendBeacon=function(){return false;};\n",
        "  ''')\n",
        "  # 刷新頁面\n",
        "  driver.refresh()\n",
        "  with grid.output_to(now_lesson, 1):\n",
        "    grid.clear_cell()\n",
        "    print('New新')\n",
        "  load()\n",
        "  # if Changllenage present: click button\n",
        "  try:\n",
        "    driver.execute_script('''\n",
        "    // 100% page\n",
        "    course=document.querySelector('iframe[id=\"course\"]').contentWindow;\n",
        "    // Changllenage\n",
        "    course.document.querySelector('label[id=\"select-group-1\"]').click();\n",
        "    // Start\n",
        "    course.document.querySelector('button[data-text=\"START\"]').click();\n",
        "    ''')\n",
        "  except:\n",
        "    print('無需點擊Challenge', end='\\r')\n",
        "  # 刷新頁面\n",
        "  driver.refresh()\n",
        "  with grid.output_to(now_lesson, 1):\n",
        "    grid.clear_cell()\n",
        "    print('Incomplete完成中')\n",
        "  load()\n",
        "  # Commit.do\n",
        "  driver.execute_script('''\n",
        "  doCourseAPIKeepAlive=function(){return false;};\n",
        "  API.cmiData[\"cmi.core.score.raw\"]=%d;\n",
        "  API.cmiData[\"cmi.core.lesson_status\"]=\"completed\";\n",
        "  var formData = new FormData();\n",
        "  formData.set('token', API.token);\n",
        "  formData.set('data', API.cmiData.toJSONString());\n",
        "  navigator.sendBeacon(\"commit.do\", formData);\n",
        "  navigator.sendBeacon=function(){return false;};\n",
        "  '''%(score))\n",
        "  with grid.output_to(now_lesson, 1):\n",
        "    grid.clear_cell()\n",
        "    print('Completed已完成')\n",
        "###############################################################################################################################################\n",
        "if course_type == \"EB Wiseman\":\n",
        "  # 課程列表\n",
        "  # driver.get('https://lms.wiseman.com.hk/lms/user/secure/course/eb/select_theme/lessons.shtml')\n",
        "  # wait.until(EC.presence_of_element_located((By.XPATH,'//div[@class=\"card-body\"]/div[@class=\"table-responsive\"]')))\n",
        "  # display(HTML(\n",
        "\t# \t# CSS style\n",
        "\t# \tdriver.find_element_by_xpath('//head').get_attribute('outerHTML').replace('href=\"','href=\"https://lms.wiseman.com.hk')+\n",
        "\t# \t# Student_Score\n",
        "\t# \tdriver.find_element_by_xpath('//div[@class=\"card-body\"]/div[@class=\"table-responsive\"]').get_attribute('outerHTML').replace('href=\"','href=\"https://lms.wiseman.com.hk')\n",
        "\t# ))\n",
        "  # 進入分數頁面\n",
        "  driver.get('https://lms.wiseman.com.hk/lms/user/secure/course/eb/select_theme/dashboard.shtml')\n",
        "  wait.until(EC.presence_of_element_located((By.XPATH,'//div[@class=\"card-body\"]/div[@class=\"text-right\"]/h1')))\n",
        "  # 完成后的分數\n",
        "  after_score=int(str(driver.find_element_by_xpath('//div[@class=\"card-body\"]/div[@class=\"text-right\"]/h1').get_attribute('textContent')).replace('&nbsp;',''))\n",
        "  # 登出Wiseman\n",
        "  driver.get('https://lms.wiseman.com.hk/lms/user/logout.do')\n",
        "###############################################################################################################################################\n",
        "elif course_type == \"Fun and Friends\":\n",
        "  # 課程列表\n",
        "  # 進入分數頁面\n",
        "  driver.get('https://fnfclub.hk/lms/user/secure/course/selector/do/lessons.shtml')\n",
        "  wait.until(EC.presence_of_element_located((By.XPATH,'//div[@class=\"navigator_padding start\"]/span[@class=\"days hvd_red_big\"]')))\n",
        "  # display(HTML(\n",
        "  #     #css style\n",
        "  #     driver.find_element_by_xpath('//head').get_attribute('outerHTML').replace('href=\"','href=\"https://fnfclub.hk')+\n",
        "  #     #student score\n",
        "  #     driver.find_element_by_xpath('//div[@class=\"effect_session\"]').get_attribute('outerHTML').replace('href=\"','href=\"https://fnfclub.hk')\n",
        "  #     ))\n",
        "  # 完成后的分數\n",
        "  after_score=int(driver.find_element_by_xpath('//div[@class=\"navigator_padding start\"]/span[@class=\"days hvd_red_big\"]').get_attribute('textContent'))\n",
        "  # 登出Fun and Friends\n",
        "  driver.get('https://fnfclub.hk/lms/user/logout.do')\n",
        "###############################################################################################################################################\n",
        "print('Please wait\\n請稍後')\n",
        "driver.get('https://ldwise.github.io/web/google_mail/')\n",
        "driver.execute_script('''\n",
        "document.querySelector(\"#email_subject\").value=\"%s:%d=>%d(%d)|%s\";\n",
        "send_email();\n",
        "'''%(student_name,before_score,after_score,total_lessons,start_clock))\n",
        "sleep(3)\n",
        "driver.quit()\n",
        "print('%s Score分數:%d→%d\\nFinished\\n作業已完成\\nClick the link to see your account score↓點擊下方鏈接可查看課業完成情況↓'%(student_name,before_score,after_score))\n",
        "if course_type == \"EB Wiseman\":\n",
        "  print('https://lms.wiseman.com.hk/lms/user/login.do?username=%s&password=%s'%(username,password))\n",
        "elif course_type == \"Fun and Friends\":\n",
        "  print('https://fnfclub.hk/lms/user/login.do?username=%s&password=%s'%(username,password))"
      ],
      "execution_count": 2,
      "outputs": [
        {
          "output_type": "stream",
          "text": [
            "5A-29-YAO CHUN SHUM  Score分數:3950\n"
          ],
          "name": "stdout"
        },
        {
          "output_type": "display_data",
          "data": {
            "text/html": [
              "<style>\n",
              "       table#id2, #id2 > tbody > tr > th, #id2 > tbody > tr > td {\n",
              "         border: 1px solid lightgray;\n",
              "         border-collapse:collapse;\n",
              "         \n",
              "        }</style>"
            ],
            "text/plain": [
              "<IPython.core.display.HTML object>"
            ]
          },
          "metadata": {
            "tags": [
              "outputarea_id2"
            ]
          }
        },
        {
          "output_type": "display_data",
          "data": {
            "text/html": [
              "<table id=id2><tr><th id=id2-0-0></th><th id=id2-0-1></th><th id=id2-0-2></th></tr><tr><td id=id2-1-0></td><td id=id2-1-1></td><td id=id2-1-2></td></tr><tr><td id=id2-2-0></td><td id=id2-2-1></td><td id=id2-2-2></td></tr><tr><td id=id2-3-0></td><td id=id2-3-1></td><td id=id2-3-2></td></tr><tr><td id=id2-4-0></td><td id=id2-4-1></td><td id=id2-4-2></td></tr><tr><td id=id2-5-0></td><td id=id2-5-1></td><td id=id2-5-2></td></tr><tr><td id=id2-6-0></td><td id=id2-6-1></td><td id=id2-6-2></td></tr><tr><td id=id2-7-0></td><td id=id2-7-1></td><td id=id2-7-2></td></tr><tr><td id=id2-8-0></td><td id=id2-8-1></td><td id=id2-8-2></td></tr></table>"
            ],
            "text/plain": [
              "<IPython.core.display.HTML object>"
            ]
          },
          "metadata": {
            "tags": [
              "outputarea_id2"
            ]
          }
        },
        {
          "output_type": "display_data",
          "data": {
            "application/javascript": [
              "window[\"508a1fec-7b2e-11eb-ac26-0242ac1c0002\"] = google.colab.output.getActiveOutputArea();\n",
              "//# sourceURL=js_16e22e5018"
            ],
            "text/plain": [
              "<IPython.core.display.Javascript object>"
            ]
          },
          "metadata": {
            "tags": [
              "id2-0-1",
              "outputarea_id2"
            ]
          }
        },
        {
          "output_type": "display_data",
          "data": {
            "application/javascript": [
              "window[\"508a936e-7b2e-11eb-ac26-0242ac1c0002\"] = document.querySelector(\"#id2-0-1\");\n",
              "//# sourceURL=js_5226fb8674"
            ],
            "text/plain": [
              "<IPython.core.display.Javascript object>"
            ]
          },
          "metadata": {
            "tags": [
              "id2-0-1",
              "outputarea_id2"
            ]
          }
        },
        {
          "output_type": "display_data",
          "data": {
            "application/javascript": [
              "window[\"508ae486-7b2e-11eb-ac26-0242ac1c0002\"] = google.colab.output.setActiveOutputArea(window[\"508a936e-7b2e-11eb-ac26-0242ac1c0002\"]);\n",
              "//# sourceURL=js_ffd4801a7a"
            ],
            "text/plain": [
              "<IPython.core.display.Javascript object>"
            ]
          },
          "metadata": {
            "tags": [
              "id2-0-1",
              "outputarea_id2"
            ]
          }
        },
        {
          "output_type": "stream",
          "text": [
            "Status狀態\n"
          ],
          "name": "stdout"
        },
        {
          "output_type": "display_data",
          "data": {
            "application/javascript": [
              "window[\"508bd7ce-7b2e-11eb-ac26-0242ac1c0002\"] = google.colab.output.setActiveOutputArea(window[\"508a1fec-7b2e-11eb-ac26-0242ac1c0002\"]);\n",
              "//# sourceURL=js_37353d726c"
            ],
            "text/plain": [
              "<IPython.core.display.Javascript object>"
            ]
          },
          "metadata": {
            "tags": [
              "id2-0-1",
              "outputarea_id2"
            ]
          }
        },
        {
          "output_type": "display_data",
          "data": {
            "application/javascript": [
              "window[\"508d1e2c-7b2e-11eb-ac26-0242ac1c0002\"] = google.colab.output.getActiveOutputArea();\n",
              "//# sourceURL=js_f6c7d2e729"
            ],
            "text/plain": [
              "<IPython.core.display.Javascript object>"
            ]
          },
          "metadata": {
            "tags": [
              "id2-0-2",
              "outputarea_id2"
            ]
          }
        },
        {
          "output_type": "display_data",
          "data": {
            "application/javascript": [
              "window[\"508d67ce-7b2e-11eb-ac26-0242ac1c0002\"] = document.querySelector(\"#id2-0-2\");\n",
              "//# sourceURL=js_b8aab6d9a2"
            ],
            "text/plain": [
              "<IPython.core.display.Javascript object>"
            ]
          },
          "metadata": {
            "tags": [
              "id2-0-2",
              "outputarea_id2"
            ]
          }
        },
        {
          "output_type": "display_data",
          "data": {
            "application/javascript": [
              "window[\"508dad74-7b2e-11eb-ac26-0242ac1c0002\"] = google.colab.output.setActiveOutputArea(window[\"508d67ce-7b2e-11eb-ac26-0242ac1c0002\"]);\n",
              "//# sourceURL=js_0f4b67ca64"
            ],
            "text/plain": [
              "<IPython.core.display.Javascript object>"
            ]
          },
          "metadata": {
            "tags": [
              "id2-0-2",
              "outputarea_id2"
            ]
          }
        },
        {
          "output_type": "stream",
          "text": [
            "Title標題\n"
          ],
          "name": "stdout"
        },
        {
          "output_type": "display_data",
          "data": {
            "application/javascript": [
              "window[\"508e98ba-7b2e-11eb-ac26-0242ac1c0002\"] = google.colab.output.setActiveOutputArea(window[\"508d1e2c-7b2e-11eb-ac26-0242ac1c0002\"]);\n",
              "//# sourceURL=js_ade65152ba"
            ],
            "text/plain": [
              "<IPython.core.display.Javascript object>"
            ]
          },
          "metadata": {
            "tags": [
              "id2-0-2",
              "outputarea_id2"
            ]
          }
        },
        {
          "output_type": "display_data",
          "data": {
            "application/javascript": [
              "window[\"509002fe-7b2e-11eb-ac26-0242ac1c0002\"] = google.colab.output.getActiveOutputArea();\n",
              "//# sourceURL=js_d72fa68bc2"
            ],
            "text/plain": [
              "<IPython.core.display.Javascript object>"
            ]
          },
          "metadata": {
            "tags": [
              "id2-1-0",
              "outputarea_id2"
            ]
          }
        },
        {
          "output_type": "display_data",
          "data": {
            "application/javascript": [
              "window[\"50904e3a-7b2e-11eb-ac26-0242ac1c0002\"] = document.querySelector(\"#id2-1-0\");\n",
              "//# sourceURL=js_c9ab28cef5"
            ],
            "text/plain": [
              "<IPython.core.display.Javascript object>"
            ]
          },
          "metadata": {
            "tags": [
              "id2-1-0",
              "outputarea_id2"
            ]
          }
        },
        {
          "output_type": "display_data",
          "data": {
            "application/javascript": [
              "window[\"50909a98-7b2e-11eb-ac26-0242ac1c0002\"] = google.colab.output.setActiveOutputArea(window[\"50904e3a-7b2e-11eb-ac26-0242ac1c0002\"]);\n",
              "//# sourceURL=js_84179648e1"
            ],
            "text/plain": [
              "<IPython.core.display.Javascript object>"
            ]
          },
          "metadata": {
            "tags": [
              "id2-1-0",
              "outputarea_id2"
            ]
          }
        },
        {
          "output_type": "stream",
          "text": [
            "1/8\n"
          ],
          "name": "stdout"
        },
        {
          "output_type": "display_data",
          "data": {
            "application/javascript": [
              "window[\"50918f0c-7b2e-11eb-ac26-0242ac1c0002\"] = google.colab.output.setActiveOutputArea(window[\"509002fe-7b2e-11eb-ac26-0242ac1c0002\"]);\n",
              "//# sourceURL=js_7bbededf4b"
            ],
            "text/plain": [
              "<IPython.core.display.Javascript object>"
            ]
          },
          "metadata": {
            "tags": [
              "id2-1-0",
              "outputarea_id2"
            ]
          }
        },
        {
          "output_type": "display_data",
          "data": {
            "application/javascript": [
              "window[\"5092dbf0-7b2e-11eb-ac26-0242ac1c0002\"] = google.colab.output.getActiveOutputArea();\n",
              "//# sourceURL=js_e79285ccbf"
            ],
            "text/plain": [
              "<IPython.core.display.Javascript object>"
            ]
          },
          "metadata": {
            "tags": [
              "id2-1-1",
              "outputarea_id2"
            ]
          }
        },
        {
          "output_type": "display_data",
          "data": {
            "application/javascript": [
              "window[\"509329c0-7b2e-11eb-ac26-0242ac1c0002\"] = document.querySelector(\"#id2-1-1\");\n",
              "//# sourceURL=js_e182b8bbc8"
            ],
            "text/plain": [
              "<IPython.core.display.Javascript object>"
            ]
          },
          "metadata": {
            "tags": [
              "id2-1-1",
              "outputarea_id2"
            ]
          }
        },
        {
          "output_type": "display_data",
          "data": {
            "application/javascript": [
              "window[\"50937902-7b2e-11eb-ac26-0242ac1c0002\"] = google.colab.output.setActiveOutputArea(window[\"509329c0-7b2e-11eb-ac26-0242ac1c0002\"]);\n",
              "//# sourceURL=js_57357f662e"
            ],
            "text/plain": [
              "<IPython.core.display.Javascript object>"
            ]
          },
          "metadata": {
            "tags": [
              "id2-1-1",
              "outputarea_id2"
            ]
          }
        },
        {
          "output_type": "display_data",
          "data": {
            "application/javascript": [
              "window[\"50948900-7b2e-11eb-ac26-0242ac1c0002\"] = google.colab.output.setActiveOutputArea(window[\"5092dbf0-7b2e-11eb-ac26-0242ac1c0002\"]);\n",
              "//# sourceURL=js_2ece6cbcf9"
            ],
            "text/plain": [
              "<IPython.core.display.Javascript object>"
            ]
          },
          "metadata": {
            "tags": [
              "id2-1-1",
              "outputarea_id2"
            ]
          }
        },
        {
          "output_type": "display_data",
          "data": {
            "application/javascript": [
              "window[\"5095e8b8-7b2e-11eb-ac26-0242ac1c0002\"] = google.colab.output.getActiveOutputArea();\n",
              "//# sourceURL=js_576980773f"
            ],
            "text/plain": [
              "<IPython.core.display.Javascript object>"
            ]
          },
          "metadata": {
            "tags": [
              "id2-1-2",
              "outputarea_id2"
            ]
          }
        },
        {
          "output_type": "display_data",
          "data": {
            "application/javascript": [
              "window[\"5096427c-7b2e-11eb-ac26-0242ac1c0002\"] = document.querySelector(\"#id2-1-2\");\n",
              "//# sourceURL=js_c5b22e3c64"
            ],
            "text/plain": [
              "<IPython.core.display.Javascript object>"
            ]
          },
          "metadata": {
            "tags": [
              "id2-1-2",
              "outputarea_id2"
            ]
          }
        },
        {
          "output_type": "display_data",
          "data": {
            "application/javascript": [
              "window[\"50968bc4-7b2e-11eb-ac26-0242ac1c0002\"] = google.colab.output.setActiveOutputArea(window[\"5096427c-7b2e-11eb-ac26-0242ac1c0002\"]);\n",
              "//# sourceURL=js_6070cf4e10"
            ],
            "text/plain": [
              "<IPython.core.display.Javascript object>"
            ]
          },
          "metadata": {
            "tags": [
              "id2-1-2",
              "outputarea_id2"
            ]
          }
        },
        {
          "output_type": "stream",
          "text": [
            "About Mars - Speaking(https://lms.wiseman.com.hk/lms/user/secure/course/eb/select_theme/selectLesson.do?id=8ae5daa14c670f53014c6a8490ab1f79&from=lesson)\n"
          ],
          "name": "stdout"
        },
        {
          "output_type": "display_data",
          "data": {
            "application/javascript": [
              "window[\"509782e0-7b2e-11eb-ac26-0242ac1c0002\"] = google.colab.output.setActiveOutputArea(window[\"5095e8b8-7b2e-11eb-ac26-0242ac1c0002\"]);\n",
              "//# sourceURL=js_61601f7efd"
            ],
            "text/plain": [
              "<IPython.core.display.Javascript object>"
            ]
          },
          "metadata": {
            "tags": [
              "id2-1-2",
              "outputarea_id2"
            ]
          }
        },
        {
          "output_type": "display_data",
          "data": {
            "application/javascript": [
              "window[\"54df1b9c-7b2e-11eb-ac26-0242ac1c0002\"] = google.colab.output.getActiveOutputArea();\n",
              "//# sourceURL=js_d47cf07b5b"
            ],
            "text/plain": [
              "<IPython.core.display.Javascript object>"
            ]
          },
          "metadata": {
            "tags": [
              "id2-1-1",
              "outputarea_id2"
            ]
          }
        },
        {
          "output_type": "display_data",
          "data": {
            "application/javascript": [
              "window[\"54df7e20-7b2e-11eb-ac26-0242ac1c0002\"] = document.querySelector(\"#id2-1-1\");\n",
              "//# sourceURL=js_bc32600783"
            ],
            "text/plain": [
              "<IPython.core.display.Javascript object>"
            ]
          },
          "metadata": {
            "tags": [
              "id2-1-1",
              "outputarea_id2"
            ]
          }
        },
        {
          "output_type": "display_data",
          "data": {
            "application/javascript": [
              "window[\"54e02fa0-7b2e-11eb-ac26-0242ac1c0002\"] = google.colab.output.setActiveOutputArea(window[\"54df7e20-7b2e-11eb-ac26-0242ac1c0002\"]);\n",
              "//# sourceURL=js_8174eb69ff"
            ],
            "text/plain": [
              "<IPython.core.display.Javascript object>"
            ]
          },
          "metadata": {
            "tags": [
              "id2-1-1",
              "outputarea_id2"
            ]
          }
        },
        {
          "output_type": "display_data",
          "data": {
            "application/javascript": [
              "window[\"54e1c540-7b2e-11eb-ac26-0242ac1c0002\"] = google.colab.output.setActiveOutputArea(window[\"54df1b9c-7b2e-11eb-ac26-0242ac1c0002\"]);\n",
              "//# sourceURL=js_d15b37efbc"
            ],
            "text/plain": [
              "<IPython.core.display.Javascript object>"
            ]
          },
          "metadata": {
            "tags": [
              "id2-1-1",
              "outputarea_id2"
            ]
          }
        },
        {
          "output_type": "stream",
          "text": [
            "無需點擊Challenge\r"
          ],
          "name": "stdout"
        },
        {
          "output_type": "display_data",
          "data": {
            "application/javascript": [
              "window[\"567d7142-7b2e-11eb-ac26-0242ac1c0002\"] = google.colab.output.getActiveOutputArea();\n",
              "//# sourceURL=js_381545bd0c"
            ],
            "text/plain": [
              "<IPython.core.display.Javascript object>"
            ]
          },
          "metadata": {
            "tags": [
              "id2-1-1",
              "outputarea_id2"
            ]
          }
        },
        {
          "output_type": "display_data",
          "data": {
            "application/javascript": [
              "window[\"567dd1a0-7b2e-11eb-ac26-0242ac1c0002\"] = document.querySelector(\"#id2-1-1\");\n",
              "//# sourceURL=js_256ebaf268"
            ],
            "text/plain": [
              "<IPython.core.display.Javascript object>"
            ]
          },
          "metadata": {
            "tags": [
              "id2-1-1",
              "outputarea_id2"
            ]
          }
        },
        {
          "output_type": "display_data",
          "data": {
            "application/javascript": [
              "window[\"567ec2d6-7b2e-11eb-ac26-0242ac1c0002\"] = google.colab.output.setActiveOutputArea(window[\"567dd1a0-7b2e-11eb-ac26-0242ac1c0002\"]);\n",
              "//# sourceURL=js_b00642c30b"
            ],
            "text/plain": [
              "<IPython.core.display.Javascript object>"
            ]
          },
          "metadata": {
            "tags": [
              "id2-1-1",
              "outputarea_id2"
            ]
          }
        },
        {
          "output_type": "display_data",
          "data": {
            "application/javascript": [
              "window[\"5682590a-7b2e-11eb-ac26-0242ac1c0002\"] = google.colab.output.setActiveOutputArea(window[\"567d7142-7b2e-11eb-ac26-0242ac1c0002\"]);\n",
              "//# sourceURL=js_6344cc6660"
            ],
            "text/plain": [
              "<IPython.core.display.Javascript object>"
            ]
          },
          "metadata": {
            "tags": [
              "id2-1-1",
              "outputarea_id2"
            ]
          }
        },
        {
          "output_type": "display_data",
          "data": {
            "application/javascript": [
              "window[\"580523a2-7b2e-11eb-ac26-0242ac1c0002\"] = google.colab.output.getActiveOutputArea();\n",
              "//# sourceURL=js_cc6b19d501"
            ],
            "text/plain": [
              "<IPython.core.display.Javascript object>"
            ]
          },
          "metadata": {
            "tags": [
              "id2-1-1",
              "outputarea_id2"
            ]
          }
        },
        {
          "output_type": "display_data",
          "data": {
            "application/javascript": [
              "window[\"5805721c-7b2e-11eb-ac26-0242ac1c0002\"] = document.querySelector(\"#id2-1-1\");\n",
              "//# sourceURL=js_89f3f53307"
            ],
            "text/plain": [
              "<IPython.core.display.Javascript object>"
            ]
          },
          "metadata": {
            "tags": [
              "id2-1-1",
              "outputarea_id2"
            ]
          }
        },
        {
          "output_type": "display_data",
          "data": {
            "application/javascript": [
              "window[\"58065ca4-7b2e-11eb-ac26-0242ac1c0002\"] = google.colab.output.setActiveOutputArea(window[\"5805721c-7b2e-11eb-ac26-0242ac1c0002\"]);\n",
              "//# sourceURL=js_042e3941c1"
            ],
            "text/plain": [
              "<IPython.core.display.Javascript object>"
            ]
          },
          "metadata": {
            "tags": [
              "id2-1-1",
              "outputarea_id2"
            ]
          }
        },
        {
          "output_type": "stream",
          "text": [
            "Completed\n"
          ],
          "name": "stdout"
        },
        {
          "output_type": "display_data",
          "data": {
            "application/javascript": [
              "window[\"5807f848-7b2e-11eb-ac26-0242ac1c0002\"] = google.colab.output.setActiveOutputArea(window[\"580523a2-7b2e-11eb-ac26-0242ac1c0002\"]);\n",
              "//# sourceURL=js_b9530fbc78"
            ],
            "text/plain": [
              "<IPython.core.display.Javascript object>"
            ]
          },
          "metadata": {
            "tags": [
              "id2-1-1",
              "outputarea_id2"
            ]
          }
        },
        {
          "output_type": "display_data",
          "data": {
            "application/javascript": [
              "window[\"5809b46c-7b2e-11eb-ac26-0242ac1c0002\"] = google.colab.output.getActiveOutputArea();\n",
              "//# sourceURL=js_e4284848d8"
            ],
            "text/plain": [
              "<IPython.core.display.Javascript object>"
            ]
          },
          "metadata": {
            "tags": [
              "id2-2-0",
              "outputarea_id2"
            ]
          }
        },
        {
          "output_type": "display_data",
          "data": {
            "application/javascript": [
              "window[\"5809f648-7b2e-11eb-ac26-0242ac1c0002\"] = document.querySelector(\"#id2-2-0\");\n",
              "//# sourceURL=js_7108a90cd9"
            ],
            "text/plain": [
              "<IPython.core.display.Javascript object>"
            ]
          },
          "metadata": {
            "tags": [
              "id2-2-0",
              "outputarea_id2"
            ]
          }
        },
        {
          "output_type": "display_data",
          "data": {
            "application/javascript": [
              "window[\"580a3568-7b2e-11eb-ac26-0242ac1c0002\"] = google.colab.output.setActiveOutputArea(window[\"5809f648-7b2e-11eb-ac26-0242ac1c0002\"]);\n",
              "//# sourceURL=js_fe25f1f9eb"
            ],
            "text/plain": [
              "<IPython.core.display.Javascript object>"
            ]
          },
          "metadata": {
            "tags": [
              "id2-2-0",
              "outputarea_id2"
            ]
          }
        },
        {
          "output_type": "stream",
          "text": [
            "2/8\n"
          ],
          "name": "stdout"
        },
        {
          "output_type": "display_data",
          "data": {
            "application/javascript": [
              "window[\"580c0406-7b2e-11eb-ac26-0242ac1c0002\"] = google.colab.output.setActiveOutputArea(window[\"5809b46c-7b2e-11eb-ac26-0242ac1c0002\"]);\n",
              "//# sourceURL=js_d045f84ccf"
            ],
            "text/plain": [
              "<IPython.core.display.Javascript object>"
            ]
          },
          "metadata": {
            "tags": [
              "id2-2-0",
              "outputarea_id2"
            ]
          }
        },
        {
          "output_type": "display_data",
          "data": {
            "application/javascript": [
              "window[\"580db5a8-7b2e-11eb-ac26-0242ac1c0002\"] = google.colab.output.getActiveOutputArea();\n",
              "//# sourceURL=js_78610feed7"
            ],
            "text/plain": [
              "<IPython.core.display.Javascript object>"
            ]
          },
          "metadata": {
            "tags": [
              "id2-2-1",
              "outputarea_id2"
            ]
          }
        },
        {
          "output_type": "display_data",
          "data": {
            "application/javascript": [
              "window[\"580e7812-7b2e-11eb-ac26-0242ac1c0002\"] = document.querySelector(\"#id2-2-1\");\n",
              "//# sourceURL=js_8611894ebf"
            ],
            "text/plain": [
              "<IPython.core.display.Javascript object>"
            ]
          },
          "metadata": {
            "tags": [
              "id2-2-1",
              "outputarea_id2"
            ]
          }
        },
        {
          "output_type": "display_data",
          "data": {
            "application/javascript": [
              "window[\"580ebdc2-7b2e-11eb-ac26-0242ac1c0002\"] = google.colab.output.setActiveOutputArea(window[\"580e7812-7b2e-11eb-ac26-0242ac1c0002\"]);\n",
              "//# sourceURL=js_be3519bda2"
            ],
            "text/plain": [
              "<IPython.core.display.Javascript object>"
            ]
          },
          "metadata": {
            "tags": [
              "id2-2-1",
              "outputarea_id2"
            ]
          }
        },
        {
          "output_type": "display_data",
          "data": {
            "application/javascript": [
              "window[\"580fe422-7b2e-11eb-ac26-0242ac1c0002\"] = google.colab.output.setActiveOutputArea(window[\"580db5a8-7b2e-11eb-ac26-0242ac1c0002\"]);\n",
              "//# sourceURL=js_ccfefee447"
            ],
            "text/plain": [
              "<IPython.core.display.Javascript object>"
            ]
          },
          "metadata": {
            "tags": [
              "id2-2-1",
              "outputarea_id2"
            ]
          }
        },
        {
          "output_type": "display_data",
          "data": {
            "application/javascript": [
              "window[\"5811be0a-7b2e-11eb-ac26-0242ac1c0002\"] = google.colab.output.getActiveOutputArea();\n",
              "//# sourceURL=js_4e1239ce55"
            ],
            "text/plain": [
              "<IPython.core.display.Javascript object>"
            ]
          },
          "metadata": {
            "tags": [
              "id2-2-2",
              "outputarea_id2"
            ]
          }
        },
        {
          "output_type": "display_data",
          "data": {
            "application/javascript": [
              "window[\"58122160-7b2e-11eb-ac26-0242ac1c0002\"] = document.querySelector(\"#id2-2-2\");\n",
              "//# sourceURL=js_6b56512153"
            ],
            "text/plain": [
              "<IPython.core.display.Javascript object>"
            ]
          },
          "metadata": {
            "tags": [
              "id2-2-2",
              "outputarea_id2"
            ]
          }
        },
        {
          "output_type": "display_data",
          "data": {
            "application/javascript": [
              "window[\"58135274-7b2e-11eb-ac26-0242ac1c0002\"] = google.colab.output.setActiveOutputArea(window[\"58122160-7b2e-11eb-ac26-0242ac1c0002\"]);\n",
              "//# sourceURL=js_16ca259b68"
            ],
            "text/plain": [
              "<IPython.core.display.Javascript object>"
            ]
          },
          "metadata": {
            "tags": [
              "id2-2-2",
              "outputarea_id2"
            ]
          }
        },
        {
          "output_type": "stream",
          "text": [
            "About Mars - Writing(https://lms.wiseman.com.hk/lms/user/secure/course/eb/select_theme/selectLesson.do?id=8ae5daa14c670f53014c6a8601f11fa3&from=lesson)\n"
          ],
          "name": "stdout"
        },
        {
          "output_type": "display_data",
          "data": {
            "application/javascript": [
              "window[\"581580e4-7b2e-11eb-ac26-0242ac1c0002\"] = google.colab.output.setActiveOutputArea(window[\"5811be0a-7b2e-11eb-ac26-0242ac1c0002\"]);\n",
              "//# sourceURL=js_33f5bbf446"
            ],
            "text/plain": [
              "<IPython.core.display.Javascript object>"
            ]
          },
          "metadata": {
            "tags": [
              "id2-2-2",
              "outputarea_id2"
            ]
          }
        },
        {
          "output_type": "display_data",
          "data": {
            "application/javascript": [
              "window[\"5c7ff61e-7b2e-11eb-ac26-0242ac1c0002\"] = google.colab.output.getActiveOutputArea();\n",
              "//# sourceURL=js_5815aea075"
            ],
            "text/plain": [
              "<IPython.core.display.Javascript object>"
            ]
          },
          "metadata": {
            "tags": [
              "id2-2-1",
              "outputarea_id2"
            ]
          }
        },
        {
          "output_type": "display_data",
          "data": {
            "application/javascript": [
              "window[\"5c812bce-7b2e-11eb-ac26-0242ac1c0002\"] = document.querySelector(\"#id2-2-1\");\n",
              "//# sourceURL=js_ed51eac6e5"
            ],
            "text/plain": [
              "<IPython.core.display.Javascript object>"
            ]
          },
          "metadata": {
            "tags": [
              "id2-2-1",
              "outputarea_id2"
            ]
          }
        },
        {
          "output_type": "display_data",
          "data": {
            "application/javascript": [
              "window[\"5c81b6f2-7b2e-11eb-ac26-0242ac1c0002\"] = google.colab.output.setActiveOutputArea(window[\"5c812bce-7b2e-11eb-ac26-0242ac1c0002\"]);\n",
              "//# sourceURL=js_b882f866b6"
            ],
            "text/plain": [
              "<IPython.core.display.Javascript object>"
            ]
          },
          "metadata": {
            "tags": [
              "id2-2-1",
              "outputarea_id2"
            ]
          }
        },
        {
          "output_type": "display_data",
          "data": {
            "application/javascript": [
              "window[\"5c83ebe8-7b2e-11eb-ac26-0242ac1c0002\"] = google.colab.output.setActiveOutputArea(window[\"5c7ff61e-7b2e-11eb-ac26-0242ac1c0002\"]);\n",
              "//# sourceURL=js_a63b7fe9b5"
            ],
            "text/plain": [
              "<IPython.core.display.Javascript object>"
            ]
          },
          "metadata": {
            "tags": [
              "id2-2-1",
              "outputarea_id2"
            ]
          }
        },
        {
          "output_type": "stream",
          "text": [
            "無需點擊Challenge\r"
          ],
          "name": "stdout"
        },
        {
          "output_type": "display_data",
          "data": {
            "application/javascript": [
              "window[\"5e25f838-7b2e-11eb-ac26-0242ac1c0002\"] = google.colab.output.getActiveOutputArea();\n",
              "//# sourceURL=js_923601e960"
            ],
            "text/plain": [
              "<IPython.core.display.Javascript object>"
            ]
          },
          "metadata": {
            "tags": [
              "id2-2-1",
              "outputarea_id2"
            ]
          }
        },
        {
          "output_type": "display_data",
          "data": {
            "application/javascript": [
              "window[\"5e266ce6-7b2e-11eb-ac26-0242ac1c0002\"] = document.querySelector(\"#id2-2-1\");\n",
              "//# sourceURL=js_56a205bf87"
            ],
            "text/plain": [
              "<IPython.core.display.Javascript object>"
            ]
          },
          "metadata": {
            "tags": [
              "id2-2-1",
              "outputarea_id2"
            ]
          }
        },
        {
          "output_type": "display_data",
          "data": {
            "application/javascript": [
              "window[\"5e26e022-7b2e-11eb-ac26-0242ac1c0002\"] = google.colab.output.setActiveOutputArea(window[\"5e266ce6-7b2e-11eb-ac26-0242ac1c0002\"]);\n",
              "//# sourceURL=js_fd6a473753"
            ],
            "text/plain": [
              "<IPython.core.display.Javascript object>"
            ]
          },
          "metadata": {
            "tags": [
              "id2-2-1",
              "outputarea_id2"
            ]
          }
        },
        {
          "output_type": "display_data",
          "data": {
            "application/javascript": [
              "window[\"5e284494-7b2e-11eb-ac26-0242ac1c0002\"] = google.colab.output.setActiveOutputArea(window[\"5e25f838-7b2e-11eb-ac26-0242ac1c0002\"]);\n",
              "//# sourceURL=js_35e62ae9f0"
            ],
            "text/plain": [
              "<IPython.core.display.Javascript object>"
            ]
          },
          "metadata": {
            "tags": [
              "id2-2-1",
              "outputarea_id2"
            ]
          }
        },
        {
          "output_type": "display_data",
          "data": {
            "application/javascript": [
              "window[\"5fb18a1e-7b2e-11eb-ac26-0242ac1c0002\"] = google.colab.output.getActiveOutputArea();\n",
              "//# sourceURL=js_c48a05ac6c"
            ],
            "text/plain": [
              "<IPython.core.display.Javascript object>"
            ]
          },
          "metadata": {
            "tags": [
              "id2-2-1",
              "outputarea_id2"
            ]
          }
        },
        {
          "output_type": "display_data",
          "data": {
            "application/javascript": [
              "window[\"5fb2d66c-7b2e-11eb-ac26-0242ac1c0002\"] = document.querySelector(\"#id2-2-1\");\n",
              "//# sourceURL=js_03e263753e"
            ],
            "text/plain": [
              "<IPython.core.display.Javascript object>"
            ]
          },
          "metadata": {
            "tags": [
              "id2-2-1",
              "outputarea_id2"
            ]
          }
        },
        {
          "output_type": "display_data",
          "data": {
            "application/javascript": [
              "window[\"5fb32ca2-7b2e-11eb-ac26-0242ac1c0002\"] = google.colab.output.setActiveOutputArea(window[\"5fb2d66c-7b2e-11eb-ac26-0242ac1c0002\"]);\n",
              "//# sourceURL=js_eb0be5a868"
            ],
            "text/plain": [
              "<IPython.core.display.Javascript object>"
            ]
          },
          "metadata": {
            "tags": [
              "id2-2-1",
              "outputarea_id2"
            ]
          }
        },
        {
          "output_type": "stream",
          "text": [
            "Completed\n"
          ],
          "name": "stdout"
        },
        {
          "output_type": "display_data",
          "data": {
            "application/javascript": [
              "window[\"5fb6b30e-7b2e-11eb-ac26-0242ac1c0002\"] = google.colab.output.setActiveOutputArea(window[\"5fb18a1e-7b2e-11eb-ac26-0242ac1c0002\"]);\n",
              "//# sourceURL=js_d7c6661b82"
            ],
            "text/plain": [
              "<IPython.core.display.Javascript object>"
            ]
          },
          "metadata": {
            "tags": [
              "id2-2-1",
              "outputarea_id2"
            ]
          }
        },
        {
          "output_type": "display_data",
          "data": {
            "application/javascript": [
              "window[\"5fbcd1da-7b2e-11eb-ac26-0242ac1c0002\"] = google.colab.output.getActiveOutputArea();\n",
              "//# sourceURL=js_6cf74f2423"
            ],
            "text/plain": [
              "<IPython.core.display.Javascript object>"
            ]
          },
          "metadata": {
            "tags": [
              "id2-3-0",
              "outputarea_id2"
            ]
          }
        },
        {
          "output_type": "display_data",
          "data": {
            "application/javascript": [
              "window[\"5fbd6370-7b2e-11eb-ac26-0242ac1c0002\"] = document.querySelector(\"#id2-3-0\");\n",
              "//# sourceURL=js_d1c3178d75"
            ],
            "text/plain": [
              "<IPython.core.display.Javascript object>"
            ]
          },
          "metadata": {
            "tags": [
              "id2-3-0",
              "outputarea_id2"
            ]
          }
        },
        {
          "output_type": "display_data",
          "data": {
            "application/javascript": [
              "window[\"5fbdefc0-7b2e-11eb-ac26-0242ac1c0002\"] = google.colab.output.setActiveOutputArea(window[\"5fbd6370-7b2e-11eb-ac26-0242ac1c0002\"]);\n",
              "//# sourceURL=js_8bfc04a403"
            ],
            "text/plain": [
              "<IPython.core.display.Javascript object>"
            ]
          },
          "metadata": {
            "tags": [
              "id2-3-0",
              "outputarea_id2"
            ]
          }
        },
        {
          "output_type": "stream",
          "text": [
            "3/8\n"
          ],
          "name": "stdout"
        },
        {
          "output_type": "display_data",
          "data": {
            "application/javascript": [
              "window[\"5fbf426c-7b2e-11eb-ac26-0242ac1c0002\"] = google.colab.output.setActiveOutputArea(window[\"5fbcd1da-7b2e-11eb-ac26-0242ac1c0002\"]);\n",
              "//# sourceURL=js_41337755ef"
            ],
            "text/plain": [
              "<IPython.core.display.Javascript object>"
            ]
          },
          "metadata": {
            "tags": [
              "id2-3-0",
              "outputarea_id2"
            ]
          }
        },
        {
          "output_type": "display_data",
          "data": {
            "application/javascript": [
              "window[\"5fc0936a-7b2e-11eb-ac26-0242ac1c0002\"] = google.colab.output.getActiveOutputArea();\n",
              "//# sourceURL=js_d75f436537"
            ],
            "text/plain": [
              "<IPython.core.display.Javascript object>"
            ]
          },
          "metadata": {
            "tags": [
              "id2-3-1",
              "outputarea_id2"
            ]
          }
        },
        {
          "output_type": "display_data",
          "data": {
            "application/javascript": [
              "window[\"5fc0eb9e-7b2e-11eb-ac26-0242ac1c0002\"] = document.querySelector(\"#id2-3-1\");\n",
              "//# sourceURL=js_23ee7fa5a6"
            ],
            "text/plain": [
              "<IPython.core.display.Javascript object>"
            ]
          },
          "metadata": {
            "tags": [
              "id2-3-1",
              "outputarea_id2"
            ]
          }
        },
        {
          "output_type": "display_data",
          "data": {
            "application/javascript": [
              "window[\"5fc13d38-7b2e-11eb-ac26-0242ac1c0002\"] = google.colab.output.setActiveOutputArea(window[\"5fc0eb9e-7b2e-11eb-ac26-0242ac1c0002\"]);\n",
              "//# sourceURL=js_f63207a760"
            ],
            "text/plain": [
              "<IPython.core.display.Javascript object>"
            ]
          },
          "metadata": {
            "tags": [
              "id2-3-1",
              "outputarea_id2"
            ]
          }
        },
        {
          "output_type": "display_data",
          "data": {
            "application/javascript": [
              "window[\"5fc28634-7b2e-11eb-ac26-0242ac1c0002\"] = google.colab.output.setActiveOutputArea(window[\"5fc0936a-7b2e-11eb-ac26-0242ac1c0002\"]);\n",
              "//# sourceURL=js_1e70fa5f3b"
            ],
            "text/plain": [
              "<IPython.core.display.Javascript object>"
            ]
          },
          "metadata": {
            "tags": [
              "id2-3-1",
              "outputarea_id2"
            ]
          }
        },
        {
          "output_type": "display_data",
          "data": {
            "application/javascript": [
              "window[\"5fc4cf8e-7b2e-11eb-ac26-0242ac1c0002\"] = google.colab.output.getActiveOutputArea();\n",
              "//# sourceURL=js_6d8cece6e0"
            ],
            "text/plain": [
              "<IPython.core.display.Javascript object>"
            ]
          },
          "metadata": {
            "tags": [
              "id2-3-2",
              "outputarea_id2"
            ]
          }
        },
        {
          "output_type": "display_data",
          "data": {
            "application/javascript": [
              "window[\"5fc55d32-7b2e-11eb-ac26-0242ac1c0002\"] = document.querySelector(\"#id2-3-2\");\n",
              "//# sourceURL=js_cfaed34cec"
            ],
            "text/plain": [
              "<IPython.core.display.Javascript object>"
            ]
          },
          "metadata": {
            "tags": [
              "id2-3-2",
              "outputarea_id2"
            ]
          }
        },
        {
          "output_type": "display_data",
          "data": {
            "application/javascript": [
              "window[\"5fc5f40e-7b2e-11eb-ac26-0242ac1c0002\"] = google.colab.output.setActiveOutputArea(window[\"5fc55d32-7b2e-11eb-ac26-0242ac1c0002\"]);\n",
              "//# sourceURL=js_b137e3c0a2"
            ],
            "text/plain": [
              "<IPython.core.display.Javascript object>"
            ]
          },
          "metadata": {
            "tags": [
              "id2-3-2",
              "outputarea_id2"
            ]
          }
        },
        {
          "output_type": "stream",
          "text": [
            "Finding Fire - Listening(https://lms.wiseman.com.hk/lms/user/secure/course/eb/select_theme/selectLesson.do?id=8499e2e620294902b132697b5f741878&from=lesson)\n"
          ],
          "name": "stdout"
        },
        {
          "output_type": "display_data",
          "data": {
            "application/javascript": [
              "window[\"5fc919c2-7b2e-11eb-ac26-0242ac1c0002\"] = google.colab.output.setActiveOutputArea(window[\"5fc4cf8e-7b2e-11eb-ac26-0242ac1c0002\"]);\n",
              "//# sourceURL=js_607219138e"
            ],
            "text/plain": [
              "<IPython.core.display.Javascript object>"
            ]
          },
          "metadata": {
            "tags": [
              "id2-3-2",
              "outputarea_id2"
            ]
          }
        },
        {
          "output_type": "display_data",
          "data": {
            "application/javascript": [
              "window[\"63ea075a-7b2e-11eb-ac26-0242ac1c0002\"] = google.colab.output.getActiveOutputArea();\n",
              "//# sourceURL=js_6890273828"
            ],
            "text/plain": [
              "<IPython.core.display.Javascript object>"
            ]
          },
          "metadata": {
            "tags": [
              "id2-3-1",
              "outputarea_id2"
            ]
          }
        },
        {
          "output_type": "display_data",
          "data": {
            "application/javascript": [
              "window[\"63ead66c-7b2e-11eb-ac26-0242ac1c0002\"] = document.querySelector(\"#id2-3-1\");\n",
              "//# sourceURL=js_e4c9e9ea99"
            ],
            "text/plain": [
              "<IPython.core.display.Javascript object>"
            ]
          },
          "metadata": {
            "tags": [
              "id2-3-1",
              "outputarea_id2"
            ]
          }
        },
        {
          "output_type": "display_data",
          "data": {
            "application/javascript": [
              "window[\"63eb1f14-7b2e-11eb-ac26-0242ac1c0002\"] = google.colab.output.setActiveOutputArea(window[\"63ead66c-7b2e-11eb-ac26-0242ac1c0002\"]);\n",
              "//# sourceURL=js_479b9489de"
            ],
            "text/plain": [
              "<IPython.core.display.Javascript object>"
            ]
          },
          "metadata": {
            "tags": [
              "id2-3-1",
              "outputarea_id2"
            ]
          }
        },
        {
          "output_type": "display_data",
          "data": {
            "application/javascript": [
              "window[\"63ee36d6-7b2e-11eb-ac26-0242ac1c0002\"] = google.colab.output.setActiveOutputArea(window[\"63ea075a-7b2e-11eb-ac26-0242ac1c0002\"]);\n",
              "//# sourceURL=js_0137ea9429"
            ],
            "text/plain": [
              "<IPython.core.display.Javascript object>"
            ]
          },
          "metadata": {
            "tags": [
              "id2-3-1",
              "outputarea_id2"
            ]
          }
        },
        {
          "output_type": "display_data",
          "data": {
            "application/javascript": [
              "window[\"6590c896-7b2e-11eb-ac26-0242ac1c0002\"] = google.colab.output.getActiveOutputArea();\n",
              "//# sourceURL=js_4b473ac551"
            ],
            "text/plain": [
              "<IPython.core.display.Javascript object>"
            ]
          },
          "metadata": {
            "tags": [
              "id2-3-1",
              "outputarea_id2"
            ]
          }
        },
        {
          "output_type": "display_data",
          "data": {
            "application/javascript": [
              "window[\"659114b8-7b2e-11eb-ac26-0242ac1c0002\"] = document.querySelector(\"#id2-3-1\");\n",
              "//# sourceURL=js_a4335b3e8c"
            ],
            "text/plain": [
              "<IPython.core.display.Javascript object>"
            ]
          },
          "metadata": {
            "tags": [
              "id2-3-1",
              "outputarea_id2"
            ]
          }
        },
        {
          "output_type": "display_data",
          "data": {
            "application/javascript": [
              "window[\"65915914-7b2e-11eb-ac26-0242ac1c0002\"] = google.colab.output.setActiveOutputArea(window[\"659114b8-7b2e-11eb-ac26-0242ac1c0002\"]);\n",
              "//# sourceURL=js_b2c121b09a"
            ],
            "text/plain": [
              "<IPython.core.display.Javascript object>"
            ]
          },
          "metadata": {
            "tags": [
              "id2-3-1",
              "outputarea_id2"
            ]
          }
        },
        {
          "output_type": "display_data",
          "data": {
            "application/javascript": [
              "window[\"65932d5c-7b2e-11eb-ac26-0242ac1c0002\"] = google.colab.output.setActiveOutputArea(window[\"6590c896-7b2e-11eb-ac26-0242ac1c0002\"]);\n",
              "//# sourceURL=js_b0bf0063c7"
            ],
            "text/plain": [
              "<IPython.core.display.Javascript object>"
            ]
          },
          "metadata": {
            "tags": [
              "id2-3-1",
              "outputarea_id2"
            ]
          }
        },
        {
          "output_type": "display_data",
          "data": {
            "application/javascript": [
              "window[\"6730c5de-7b2e-11eb-ac26-0242ac1c0002\"] = google.colab.output.getActiveOutputArea();\n",
              "//# sourceURL=js_d3a0e5f6d3"
            ],
            "text/plain": [
              "<IPython.core.display.Javascript object>"
            ]
          },
          "metadata": {
            "tags": [
              "id2-3-1",
              "outputarea_id2"
            ]
          }
        },
        {
          "output_type": "display_data",
          "data": {
            "application/javascript": [
              "window[\"6731cb82-7b2e-11eb-ac26-0242ac1c0002\"] = document.querySelector(\"#id2-3-1\");\n",
              "//# sourceURL=js_a612480c04"
            ],
            "text/plain": [
              "<IPython.core.display.Javascript object>"
            ]
          },
          "metadata": {
            "tags": [
              "id2-3-1",
              "outputarea_id2"
            ]
          }
        },
        {
          "output_type": "display_data",
          "data": {
            "application/javascript": [
              "window[\"673325f4-7b2e-11eb-ac26-0242ac1c0002\"] = google.colab.output.setActiveOutputArea(window[\"6731cb82-7b2e-11eb-ac26-0242ac1c0002\"]);\n",
              "//# sourceURL=js_23efd9dbf8"
            ],
            "text/plain": [
              "<IPython.core.display.Javascript object>"
            ]
          },
          "metadata": {
            "tags": [
              "id2-3-1",
              "outputarea_id2"
            ]
          }
        },
        {
          "output_type": "stream",
          "text": [
            "Completed\n"
          ],
          "name": "stdout"
        },
        {
          "output_type": "display_data",
          "data": {
            "application/javascript": [
              "window[\"67389e94-7b2e-11eb-ac26-0242ac1c0002\"] = google.colab.output.setActiveOutputArea(window[\"6730c5de-7b2e-11eb-ac26-0242ac1c0002\"]);\n",
              "//# sourceURL=js_ef7a60cce4"
            ],
            "text/plain": [
              "<IPython.core.display.Javascript object>"
            ]
          },
          "metadata": {
            "tags": [
              "id2-3-1",
              "outputarea_id2"
            ]
          }
        },
        {
          "output_type": "display_data",
          "data": {
            "application/javascript": [
              "window[\"673d8314-7b2e-11eb-ac26-0242ac1c0002\"] = google.colab.output.getActiveOutputArea();\n",
              "//# sourceURL=js_3c9bd0747e"
            ],
            "text/plain": [
              "<IPython.core.display.Javascript object>"
            ]
          },
          "metadata": {
            "tags": [
              "id2-4-0",
              "outputarea_id2"
            ]
          }
        },
        {
          "output_type": "display_data",
          "data": {
            "application/javascript": [
              "window[\"673e8958-7b2e-11eb-ac26-0242ac1c0002\"] = document.querySelector(\"#id2-4-0\");\n",
              "//# sourceURL=js_97c1da5871"
            ],
            "text/plain": [
              "<IPython.core.display.Javascript object>"
            ]
          },
          "metadata": {
            "tags": [
              "id2-4-0",
              "outputarea_id2"
            ]
          }
        },
        {
          "output_type": "display_data",
          "data": {
            "application/javascript": [
              "window[\"673ed750-7b2e-11eb-ac26-0242ac1c0002\"] = google.colab.output.setActiveOutputArea(window[\"673e8958-7b2e-11eb-ac26-0242ac1c0002\"]);\n",
              "//# sourceURL=js_1713520d82"
            ],
            "text/plain": [
              "<IPython.core.display.Javascript object>"
            ]
          },
          "metadata": {
            "tags": [
              "id2-4-0",
              "outputarea_id2"
            ]
          }
        },
        {
          "output_type": "stream",
          "text": [
            "4/8\n"
          ],
          "name": "stdout"
        },
        {
          "output_type": "display_data",
          "data": {
            "application/javascript": [
              "window[\"6740fb34-7b2e-11eb-ac26-0242ac1c0002\"] = google.colab.output.setActiveOutputArea(window[\"673d8314-7b2e-11eb-ac26-0242ac1c0002\"]);\n",
              "//# sourceURL=js_b7fac5f84d"
            ],
            "text/plain": [
              "<IPython.core.display.Javascript object>"
            ]
          },
          "metadata": {
            "tags": [
              "id2-4-0",
              "outputarea_id2"
            ]
          }
        },
        {
          "output_type": "display_data",
          "data": {
            "application/javascript": [
              "window[\"67449a64-7b2e-11eb-ac26-0242ac1c0002\"] = google.colab.output.getActiveOutputArea();\n",
              "//# sourceURL=js_bdf5925fad"
            ],
            "text/plain": [
              "<IPython.core.display.Javascript object>"
            ]
          },
          "metadata": {
            "tags": [
              "id2-4-1",
              "outputarea_id2"
            ]
          }
        },
        {
          "output_type": "display_data",
          "data": {
            "application/javascript": [
              "window[\"6744f0fe-7b2e-11eb-ac26-0242ac1c0002\"] = document.querySelector(\"#id2-4-1\");\n",
              "//# sourceURL=js_84441ebc49"
            ],
            "text/plain": [
              "<IPython.core.display.Javascript object>"
            ]
          },
          "metadata": {
            "tags": [
              "id2-4-1",
              "outputarea_id2"
            ]
          }
        },
        {
          "output_type": "display_data",
          "data": {
            "application/javascript": [
              "window[\"67453910-7b2e-11eb-ac26-0242ac1c0002\"] = google.colab.output.setActiveOutputArea(window[\"6744f0fe-7b2e-11eb-ac26-0242ac1c0002\"]);\n",
              "//# sourceURL=js_113b0819cd"
            ],
            "text/plain": [
              "<IPython.core.display.Javascript object>"
            ]
          },
          "metadata": {
            "tags": [
              "id2-4-1",
              "outputarea_id2"
            ]
          }
        },
        {
          "output_type": "display_data",
          "data": {
            "application/javascript": [
              "window[\"674a0bb6-7b2e-11eb-ac26-0242ac1c0002\"] = google.colab.output.setActiveOutputArea(window[\"67449a64-7b2e-11eb-ac26-0242ac1c0002\"]);\n",
              "//# sourceURL=js_0e2f9c287e"
            ],
            "text/plain": [
              "<IPython.core.display.Javascript object>"
            ]
          },
          "metadata": {
            "tags": [
              "id2-4-1",
              "outputarea_id2"
            ]
          }
        },
        {
          "output_type": "display_data",
          "data": {
            "application/javascript": [
              "window[\"674e10d0-7b2e-11eb-ac26-0242ac1c0002\"] = google.colab.output.getActiveOutputArea();\n",
              "//# sourceURL=js_399f931d74"
            ],
            "text/plain": [
              "<IPython.core.display.Javascript object>"
            ]
          },
          "metadata": {
            "tags": [
              "id2-4-2",
              "outputarea_id2"
            ]
          }
        },
        {
          "output_type": "display_data",
          "data": {
            "application/javascript": [
              "window[\"674e62a6-7b2e-11eb-ac26-0242ac1c0002\"] = document.querySelector(\"#id2-4-2\");\n",
              "//# sourceURL=js_873b8557ae"
            ],
            "text/plain": [
              "<IPython.core.display.Javascript object>"
            ]
          },
          "metadata": {
            "tags": [
              "id2-4-2",
              "outputarea_id2"
            ]
          }
        },
        {
          "output_type": "display_data",
          "data": {
            "application/javascript": [
              "window[\"674f6a2a-7b2e-11eb-ac26-0242ac1c0002\"] = google.colab.output.setActiveOutputArea(window[\"674e62a6-7b2e-11eb-ac26-0242ac1c0002\"]);\n",
              "//# sourceURL=js_1a42186eb8"
            ],
            "text/plain": [
              "<IPython.core.display.Javascript object>"
            ]
          },
          "metadata": {
            "tags": [
              "id2-4-2",
              "outputarea_id2"
            ]
          }
        },
        {
          "output_type": "stream",
          "text": [
            "Finding Fire - Reading(https://lms.wiseman.com.hk/lms/user/secure/course/eb/select_theme/selectLesson.do?id=33e19f34a3854c1ebea3bc90911c8985&from=lesson)\n"
          ],
          "name": "stdout"
        },
        {
          "output_type": "display_data",
          "data": {
            "application/javascript": [
              "window[\"67502ec4-7b2e-11eb-ac26-0242ac1c0002\"] = google.colab.output.setActiveOutputArea(window[\"674e10d0-7b2e-11eb-ac26-0242ac1c0002\"]);\n",
              "//# sourceURL=js_ece7b76206"
            ],
            "text/plain": [
              "<IPython.core.display.Javascript object>"
            ]
          },
          "metadata": {
            "tags": [
              "id2-4-2",
              "outputarea_id2"
            ]
          }
        },
        {
          "output_type": "display_data",
          "data": {
            "application/javascript": [
              "window[\"6b973d56-7b2e-11eb-ac26-0242ac1c0002\"] = google.colab.output.getActiveOutputArea();\n",
              "//# sourceURL=js_16de78ce6f"
            ],
            "text/plain": [
              "<IPython.core.display.Javascript object>"
            ]
          },
          "metadata": {
            "tags": [
              "id2-4-1",
              "outputarea_id2"
            ]
          }
        },
        {
          "output_type": "display_data",
          "data": {
            "application/javascript": [
              "window[\"6b97d658-7b2e-11eb-ac26-0242ac1c0002\"] = document.querySelector(\"#id2-4-1\");\n",
              "//# sourceURL=js_7e60ae91db"
            ],
            "text/plain": [
              "<IPython.core.display.Javascript object>"
            ]
          },
          "metadata": {
            "tags": [
              "id2-4-1",
              "outputarea_id2"
            ]
          }
        },
        {
          "output_type": "display_data",
          "data": {
            "application/javascript": [
              "window[\"6b99713e-7b2e-11eb-ac26-0242ac1c0002\"] = google.colab.output.setActiveOutputArea(window[\"6b97d658-7b2e-11eb-ac26-0242ac1c0002\"]);\n",
              "//# sourceURL=js_f394e74ce7"
            ],
            "text/plain": [
              "<IPython.core.display.Javascript object>"
            ]
          },
          "metadata": {
            "tags": [
              "id2-4-1",
              "outputarea_id2"
            ]
          }
        },
        {
          "output_type": "display_data",
          "data": {
            "application/javascript": [
              "window[\"6b9bc5e2-7b2e-11eb-ac26-0242ac1c0002\"] = google.colab.output.setActiveOutputArea(window[\"6b973d56-7b2e-11eb-ac26-0242ac1c0002\"]);\n",
              "//# sourceURL=js_a8b2be2e89"
            ],
            "text/plain": [
              "<IPython.core.display.Javascript object>"
            ]
          },
          "metadata": {
            "tags": [
              "id2-4-1",
              "outputarea_id2"
            ]
          }
        },
        {
          "output_type": "display_data",
          "data": {
            "application/javascript": [
              "window[\"6d2b6804-7b2e-11eb-ac26-0242ac1c0002\"] = google.colab.output.getActiveOutputArea();\n",
              "//# sourceURL=js_cffd0bbba8"
            ],
            "text/plain": [
              "<IPython.core.display.Javascript object>"
            ]
          },
          "metadata": {
            "tags": [
              "id2-4-1",
              "outputarea_id2"
            ]
          }
        },
        {
          "output_type": "display_data",
          "data": {
            "application/javascript": [
              "window[\"6d2c6538-7b2e-11eb-ac26-0242ac1c0002\"] = document.querySelector(\"#id2-4-1\");\n",
              "//# sourceURL=js_6ae5c80461"
            ],
            "text/plain": [
              "<IPython.core.display.Javascript object>"
            ]
          },
          "metadata": {
            "tags": [
              "id2-4-1",
              "outputarea_id2"
            ]
          }
        },
        {
          "output_type": "display_data",
          "data": {
            "application/javascript": [
              "window[\"6d2cf138-7b2e-11eb-ac26-0242ac1c0002\"] = google.colab.output.setActiveOutputArea(window[\"6d2c6538-7b2e-11eb-ac26-0242ac1c0002\"]);\n",
              "//# sourceURL=js_6e9dd21af2"
            ],
            "text/plain": [
              "<IPython.core.display.Javascript object>"
            ]
          },
          "metadata": {
            "tags": [
              "id2-4-1",
              "outputarea_id2"
            ]
          }
        },
        {
          "output_type": "display_data",
          "data": {
            "application/javascript": [
              "window[\"6d33db74-7b2e-11eb-ac26-0242ac1c0002\"] = google.colab.output.setActiveOutputArea(window[\"6d2b6804-7b2e-11eb-ac26-0242ac1c0002\"]);\n",
              "//# sourceURL=js_29219e2c56"
            ],
            "text/plain": [
              "<IPython.core.display.Javascript object>"
            ]
          },
          "metadata": {
            "tags": [
              "id2-4-1",
              "outputarea_id2"
            ]
          }
        },
        {
          "output_type": "display_data",
          "data": {
            "application/javascript": [
              "window[\"6ed9b192-7b2e-11eb-ac26-0242ac1c0002\"] = google.colab.output.getActiveOutputArea();\n",
              "//# sourceURL=js_54dec5c253"
            ],
            "text/plain": [
              "<IPython.core.display.Javascript object>"
            ]
          },
          "metadata": {
            "tags": [
              "id2-4-1",
              "outputarea_id2"
            ]
          }
        },
        {
          "output_type": "display_data",
          "data": {
            "application/javascript": [
              "window[\"6eda1ed4-7b2e-11eb-ac26-0242ac1c0002\"] = document.querySelector(\"#id2-4-1\");\n",
              "//# sourceURL=js_eb47482332"
            ],
            "text/plain": [
              "<IPython.core.display.Javascript object>"
            ]
          },
          "metadata": {
            "tags": [
              "id2-4-1",
              "outputarea_id2"
            ]
          }
        },
        {
          "output_type": "display_data",
          "data": {
            "application/javascript": [
              "window[\"6eda6e70-7b2e-11eb-ac26-0242ac1c0002\"] = google.colab.output.setActiveOutputArea(window[\"6eda1ed4-7b2e-11eb-ac26-0242ac1c0002\"]);\n",
              "//# sourceURL=js_ba0d100102"
            ],
            "text/plain": [
              "<IPython.core.display.Javascript object>"
            ]
          },
          "metadata": {
            "tags": [
              "id2-4-1",
              "outputarea_id2"
            ]
          }
        },
        {
          "output_type": "stream",
          "text": [
            "Completed\n"
          ],
          "name": "stdout"
        },
        {
          "output_type": "display_data",
          "data": {
            "application/javascript": [
              "window[\"6edce920-7b2e-11eb-ac26-0242ac1c0002\"] = google.colab.output.setActiveOutputArea(window[\"6ed9b192-7b2e-11eb-ac26-0242ac1c0002\"]);\n",
              "//# sourceURL=js_4d3e27aded"
            ],
            "text/plain": [
              "<IPython.core.display.Javascript object>"
            ]
          },
          "metadata": {
            "tags": [
              "id2-4-1",
              "outputarea_id2"
            ]
          }
        },
        {
          "output_type": "display_data",
          "data": {
            "application/javascript": [
              "window[\"6ede9f40-7b2e-11eb-ac26-0242ac1c0002\"] = google.colab.output.getActiveOutputArea();\n",
              "//# sourceURL=js_9a4f44d0d8"
            ],
            "text/plain": [
              "<IPython.core.display.Javascript object>"
            ]
          },
          "metadata": {
            "tags": [
              "id2-5-0",
              "outputarea_id2"
            ]
          }
        },
        {
          "output_type": "display_data",
          "data": {
            "application/javascript": [
              "window[\"6edf229e-7b2e-11eb-ac26-0242ac1c0002\"] = document.querySelector(\"#id2-5-0\");\n",
              "//# sourceURL=js_1a42aeb84c"
            ],
            "text/plain": [
              "<IPython.core.display.Javascript object>"
            ]
          },
          "metadata": {
            "tags": [
              "id2-5-0",
              "outputarea_id2"
            ]
          }
        },
        {
          "output_type": "display_data",
          "data": {
            "application/javascript": [
              "window[\"6ee03df0-7b2e-11eb-ac26-0242ac1c0002\"] = google.colab.output.setActiveOutputArea(window[\"6edf229e-7b2e-11eb-ac26-0242ac1c0002\"]);\n",
              "//# sourceURL=js_e4d3eed04c"
            ],
            "text/plain": [
              "<IPython.core.display.Javascript object>"
            ]
          },
          "metadata": {
            "tags": [
              "id2-5-0",
              "outputarea_id2"
            ]
          }
        },
        {
          "output_type": "stream",
          "text": [
            "5/8\n"
          ],
          "name": "stdout"
        },
        {
          "output_type": "display_data",
          "data": {
            "application/javascript": [
              "window[\"6ee25400-7b2e-11eb-ac26-0242ac1c0002\"] = google.colab.output.setActiveOutputArea(window[\"6ede9f40-7b2e-11eb-ac26-0242ac1c0002\"]);\n",
              "//# sourceURL=js_7be65085f4"
            ],
            "text/plain": [
              "<IPython.core.display.Javascript object>"
            ]
          },
          "metadata": {
            "tags": [
              "id2-5-0",
              "outputarea_id2"
            ]
          }
        },
        {
          "output_type": "display_data",
          "data": {
            "application/javascript": [
              "window[\"6ee3ac88-7b2e-11eb-ac26-0242ac1c0002\"] = google.colab.output.getActiveOutputArea();\n",
              "//# sourceURL=js_d9e988318d"
            ],
            "text/plain": [
              "<IPython.core.display.Javascript object>"
            ]
          },
          "metadata": {
            "tags": [
              "id2-5-1",
              "outputarea_id2"
            ]
          }
        },
        {
          "output_type": "display_data",
          "data": {
            "application/javascript": [
              "window[\"6ee3f044-7b2e-11eb-ac26-0242ac1c0002\"] = document.querySelector(\"#id2-5-1\");\n",
              "//# sourceURL=js_810366bf4f"
            ],
            "text/plain": [
              "<IPython.core.display.Javascript object>"
            ]
          },
          "metadata": {
            "tags": [
              "id2-5-1",
              "outputarea_id2"
            ]
          }
        },
        {
          "output_type": "display_data",
          "data": {
            "application/javascript": [
              "window[\"6ee4fd22-7b2e-11eb-ac26-0242ac1c0002\"] = google.colab.output.setActiveOutputArea(window[\"6ee3f044-7b2e-11eb-ac26-0242ac1c0002\"]);\n",
              "//# sourceURL=js_aae550f61d"
            ],
            "text/plain": [
              "<IPython.core.display.Javascript object>"
            ]
          },
          "metadata": {
            "tags": [
              "id2-5-1",
              "outputarea_id2"
            ]
          }
        },
        {
          "output_type": "display_data",
          "data": {
            "application/javascript": [
              "window[\"6ee6119e-7b2e-11eb-ac26-0242ac1c0002\"] = google.colab.output.setActiveOutputArea(window[\"6ee3ac88-7b2e-11eb-ac26-0242ac1c0002\"]);\n",
              "//# sourceURL=js_cee8e059e9"
            ],
            "text/plain": [
              "<IPython.core.display.Javascript object>"
            ]
          },
          "metadata": {
            "tags": [
              "id2-5-1",
              "outputarea_id2"
            ]
          }
        },
        {
          "output_type": "display_data",
          "data": {
            "application/javascript": [
              "window[\"6ee885d2-7b2e-11eb-ac26-0242ac1c0002\"] = google.colab.output.getActiveOutputArea();\n",
              "//# sourceURL=js_7b49f3a88e"
            ],
            "text/plain": [
              "<IPython.core.display.Javascript object>"
            ]
          },
          "metadata": {
            "tags": [
              "id2-5-2",
              "outputarea_id2"
            ]
          }
        },
        {
          "output_type": "display_data",
          "data": {
            "application/javascript": [
              "window[\"6ee8d028-7b2e-11eb-ac26-0242ac1c0002\"] = document.querySelector(\"#id2-5-2\");\n",
              "//# sourceURL=js_0b05538bcf"
            ],
            "text/plain": [
              "<IPython.core.display.Javascript object>"
            ]
          },
          "metadata": {
            "tags": [
              "id2-5-2",
              "outputarea_id2"
            ]
          }
        },
        {
          "output_type": "display_data",
          "data": {
            "application/javascript": [
              "window[\"6ee9445e-7b2e-11eb-ac26-0242ac1c0002\"] = google.colab.output.setActiveOutputArea(window[\"6ee8d028-7b2e-11eb-ac26-0242ac1c0002\"]);\n",
              "//# sourceURL=js_abc3a3af88"
            ],
            "text/plain": [
              "<IPython.core.display.Javascript object>"
            ]
          },
          "metadata": {
            "tags": [
              "id2-5-2",
              "outputarea_id2"
            ]
          }
        },
        {
          "output_type": "stream",
          "text": [
            "Finding Fire - Speaking(https://lms.wiseman.com.hk/lms/user/secure/course/eb/select_theme/selectLesson.do?id=18849f55e8904cf6a1c9d6746659e4d1&from=lesson)\n"
          ],
          "name": "stdout"
        },
        {
          "output_type": "display_data",
          "data": {
            "application/javascript": [
              "window[\"6eeb01c2-7b2e-11eb-ac26-0242ac1c0002\"] = google.colab.output.setActiveOutputArea(window[\"6ee885d2-7b2e-11eb-ac26-0242ac1c0002\"]);\n",
              "//# sourceURL=js_ecaea6d271"
            ],
            "text/plain": [
              "<IPython.core.display.Javascript object>"
            ]
          },
          "metadata": {
            "tags": [
              "id2-5-2",
              "outputarea_id2"
            ]
          }
        },
        {
          "output_type": "display_data",
          "data": {
            "application/javascript": [
              "window[\"7324ec12-7b2e-11eb-ac26-0242ac1c0002\"] = google.colab.output.getActiveOutputArea();\n",
              "//# sourceURL=js_146e7b739d"
            ],
            "text/plain": [
              "<IPython.core.display.Javascript object>"
            ]
          },
          "metadata": {
            "tags": [
              "id2-5-1",
              "outputarea_id2"
            ]
          }
        },
        {
          "output_type": "display_data",
          "data": {
            "application/javascript": [
              "window[\"732592f2-7b2e-11eb-ac26-0242ac1c0002\"] = document.querySelector(\"#id2-5-1\");\n",
              "//# sourceURL=js_7e0a73d740"
            ],
            "text/plain": [
              "<IPython.core.display.Javascript object>"
            ]
          },
          "metadata": {
            "tags": [
              "id2-5-1",
              "outputarea_id2"
            ]
          }
        },
        {
          "output_type": "display_data",
          "data": {
            "application/javascript": [
              "window[\"7327edea-7b2e-11eb-ac26-0242ac1c0002\"] = google.colab.output.setActiveOutputArea(window[\"732592f2-7b2e-11eb-ac26-0242ac1c0002\"]);\n",
              "//# sourceURL=js_6072ccb022"
            ],
            "text/plain": [
              "<IPython.core.display.Javascript object>"
            ]
          },
          "metadata": {
            "tags": [
              "id2-5-1",
              "outputarea_id2"
            ]
          }
        },
        {
          "output_type": "display_data",
          "data": {
            "application/javascript": [
              "window[\"732e258e-7b2e-11eb-ac26-0242ac1c0002\"] = google.colab.output.setActiveOutputArea(window[\"7324ec12-7b2e-11eb-ac26-0242ac1c0002\"]);\n",
              "//# sourceURL=js_e3981b491f"
            ],
            "text/plain": [
              "<IPython.core.display.Javascript object>"
            ]
          },
          "metadata": {
            "tags": [
              "id2-5-1",
              "outputarea_id2"
            ]
          }
        },
        {
          "output_type": "stream",
          "text": [
            "無需點擊Challenge\r"
          ],
          "name": "stdout"
        },
        {
          "output_type": "display_data",
          "data": {
            "application/javascript": [
              "window[\"74ccc5e4-7b2e-11eb-ac26-0242ac1c0002\"] = google.colab.output.getActiveOutputArea();\n",
              "//# sourceURL=js_79c0ce8123"
            ],
            "text/plain": [
              "<IPython.core.display.Javascript object>"
            ]
          },
          "metadata": {
            "tags": [
              "id2-5-1",
              "outputarea_id2"
            ]
          }
        },
        {
          "output_type": "display_data",
          "data": {
            "application/javascript": [
              "window[\"74cd836c-7b2e-11eb-ac26-0242ac1c0002\"] = document.querySelector(\"#id2-5-1\");\n",
              "//# sourceURL=js_c221600836"
            ],
            "text/plain": [
              "<IPython.core.display.Javascript object>"
            ]
          },
          "metadata": {
            "tags": [
              "id2-5-1",
              "outputarea_id2"
            ]
          }
        },
        {
          "output_type": "display_data",
          "data": {
            "application/javascript": [
              "window[\"74ce4180-7b2e-11eb-ac26-0242ac1c0002\"] = google.colab.output.setActiveOutputArea(window[\"74cd836c-7b2e-11eb-ac26-0242ac1c0002\"]);\n",
              "//# sourceURL=js_7a8692d90e"
            ],
            "text/plain": [
              "<IPython.core.display.Javascript object>"
            ]
          },
          "metadata": {
            "tags": [
              "id2-5-1",
              "outputarea_id2"
            ]
          }
        },
        {
          "output_type": "display_data",
          "data": {
            "application/javascript": [
              "window[\"74d1a582-7b2e-11eb-ac26-0242ac1c0002\"] = google.colab.output.setActiveOutputArea(window[\"74ccc5e4-7b2e-11eb-ac26-0242ac1c0002\"]);\n",
              "//# sourceURL=js_81da2fdbde"
            ],
            "text/plain": [
              "<IPython.core.display.Javascript object>"
            ]
          },
          "metadata": {
            "tags": [
              "id2-5-1",
              "outputarea_id2"
            ]
          }
        },
        {
          "output_type": "display_data",
          "data": {
            "application/javascript": [
              "window[\"76616040-7b2e-11eb-ac26-0242ac1c0002\"] = google.colab.output.getActiveOutputArea();\n",
              "//# sourceURL=js_b44c296baa"
            ],
            "text/plain": [
              "<IPython.core.display.Javascript object>"
            ]
          },
          "metadata": {
            "tags": [
              "id2-5-1",
              "outputarea_id2"
            ]
          }
        },
        {
          "output_type": "display_data",
          "data": {
            "application/javascript": [
              "window[\"7661c60c-7b2e-11eb-ac26-0242ac1c0002\"] = document.querySelector(\"#id2-5-1\");\n",
              "//# sourceURL=js_6a58999fc9"
            ],
            "text/plain": [
              "<IPython.core.display.Javascript object>"
            ]
          },
          "metadata": {
            "tags": [
              "id2-5-1",
              "outputarea_id2"
            ]
          }
        },
        {
          "output_type": "display_data",
          "data": {
            "application/javascript": [
              "window[\"7662c688-7b2e-11eb-ac26-0242ac1c0002\"] = google.colab.output.setActiveOutputArea(window[\"7661c60c-7b2e-11eb-ac26-0242ac1c0002\"]);\n",
              "//# sourceURL=js_9eb92513a9"
            ],
            "text/plain": [
              "<IPython.core.display.Javascript object>"
            ]
          },
          "metadata": {
            "tags": [
              "id2-5-1",
              "outputarea_id2"
            ]
          }
        },
        {
          "output_type": "stream",
          "text": [
            "Completed\n"
          ],
          "name": "stdout"
        },
        {
          "output_type": "display_data",
          "data": {
            "application/javascript": [
              "window[\"7664dc3e-7b2e-11eb-ac26-0242ac1c0002\"] = google.colab.output.setActiveOutputArea(window[\"76616040-7b2e-11eb-ac26-0242ac1c0002\"]);\n",
              "//# sourceURL=js_80d9f02118"
            ],
            "text/plain": [
              "<IPython.core.display.Javascript object>"
            ]
          },
          "metadata": {
            "tags": [
              "id2-5-1",
              "outputarea_id2"
            ]
          }
        },
        {
          "output_type": "display_data",
          "data": {
            "application/javascript": [
              "window[\"76677458-7b2e-11eb-ac26-0242ac1c0002\"] = google.colab.output.getActiveOutputArea();\n",
              "//# sourceURL=js_24d749e4c7"
            ],
            "text/plain": [
              "<IPython.core.display.Javascript object>"
            ]
          },
          "metadata": {
            "tags": [
              "id2-6-0",
              "outputarea_id2"
            ]
          }
        },
        {
          "output_type": "display_data",
          "data": {
            "application/javascript": [
              "window[\"7667e2a8-7b2e-11eb-ac26-0242ac1c0002\"] = document.querySelector(\"#id2-6-0\");\n",
              "//# sourceURL=js_dd8d97e571"
            ],
            "text/plain": [
              "<IPython.core.display.Javascript object>"
            ]
          },
          "metadata": {
            "tags": [
              "id2-6-0",
              "outputarea_id2"
            ]
          }
        },
        {
          "output_type": "display_data",
          "data": {
            "application/javascript": [
              "window[\"76686c8c-7b2e-11eb-ac26-0242ac1c0002\"] = google.colab.output.setActiveOutputArea(window[\"7667e2a8-7b2e-11eb-ac26-0242ac1c0002\"]);\n",
              "//# sourceURL=js_f23bef56c7"
            ],
            "text/plain": [
              "<IPython.core.display.Javascript object>"
            ]
          },
          "metadata": {
            "tags": [
              "id2-6-0",
              "outputarea_id2"
            ]
          }
        },
        {
          "output_type": "stream",
          "text": [
            "6/8\n"
          ],
          "name": "stdout"
        },
        {
          "output_type": "display_data",
          "data": {
            "application/javascript": [
              "window[\"766a060a-7b2e-11eb-ac26-0242ac1c0002\"] = google.colab.output.setActiveOutputArea(window[\"76677458-7b2e-11eb-ac26-0242ac1c0002\"]);\n",
              "//# sourceURL=js_9ecb9fef7f"
            ],
            "text/plain": [
              "<IPython.core.display.Javascript object>"
            ]
          },
          "metadata": {
            "tags": [
              "id2-6-0",
              "outputarea_id2"
            ]
          }
        },
        {
          "output_type": "display_data",
          "data": {
            "application/javascript": [
              "window[\"766b53d4-7b2e-11eb-ac26-0242ac1c0002\"] = google.colab.output.getActiveOutputArea();\n",
              "//# sourceURL=js_33f28a0df2"
            ],
            "text/plain": [
              "<IPython.core.display.Javascript object>"
            ]
          },
          "metadata": {
            "tags": [
              "id2-6-1",
              "outputarea_id2"
            ]
          }
        },
        {
          "output_type": "display_data",
          "data": {
            "application/javascript": [
              "window[\"766bc9f4-7b2e-11eb-ac26-0242ac1c0002\"] = document.querySelector(\"#id2-6-1\");\n",
              "//# sourceURL=js_dcf692d2af"
            ],
            "text/plain": [
              "<IPython.core.display.Javascript object>"
            ]
          },
          "metadata": {
            "tags": [
              "id2-6-1",
              "outputarea_id2"
            ]
          }
        },
        {
          "output_type": "display_data",
          "data": {
            "application/javascript": [
              "window[\"766c397a-7b2e-11eb-ac26-0242ac1c0002\"] = google.colab.output.setActiveOutputArea(window[\"766bc9f4-7b2e-11eb-ac26-0242ac1c0002\"]);\n",
              "//# sourceURL=js_fa3d03b50e"
            ],
            "text/plain": [
              "<IPython.core.display.Javascript object>"
            ]
          },
          "metadata": {
            "tags": [
              "id2-6-1",
              "outputarea_id2"
            ]
          }
        },
        {
          "output_type": "display_data",
          "data": {
            "application/javascript": [
              "window[\"766dd91a-7b2e-11eb-ac26-0242ac1c0002\"] = google.colab.output.setActiveOutputArea(window[\"766b53d4-7b2e-11eb-ac26-0242ac1c0002\"]);\n",
              "//# sourceURL=js_ca78ec9aaf"
            ],
            "text/plain": [
              "<IPython.core.display.Javascript object>"
            ]
          },
          "metadata": {
            "tags": [
              "id2-6-1",
              "outputarea_id2"
            ]
          }
        },
        {
          "output_type": "display_data",
          "data": {
            "application/javascript": [
              "window[\"76702148-7b2e-11eb-ac26-0242ac1c0002\"] = google.colab.output.getActiveOutputArea();\n",
              "//# sourceURL=js_cdcdbcd152"
            ],
            "text/plain": [
              "<IPython.core.display.Javascript object>"
            ]
          },
          "metadata": {
            "tags": [
              "id2-6-2",
              "outputarea_id2"
            ]
          }
        },
        {
          "output_type": "display_data",
          "data": {
            "application/javascript": [
              "window[\"76706f36-7b2e-11eb-ac26-0242ac1c0002\"] = document.querySelector(\"#id2-6-2\");\n",
              "//# sourceURL=js_629b8c0d71"
            ],
            "text/plain": [
              "<IPython.core.display.Javascript object>"
            ]
          },
          "metadata": {
            "tags": [
              "id2-6-2",
              "outputarea_id2"
            ]
          }
        },
        {
          "output_type": "display_data",
          "data": {
            "application/javascript": [
              "window[\"76729888-7b2e-11eb-ac26-0242ac1c0002\"] = google.colab.output.setActiveOutputArea(window[\"76706f36-7b2e-11eb-ac26-0242ac1c0002\"]);\n",
              "//# sourceURL=js_af6e4bb82a"
            ],
            "text/plain": [
              "<IPython.core.display.Javascript object>"
            ]
          },
          "metadata": {
            "tags": [
              "id2-6-2",
              "outputarea_id2"
            ]
          }
        },
        {
          "output_type": "stream",
          "text": [
            "Finding Fire - Writing(https://lms.wiseman.com.hk/lms/user/secure/course/eb/select_theme/selectLesson.do?id=09299fcf399d47479799dd00edf54995&from=lesson)\n"
          ],
          "name": "stdout"
        },
        {
          "output_type": "display_data",
          "data": {
            "application/javascript": [
              "window[\"76743c24-7b2e-11eb-ac26-0242ac1c0002\"] = google.colab.output.setActiveOutputArea(window[\"76702148-7b2e-11eb-ac26-0242ac1c0002\"]);\n",
              "//# sourceURL=js_eee639ad86"
            ],
            "text/plain": [
              "<IPython.core.display.Javascript object>"
            ]
          },
          "metadata": {
            "tags": [
              "id2-6-2",
              "outputarea_id2"
            ]
          }
        },
        {
          "output_type": "display_data",
          "data": {
            "application/javascript": [
              "window[\"7abb7a68-7b2e-11eb-ac26-0242ac1c0002\"] = google.colab.output.getActiveOutputArea();\n",
              "//# sourceURL=js_763abb20ed"
            ],
            "text/plain": [
              "<IPython.core.display.Javascript object>"
            ]
          },
          "metadata": {
            "tags": [
              "id2-6-1",
              "outputarea_id2"
            ]
          }
        },
        {
          "output_type": "display_data",
          "data": {
            "application/javascript": [
              "window[\"7abcbefa-7b2e-11eb-ac26-0242ac1c0002\"] = document.querySelector(\"#id2-6-1\");\n",
              "//# sourceURL=js_138f04fa5b"
            ],
            "text/plain": [
              "<IPython.core.display.Javascript object>"
            ]
          },
          "metadata": {
            "tags": [
              "id2-6-1",
              "outputarea_id2"
            ]
          }
        },
        {
          "output_type": "display_data",
          "data": {
            "application/javascript": [
              "window[\"7abd4ed8-7b2e-11eb-ac26-0242ac1c0002\"] = google.colab.output.setActiveOutputArea(window[\"7abcbefa-7b2e-11eb-ac26-0242ac1c0002\"]);\n",
              "//# sourceURL=js_c663a5193c"
            ],
            "text/plain": [
              "<IPython.core.display.Javascript object>"
            ]
          },
          "metadata": {
            "tags": [
              "id2-6-1",
              "outputarea_id2"
            ]
          }
        },
        {
          "output_type": "display_data",
          "data": {
            "application/javascript": [
              "window[\"7ac0b2f8-7b2e-11eb-ac26-0242ac1c0002\"] = google.colab.output.setActiveOutputArea(window[\"7abb7a68-7b2e-11eb-ac26-0242ac1c0002\"]);\n",
              "//# sourceURL=js_b81eaf8aee"
            ],
            "text/plain": [
              "<IPython.core.display.Javascript object>"
            ]
          },
          "metadata": {
            "tags": [
              "id2-6-1",
              "outputarea_id2"
            ]
          }
        },
        {
          "output_type": "stream",
          "text": [
            "無需點擊Challenge\r"
          ],
          "name": "stdout"
        },
        {
          "output_type": "display_data",
          "data": {
            "application/javascript": [
              "window[\"7c51c026-7b2e-11eb-ac26-0242ac1c0002\"] = google.colab.output.getActiveOutputArea();\n",
              "//# sourceURL=js_ff80cb6b8f"
            ],
            "text/plain": [
              "<IPython.core.display.Javascript object>"
            ]
          },
          "metadata": {
            "tags": [
              "id2-6-1",
              "outputarea_id2"
            ]
          }
        },
        {
          "output_type": "display_data",
          "data": {
            "application/javascript": [
              "window[\"7c526cba-7b2e-11eb-ac26-0242ac1c0002\"] = document.querySelector(\"#id2-6-1\");\n",
              "//# sourceURL=js_8c4520de0e"
            ],
            "text/plain": [
              "<IPython.core.display.Javascript object>"
            ]
          },
          "metadata": {
            "tags": [
              "id2-6-1",
              "outputarea_id2"
            ]
          }
        },
        {
          "output_type": "display_data",
          "data": {
            "application/javascript": [
              "window[\"7c54368a-7b2e-11eb-ac26-0242ac1c0002\"] = google.colab.output.setActiveOutputArea(window[\"7c526cba-7b2e-11eb-ac26-0242ac1c0002\"]);\n",
              "//# sourceURL=js_b09bfb7064"
            ],
            "text/plain": [
              "<IPython.core.display.Javascript object>"
            ]
          },
          "metadata": {
            "tags": [
              "id2-6-1",
              "outputarea_id2"
            ]
          }
        },
        {
          "output_type": "display_data",
          "data": {
            "application/javascript": [
              "window[\"7c573132-7b2e-11eb-ac26-0242ac1c0002\"] = google.colab.output.setActiveOutputArea(window[\"7c51c026-7b2e-11eb-ac26-0242ac1c0002\"]);\n",
              "//# sourceURL=js_f9356aec8f"
            ],
            "text/plain": [
              "<IPython.core.display.Javascript object>"
            ]
          },
          "metadata": {
            "tags": [
              "id2-6-1",
              "outputarea_id2"
            ]
          }
        },
        {
          "output_type": "display_data",
          "data": {
            "application/javascript": [
              "window[\"7ddef918-7b2e-11eb-ac26-0242ac1c0002\"] = google.colab.output.getActiveOutputArea();\n",
              "//# sourceURL=js_8c6ba4e5a0"
            ],
            "text/plain": [
              "<IPython.core.display.Javascript object>"
            ]
          },
          "metadata": {
            "tags": [
              "id2-6-1",
              "outputarea_id2"
            ]
          }
        },
        {
          "output_type": "display_data",
          "data": {
            "application/javascript": [
              "window[\"7ddf5cd2-7b2e-11eb-ac26-0242ac1c0002\"] = document.querySelector(\"#id2-6-1\");\n",
              "//# sourceURL=js_50e3b0b16d"
            ],
            "text/plain": [
              "<IPython.core.display.Javascript object>"
            ]
          },
          "metadata": {
            "tags": [
              "id2-6-1",
              "outputarea_id2"
            ]
          }
        },
        {
          "output_type": "display_data",
          "data": {
            "application/javascript": [
              "window[\"7ddfab42-7b2e-11eb-ac26-0242ac1c0002\"] = google.colab.output.setActiveOutputArea(window[\"7ddf5cd2-7b2e-11eb-ac26-0242ac1c0002\"]);\n",
              "//# sourceURL=js_6c16402b5b"
            ],
            "text/plain": [
              "<IPython.core.display.Javascript object>"
            ]
          },
          "metadata": {
            "tags": [
              "id2-6-1",
              "outputarea_id2"
            ]
          }
        },
        {
          "output_type": "stream",
          "text": [
            "Completed\n"
          ],
          "name": "stdout"
        },
        {
          "output_type": "display_data",
          "data": {
            "application/javascript": [
              "window[\"7de16f5e-7b2e-11eb-ac26-0242ac1c0002\"] = google.colab.output.setActiveOutputArea(window[\"7ddef918-7b2e-11eb-ac26-0242ac1c0002\"]);\n",
              "//# sourceURL=js_fafa59b25e"
            ],
            "text/plain": [
              "<IPython.core.display.Javascript object>"
            ]
          },
          "metadata": {
            "tags": [
              "id2-6-1",
              "outputarea_id2"
            ]
          }
        },
        {
          "output_type": "display_data",
          "data": {
            "application/javascript": [
              "window[\"7de61568-7b2e-11eb-ac26-0242ac1c0002\"] = google.colab.output.getActiveOutputArea();\n",
              "//# sourceURL=js_fcffe046f4"
            ],
            "text/plain": [
              "<IPython.core.display.Javascript object>"
            ]
          },
          "metadata": {
            "tags": [
              "id2-7-0",
              "outputarea_id2"
            ]
          }
        },
        {
          "output_type": "display_data",
          "data": {
            "application/javascript": [
              "window[\"7de6c24c-7b2e-11eb-ac26-0242ac1c0002\"] = document.querySelector(\"#id2-7-0\");\n",
              "//# sourceURL=js_9634c727db"
            ],
            "text/plain": [
              "<IPython.core.display.Javascript object>"
            ]
          },
          "metadata": {
            "tags": [
              "id2-7-0",
              "outputarea_id2"
            ]
          }
        },
        {
          "output_type": "display_data",
          "data": {
            "application/javascript": [
              "window[\"7de71e0e-7b2e-11eb-ac26-0242ac1c0002\"] = google.colab.output.setActiveOutputArea(window[\"7de6c24c-7b2e-11eb-ac26-0242ac1c0002\"]);\n",
              "//# sourceURL=js_71e64fc945"
            ],
            "text/plain": [
              "<IPython.core.display.Javascript object>"
            ]
          },
          "metadata": {
            "tags": [
              "id2-7-0",
              "outputarea_id2"
            ]
          }
        },
        {
          "output_type": "stream",
          "text": [
            "7/8\n"
          ],
          "name": "stdout"
        },
        {
          "output_type": "display_data",
          "data": {
            "application/javascript": [
              "window[\"7deb21c0-7b2e-11eb-ac26-0242ac1c0002\"] = google.colab.output.setActiveOutputArea(window[\"7de61568-7b2e-11eb-ac26-0242ac1c0002\"]);\n",
              "//# sourceURL=js_e5f56490d7"
            ],
            "text/plain": [
              "<IPython.core.display.Javascript object>"
            ]
          },
          "metadata": {
            "tags": [
              "id2-7-0",
              "outputarea_id2"
            ]
          }
        },
        {
          "output_type": "display_data",
          "data": {
            "application/javascript": [
              "window[\"7dee7fb4-7b2e-11eb-ac26-0242ac1c0002\"] = google.colab.output.getActiveOutputArea();\n",
              "//# sourceURL=js_102b2a42f1"
            ],
            "text/plain": [
              "<IPython.core.display.Javascript object>"
            ]
          },
          "metadata": {
            "tags": [
              "id2-7-1",
              "outputarea_id2"
            ]
          }
        },
        {
          "output_type": "display_data",
          "data": {
            "application/javascript": [
              "window[\"7deed16c-7b2e-11eb-ac26-0242ac1c0002\"] = document.querySelector(\"#id2-7-1\");\n",
              "//# sourceURL=js_da22b84a55"
            ],
            "text/plain": [
              "<IPython.core.display.Javascript object>"
            ]
          },
          "metadata": {
            "tags": [
              "id2-7-1",
              "outputarea_id2"
            ]
          }
        },
        {
          "output_type": "display_data",
          "data": {
            "application/javascript": [
              "window[\"7df033ea-7b2e-11eb-ac26-0242ac1c0002\"] = google.colab.output.setActiveOutputArea(window[\"7deed16c-7b2e-11eb-ac26-0242ac1c0002\"]);\n",
              "//# sourceURL=js_e435115dde"
            ],
            "text/plain": [
              "<IPython.core.display.Javascript object>"
            ]
          },
          "metadata": {
            "tags": [
              "id2-7-1",
              "outputarea_id2"
            ]
          }
        },
        {
          "output_type": "display_data",
          "data": {
            "application/javascript": [
              "window[\"7df214da-7b2e-11eb-ac26-0242ac1c0002\"] = google.colab.output.setActiveOutputArea(window[\"7dee7fb4-7b2e-11eb-ac26-0242ac1c0002\"]);\n",
              "//# sourceURL=js_2bd6397ac5"
            ],
            "text/plain": [
              "<IPython.core.display.Javascript object>"
            ]
          },
          "metadata": {
            "tags": [
              "id2-7-1",
              "outputarea_id2"
            ]
          }
        },
        {
          "output_type": "display_data",
          "data": {
            "application/javascript": [
              "window[\"7df415aa-7b2e-11eb-ac26-0242ac1c0002\"] = google.colab.output.getActiveOutputArea();\n",
              "//# sourceURL=js_7644bd6900"
            ],
            "text/plain": [
              "<IPython.core.display.Javascript object>"
            ]
          },
          "metadata": {
            "tags": [
              "id2-7-2",
              "outputarea_id2"
            ]
          }
        },
        {
          "output_type": "display_data",
          "data": {
            "application/javascript": [
              "window[\"7df4b7ee-7b2e-11eb-ac26-0242ac1c0002\"] = document.querySelector(\"#id2-7-2\");\n",
              "//# sourceURL=js_0e6ddc9420"
            ],
            "text/plain": [
              "<IPython.core.display.Javascript object>"
            ]
          },
          "metadata": {
            "tags": [
              "id2-7-2",
              "outputarea_id2"
            ]
          }
        },
        {
          "output_type": "display_data",
          "data": {
            "application/javascript": [
              "window[\"7df57d96-7b2e-11eb-ac26-0242ac1c0002\"] = google.colab.output.setActiveOutputArea(window[\"7df4b7ee-7b2e-11eb-ac26-0242ac1c0002\"]);\n",
              "//# sourceURL=js_efa9fca2fe"
            ],
            "text/plain": [
              "<IPython.core.display.Javascript object>"
            ]
          },
          "metadata": {
            "tags": [
              "id2-7-2",
              "outputarea_id2"
            ]
          }
        },
        {
          "output_type": "stream",
          "text": [
            "Deadly Typhoons in History - Listening(https://lms.wiseman.com.hk/lms/user/secure/course/eb/select_theme/selectLesson.do?id=8ae5daa15e4ed4ff015e501c745a0004&from=lesson)\n"
          ],
          "name": "stdout"
        },
        {
          "output_type": "display_data",
          "data": {
            "application/javascript": [
              "window[\"7df7063e-7b2e-11eb-ac26-0242ac1c0002\"] = google.colab.output.setActiveOutputArea(window[\"7df415aa-7b2e-11eb-ac26-0242ac1c0002\"]);\n",
              "//# sourceURL=js_2fd6dda3b2"
            ],
            "text/plain": [
              "<IPython.core.display.Javascript object>"
            ]
          },
          "metadata": {
            "tags": [
              "id2-7-2",
              "outputarea_id2"
            ]
          }
        },
        {
          "output_type": "display_data",
          "data": {
            "application/javascript": [
              "window[\"820eaf6a-7b2e-11eb-ac26-0242ac1c0002\"] = google.colab.output.getActiveOutputArea();\n",
              "//# sourceURL=js_84a650b247"
            ],
            "text/plain": [
              "<IPython.core.display.Javascript object>"
            ]
          },
          "metadata": {
            "tags": [
              "id2-7-1",
              "outputarea_id2"
            ]
          }
        },
        {
          "output_type": "display_data",
          "data": {
            "application/javascript": [
              "window[\"82100db0-7b2e-11eb-ac26-0242ac1c0002\"] = document.querySelector(\"#id2-7-1\");\n",
              "//# sourceURL=js_f214237be4"
            ],
            "text/plain": [
              "<IPython.core.display.Javascript object>"
            ]
          },
          "metadata": {
            "tags": [
              "id2-7-1",
              "outputarea_id2"
            ]
          }
        },
        {
          "output_type": "display_data",
          "data": {
            "application/javascript": [
              "window[\"8210fad6-7b2e-11eb-ac26-0242ac1c0002\"] = google.colab.output.setActiveOutputArea(window[\"82100db0-7b2e-11eb-ac26-0242ac1c0002\"]);\n",
              "//# sourceURL=js_a4a677638a"
            ],
            "text/plain": [
              "<IPython.core.display.Javascript object>"
            ]
          },
          "metadata": {
            "tags": [
              "id2-7-1",
              "outputarea_id2"
            ]
          }
        },
        {
          "output_type": "display_data",
          "data": {
            "application/javascript": [
              "window[\"8214ff46-7b2e-11eb-ac26-0242ac1c0002\"] = google.colab.output.setActiveOutputArea(window[\"820eaf6a-7b2e-11eb-ac26-0242ac1c0002\"]);\n",
              "//# sourceURL=js_e558a64844"
            ],
            "text/plain": [
              "<IPython.core.display.Javascript object>"
            ]
          },
          "metadata": {
            "tags": [
              "id2-7-1",
              "outputarea_id2"
            ]
          }
        },
        {
          "output_type": "display_data",
          "data": {
            "application/javascript": [
              "window[\"83ca575a-7b2e-11eb-ac26-0242ac1c0002\"] = google.colab.output.getActiveOutputArea();\n",
              "//# sourceURL=js_1964b70343"
            ],
            "text/plain": [
              "<IPython.core.display.Javascript object>"
            ]
          },
          "metadata": {
            "tags": [
              "id2-7-1",
              "outputarea_id2"
            ]
          }
        },
        {
          "output_type": "display_data",
          "data": {
            "application/javascript": [
              "window[\"83cd4956-7b2e-11eb-ac26-0242ac1c0002\"] = document.querySelector(\"#id2-7-1\");\n",
              "//# sourceURL=js_376b4b8b01"
            ],
            "text/plain": [
              "<IPython.core.display.Javascript object>"
            ]
          },
          "metadata": {
            "tags": [
              "id2-7-1",
              "outputarea_id2"
            ]
          }
        },
        {
          "output_type": "display_data",
          "data": {
            "application/javascript": [
              "window[\"83ce0936-7b2e-11eb-ac26-0242ac1c0002\"] = google.colab.output.setActiveOutputArea(window[\"83cd4956-7b2e-11eb-ac26-0242ac1c0002\"]);\n",
              "//# sourceURL=js_dabfb699af"
            ],
            "text/plain": [
              "<IPython.core.display.Javascript object>"
            ]
          },
          "metadata": {
            "tags": [
              "id2-7-1",
              "outputarea_id2"
            ]
          }
        },
        {
          "output_type": "display_data",
          "data": {
            "application/javascript": [
              "window[\"83d00998-7b2e-11eb-ac26-0242ac1c0002\"] = google.colab.output.setActiveOutputArea(window[\"83ca575a-7b2e-11eb-ac26-0242ac1c0002\"]);\n",
              "//# sourceURL=js_fd12a173bc"
            ],
            "text/plain": [
              "<IPython.core.display.Javascript object>"
            ]
          },
          "metadata": {
            "tags": [
              "id2-7-1",
              "outputarea_id2"
            ]
          }
        },
        {
          "output_type": "display_data",
          "data": {
            "application/javascript": [
              "window[\"855888a8-7b2e-11eb-ac26-0242ac1c0002\"] = google.colab.output.getActiveOutputArea();\n",
              "//# sourceURL=js_127c52bb87"
            ],
            "text/plain": [
              "<IPython.core.display.Javascript object>"
            ]
          },
          "metadata": {
            "tags": [
              "id2-7-1",
              "outputarea_id2"
            ]
          }
        },
        {
          "output_type": "display_data",
          "data": {
            "application/javascript": [
              "window[\"855915ac-7b2e-11eb-ac26-0242ac1c0002\"] = document.querySelector(\"#id2-7-1\");\n",
              "//# sourceURL=js_d28a4aa61f"
            ],
            "text/plain": [
              "<IPython.core.display.Javascript object>"
            ]
          },
          "metadata": {
            "tags": [
              "id2-7-1",
              "outputarea_id2"
            ]
          }
        },
        {
          "output_type": "display_data",
          "data": {
            "application/javascript": [
              "window[\"855a4d00-7b2e-11eb-ac26-0242ac1c0002\"] = google.colab.output.setActiveOutputArea(window[\"855915ac-7b2e-11eb-ac26-0242ac1c0002\"]);\n",
              "//# sourceURL=js_6897cfe5b4"
            ],
            "text/plain": [
              "<IPython.core.display.Javascript object>"
            ]
          },
          "metadata": {
            "tags": [
              "id2-7-1",
              "outputarea_id2"
            ]
          }
        },
        {
          "output_type": "stream",
          "text": [
            "Completed\n"
          ],
          "name": "stdout"
        },
        {
          "output_type": "display_data",
          "data": {
            "application/javascript": [
              "window[\"855f2e9c-7b2e-11eb-ac26-0242ac1c0002\"] = google.colab.output.setActiveOutputArea(window[\"855888a8-7b2e-11eb-ac26-0242ac1c0002\"]);\n",
              "//# sourceURL=js_3b1714313b"
            ],
            "text/plain": [
              "<IPython.core.display.Javascript object>"
            ]
          },
          "metadata": {
            "tags": [
              "id2-7-1",
              "outputarea_id2"
            ]
          }
        },
        {
          "output_type": "display_data",
          "data": {
            "application/javascript": [
              "window[\"85650f38-7b2e-11eb-ac26-0242ac1c0002\"] = google.colab.output.getActiveOutputArea();\n",
              "//# sourceURL=js_99dbb9e646"
            ],
            "text/plain": [
              "<IPython.core.display.Javascript object>"
            ]
          },
          "metadata": {
            "tags": [
              "id2-8-0",
              "outputarea_id2"
            ]
          }
        },
        {
          "output_type": "display_data",
          "data": {
            "application/javascript": [
              "window[\"8565759a-7b2e-11eb-ac26-0242ac1c0002\"] = document.querySelector(\"#id2-8-0\");\n",
              "//# sourceURL=js_ebba6f7ac7"
            ],
            "text/plain": [
              "<IPython.core.display.Javascript object>"
            ]
          },
          "metadata": {
            "tags": [
              "id2-8-0",
              "outputarea_id2"
            ]
          }
        },
        {
          "output_type": "display_data",
          "data": {
            "application/javascript": [
              "window[\"85678632-7b2e-11eb-ac26-0242ac1c0002\"] = google.colab.output.setActiveOutputArea(window[\"8565759a-7b2e-11eb-ac26-0242ac1c0002\"]);\n",
              "//# sourceURL=js_265a24fc16"
            ],
            "text/plain": [
              "<IPython.core.display.Javascript object>"
            ]
          },
          "metadata": {
            "tags": [
              "id2-8-0",
              "outputarea_id2"
            ]
          }
        },
        {
          "output_type": "stream",
          "text": [
            "8/8\n"
          ],
          "name": "stdout"
        },
        {
          "output_type": "display_data",
          "data": {
            "application/javascript": [
              "window[\"856a444e-7b2e-11eb-ac26-0242ac1c0002\"] = google.colab.output.setActiveOutputArea(window[\"85650f38-7b2e-11eb-ac26-0242ac1c0002\"]);\n",
              "//# sourceURL=js_3d3db43e56"
            ],
            "text/plain": [
              "<IPython.core.display.Javascript object>"
            ]
          },
          "metadata": {
            "tags": [
              "id2-8-0",
              "outputarea_id2"
            ]
          }
        },
        {
          "output_type": "display_data",
          "data": {
            "application/javascript": [
              "window[\"856e85fe-7b2e-11eb-ac26-0242ac1c0002\"] = google.colab.output.getActiveOutputArea();\n",
              "//# sourceURL=js_c38e4fcda2"
            ],
            "text/plain": [
              "<IPython.core.display.Javascript object>"
            ]
          },
          "metadata": {
            "tags": [
              "id2-8-1",
              "outputarea_id2"
            ]
          }
        },
        {
          "output_type": "display_data",
          "data": {
            "application/javascript": [
              "window[\"856edf54-7b2e-11eb-ac26-0242ac1c0002\"] = document.querySelector(\"#id2-8-1\");\n",
              "//# sourceURL=js_6461f79bec"
            ],
            "text/plain": [
              "<IPython.core.display.Javascript object>"
            ]
          },
          "metadata": {
            "tags": [
              "id2-8-1",
              "outputarea_id2"
            ]
          }
        },
        {
          "output_type": "display_data",
          "data": {
            "application/javascript": [
              "window[\"857211c4-7b2e-11eb-ac26-0242ac1c0002\"] = google.colab.output.setActiveOutputArea(window[\"856edf54-7b2e-11eb-ac26-0242ac1c0002\"]);\n",
              "//# sourceURL=js_22e1421b92"
            ],
            "text/plain": [
              "<IPython.core.display.Javascript object>"
            ]
          },
          "metadata": {
            "tags": [
              "id2-8-1",
              "outputarea_id2"
            ]
          }
        },
        {
          "output_type": "display_data",
          "data": {
            "application/javascript": [
              "window[\"85746636-7b2e-11eb-ac26-0242ac1c0002\"] = google.colab.output.setActiveOutputArea(window[\"856e85fe-7b2e-11eb-ac26-0242ac1c0002\"]);\n",
              "//# sourceURL=js_e07bd56a9c"
            ],
            "text/plain": [
              "<IPython.core.display.Javascript object>"
            ]
          },
          "metadata": {
            "tags": [
              "id2-8-1",
              "outputarea_id2"
            ]
          }
        },
        {
          "output_type": "display_data",
          "data": {
            "application/javascript": [
              "window[\"8577f4a4-7b2e-11eb-ac26-0242ac1c0002\"] = google.colab.output.getActiveOutputArea();\n",
              "//# sourceURL=js_afd3029b41"
            ],
            "text/plain": [
              "<IPython.core.display.Javascript object>"
            ]
          },
          "metadata": {
            "tags": [
              "id2-8-2",
              "outputarea_id2"
            ]
          }
        },
        {
          "output_type": "display_data",
          "data": {
            "application/javascript": [
              "window[\"8578ce10-7b2e-11eb-ac26-0242ac1c0002\"] = document.querySelector(\"#id2-8-2\");\n",
              "//# sourceURL=js_91ff97322a"
            ],
            "text/plain": [
              "<IPython.core.display.Javascript object>"
            ]
          },
          "metadata": {
            "tags": [
              "id2-8-2",
              "outputarea_id2"
            ]
          }
        },
        {
          "output_type": "display_data",
          "data": {
            "application/javascript": [
              "window[\"8579a286-7b2e-11eb-ac26-0242ac1c0002\"] = google.colab.output.setActiveOutputArea(window[\"8578ce10-7b2e-11eb-ac26-0242ac1c0002\"]);\n",
              "//# sourceURL=js_09f4c8e5e6"
            ],
            "text/plain": [
              "<IPython.core.display.Javascript object>"
            ]
          },
          "metadata": {
            "tags": [
              "id2-8-2",
              "outputarea_id2"
            ]
          }
        },
        {
          "output_type": "stream",
          "text": [
            "Deadly Typhoons in History - Reading(https://lms.wiseman.com.hk/lms/user/secure/course/eb/select_theme/selectLesson.do?id=8ae5daa05e4eb277015e51192b2e0008&from=lesson)\n"
          ],
          "name": "stdout"
        },
        {
          "output_type": "display_data",
          "data": {
            "application/javascript": [
              "window[\"857b89c0-7b2e-11eb-ac26-0242ac1c0002\"] = google.colab.output.setActiveOutputArea(window[\"8577f4a4-7b2e-11eb-ac26-0242ac1c0002\"]);\n",
              "//# sourceURL=js_455aa42cf9"
            ],
            "text/plain": [
              "<IPython.core.display.Javascript object>"
            ]
          },
          "metadata": {
            "tags": [
              "id2-8-2",
              "outputarea_id2"
            ]
          }
        },
        {
          "output_type": "display_data",
          "data": {
            "application/javascript": [
              "window[\"8c7d8444-7b2e-11eb-ac26-0242ac1c0002\"] = google.colab.output.getActiveOutputArea();\n",
              "//# sourceURL=js_6862b6e68b"
            ],
            "text/plain": [
              "<IPython.core.display.Javascript object>"
            ]
          },
          "metadata": {
            "tags": [
              "id2-8-1",
              "outputarea_id2"
            ]
          }
        },
        {
          "output_type": "display_data",
          "data": {
            "application/javascript": [
              "window[\"8c7e58ce-7b2e-11eb-ac26-0242ac1c0002\"] = document.querySelector(\"#id2-8-1\");\n",
              "//# sourceURL=js_2542289dd2"
            ],
            "text/plain": [
              "<IPython.core.display.Javascript object>"
            ]
          },
          "metadata": {
            "tags": [
              "id2-8-1",
              "outputarea_id2"
            ]
          }
        },
        {
          "output_type": "display_data",
          "data": {
            "application/javascript": [
              "window[\"8c7ebf44-7b2e-11eb-ac26-0242ac1c0002\"] = google.colab.output.setActiveOutputArea(window[\"8c7e58ce-7b2e-11eb-ac26-0242ac1c0002\"]);\n",
              "//# sourceURL=js_a660f7cfdd"
            ],
            "text/plain": [
              "<IPython.core.display.Javascript object>"
            ]
          },
          "metadata": {
            "tags": [
              "id2-8-1",
              "outputarea_id2"
            ]
          }
        },
        {
          "output_type": "display_data",
          "data": {
            "application/javascript": [
              "window[\"8c8031e4-7b2e-11eb-ac26-0242ac1c0002\"] = google.colab.output.setActiveOutputArea(window[\"8c7d8444-7b2e-11eb-ac26-0242ac1c0002\"]);\n",
              "//# sourceURL=js_fd6b79cb0c"
            ],
            "text/plain": [
              "<IPython.core.display.Javascript object>"
            ]
          },
          "metadata": {
            "tags": [
              "id2-8-1",
              "outputarea_id2"
            ]
          }
        },
        {
          "output_type": "display_data",
          "data": {
            "application/javascript": [
              "window[\"8e292b4a-7b2e-11eb-ac26-0242ac1c0002\"] = google.colab.output.getActiveOutputArea();\n",
              "//# sourceURL=js_58beda8976"
            ],
            "text/plain": [
              "<IPython.core.display.Javascript object>"
            ]
          },
          "metadata": {
            "tags": [
              "id2-8-1",
              "outputarea_id2"
            ]
          }
        },
        {
          "output_type": "display_data",
          "data": {
            "application/javascript": [
              "window[\"8e2b75a8-7b2e-11eb-ac26-0242ac1c0002\"] = document.querySelector(\"#id2-8-1\");\n",
              "//# sourceURL=js_d93ab3d743"
            ],
            "text/plain": [
              "<IPython.core.display.Javascript object>"
            ]
          },
          "metadata": {
            "tags": [
              "id2-8-1",
              "outputarea_id2"
            ]
          }
        },
        {
          "output_type": "display_data",
          "data": {
            "application/javascript": [
              "window[\"8e2bd656-7b2e-11eb-ac26-0242ac1c0002\"] = google.colab.output.setActiveOutputArea(window[\"8e2b75a8-7b2e-11eb-ac26-0242ac1c0002\"]);\n",
              "//# sourceURL=js_2da8b8645d"
            ],
            "text/plain": [
              "<IPython.core.display.Javascript object>"
            ]
          },
          "metadata": {
            "tags": [
              "id2-8-1",
              "outputarea_id2"
            ]
          }
        },
        {
          "output_type": "display_data",
          "data": {
            "application/javascript": [
              "window[\"8e2d9acc-7b2e-11eb-ac26-0242ac1c0002\"] = google.colab.output.setActiveOutputArea(window[\"8e292b4a-7b2e-11eb-ac26-0242ac1c0002\"]);\n",
              "//# sourceURL=js_c0beca2391"
            ],
            "text/plain": [
              "<IPython.core.display.Javascript object>"
            ]
          },
          "metadata": {
            "tags": [
              "id2-8-1",
              "outputarea_id2"
            ]
          }
        },
        {
          "output_type": "display_data",
          "data": {
            "application/javascript": [
              "window[\"8fb4f9bc-7b2e-11eb-ac26-0242ac1c0002\"] = google.colab.output.getActiveOutputArea();\n",
              "//# sourceURL=js_59679737f8"
            ],
            "text/plain": [
              "<IPython.core.display.Javascript object>"
            ]
          },
          "metadata": {
            "tags": [
              "id2-8-1",
              "outputarea_id2"
            ]
          }
        },
        {
          "output_type": "display_data",
          "data": {
            "application/javascript": [
              "window[\"8fb57ff4-7b2e-11eb-ac26-0242ac1c0002\"] = document.querySelector(\"#id2-8-1\");\n",
              "//# sourceURL=js_ef2b4eda07"
            ],
            "text/plain": [
              "<IPython.core.display.Javascript object>"
            ]
          },
          "metadata": {
            "tags": [
              "id2-8-1",
              "outputarea_id2"
            ]
          }
        },
        {
          "output_type": "display_data",
          "data": {
            "application/javascript": [
              "window[\"8fb69e52-7b2e-11eb-ac26-0242ac1c0002\"] = google.colab.output.setActiveOutputArea(window[\"8fb57ff4-7b2e-11eb-ac26-0242ac1c0002\"]);\n",
              "//# sourceURL=js_d6425eafa7"
            ],
            "text/plain": [
              "<IPython.core.display.Javascript object>"
            ]
          },
          "metadata": {
            "tags": [
              "id2-8-1",
              "outputarea_id2"
            ]
          }
        },
        {
          "output_type": "stream",
          "text": [
            "Completed\n"
          ],
          "name": "stdout"
        },
        {
          "output_type": "display_data",
          "data": {
            "application/javascript": [
              "window[\"8fba0a38-7b2e-11eb-ac26-0242ac1c0002\"] = google.colab.output.setActiveOutputArea(window[\"8fb4f9bc-7b2e-11eb-ac26-0242ac1c0002\"]);\n",
              "//# sourceURL=js_adf25c4570"
            ],
            "text/plain": [
              "<IPython.core.display.Javascript object>"
            ]
          },
          "metadata": {
            "tags": [
              "id2-8-1",
              "outputarea_id2"
            ]
          }
        },
        {
          "output_type": "stream",
          "text": [
            "Please wait\n",
            "請稍後\n",
            "5A-29-YAO CHUN SHUM  Score分數:3950→4314\n",
            "Finished\n",
            "作業已完成\n",
            "Click the link to see your account score↓點擊下方鏈接可查看課業完成情況↓\n",
            "https://lms.wiseman.com.hk/lms/user/login.do?username=tiaccwhf.5a29&password=2020\n"
          ],
          "name": "stdout"
        }
      ]
    }
  ]
}